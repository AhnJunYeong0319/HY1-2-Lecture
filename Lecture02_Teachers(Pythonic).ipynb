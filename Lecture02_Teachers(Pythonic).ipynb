{
 "cells": [
  {
   "cell_type": "markdown",
   "metadata": {},
   "source": [
    "## Lecture 02 - Writing efficient python codes\n"
   ]
  },
  {
   "cell_type": "code",
   "execution_count": 1,
   "metadata": {},
   "outputs": [
    {
     "name": "stdout",
     "output_type": "stream",
     "text": [
      "['Jerry', 'Krame', 'John', 'Elain', 'Georg', 'Newma', 'Jane', 'Bensm', 'Schwe']\n"
     ]
    }
   ],
   "source": [
    "## Print the list created using the Non-Pythonic approach\n",
    "names = ['Jerry', 'Kramer', 'John', 'Elaine', 'George', 'Newman', 'Jane','Bensmaia','Schweighofer']\n",
    "i = 0\n",
    "new_list= []\n",
    "while i < len(names):\n",
    "    if len(names[i]) <= 5:\n",
    "        new_list.append(names[i])\n",
    "    else:\n",
    "        new_list.append(names[i][:5])\n",
    "    i += 1\n",
    "print(new_list)"
   ]
  },
  {
   "cell_type": "code",
   "execution_count": 2,
   "metadata": {},
   "outputs": [
    {
     "name": "stdout",
     "output_type": "stream",
     "text": [
      "['Jerry', 'Krame', 'John', 'Elain', 'Georg', 'Newma', 'Jane', 'Bensm', 'Schwe']\n"
     ]
    }
   ],
   "source": [
    "# Print the list created by looping over the contents of names\n",
    "better_list = []\n",
    "for name in names:\n",
    "    if len(name) <= 5:\n",
    "        better_list.append(name)\n",
    "    else:\n",
    "        better_list.append(name[:5])\n",
    "print(better_list)\n"
   ]
  },
  {
   "cell_type": "code",
   "execution_count": 3,
   "metadata": {},
   "outputs": [
    {
     "name": "stdout",
     "output_type": "stream",
     "text": [
      "['Jerry', 'Krame', 'John', 'Elain', 'Georg', 'Newma', 'Jane', 'Bensm', 'Schwe']\n"
     ]
    }
   ],
   "source": [
    "# Print the list created by using list comprehension\n",
    "best_list = [name if len(name)<=5 else name[:5] for name in names]\n",
    "print(best_list)"
   ]
  },
  {
   "cell_type": "code",
   "execution_count": 4,
   "metadata": {},
   "outputs": [
    {
     "name": "stdout",
     "output_type": "stream",
     "text": [
      "<class 'range'>\n",
      "[0, 1, 2, 3, 4, 5]\n",
      "[1, 3, 5, 7, 9, 11]\n"
     ]
    }
   ],
   "source": [
    "# Create a range object that goes from 0 to 5\n",
    "nums = range(0,6)\n",
    "print(type(nums))\n",
    "\n",
    "# Convert nums to a list\n",
    "nums_list = list(nums)\n",
    "print(nums_list)\n",
    "\n",
    "# Create a new list of odd numbers from 1 to 11 by unpacking a range object\n",
    "nums_list2 = [*range(1,12,2)]\n",
    "print(nums_list2)"
   ]
  },
  {
   "cell_type": "code",
   "execution_count": 5,
   "metadata": {},
   "outputs": [
    {
     "name": "stdout",
     "output_type": "stream",
     "text": [
      "[(0, 'Jerry'), (1, 'Kramer'), (2, 'John'), (3, 'Elaine'), (4, 'George'), (5, 'Newman'), (6, 'Jane'), (7, 'Bensmaia'), (8, 'Schweighofer')]\n"
     ]
    }
   ],
   "source": [
    "# Rewrite the for loop to use enumerate\n",
    "indexed_names = []\n",
    "for i,name in enumerate(names):\n",
    "    index_name = (i,name)\n",
    "    indexed_names.append(index_name) \n",
    "print(indexed_names)\n"
   ]
  },
  {
   "cell_type": "code",
   "execution_count": 8,
   "metadata": {},
   "outputs": [
    {
     "name": "stdout",
     "output_type": "stream",
     "text": [
      "[(0, 'Jerry'), (1, 'Kramer'), (2, 'John'), (3, 'Elaine'), (4, 'George'), (5, 'Newman'), (6, 'Jane'), (7, 'Bensmaia'), (8, 'Schweighofer')]\n"
     ]
    }
   ],
   "source": [
    "# Rewrite the above for loop using list comprehension\n",
    "indexed_names_comp = [(i,name) for i,name in enumerate(names)]\n",
    "print(indexed_names_comp)"
   ]
  },
  {
   "cell_type": "code",
   "execution_count": 9,
   "metadata": {},
   "outputs": [
    {
     "name": "stdout",
     "output_type": "stream",
     "text": [
      "[(1, 'Jerry'), (2, 'Kramer'), (3, 'John'), (4, 'Elaine'), (5, 'George'), (6, 'Newman'), (7, 'Jane'), (8, 'Bensmaia'), (9, 'Schweighofer')]\n"
     ]
    }
   ],
   "source": [
    "# Unpack an enumerate object with a starting index of one\n",
    "indexed_names_unpack = [*enumerate(names, start=1)]\n",
    "print(indexed_names_unpack)"
   ]
  },
  {
   "cell_type": "markdown",
   "metadata": {},
   "source": [
    "## Built-in practice: map()\n"
   ]
  },
  {
   "cell_type": "code",
   "execution_count": 10,
   "metadata": {},
   "outputs": [],
   "source": [
    "# map(function, iterable, ...)"
   ]
  },
  {
   "cell_type": "code",
   "execution_count": 6,
   "metadata": {},
   "outputs": [
    {
     "name": "stdout",
     "output_type": "stream",
     "text": [
      "<class 'map'>\n",
      "['JERRY', 'KRAMER', 'JOHN', 'ELAINE', 'GEORGE', 'NEWMAN', 'JANE', 'BENSMAIA', 'SCHWEIGHOFER']\n"
     ]
    }
   ],
   "source": [
    "# Use map to apply str.upper to each element in names\n",
    "names_map  = map(str.upper, names)\n",
    "\n",
    "# Print the type of the names_map\n",
    "print(type(names_map))\n",
    "\n",
    "# Unpack names_map into a list\n",
    "names_uppercase = [*names_map]\n",
    "\n",
    "# Print the list created above\n",
    "print(names_uppercase)"
   ]
  },
  {
   "cell_type": "code",
   "execution_count": 12,
   "metadata": {},
   "outputs": [
    {
     "name": "stdout",
     "output_type": "stream",
     "text": [
      "<map object at 0x10ce004f0>\n",
      "[5, 7, 9]\n"
     ]
    }
   ],
   "source": [
    "numbers1 = [1, 2, 3] \n",
    "numbers2 = [4, 5, 6] \n",
    "  \n",
    "result = map(lambda x, y: x + y, numbers1, numbers2) \n",
    "result_list = [*map(lambda x, y: x + y, numbers1, numbers2)] \n",
    "print(result)\n",
    "print(result_list)"
   ]
  },
  {
   "cell_type": "code",
   "execution_count": 15,
   "metadata": {},
   "outputs": [
    {
     "name": "stdout",
     "output_type": "stream",
     "text": [
      "[5, 12, 21, 32]\n"
     ]
    }
   ],
   "source": [
    "tuple_numbers = (5, 6, 7, 8)\n",
    "map_iterator = [*map(lambda x, y: x * y, list_numbers, tuple_numbers)]\n",
    "print(map_iterator)"
   ]
  },
  {
   "cell_type": "code",
   "execution_count": 16,
   "metadata": {},
   "outputs": [
    {
     "name": "stdout",
     "output_type": "stream",
     "text": [
      "[5, 12, 21, 32]\n"
     ]
    }
   ],
   "source": [
    "list_numbers = [1, 2, 3, 4]\n",
    "tuple_numbers2 = (5, 6, 7, 8, 9)\n",
    "map_iterator2 = [*map(lambda x, y: x * y, list_numbers, tuple_numbers)]\n",
    "print(map_iterator2)"
   ]
  },
  {
   "cell_type": "code",
   "execution_count": 17,
   "metadata": {},
   "outputs": [
    {
     "name": "stdout",
     "output_type": "stream",
     "text": [
      "[10, 400, 27000, 2560000, 312500000]\n"
     ]
    }
   ],
   "source": [
    "bases=[10, 20, 30, 40, 50]\n",
    "index=[1, 2, 3, 4, 5]\n",
    "powers=list(map(pow, bases, index))\n",
    "powers_better = [*map(pow, bases, index)]\n",
    "print(powers_better)"
   ]
  },
  {
   "cell_type": "code",
   "execution_count": 18,
   "metadata": {},
   "outputs": [
    {
     "name": "stdout",
     "output_type": "stream",
     "text": [
      "[0, 0]\n",
      "[1, 2]\n",
      "[4, 4]\n",
      "[9, 6]\n",
      "[16, 8]\n"
     ]
    }
   ],
   "source": [
    "## map() can even have a list of functions instead of a list of inputs\n",
    "def multiply(x):\n",
    "    return (x*x)\n",
    "def add(x):\n",
    "    return (x+x)\n",
    "\n",
    "funcs = [multiply, add]\n",
    "for i in range(5):\n",
    "    value = list(map(lambda x: x(i), funcs))\n",
    "    print(value)"
   ]
  },
  {
   "cell_type": "markdown",
   "metadata": {},
   "source": [
    "## Built-in practice: filter()"
   ]
  },
  {
   "cell_type": "code",
   "execution_count": 19,
   "metadata": {},
   "outputs": [],
   "source": [
    "# filter(function, iterable)"
   ]
  },
  {
   "cell_type": "code",
   "execution_count": 20,
   "metadata": {},
   "outputs": [],
   "source": [
    "creature_names = ['Sammy', 'Ashley', 'Jo', 'Olly', 'Jackie', 'Charlie']"
   ]
  },
  {
   "cell_type": "code",
   "execution_count": 21,
   "metadata": {},
   "outputs": [
    {
     "name": "stdout",
     "output_type": "stream",
     "text": [
      "Ashley Olly\n"
     ]
    }
   ],
   "source": [
    "print(*filter(lambda x: x[0].lower() in 'aeiou', creature_names))\n"
   ]
  },
  {
   "cell_type": "code",
   "execution_count": 22,
   "metadata": {},
   "outputs": [
    {
     "name": "stdout",
     "output_type": "stream",
     "text": [
      "1.29 µs ± 50.2 ns per loop (mean ± std. dev. of 7 runs, 1000000 loops each)\n"
     ]
    },
    {
     "ename": "NameError",
     "evalue": "name 'less_than_zero' is not defined",
     "output_type": "error",
     "traceback": [
      "\u001b[0;31m---------------------------------------------------------------------------\u001b[0m",
      "\u001b[0;31mNameError\u001b[0m                                 Traceback (most recent call last)",
      "\u001b[0;32m<ipython-input-22-98051905b526>\u001b[0m in \u001b[0;36m<module>\u001b[0;34m\u001b[0m\n\u001b[1;32m      1\u001b[0m \u001b[0mnumber_list\u001b[0m \u001b[0;34m=\u001b[0m \u001b[0mrange\u001b[0m\u001b[0;34m(\u001b[0m\u001b[0;34m-\u001b[0m\u001b[0;36m5\u001b[0m\u001b[0;34m,\u001b[0m \u001b[0;36m5\u001b[0m\u001b[0;34m)\u001b[0m\u001b[0;34m\u001b[0m\u001b[0;34m\u001b[0m\u001b[0m\n\u001b[1;32m      2\u001b[0m \u001b[0mget_ipython\u001b[0m\u001b[0;34m(\u001b[0m\u001b[0;34m)\u001b[0m\u001b[0;34m.\u001b[0m\u001b[0mrun_line_magic\u001b[0m\u001b[0;34m(\u001b[0m\u001b[0;34m'timeit'\u001b[0m\u001b[0;34m,\u001b[0m \u001b[0;34m'less_than_zero = [*filter(lambda x: x < 0, number_list)]'\u001b[0m\u001b[0;34m)\u001b[0m\u001b[0;34m\u001b[0m\u001b[0;34m\u001b[0m\u001b[0m\n\u001b[0;32m----> 3\u001b[0;31m \u001b[0mprint\u001b[0m\u001b[0;34m(\u001b[0m\u001b[0mless_than_zero\u001b[0m\u001b[0;34m)\u001b[0m\u001b[0;34m\u001b[0m\u001b[0;34m\u001b[0m\u001b[0m\n\u001b[0m",
      "\u001b[0;31mNameError\u001b[0m: name 'less_than_zero' is not defined"
     ]
    }
   ],
   "source": [
    "number_list = range(-5, 5)\n",
    "%timeit less_than_zero = [*filter(lambda x: x < 0, number_list)]\n",
    "print(less_than_zero)"
   ]
  },
  {
   "cell_type": "code",
   "execution_count": null,
   "metadata": {},
   "outputs": [],
   "source": [
    "%timeit less_than_zero2 = [k for k in number_list if k<0]\n",
    "print(less_than_zero2)"
   ]
  },
  {
   "cell_type": "markdown",
   "metadata": {},
   "source": [
    "## Numpy"
   ]
  },
  {
   "cell_type": "code",
   "execution_count": null,
   "metadata": {},
   "outputs": [],
   "source": [
    "def welcome_guest(guest_and_time):\n",
    "    \"\"\"\n",
    "    Returns a welcome string for the guest_and_time tuple.\n",
    "    \n",
    "    Args:\n",
    "        guest_and_time (tuple): The guest and time tuple to create\n",
    "            a welcome string for.\n",
    "            \n",
    "    Returns:\n",
    "        welcome_string (str): A string welcoming the guest to Festivus.\n",
    "        'Welcome to Festivus {guest}... You're {time} min late.'\n",
    "    \n",
    "    \"\"\"\n",
    "    guest = guest_and_time[0]\n",
    "    arrival_time = guest_and_time[1]\n",
    "    welcome_string = \"Welcome to Festivus {}... You're {} min late.\".format(guest,arrival_time)\n",
    "    return welcome_string"
   ]
  },
  {
   "cell_type": "code",
   "execution_count": 24,
   "metadata": {},
   "outputs": [
    {
     "name": "stdout",
     "output_type": "stream",
     "text": [
      "Welcome to Festivus Jerry... You're 7 min late.\n",
      "Welcome to Festivus Kramer... You're 17 min late.\n",
      "Welcome to Festivus John... You're 27 min late.\n",
      "Welcome to Festivus Elaine... You're 37 min late.\n",
      "Welcome to Festivus George... You're 47 min late.\n"
     ]
    }
   ],
   "source": [
    "## import numpy as np\n",
    "import numpy as np\n",
    "# Create a list of arrival times\n",
    "arrival_times = [*range(10,60,10)]\n",
    "\n",
    "# Convert arrival_times to an array and update the times\n",
    "arrival_times_np = np.array(arrival_times)\n",
    "new_times = arrival_times_np - 3\n",
    "\n",
    "# Use list comprehension and enumerate to pair guests to new times\n",
    "guest_arrivals = [(names[i],time) for i,time in enumerate(new_times)]\n",
    "\n",
    "# Map the welcome_guest function to each (guest,time) pair\n",
    "welcome_map = map(welcome_guest, guest_arrivals)\n",
    "\n",
    "guest_welcomes = [*welcome_map]\n",
    "print(*guest_welcomes, sep='\\n')"
   ]
  },
  {
   "cell_type": "code",
   "execution_count": 23,
   "metadata": {},
   "outputs": [],
   "source": [
    "#import inspect\n",
    "#lines = inspect.getsource(welcome_guest)\n",
    "#print(lines)"
   ]
  },
  {
   "cell_type": "markdown",
   "metadata": {},
   "source": [
    "# Timing and profiling\n",
    "### - Using magic comments: %timeit"
   ]
  },
  {
   "cell_type": "code",
   "execution_count": 26,
   "metadata": {},
   "outputs": [
    {
     "name": "stdout",
     "output_type": "stream",
     "text": [
      "1.72 µs ± 29.1 ns per loop (mean ± std. dev. of 7 runs, 100000 loops each)\n",
      "1.72 µs ± 43.7 ns per loop (mean ± std. dev. of 5 runs, 25 loops each)\n",
      "800 ns ± 49.5 ns per loop (mean ± std. dev. of 7 runs, 1000000 loops each)\n",
      "715 ns ± 17.3 ns per loop (mean ± std. dev. of 5 runs, 25 loops each)\n"
     ]
    }
   ],
   "source": [
    "# Create a list of integers (0-50) using list comprehension\n",
    "%timeit nums_list_comp = [num for num in range(51)]\n",
    "%timeit -r5 -n25 nums_list_comp = [num for num in range(51)]\n",
    "\n",
    "# Create a list of integers (0-50) by unpacking range\n",
    "%timeit nums_unpack = [list(range(51))]\n",
    "%timeit -r5 -n25 nums_unpack = [list(range(51))]\n"
   ]
  },
  {
   "cell_type": "code",
   "execution_count": 27,
   "metadata": {},
   "outputs": [
    {
     "name": "stdout",
     "output_type": "stream",
     "text": [
      "93.4 ns ± 3.84 ns per loop (mean ± std. dev. of 7 runs, 10000000 loops each)\n",
      "<class 'list'>\n",
      "26.6 ns ± 0.409 ns per loop (mean ± std. dev. of 7 runs, 10000000 loops each)\n",
      "<class 'list'>\n"
     ]
    }
   ],
   "source": [
    "# Create a list using the formal name\n",
    "%timeit formal_list = list()\n",
    "formal_list = list()\n",
    "print(type(formal_list))\n",
    "# Create a list using the literal syntax\n",
    "%timeit literal_list = []\n",
    "literal_list = []\n",
    "print(type(literal_list))"
   ]
  },
  {
   "cell_type": "code",
   "execution_count": 30,
   "metadata": {},
   "outputs": [],
   "source": [
    "wts = np.random.randint(30, 100, size=100)"
   ]
  },
  {
   "cell_type": "code",
   "execution_count": 29,
   "metadata": {},
   "outputs": [
    {
     "name": "stdout",
     "output_type": "stream",
     "text": [
      "272 µs ± 59.3 µs per loop (mean ± std. dev. of 100 runs, 100 loops each)\n"
     ]
    }
   ],
   "source": [
    "%%timeit -r100 -n100\n",
    "hero_wts_lbs = []\n",
    "for wt in wts:\n",
    "    hero_wts_lbs.append(wt * 2.20462)"
   ]
  },
  {
   "cell_type": "code",
   "execution_count": 71,
   "metadata": {},
   "outputs": [
    {
     "name": "stdout",
     "output_type": "stream",
     "text": [
      "The slowest run took 9.47 times longer than the fastest. This could mean that an intermediate result is being cached.\n",
      "1.61 µs ± 1.15 µs per loop (mean ± std. dev. of 100 runs, 100 loops each)\n"
     ]
    }
   ],
   "source": [
    "%%timeit -r100 -n100\n",
    "wts_np = np.array(wts)\n",
    "hero_wts_lbs_np = wts_np * 2.20462"
   ]
  },
  {
   "cell_type": "code",
   "execution_count": 38,
   "metadata": {},
   "outputs": [
    {
     "name": "stdout",
     "output_type": "stream",
     "text": [
      "19.1 µs ± 0 ns per loop (mean ± std. dev. of 1 run, 10 loops each)\n"
     ]
    }
   ],
   "source": [
    "## saving the results\n",
    "times = %timeit -r1 -n10 -o rand_nums = np.random.rand(3,4)"
   ]
  },
  {
   "cell_type": "code",
   "execution_count": 34,
   "metadata": {},
   "outputs": [
    {
     "name": "stdout",
     "output_type": "stream",
     "text": [
      "9.22 µs ± 1.34 µs per loop (mean ± std. dev. of 7 runs, 100000 loops each)\n"
     ]
    }
   ],
   "source": [
    "print(times)"
   ]
  },
  {
   "cell_type": "markdown",
   "metadata": {},
   "source": [
    "### Using magic comments: %lprun\n"
   ]
  },
  {
   "cell_type": "code",
   "execution_count": 1,
   "metadata": {},
   "outputs": [
    {
     "name": "stdout",
     "output_type": "stream",
     "text": [
      "Collecting line_profiler\n",
      "  Using cached line_profiler-3.0.2.tar.gz (45 kB)\n",
      "  Installing build dependencies ... \u001b[?25ldone\n",
      "\u001b[?25h  Getting requirements to build wheel ... \u001b[?25ldone\n",
      "\u001b[?25h    Preparing wheel metadata ... \u001b[?25ldone\n",
      "\u001b[?25hRequirement already satisfied: IPython in /Users/sungshinkim/opt/anaconda3/envs/python3_8/lib/python3.8/site-packages (from line_profiler) (7.17.0)\n",
      "Requirement already satisfied: pygments in /Users/sungshinkim/opt/anaconda3/envs/python3_8/lib/python3.8/site-packages (from IPython->line_profiler) (2.6.1)\n",
      "Requirement already satisfied: jedi>=0.10 in /Users/sungshinkim/opt/anaconda3/envs/python3_8/lib/python3.8/site-packages (from IPython->line_profiler) (0.17.2)\n",
      "Requirement already satisfied: appnope; sys_platform == \"darwin\" in /Users/sungshinkim/opt/anaconda3/envs/python3_8/lib/python3.8/site-packages (from IPython->line_profiler) (0.1.0)\n",
      "Requirement already satisfied: decorator in /Users/sungshinkim/opt/anaconda3/envs/python3_8/lib/python3.8/site-packages (from IPython->line_profiler) (4.4.2)\n",
      "Requirement already satisfied: pickleshare in /Users/sungshinkim/opt/anaconda3/envs/python3_8/lib/python3.8/site-packages (from IPython->line_profiler) (0.7.5)\n",
      "Requirement already satisfied: traitlets>=4.2 in /Users/sungshinkim/opt/anaconda3/envs/python3_8/lib/python3.8/site-packages (from IPython->line_profiler) (4.3.3)\n",
      "Requirement already satisfied: backcall in /Users/sungshinkim/opt/anaconda3/envs/python3_8/lib/python3.8/site-packages (from IPython->line_profiler) (0.2.0)\n",
      "Requirement already satisfied: prompt-toolkit!=3.0.0,!=3.0.1,<3.1.0,>=2.0.0 in /Users/sungshinkim/opt/anaconda3/envs/python3_8/lib/python3.8/site-packages (from IPython->line_profiler) (3.0.6)\n",
      "Requirement already satisfied: setuptools>=18.5 in /Users/sungshinkim/opt/anaconda3/envs/python3_8/lib/python3.8/site-packages (from IPython->line_profiler) (49.6.0.post20200814)\n",
      "Requirement already satisfied: pexpect; sys_platform != \"win32\" in /Users/sungshinkim/opt/anaconda3/envs/python3_8/lib/python3.8/site-packages (from IPython->line_profiler) (4.8.0)\n",
      "Requirement already satisfied: parso<0.8.0,>=0.7.0 in /Users/sungshinkim/opt/anaconda3/envs/python3_8/lib/python3.8/site-packages (from jedi>=0.10->IPython->line_profiler) (0.7.0)\n",
      "Requirement already satisfied: six in /Users/sungshinkim/opt/anaconda3/envs/python3_8/lib/python3.8/site-packages (from traitlets>=4.2->IPython->line_profiler) (1.15.0)\n",
      "Requirement already satisfied: ipython-genutils in /Users/sungshinkim/opt/anaconda3/envs/python3_8/lib/python3.8/site-packages (from traitlets>=4.2->IPython->line_profiler) (0.2.0)\n",
      "Requirement already satisfied: wcwidth in /Users/sungshinkim/opt/anaconda3/envs/python3_8/lib/python3.8/site-packages (from prompt-toolkit!=3.0.0,!=3.0.1,<3.1.0,>=2.0.0->IPython->line_profiler) (0.2.5)\n",
      "Requirement already satisfied: ptyprocess>=0.5 in /Users/sungshinkim/opt/anaconda3/envs/python3_8/lib/python3.8/site-packages (from pexpect; sys_platform != \"win32\"->IPython->line_profiler) (0.6.0)\n",
      "Building wheels for collected packages: line-profiler\n",
      "  Building wheel for line-profiler (PEP 517) ... \u001b[?25ldone\n",
      "\u001b[?25h  Created wheel for line-profiler: filename=line_profiler-3.0.2-cp38-cp38-macosx_10_14_x86_64.whl size=53541 sha256=1867f944bd31d476c6ef24d46da44a751de6f9dc7334c58f2266b14a605fd728\n",
      "  Stored in directory: /Users/sungshinkim/Library/Caches/pip/wheels/c2/e4/c3/235100b164ad5fab3011b2c661287e37a61ea08c8fb8116b2d\n",
      "Successfully built line-profiler\n",
      "Installing collected packages: line-profiler\n",
      "Successfully installed line-profiler-3.0.2\n"
     ]
    }
   ],
   "source": [
    "!pip3 install line_profiler"
   ]
  },
  {
   "cell_type": "code",
   "execution_count": 4,
   "metadata": {},
   "outputs": [
    {
     "name": "stdout",
     "output_type": "stream",
     "text": [
      "The line_profiler extension is already loaded. To reload it, use:\n",
      "  %reload_ext line_profiler\n"
     ]
    }
   ],
   "source": [
    "%load_ext line_profiler\n"
   ]
  },
  {
   "cell_type": "code",
   "execution_count": 7,
   "metadata": {},
   "outputs": [],
   "source": [
    "def convert_units(heroes, heights, weights):\n",
    "    new_hts = [ht * 0.39370 for ht in heights]\n",
    "    new_wts = [wt * 2.20462 for wt in weights]\n",
    "    \n",
    "    hero_data = {}\n",
    "    \n",
    "    for i, hero in enumerate(heroes):\n",
    "        hero_data[hero] = (new_hts[i], new_wts[i])      \n",
    "    return hero_data"
   ]
  },
  {
   "cell_type": "code",
   "execution_count": 10,
   "metadata": {},
   "outputs": [],
   "source": [
    "import numpy as np\n",
    "heroes = ['Batman', 'Superman', 'Wonder Woman']\n",
    "hts = np.array([188.0, 191.0, 183.0])\n",
    "wts = np.array([ 95.0, 101.0, 74.0])"
   ]
  },
  {
   "cell_type": "code",
   "execution_count": 33,
   "metadata": {},
   "outputs": [
    {
     "name": "stdout",
     "output_type": "stream",
     "text": [
      "The slowest run took 4.59 times longer than the fastest. This could mean that an intermediate result is being cached.\n",
      "6.46 µs ± 2.38 µs per loop (mean ± std. dev. of 100 runs, 100 loops each)\n"
     ]
    }
   ],
   "source": [
    "%timeit -r100 -n100 convert_units(heroes, hts, wts)"
   ]
  },
  {
   "cell_type": "code",
   "execution_count": 32,
   "metadata": {},
   "outputs": [
    {
     "name": "stdout",
     "output_type": "stream",
     "text": [
      "1.83 µs ± 633 ns per loop (mean ± std. dev. of 7 runs, 100000 loops each)\n"
     ]
    }
   ],
   "source": [
    "%timeit new_hts = [ht * 0.39370 for ht in hts]\n",
    "new_hts = [ht * 0.39370 for ht in hts]"
   ]
  },
  {
   "cell_type": "code",
   "execution_count": 22,
   "metadata": {},
   "outputs": [
    {
     "name": "stdout",
     "output_type": "stream",
     "text": [
      "1.99 µs ± 588 ns per loop (mean ± std. dev. of 7 runs, 100000 loops each)\n"
     ]
    }
   ],
   "source": [
    "%timeit new_wts = [wt * 2.20462 for wt in wts]\n",
    "new_wts = [wt * 2.20462 for wt in wts]"
   ]
  },
  {
   "cell_type": "code",
   "execution_count": 23,
   "metadata": {},
   "outputs": [
    {
     "name": "stdout",
     "output_type": "stream",
     "text": [
      "638 ns ± 36.7 ns per loop (mean ± std. dev. of 7 runs, 1000000 loops each)\n"
     ]
    }
   ],
   "source": [
    "%%timeit \n",
    "hero_data = {}  \n",
    "for i, hero in enumerate(heroes):\n",
    "    hero_data[hero] = (new_hts[i], new_wts[i]) "
   ]
  },
  {
   "cell_type": "code",
   "execution_count": 28,
   "metadata": {},
   "outputs": [],
   "source": [
    "%lprun -f convert_units convert_units(heroes, hts, wts)"
   ]
  },
  {
   "cell_type": "code",
   "execution_count": 19,
   "metadata": {},
   "outputs": [
    {
     "name": "stdout",
     "output_type": "stream",
     "text": [
      "Requirement already satisfied: memory_profiler in /Users/sungshinkim/opt/anaconda3/envs/python3_8/lib/python3.8/site-packages (0.57.0)\n",
      "Requirement already satisfied: psutil in /Users/sungshinkim/opt/anaconda3/envs/python3_8/lib/python3.8/site-packages (from memory_profiler) (5.7.2)\n"
     ]
    }
   ],
   "source": [
    "!pip install memory_profiler"
   ]
  },
  {
   "cell_type": "code",
   "execution_count": null,
   "metadata": {},
   "outputs": [],
   "source": [
    "## use %mprun in a similar way of %lprun"
   ]
  },
  {
   "cell_type": "code",
   "execution_count": 41,
   "metadata": {},
   "outputs": [
    {
     "name": "stdout",
     "output_type": "stream",
     "text": [
      "The memory_profiler extension is already loaded. To reload it, use:\n",
      "  %reload_ext memory_profiler\n"
     ]
    }
   ],
   "source": [
    "%load_ext memory_profiler"
   ]
  },
  {
   "cell_type": "code",
   "execution_count": 43,
   "metadata": {},
   "outputs": [
    {
     "name": "stdout",
     "output_type": "stream",
     "text": [
      "\n"
     ]
    }
   ],
   "source": []
  },
  {
   "cell_type": "markdown",
   "metadata": {},
   "source": [
    "# Gaining more efficiency\n"
   ]
  },
  {
   "cell_type": "code",
   "execution_count": 111,
   "metadata": {},
   "outputs": [],
   "source": [
    "## uploading popkemon data\n",
    "import pandas as pd\n",
    "df = pd.read_csv('pokemon.csv')\n",
    "names = df['name'].values\n",
    "primary_types = df['type_1'].values\n",
    "secondary_types = df['type_2'].values\n",
    "generations = df['generation'].values"
   ]
  },
  {
   "cell_type": "code",
   "execution_count": 102,
   "metadata": {},
   "outputs": [
    {
     "data": {
      "text/plain": [
       "Index(['Unnamed: 0', 'pokedex_number', 'name', 'german_name', 'japanese_name',\n",
       "       'generation', 'status', 'species', 'type_number', 'type_1', 'type_2',\n",
       "       'height_m', 'weight_kg', 'abilities_number', 'ability_1', 'ability_2',\n",
       "       'ability_hidden', 'total_points', 'hp', 'attack', 'defense',\n",
       "       'sp_attack', 'sp_defense', 'speed', 'catch_rate', 'base_friendship',\n",
       "       'base_experience', 'growth_rate', 'egg_type_number', 'egg_type_1',\n",
       "       'egg_type_2', 'percentage_male', 'egg_cycles', 'against_normal',\n",
       "       'against_fire', 'against_water', 'against_electric', 'against_grass',\n",
       "       'against_ice', 'against_fight', 'against_poison', 'against_ground',\n",
       "       'against_flying', 'against_psychic', 'against_bug', 'against_rock',\n",
       "       'against_ghost', 'against_dragon', 'against_dark', 'against_steel',\n",
       "       'against_fairy'],\n",
       "      dtype='object')"
      ]
     },
     "execution_count": 102,
     "metadata": {},
     "output_type": "execute_result"
    }
   ],
   "source": [
    "df.columns"
   ]
  },
  {
   "cell_type": "code",
   "execution_count": 110,
   "metadata": {},
   "outputs": [
    {
     "name": "stdout",
     "output_type": "stream",
     "text": [
      "('Bulbasaur', 'Grass')\n",
      "('Ivysaur', 'Grass')\n",
      "('Venusaur', 'Grass')\n",
      "('Mega Venusaur', 'Grass')\n",
      "('Charmander', 'Fire')\n"
     ]
    }
   ],
   "source": [
    "# Combine names and primary_types\n",
    "names_type1 = [*zip(names, primary_types)]\n",
    "print(*names_type1[:5], sep='\\n')"
   ]
  },
  {
   "cell_type": "code",
   "execution_count": 109,
   "metadata": {},
   "outputs": [
    {
     "name": "stdout",
     "output_type": "stream",
     "text": [
      "('Bulbasaur', 'Grass', 'Poison')\n",
      "('Ivysaur', 'Grass', 'Poison')\n",
      "('Venusaur', 'Grass', 'Poison')\n",
      "('Mega Venusaur', 'Grass', 'Poison')\n",
      "('Charmander', 'Fire', nan)\n"
     ]
    }
   ],
   "source": [
    "# Combine all three lists together\n",
    "names_types = [*zip(names, primary_types, secondary_types)]\n",
    "print(*names_types[:5], sep='\\n')"
   ]
  },
  {
   "cell_type": "code",
   "execution_count": 108,
   "metadata": {},
   "outputs": [
    {
     "name": "stdout",
     "output_type": "stream",
     "text": [
      "('Bulbasaur', 'Grass')\n",
      "('Ivysaur', 'Grass')\n",
      "('Venusaur', 'Grass')\n"
     ]
    }
   ],
   "source": [
    "# Combine five items from names and three items from primary_types\n",
    "differing_lengths = [*zip(names[:5], primary_types[:3])]\n",
    "print(*differing_lengths, sep='\\n')"
   ]
  },
  {
   "cell_type": "code",
   "execution_count": 50,
   "metadata": {},
   "outputs": [],
   "source": [
    "from collections import Counter"
   ]
  },
  {
   "cell_type": "code",
   "execution_count": 71,
   "metadata": {},
   "outputs": [
    {
     "name": "stdout",
     "output_type": "stream",
     "text": [
      "Counter({'a': 3, 'b': 3, 'e': 1})\n"
     ]
    }
   ],
   "source": [
    "counter = Counter('abababe')\n",
    "print(counter)  # Counter({'a': 3, 'b': 3})"
   ]
  },
  {
   "cell_type": "code",
   "execution_count": 72,
   "metadata": {},
   "outputs": [
    {
     "name": "stdout",
     "output_type": "stream",
     "text": [
      "Counter({'a': 1, 'b': 1, 'c': 1})\n"
     ]
    }
   ],
   "source": [
    "c = Counter('abc')\n",
    "print(c)  # Counter({'a': 1, 'b': 1, 'c': 1})"
   ]
  },
  {
   "cell_type": "code",
   "execution_count": 73,
   "metadata": {},
   "outputs": [
    {
     "name": "stdout",
     "output_type": "stream",
     "text": [
      "Counter({'a': 2, 'b': 2, 'e': 1, 'c': -1})\n"
     ]
    }
   ],
   "source": [
    "# subtract\n",
    "counter.subtract(c)\n",
    "print(counter)  # Counter({'a': 2, 'b': 2, 'c': -1})"
   ]
  },
  {
   "cell_type": "code",
   "execution_count": 74,
   "metadata": {},
   "outputs": [
    {
     "name": "stdout",
     "output_type": "stream",
     "text": [
      "Counter({'a': 3, 'b': 3, 'e': 1, 'c': 0})\n"
     ]
    }
   ],
   "source": [
    "# update\n",
    "counter.update(c)\n",
    "print(counter)  # Counter({'a': 3, 'b': 3, 'c': 0})"
   ]
  },
  {
   "cell_type": "code",
   "execution_count": 77,
   "metadata": {},
   "outputs": [
    {
     "name": "stdout",
     "output_type": "stream",
     "text": [
      "Counter({'b': 3, 'e': 1, 'c': 0})\n"
     ]
    }
   ],
   "source": [
    "del(counter['a'])\n",
    "print(counter)"
   ]
  },
  {
   "cell_type": "code",
   "execution_count": 78,
   "metadata": {},
   "outputs": [
    {
     "name": "stdout",
     "output_type": "stream",
     "text": [
      "Dog\n",
      "Dog\n"
     ]
    }
   ],
   "source": [
    "counter = Counter({'Dog': 2, 'Cat': -1, 'Horse': 0})\n",
    "# elements()\n",
    "elements = counter.elements()  # doesn't return elements with count 0 or less\n",
    "for value in elements:\n",
    "    print(value)"
   ]
  },
  {
   "cell_type": "code",
   "execution_count": 56,
   "metadata": {},
   "outputs": [
    {
     "name": "stdout",
     "output_type": "stream",
     "text": [
      "Counter({'Water': 134, 'Normal': 115, 'Grass': 91, 'Bug': 81, 'Psychic': 76, 'Fire': 65, 'Electric': 61, 'Rock': 60, 'Dark': 44, 'Ground': 41, 'Ghost': 41, 'Dragon': 40, 'Poison': 39, 'Fighting': 38, 'Ice': 36, 'Steel': 36, 'Fairy': 22, 'Flying': 8}) \n",
      "\n",
      "[8, 22, 36, 36, 38, 39, 40, 41, 41, 44, 60, 61, 65, 76, 81, 91, 115, 134]\n"
     ]
    }
   ],
   "source": [
    "# Collect the count of primary types\n",
    "type_count = Counter(primary_types)\n",
    "print(type_count, '\\n')\n",
    "print(sorted(type_count.values()))"
   ]
  },
  {
   "cell_type": "code",
   "execution_count": 53,
   "metadata": {},
   "outputs": [
    {
     "name": "stdout",
     "output_type": "stream",
     "text": [
      "Counter({1: 192, 5: 171, 3: 165, 4: 121, 2: 107, 7: 99, 8: 88, 6: 85}) \n",
      "\n",
      "[85, 88, 99, 107, 121, 165, 171, 192]\n"
     ]
    }
   ],
   "source": [
    "# Collect the count of generations\n",
    "gen_count = Counter(generations)\n",
    "print(gen_count, '\\n')\n",
    "print(sorted(gen_count.values()))"
   ]
  },
  {
   "cell_type": "code",
   "execution_count": 114,
   "metadata": {},
   "outputs": [
    {
     "name": "stdout",
     "output_type": "stream",
     "text": [
      "Counter({'M': 126, 'S': 123, 'C': 78, 'G': 72, 'P': 66, 'D': 64, 'A': 60, 'T': 56, 'B': 50, 'L': 41, 'H': 34, 'R': 33, 'F': 32, 'W': 29, 'K': 27, 'E': 26, 'V': 23, 'N': 20, 'Z': 17, 'O': 14, 'I': 10, 'J': 8, 'Y': 6, 'U': 6, 'Q': 4, 'X': 3})\n"
     ]
    }
   ],
   "source": [
    "# Use list comprehension to get each Pokémon's starting letter\n",
    "starting_letters = [name[0] for name in names]\n",
    "\n",
    "# Collect the count of Pokémon for each starting_letter\n",
    "starting_letters_count = Counter(starting_letters)\n",
    "print(starting_letters_count)"
   ]
  },
  {
   "cell_type": "markdown",
   "metadata": {},
   "source": [
    "## Combinations of Pokemon"
   ]
  },
  {
   "cell_type": "code",
   "execution_count": 80,
   "metadata": {},
   "outputs": [],
   "source": [
    "# Import combinations from itertools\n",
    "from itertools import combinations"
   ]
  },
  {
   "cell_type": "code",
   "execution_count": 81,
   "metadata": {},
   "outputs": [
    {
     "name": "stdout",
     "output_type": "stream",
     "text": [
      "<class 'itertools.combinations'> \n",
      "\n"
     ]
    }
   ],
   "source": [
    "pokemon = names[:5]\n",
    "# Create a combination object with pairs of Pokémon\n",
    "combos_obj = combinations(pokemon, 2)\n",
    "print(type(combos_obj), '\\n')"
   ]
  },
  {
   "cell_type": "code",
   "execution_count": 82,
   "metadata": {},
   "outputs": [
    {
     "name": "stdout",
     "output_type": "stream",
     "text": [
      "[('Bulbasaur', 'Ivysaur'), ('Bulbasaur', 'Venusaur'), ('Bulbasaur', 'Mega Venusaur'), ('Bulbasaur', 'Charmander'), ('Ivysaur', 'Venusaur'), ('Ivysaur', 'Mega Venusaur'), ('Ivysaur', 'Charmander'), ('Venusaur', 'Mega Venusaur'), ('Venusaur', 'Charmander'), ('Mega Venusaur', 'Charmander')] \n",
      "\n"
     ]
    }
   ],
   "source": [
    "# Convert combos_obj to a list by unpacking\n",
    "combos_2 = [*combos_obj]\n",
    "print(combos_2, '\\n')"
   ]
  },
  {
   "cell_type": "code",
   "execution_count": 83,
   "metadata": {},
   "outputs": [
    {
     "name": "stdout",
     "output_type": "stream",
     "text": [
      "[('Bulbasaur', 'Ivysaur', 'Venusaur', 'Mega Venusaur'), ('Bulbasaur', 'Ivysaur', 'Venusaur', 'Charmander'), ('Bulbasaur', 'Ivysaur', 'Mega Venusaur', 'Charmander'), ('Bulbasaur', 'Venusaur', 'Mega Venusaur', 'Charmander'), ('Ivysaur', 'Venusaur', 'Mega Venusaur', 'Charmander')]\n"
     ]
    }
   ],
   "source": [
    "# Collect all possible combinations of 4 Pokémon directly into a list\n",
    "combos_4 = combinations(pokemon, 4)\n",
    "print([*combos_4])"
   ]
  },
  {
   "cell_type": "markdown",
   "metadata": {},
   "source": [
    "## Set theory"
   ]
  },
  {
   "cell_type": "code",
   "execution_count": 84,
   "metadata": {},
   "outputs": [],
   "source": [
    "ash_pokedex = ['Pikachu', 'Bulbasaur', 'Koffing', 'Spearow', 'Vulpix', 'Wigglytuff', 'Zubat', 'Rattata', 'Psyduck', 'Squirtle']\n",
    "misty_pokedex = ['Krabby', 'Horsea', 'Slowbro', 'Tentacool', 'Vaporeon', 'Magikarp', 'Poliwag', 'Starmie', 'Psyduck', 'Squirtle']\n",
    "brock_pokedex = ['Onix', 'Geodude', 'Zubat', 'Golem', 'Vulpix', 'Tauros', 'Kabutops', 'Omastar', 'Machop', 'Dugtrio']\n"
   ]
  },
  {
   "cell_type": "code",
   "execution_count": 85,
   "metadata": {},
   "outputs": [],
   "source": [
    "## Comparing Pokedexes\n",
    "# Convert both lists to sets\n",
    "ash_set = set(ash_pokedex)\n",
    "misty_set = set(misty_pokedex)"
   ]
  },
  {
   "cell_type": "code",
   "execution_count": 86,
   "metadata": {},
   "outputs": [
    {
     "name": "stdout",
     "output_type": "stream",
     "text": [
      "{'Squirtle', 'Psyduck'}\n"
     ]
    }
   ],
   "source": [
    "# Find the Pokémon that exist in both sets\n",
    "both = ash_set.intersection(misty_set)\n",
    "print(both)"
   ]
  },
  {
   "cell_type": "code",
   "execution_count": 87,
   "metadata": {},
   "outputs": [
    {
     "name": "stdout",
     "output_type": "stream",
     "text": [
      "{'Wigglytuff', 'Pikachu', 'Bulbasaur', 'Spearow', 'Koffing', 'Rattata', 'Vulpix', 'Zubat'}\n"
     ]
    }
   ],
   "source": [
    "# Find the Pokémon that Ash has and Misty does not have\n",
    "ash_only = ash_set.difference(misty_set)\n",
    "print(ash_only)"
   ]
  },
  {
   "cell_type": "code",
   "execution_count": 88,
   "metadata": {},
   "outputs": [
    {
     "name": "stdout",
     "output_type": "stream",
     "text": [
      "{'Wigglytuff', 'Pikachu', 'Krabby', 'Bulbasaur', 'Starmie', 'Magikarp', 'Poliwag', 'Spearow', 'Slowbro', 'Koffing', 'Vaporeon', 'Rattata', 'Vulpix', 'Horsea', 'Tentacool', 'Zubat'}\n"
     ]
    }
   ],
   "source": [
    "# Find the Pokémon that are in only one set (not both)\n",
    "unique_to_set = ash_set.symmetric_difference(misty_set)\n",
    "print(unique_to_set)"
   ]
  },
  {
   "cell_type": "code",
   "execution_count": 89,
   "metadata": {},
   "outputs": [
    {
     "name": "stdout",
     "output_type": "stream",
     "text": [
      "{'Kabutops', 'Dugtrio', 'Omastar', 'Geodude', 'Tauros', 'Vulpix', 'Onix', 'Golem', 'Zubat', 'Machop'}\n",
      "{'Wigglytuff', 'Pikachu', 'Bulbasaur', 'Spearow', 'Koffing', 'Psyduck', 'Squirtle', 'Rattata', 'Vulpix', 'Zubat'}\n",
      "False\n",
      "False\n",
      "False\n",
      "False\n"
     ]
    }
   ],
   "source": [
    "## Searching for Pokémon\n",
    "# Convert Brock's Pokédex to a set\n",
    "brock_pokedex_set = set(brock_pokedex)\n",
    "print(brock_pokedex_set)\n",
    "ash_pokedex_set = set(ash_pokedex)\n",
    "print(ash_pokedex_set)\n"
   ]
  },
  {
   "cell_type": "code",
   "execution_count": 90,
   "metadata": {},
   "outputs": [
    {
     "name": "stdout",
     "output_type": "stream",
     "text": [
      "False\n",
      "False\n"
     ]
    }
   ],
   "source": [
    "# Check if Psyduck is in Ash's list and Brock's list\n",
    "print('Psyduck' in brock_pokedex)\n",
    "print('Machop' in ash_pokedex)"
   ]
  },
  {
   "cell_type": "code",
   "execution_count": 91,
   "metadata": {},
   "outputs": [
    {
     "name": "stdout",
     "output_type": "stream",
     "text": [
      "False\n",
      "False\n"
     ]
    }
   ],
   "source": [
    "# Check if Machop is in Ash's list and Brock's setlist\n",
    "print('Psyduck' in brock_pokedex)\n",
    "print('Machop' in ash_pokedex)"
   ]
  },
  {
   "cell_type": "code",
   "execution_count": 155,
   "metadata": {},
   "outputs": [],
   "source": [
    "# Within your IPython console, \n",
    "# use %timeit to compare membership testing  \n",
    "# for 'Psyduck' in ash_pokedex, 'Psyduck' in brock_pokedex_set and brock_pokedex\n",
    "# 'Machop' in ash_pokedex_set, and ash_pokedex (a total of four different timings)."
   ]
  },
  {
   "cell_type": "code",
   "execution_count": 156,
   "metadata": {},
   "outputs": [
    {
     "name": "stdout",
     "output_type": "stream",
     "text": [
      "32.2 ns ± 0.31 ns per loop (mean ± std. dev. of 7 runs, 10000000 loops each)\n",
      "130 ns ± 0.74 ns per loop (mean ± std. dev. of 7 runs, 10000000 loops each)\n",
      "35.4 ns ± 0.312 ns per loop (mean ± std. dev. of 7 runs, 10000000 loops each)\n",
      "126 ns ± 3.33 ns per loop (mean ± std. dev. of 7 runs, 10000000 loops each)\n"
     ]
    }
   ],
   "source": [
    "%timeit 'Psyduck' in brock_pokedex_set\n",
    "%timeit 'Psyduck' in brock_pokedex\n",
    "%timeit 'Machop' in ash_pokedex_set\n",
    "%timeit 'Machop' in ash_pokedex"
   ]
  },
  {
   "cell_type": "code",
   "execution_count": null,
   "metadata": {},
   "outputs": [],
   "source": [
    "## Gathering unique Pokémon"
   ]
  },
  {
   "cell_type": "code",
   "execution_count": 92,
   "metadata": {},
   "outputs": [],
   "source": [
    "def find_unique_items(data):\n",
    "    uniques = []\n",
    "\n",
    "    for item in data:\n",
    "        if item not in uniques:\n",
    "            uniques.append(item)\n",
    "\n",
    "    return uniques"
   ]
  },
  {
   "cell_type": "code",
   "execution_count": 93,
   "metadata": {},
   "outputs": [
    {
     "name": "stdout",
     "output_type": "stream",
     "text": [
      "1028\n",
      "1028\n",
      "True\n",
      "{'Rock', 'Ice', 'Grass', 'Poison', 'Electric', 'Ghost', 'Dragon', 'Ground', 'Fairy', 'Water', 'Fire', 'Fighting', 'Dark', 'Flying', 'Psychic', 'Normal', 'Steel', 'Bug'}\n",
      "{1, 2, 3, 4, 5, 6, 7, 8}\n"
     ]
    }
   ],
   "source": [
    "# Use find_unique_items() to collect unique Pokémon names\n",
    "uniq_names_func = find_unique_items(names)\n",
    "print(len(uniq_names_func))\n",
    "\n",
    "# Convert the names list to a set to collect unique Pokémon names\n",
    "uniq_names_set = set(names)\n",
    "print(len(uniq_names_set))"
   ]
  },
  {
   "cell_type": "code",
   "execution_count": null,
   "metadata": {},
   "outputs": [],
   "source": [
    "# Check that both unique collections are equivalent\n",
    "print(sorted(uniq_names_func) == sorted(uniq_names_set))"
   ]
  },
  {
   "cell_type": "code",
   "execution_count": null,
   "metadata": {},
   "outputs": [],
   "source": [
    "# Use the best approach to collect unique primary types and generations\n",
    "uniq_types = set(primary_types) \n",
    "uniq_gens = set(generations)\n",
    "print(uniq_types, uniq_gens, sep='\\n') "
   ]
  },
  {
   "cell_type": "code",
   "execution_count": 162,
   "metadata": {},
   "outputs": [
    {
     "name": "stdout",
     "output_type": "stream",
     "text": [
      "5.92 ms ± 24.3 µs per loop (mean ± std. dev. of 7 runs, 100 loops each)\n",
      "25.8 µs ± 346 ns per loop (mean ± std. dev. of 7 runs, 10000 loops each)\n"
     ]
    }
   ],
   "source": [
    "%timeit uniq_names_list = find_unique_items(names)\n",
    "%timeit uniq_names_set = set(names)"
   ]
  },
  {
   "cell_type": "markdown",
   "metadata": {},
   "source": [
    "## Eliminating loops"
   ]
  },
  {
   "cell_type": "code",
   "execution_count": 115,
   "metadata": {},
   "outputs": [],
   "source": [
    "poke_names = names\n",
    "poke_gens = generations"
   ]
  },
  {
   "cell_type": "code",
   "execution_count": 116,
   "metadata": {},
   "outputs": [],
   "source": [
    "gen1_gen2_name_lengths_loop = []\n",
    "\n",
    "for name,gen in zip(poke_names, poke_gens):\n",
    "    if gen < 3:\n",
    "        name_length = len(name)\n",
    "        poke_tuple = (name, name_length)\n",
    "        gen1_gen2_name_lengths_loop.append(poke_tuple)"
   ]
  },
  {
   "cell_type": "code",
   "execution_count": 117,
   "metadata": {},
   "outputs": [
    {
     "name": "stdout",
     "output_type": "stream",
     "text": [
      "[('Bulbasaur', 9), ('Ivysaur', 7), ('Venusaur', 8), ('Mega Venusaur', 13), ('Charmander', 10)]\n",
      "[('Bulbasaur', 9), ('Ivysaur', 7), ('Venusaur', 8), ('Mega Venusaur', 13), ('Charmander', 10)]\n",
      "[('Bulbasaur', 9), ('Ivysaur', 7), ('Venusaur', 8), ('Mega Venusaur', 13), ('Charmander', 10)]\n"
     ]
    }
   ],
   "source": [
    "# Collect Pokémon that belong to generation 1 or generation 2\n",
    "gen1_gen2_pokemon = [name for name,gen in zip(poke_names, poke_gens) if gen < 3]\n",
    "\n",
    "# Create a map object that stores the name lengths\n",
    "name_lengths_map = map(len, poke_names)\n",
    "\n",
    "# Combine gen1_gen2_pokemon and name_lengths_map into a list\n",
    "gen1_gen2_name_lengths = [*zip(gen1_gen2_pokemon, name_lengths_map)]\n",
    "\n",
    "print(gen1_gen2_name_lengths_loop[:5])\n",
    "print(gen1_gen2_name_lengths[:5])\n",
    "print(gen1_gen2_name_lengths[:5])"
   ]
  },
  {
   "cell_type": "code",
   "execution_count": 97,
   "metadata": {},
   "outputs": [
    {
     "name": "stdout",
     "output_type": "stream",
     "text": [
      "True \n",
      "\n",
      "[('Bulbasaur', 318.0, 53.0), ('Ivysaur', 405.0, 67.5), ('Venusaur', 525.0, 87.5)]\n",
      "[('Bulbasaur', 318.0, 53.0), ('Ivysaur', 405.0, 67.5), ('Venusaur', 525.0, 87.5)] \n",
      "\n",
      "3 strongest Pokémon:\n",
      "[('Eternatus Eternamax', 1125.0, 187.5), ('Mega Mewtwo X', 780.0, 130.0), ('Mega Mewtwo Y', 780.0, 130.0)]\n"
     ]
    }
   ],
   "source": [
    "## Pokémon totals and averages without a loop\n",
    "\n",
    "# save a Numpy array called stats representing individual Pokemon \n",
    "# stat(HP, Attack, Defense, Special Attack, Special Defense, and Speed)\n",
    "stats = df[['hp', 'attack', 'defense','sp_attack', 'sp_defense', 'speed',]].values\n",
    "\n",
    "# The below for loop was written to collect these values:\n",
    "poke_list = []\n",
    "for pokemon,row in zip(names, stats):\n",
    "    total_stats = np.sum(row)\n",
    "    avg_stats = np.mean(row)\n",
    "    poke_list.append((pokemon, total_stats, avg_stats))\n",
    "    \n",
    "    \n",
    "# Create a total stats array\n",
    "total_stats_np = np.sum(stats, axis=1)\n",
    "\n",
    "# Create an average stats array\n",
    "avg_stats_np = np.mean(stats, axis=1)\n",
    "\n",
    "# Combine names, total_stats_np, and avg_stats_np into a list\n",
    "poke_list_np = [*zip(names, total_stats_np, avg_stats_np)]\n",
    "\n",
    "print(poke_list_np == poke_list, '\\n')\n",
    "print(poke_list_np[:3])\n",
    "print(poke_list[:3], '\\n')\n",
    "top_3 = sorted(poke_list_np, key=lambda x: x[1], reverse=True)[:3]\n",
    "print('3 strongest Pokémon:\\n{}'.format(top_3))"
   ]
  },
  {
   "cell_type": "markdown",
   "metadata": {},
   "source": [
    "## Writing better loops"
   ]
  },
  {
   "cell_type": "code",
   "execution_count": 98,
   "metadata": {},
   "outputs": [
    {
     "name": "stdout",
     "output_type": "stream",
     "text": [
      "generation 1: count = 192 percentage = 18.68\n",
      "generation 2: count = 107 percentage = 10.41\n",
      "generation 3: count = 165 percentage = 16.05\n",
      "generation 4: count = 121 percentage = 11.77\n",
      "generation 5: count = 171 percentage = 16.63\n",
      "generation 6: count =  85 percentage = 8.27\n",
      "generation 7: count =  99 percentage = 9.63\n",
      "generation 8: count =  88 percentage = 8.56\n"
     ]
    }
   ],
   "source": [
    "## One-time calculation loop\n",
    "\n",
    "# Import Counter\n",
    "from collections import Counter\n",
    "\n",
    "# Collect the count of each generation\n",
    "gen_counts = Counter(generations)\n",
    "\n",
    "# Improve for loop by moving one calculation above the loop\n",
    "total_count = len(generations)\n",
    "\n",
    "for gen,count in gen_counts.items():\n",
    "    gen_percent = round(count/total_count * 100, 2)\n",
    "    print('generation {}: count = {:3} percentage = {}'\n",
    "          .format(gen, count, gen_percent))"
   ]
  },
  {
   "cell_type": "code",
   "execution_count": 99,
   "metadata": {},
   "outputs": [
    {
     "name": "stdout",
     "output_type": "stream",
     "text": [
      "[[1, 'Grass', 'Grass'], [2, 'Grass', 'Grass'], [3, 'Grass', 'Grass'], [4, 'Grass', 'Fire'], [5, 'Grass', 'Grass'], [6, 'Grass', 'Grass'], [7, 'Grass', 'Fire'], [8, 'Grass', 'Grass'], [9, 'Grass', 'Fire'], [10, 'Grass', 'Fire']]\n"
     ]
    }
   ],
   "source": [
    "## Holistic conversion loop\n",
    "# Selecting 5 pokemons\n",
    "pokemon_types = primary_types[:5]\n",
    "# Collect all possible pairs using combinations()\n",
    "possible_pairs = [*combinations(pokemon_types, 2)]\n",
    "\n",
    "# Create an empty list called enumerated_tuples\n",
    "enumerated_tuples = []\n",
    "\n",
    "# Add a line to append each enumerated_pair_tuple to the empty list above\n",
    "for i,pair in enumerate(possible_pairs, 1):\n",
    "    enumerated_pair_tuple = (i,) + pair\n",
    "    enumerated_tuples.append(enumerated_pair_tuple)\n",
    "\n",
    "# Convert all tuples in enumerated_tuples to a list\n",
    "enumerated_pairs = [*map(list, enumerated_tuples)]\n",
    "print(enumerated_pairs)"
   ]
  },
  {
   "cell_type": "code",
   "execution_count": 100,
   "metadata": {},
   "outputs": [
    {
     "name": "stdout",
     "output_type": "stream",
     "text": [
      "('Bulbasaur', 45.0, -0.9314773648338521)\n",
      "('Ivysaur', 60.0, -0.3629908230093449)\n",
      "('Venusaur', 80.0, 0.39499123275666476)\n",
      "('Mega Venusaur', 80.0, 0.39499123275666476)\n",
      "('Charmander', 39.0, -1.158871981563655)\n",
      "('Charmeleon', 58.0, -0.4387890285859458)\n",
      "('Charizard', 78.0, 0.3191930271800638)\n",
      "('Mega Charizard X', 78.0, 0.3191930271800638)\n",
      "('Mega Charizard Y', 78.0, 0.3191930271800638)\n",
      "('Squirtle', 44.0, -0.9693764676221526)\n"
     ]
    }
   ],
   "source": [
    "## Bringing it all together: Pokémon z-scores\n",
    "hps = df['hp']\n",
    "# Calculate the total HP avg and total HP standard deviation\n",
    "hp_avg = hps.mean()\n",
    "hp_std = hps.std()\n",
    "\n",
    "# Use NumPy to eliminate the previous for loop\n",
    "z_scores = (hps - hp_avg)/hp_std\n",
    "\n",
    "# Combine names, hps, and z_scores\n",
    "poke_zscores2 = [*zip(names, hps, z_scores)]\n",
    "print(*poke_zscores2[:10], sep='\\n')"
   ]
  },
  {
   "cell_type": "code",
   "execution_count": null,
   "metadata": {},
   "outputs": [],
   "source": []
  }
 ],
 "metadata": {
  "kernelspec": {
   "display_name": "Python 3",
   "language": "python",
   "name": "python3"
  },
  "language_info": {
   "codemirror_mode": {
    "name": "ipython",
    "version": 3
   },
   "file_extension": ".py",
   "mimetype": "text/x-python",
   "name": "python",
   "nbconvert_exporter": "python",
   "pygments_lexer": "ipython3",
   "version": "3.8.3"
  }
 },
 "nbformat": 4,
 "nbformat_minor": 4
}
