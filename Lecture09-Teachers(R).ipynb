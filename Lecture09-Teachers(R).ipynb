{
 "cells": [
  {
   "cell_type": "markdown",
   "metadata": {},
   "source": [
    "# Introduction To R Syntax "
   ]
  },
  {
   "cell_type": "code",
   "execution_count": 1,
   "metadata": {},
   "outputs": [
    {
     "name": "stdout",
     "output_type": "stream",
     "text": [
      "[1] 7\n",
      "[1] 18\n"
     ]
    }
   ],
   "source": [
    "# HOW it works\n",
    "\n",
    "# Calculate 3 + 4\n",
    "print (3 + 4)\n",
    "\n",
    "# Calculate 6 + 12\n",
    "print (6 +12 )"
   ]
  },
  {
   "cell_type": "code",
   "execution_count": 5,
   "metadata": {},
   "outputs": [
    {
     "data": {
      "text/html": [
       "10"
      ],
      "text/latex": [
       "10"
      ],
      "text/markdown": [
       "10"
      ],
      "text/plain": [
       "[1] 10"
      ]
     },
     "metadata": {},
     "output_type": "display_data"
    },
    {
     "data": {
      "text/html": [
       "0"
      ],
      "text/latex": [
       "0"
      ],
      "text/markdown": [
       "0"
      ],
      "text/plain": [
       "[1] 0"
      ]
     },
     "metadata": {},
     "output_type": "display_data"
    },
    {
     "data": {
      "text/html": [
       "15"
      ],
      "text/latex": [
       "15"
      ],
      "text/markdown": [
       "15"
      ],
      "text/plain": [
       "[1] 15"
      ]
     },
     "metadata": {},
     "output_type": "display_data"
    },
    {
     "data": {
      "text/html": [
       "5"
      ],
      "text/latex": [
       "5"
      ],
      "text/markdown": [
       "5"
      ],
      "text/plain": [
       "[1] 5"
      ]
     },
     "metadata": {},
     "output_type": "display_data"
    },
    {
     "data": {
      "text/html": [
       "32"
      ],
      "text/latex": [
       "32"
      ],
      "text/markdown": [
       "32"
      ],
      "text/plain": [
       "[1] 32"
      ]
     },
     "metadata": {},
     "output_type": "display_data"
    },
    {
     "data": {
      "text/html": [
       "4"
      ],
      "text/latex": [
       "4"
      ],
      "text/markdown": [
       "4"
      ],
      "text/plain": [
       "[1] 4"
      ]
     },
     "metadata": {},
     "output_type": "display_data"
    }
   ],
   "source": [
    "# Arithmetic with R\n",
    "\n",
    "# An addition\n",
    "5 + 5 \n",
    "\n",
    "# A subtraction\n",
    "5 - 5 \n",
    "\n",
    "# A multiplication\n",
    "3 * 5\n",
    "\n",
    " # A division\n",
    "(5 + 5) / 2 \n",
    "\n",
    "# Exponentiation\n",
    "2^5\n",
    "\n",
    "# Modulo\n",
    "28%%6"
   ]
  },
  {
   "cell_type": "code",
   "execution_count": 6,
   "metadata": {},
   "outputs": [
    {
     "data": {
      "text/html": [
       "42"
      ],
      "text/latex": [
       "42"
      ],
      "text/markdown": [
       "42"
      ],
      "text/plain": [
       "[1] 42"
      ]
     },
     "metadata": {},
     "output_type": "display_data"
    }
   ],
   "source": [
    "# Variable assignment\n",
    "\n",
    "# Assign the value 42 to x\n",
    "x <- 42\n",
    "\n",
    "# Print out the value of the variable x\n",
    "x"
   ]
  },
  {
   "cell_type": "code",
   "execution_count": 7,
   "metadata": {},
   "outputs": [
    {
     "name": "stdout",
     "output_type": "stream",
     "text": [
      "[1] 11\n"
     ]
    }
   ],
   "source": [
    "# Assign a value to the variables my_apples and my_oranges\n",
    "my_apples <- 5\n",
    "my_oranges <- 6\n",
    "\n",
    "# Add these two variables together\n",
    "print (my_oranges + my_apples)\n",
    "\n",
    "# Create the variable my_fruit\n",
    "my_fruit <- my_oranges + my_apples"
   ]
  },
  {
   "cell_type": "code",
   "execution_count": 8,
   "metadata": {},
   "outputs": [],
   "source": [
    "# Basic data types in R\n",
    "\n",
    "# Change my_numeric to be 42\n",
    "my_numeric <- 42\n",
    "\n",
    "# Change my_character to be \"universe\"\n",
    "my_character <- \"universe\"\n",
    "\n",
    "# Change my_logical to be FALSE\n",
    "my_logical <- FALSE"
   ]
  },
  {
   "cell_type": "code",
   "execution_count": 9,
   "metadata": {},
   "outputs": [
    {
     "data": {
      "text/html": [
       "'numeric'"
      ],
      "text/latex": [
       "'numeric'"
      ],
      "text/markdown": [
       "'numeric'"
      ],
      "text/plain": [
       "[1] \"numeric\""
      ]
     },
     "metadata": {},
     "output_type": "display_data"
    },
    {
     "data": {
      "text/html": [
       "'character'"
      ],
      "text/latex": [
       "'character'"
      ],
      "text/markdown": [
       "'character'"
      ],
      "text/plain": [
       "[1] \"character\""
      ]
     },
     "metadata": {},
     "output_type": "display_data"
    },
    {
     "data": {
      "text/html": [
       "'logical'"
      ],
      "text/latex": [
       "'logical'"
      ],
      "text/markdown": [
       "'logical'"
      ],
      "text/plain": [
       "[1] \"logical\""
      ]
     },
     "metadata": {},
     "output_type": "display_data"
    }
   ],
   "source": [
    "# What's that data type?\n",
    "\n",
    "# Declare variables of different types\n",
    "my_numeric <- 42\n",
    "my_character <- \"universe\"\n",
    "my_logical <- FALSE \n",
    "\n",
    "# Check class of my_numeric\n",
    "class(my_numeric)\n",
    "\n",
    "# Check class of my_character\n",
    "class(my_character)\n",
    "\n",
    "# Check class of my_logical\n",
    "class(my_logical)"
   ]
  },
  {
   "cell_type": "markdown",
   "metadata": {},
   "source": [
    "## Create a vector\n",
    "\n",
    "* Vectors are one-dimension arrays that can hold numeric data, character data, or logical data. In other words, a vector is a simple tool to store data.\n",
    "\n",
    "* For example, you can store your daily gains and losses in the casinos.\n",
    "\n",
    "* In R, you create a vector with the combine function c().\n",
    "\n",
    "* You place the vector elements separated by a comma between the parentheses."
   ]
  },
  {
   "cell_type": "code",
   "execution_count": 10,
   "metadata": {},
   "outputs": [],
   "source": [
    "# Create a vector\n",
    "\n",
    "numeric_vector <- c(1, 10, 49)\n",
    "character_vector <- c(\"a\", \"b\", \"c\")\n",
    "\n",
    "# Complete the code for boolean_vector\n",
    "boolean_vector <- c(TRUE, FALSE ,TRUE)"
   ]
  },
  {
   "cell_type": "markdown",
   "metadata": {},
   "source": [
    "# Vectors in R\n",
    "\n",
    "## Naming a vector\n",
    "\n",
    "* You can give a name to the elements of a vector with the names() function. Have a look at this example:\n",
    "```\n",
    "some_vector <- c(\"John Doe\", \"poker player\")\n",
    "names(some_vector) <- c(\"Name\", \"Profession\")\n",
    "\n",
    "```\n",
    "* This code first creates a vector some_vector and then gives the two elements a name.\n",
    "* The first element is assigned the name Name, while the second element is labeled Profession. Printing the contents to the console yields following output:\n",
    "```\n",
    "          Name     Profession \n",
    "    \"John Doe\" \"poker player\" \n",
    "\n",
    "### Sum vectors -\n",
    "\n",
    "* sum()\n",
    "\n",
    "### Vector selection\n",
    "\n",
    "* Index start with 1.\n",
    "\n",
    "### Select multiple Vectors\n",
    "\n",
    "* poker_vector[c(2,3,4)]\n",
    "\n",
    "### Caculating average\n",
    "\n",
    "* mean()\n",
    "\n",
    "### Logical Operator\n",
    "```\n",
    "< for less than\n",
    "> for greater than\n",
    "<= for less than or equal to\n",
    ">= for greater than or equal to\n",
    "== for equal to each other\n",
    "!= not equal to each other\n",
    "```"
   ]
  },
  {
   "cell_type": "code",
   "execution_count": 13,
   "metadata": {},
   "outputs": [
    {
     "name": "stdout",
     "output_type": "stream",
     "text": [
      "   Monday   Tuesday Wednesday  Thursday    Friday \n",
      "      140       -50        20      -120       240 \n",
      "   Monday   Tuesday Wednesday  Thursday    Friday \n",
      "      -24       -50       100      -350        10 \n"
     ]
    }
   ],
   "source": [
    "# Naming a vector\n",
    "\n",
    "# Poker and roulette winnings from Monday to Friday:\n",
    "poker_vector <- c(140, -50, 20, -120, 240)\n",
    "roulette_vector <- c(-24, -50, 100, -350, 10)\n",
    "\n",
    "# Assign days as names of poker_vector\n",
    "names(poker_vector) <- c(\"Monday\", \"Tuesday\", \"Wednesday\", \"Thursday\", \"Friday\")\n",
    " \n",
    "days_vector <- c(\"Monday\", \"Tuesday\", \"Wednesday\", \"Thursday\", \"Friday\")\n",
    " \n",
    "# Assign the names of the day to roulette_vector and poker_vector\n",
    "names(poker_vector) <-  days_vector\n",
    "names(roulette_vector) <-  days_vector\n",
    "\n",
    "print(poker_vector)\n",
    "print(roulette_vector)"
   ]
  },
  {
   "cell_type": "code",
   "execution_count": 14,
   "metadata": {},
   "outputs": [
    {
     "name": "stdout",
     "output_type": "stream",
     "text": [
      "[1] 5 7 9\n"
     ]
    }
   ],
   "source": [
    "# Adding 2 vectors\n",
    "\n",
    "A_vector <- c(1, 2, 3)\n",
    "B_vector <- c(4, 5, 6)\n",
    "\n",
    "# Take the sum of A_vector and B_vector\n",
    "total_vector <- A_vector + B_vector\n",
    "  \n",
    "# Print out total_vector\n",
    "print(total_vector)"
   ]
  },
  {
   "cell_type": "code",
   "execution_count": 15,
   "metadata": {},
   "outputs": [
    {
     "data": {
      "text/html": [
       "-84"
      ],
      "text/latex": [
       "-84"
      ],
      "text/markdown": [
       "-84"
      ],
      "text/plain": [
       "[1] -84"
      ]
     },
     "metadata": {},
     "output_type": "display_data"
    }
   ],
   "source": [
    "# Total winnings with poker\n",
    "total_poker <- sum(poker_vector)\n",
    "\n",
    "# Total winnings with roulette\n",
    "total_roulette <- sum(roulette_vector)\n",
    "\n",
    "# Total winnings overall\n",
    "total_week <- total_poker + total_roulette\n",
    "\n",
    "# Print out total_week\n",
    "total_week\n",
    "\n"
   ]
  },
  {
   "cell_type": "code",
   "execution_count": 16,
   "metadata": {},
   "outputs": [
    {
     "name": "stdout",
     "output_type": "stream",
     "text": [
      "[1] TRUE\n"
     ]
    }
   ],
   "source": [
    "# Check if total_poker is larger than total_roulette\n",
    "print(total_poker > total_roulette)\n",
    "\n"
   ]
  },
  {
   "cell_type": "code",
   "execution_count": 17,
   "metadata": {},
   "outputs": [
    {
     "data": {
      "text/html": [
       "<strong>Wednesday:</strong> 20"
      ],
      "text/latex": [
       "\\textbf{Wednesday:} 20"
      ],
      "text/markdown": [
       "**Wednesday:** 20"
      ],
      "text/plain": [
       "Wednesday \n",
       "       20 "
      ]
     },
     "metadata": {},
     "output_type": "display_data"
    }
   ],
   "source": [
    "# assign poker winning on Wednesday from poker_vector\n",
    "poker_wednesday <- poker_vector[3]\n",
    "poker_wednesday"
   ]
  },
  {
   "cell_type": "code",
   "execution_count": 18,
   "metadata": {},
   "outputs": [
    {
     "data": {
      "text/html": [
       "<dl class=dl-horizontal>\n",
       "\t<dt>Tuesday</dt>\n",
       "\t\t<dd>-50</dd>\n",
       "\t<dt>Wednesday</dt>\n",
       "\t\t<dd>20</dd>\n",
       "\t<dt>Thursday</dt>\n",
       "\t\t<dd>-120</dd>\n",
       "</dl>\n"
      ],
      "text/latex": [
       "\\begin{description*}\n",
       "\\item[Tuesday] -50\n",
       "\\item[Wednesday] 20\n",
       "\\item[Thursday] -120\n",
       "\\end{description*}\n"
      ],
      "text/markdown": [
       "Tuesday\n",
       ":   -50Wednesday\n",
       ":   20Thursday\n",
       ":   -120\n",
       "\n"
      ],
      "text/plain": [
       "  Tuesday Wednesday  Thursday \n",
       "      -50        20      -120 "
      ]
     },
     "metadata": {},
     "output_type": "display_data"
    }
   ],
   "source": [
    "# Define a new variable based on a selection of Tuesday, Wednesday, Thursday\n",
    "poker_midweek <- poker_vector[c(2,3,4)]\n",
    "poker_midweek"
   ]
  },
  {
   "cell_type": "code",
   "execution_count": 20,
   "metadata": {},
   "outputs": [
    {
     "data": {
      "text/html": [
       "<dl class=dl-horizontal>\n",
       "\t<dt>Tuesday</dt>\n",
       "\t\t<dd>-50</dd>\n",
       "\t<dt>Wednesday</dt>\n",
       "\t\t<dd>100</dd>\n",
       "\t<dt>Thursday</dt>\n",
       "\t\t<dd>-350</dd>\n",
       "\t<dt>Friday</dt>\n",
       "\t\t<dd>10</dd>\n",
       "</dl>\n"
      ],
      "text/latex": [
       "\\begin{description*}\n",
       "\\item[Tuesday] -50\n",
       "\\item[Wednesday] 100\n",
       "\\item[Thursday] -350\n",
       "\\item[Friday] 10\n",
       "\\end{description*}\n"
      ],
      "text/markdown": [
       "Tuesday\n",
       ":   -50Wednesday\n",
       ":   100Thursday\n",
       ":   -350Friday\n",
       ":   10\n",
       "\n"
      ],
      "text/plain": [
       "  Tuesday Wednesday  Thursday    Friday \n",
       "      -50       100      -350        10 "
      ]
     },
     "metadata": {},
     "output_type": "display_data"
    }
   ],
   "source": [
    "# multiple values, select from Tuesday to Friday with slicing roulette_vector\n",
    "roulette_selection_vector <- roulette_vector[2:5]\n",
    "roulette_selection_vector"
   ]
  },
  {
   "cell_type": "code",
   "execution_count": 21,
   "metadata": {},
   "outputs": [
    {
     "data": {
      "text/html": [
       "-72.5"
      ],
      "text/latex": [
       "-72.5"
      ],
      "text/markdown": [
       "-72.5"
      ],
      "text/plain": [
       "[1] -72.5"
      ]
     },
     "metadata": {},
     "output_type": "display_data"
    }
   ],
   "source": [
    "# Calculate the average of the elements in roulette_selection_vector\n",
    "mean(roulette_selection_vector)"
   ]
  },
  {
   "cell_type": "code",
   "execution_count": 22,
   "metadata": {},
   "outputs": [
    {
     "name": "stdout",
     "output_type": "stream",
     "text": [
      "   Monday   Tuesday Wednesday  Thursday    Friday \n",
      "     TRUE     FALSE      TRUE     FALSE      TRUE \n"
     ]
    }
   ],
   "source": [
    "# Which days did you earn money on poker? (Hint: Use poker_vector)\n",
    "selection_vector <- poker_vector > 0\n",
    "  \n",
    "# Print out selection_vector\n",
    "print(selection_vector)"
   ]
  },
  {
   "cell_type": "code",
   "execution_count": 23,
   "metadata": {},
   "outputs": [
    {
     "data": {
      "text/html": [
       "<dl class=dl-horizontal>\n",
       "\t<dt>Monday</dt>\n",
       "\t\t<dd>140</dd>\n",
       "\t<dt>Wednesday</dt>\n",
       "\t\t<dd>20</dd>\n",
       "\t<dt>Friday</dt>\n",
       "\t\t<dd>240</dd>\n",
       "</dl>\n"
      ],
      "text/latex": [
       "\\begin{description*}\n",
       "\\item[Monday] 140\n",
       "\\item[Wednesday] 20\n",
       "\\item[Friday] 240\n",
       "\\end{description*}\n"
      ],
      "text/markdown": [
       "Monday\n",
       ":   140Wednesday\n",
       ":   20Friday\n",
       ":   240\n",
       "\n"
      ],
      "text/plain": [
       "   Monday Wednesday    Friday \n",
       "      140        20       240 "
      ]
     },
     "metadata": {},
     "output_type": "display_data"
    }
   ],
   "source": [
    "# Selection by comparison \n",
    "\n",
    "# Select from poker_vector these days\n",
    "poker_winning_days <- poker_vector[selection_vector]\n",
    "poker_winning_days"
   ]
  },
  {
   "cell_type": "code",
   "execution_count": null,
   "metadata": {},
   "outputs": [],
   "source": [
    "# boolean indexing: do the same thing as above with one line of code"
   ]
  },
  {
   "cell_type": "code",
   "execution_count": 25,
   "metadata": {},
   "outputs": [
    {
     "name": "stdout",
     "output_type": "stream",
     "text": [
      "   Monday Wednesday    Friday \n",
      "      140        20       240 \n"
     ]
    }
   ],
   "source": [
    "poker_winning_days <- poker_vector[poker_vector>0]\n",
    "\n",
    "print(poker_winning_days)"
   ]
  },
  {
   "cell_type": "markdown",
   "metadata": {},
   "source": [
    "# Matrix in R\n",
    "\n",
    "* In R, a matrix is a collection of elements of the same data type (numeric, character, or logical) arranged into a fixed number of rows and columns.\n",
    "* Since you are only working with rows and columns, a matrix is called two-dimensional.\n",
    "\n",
    "```\n",
    "matrix(1:9, byrow = TRUE, nrow = 3)\n",
    "```\n",
    "\n",
    "#### In the matrix() function:\n",
    "\n",
    "* The first argument is the collection of elements that R will arrange into the rows and columns of the matrix. Here, we use 1:9 which is a shortcut for c(1, 2, 3, 4, 5, 6, 7, 8, 9).\n",
    "\n",
    "* The argument byrow indicates that the matrix is filled by the rows. If we want the matrix to be filled by the columns, we just place byrow = FALSE.\n",
    "\n",
    "* The third argument nrow indicates that the matrix should have three rows.\n",
    "\n",
    "### Naming a matrix\n",
    "\n",
    "Similar to vectors, you can add names for the rows and the columns of a matrix\n",
    "\n",
    "```\n",
    "rownames(my_matrix) <- row_names_vector\n",
    "colnames(my_matrix) <- col_names_vector\n",
    "```\n",
    "\n",
    "### Logical operation in Matrix\n",
    "\n",
    "* All operation possible with matrix like ->  + , - , * , / \n",
    "* matrix with matrix operation is also possible"
   ]
  },
  {
   "cell_type": "code",
   "execution_count": 26,
   "metadata": {},
   "outputs": [],
   "source": [
    "# Box office Star Wars (in millions!)\n",
    "new_hope <- c(460.998, 314.4)\n",
    "empire_strikes <- c(290.475, 247.900)\n",
    "return_jedi <- c(309.306, 165.8)"
   ]
  },
  {
   "cell_type": "code",
   "execution_count": 27,
   "metadata": {},
   "outputs": [
    {
     "data": {
      "text/html": [
       "<ol class=list-inline>\n",
       "\t<li>460.998</li>\n",
       "\t<li>314.4</li>\n",
       "\t<li>290.475</li>\n",
       "\t<li>247.9</li>\n",
       "\t<li>309.306</li>\n",
       "\t<li>165.8</li>\n",
       "</ol>\n"
      ],
      "text/latex": [
       "\\begin{enumerate*}\n",
       "\\item 460.998\n",
       "\\item 314.4\n",
       "\\item 290.475\n",
       "\\item 247.9\n",
       "\\item 309.306\n",
       "\\item 165.8\n",
       "\\end{enumerate*}\n"
      ],
      "text/markdown": [
       "1. 460.998\n",
       "2. 314.4\n",
       "3. 290.475\n",
       "4. 247.9\n",
       "5. 309.306\n",
       "6. 165.8\n",
       "\n",
       "\n"
      ],
      "text/plain": [
       "[1] 460.998 314.400 290.475 247.900 309.306 165.800"
      ]
     },
     "metadata": {},
     "output_type": "display_data"
    }
   ],
   "source": [
    "# Create box_office\n",
    "box_office <- c(new_hope, empire_strikes, return_jedi)\n",
    "box_office"
   ]
  },
  {
   "cell_type": "code",
   "execution_count": 28,
   "metadata": {},
   "outputs": [
    {
     "data": {
      "text/html": [
       "<table>\n",
       "<tbody>\n",
       "\t<tr><td>460.998</td><td>314.4  </td></tr>\n",
       "\t<tr><td>290.475</td><td>247.9  </td></tr>\n",
       "\t<tr><td>309.306</td><td>165.8  </td></tr>\n",
       "</tbody>\n",
       "</table>\n"
      ],
      "text/latex": [
       "\\begin{tabular}{ll}\n",
       "\t 460.998 & 314.4  \\\\\n",
       "\t 290.475 & 247.9  \\\\\n",
       "\t 309.306 & 165.8  \\\\\n",
       "\\end{tabular}\n"
      ],
      "text/markdown": [
       "\n",
       "| 460.998 | 314.4   |\n",
       "| 290.475 | 247.9   |\n",
       "| 309.306 | 165.8   |\n",
       "\n"
      ],
      "text/plain": [
       "     [,1]    [,2] \n",
       "[1,] 460.998 314.4\n",
       "[2,] 290.475 247.9\n",
       "[3,] 309.306 165.8"
      ]
     },
     "metadata": {},
     "output_type": "display_data"
    }
   ],
   "source": [
    "# Construct star_wars_matrix (byrow, default = FALSE)\n",
    "star_wars_matrix <- matrix(box_office, byrow=TRUE, nrow=3)\n",
    "star_wars_matrix"
   ]
  },
  {
   "cell_type": "code",
   "execution_count": 29,
   "metadata": {},
   "outputs": [],
   "source": [
    "# Box office Star Wars (in millions!)\n",
    "new_hope <- c(460.998, 314.4)\n",
    "empire_strikes <- c(290.475, 247.900)\n",
    "return_jedi <- c(309.306, 165.8)"
   ]
  },
  {
   "cell_type": "code",
   "execution_count": 30,
   "metadata": {},
   "outputs": [],
   "source": [
    "# Construct matrix\n",
    "star_wars_matrix <- matrix(c(new_hope, empire_strikes, return_jedi), nrow = 3, byrow = TRUE)"
   ]
  },
  {
   "cell_type": "code",
   "execution_count": 31,
   "metadata": {},
   "outputs": [],
   "source": [
    "# Vectors region and titles, used for naming\n",
    "region <- c(\"US\", \"non-US\")\n",
    "titles <- c(\"A New Hope\", \"The Empire Strikes Back\", \"Return of the Jedi\")"
   ]
  },
  {
   "cell_type": "code",
   "execution_count": 32,
   "metadata": {},
   "outputs": [],
   "source": [
    "# Name the columns with region\n",
    "colnames(star_wars_matrix) <- region "
   ]
  },
  {
   "cell_type": "code",
   "execution_count": 33,
   "metadata": {},
   "outputs": [],
   "source": [
    "# Name the rows with titles\n",
    "rownames(star_wars_matrix) <- titles"
   ]
  },
  {
   "cell_type": "code",
   "execution_count": 34,
   "metadata": {},
   "outputs": [
    {
     "name": "stdout",
     "output_type": "stream",
     "text": [
      "                             US non-US\n",
      "A New Hope              460.998  314.4\n",
      "The Empire Strikes Back 290.475  247.9\n",
      "Return of the Jedi      309.306  165.8\n"
     ]
    }
   ],
   "source": [
    "# Print out star_wars_matrix\n",
    "print(star_wars_matrix)"
   ]
  },
  {
   "cell_type": "code",
   "execution_count": 35,
   "metadata": {},
   "outputs": [],
   "source": [
    "# sum of the total matrix row wise rowSums\n",
    "# sum of the total matrix column wise colSums\n",
    "\n",
    "# Construct star_wars_matrix\n",
    "box_office <- c(460.998, 314.4, 290.475, 247.900, 309.306, 165.8)\n",
    "star_wars_matrix <- matrix(box_office, nrow = 3, byrow = TRUE,\n",
    "                           dimnames = list(c(\"A New Hope\", \"The Empire Strikes Back\", \"Return of the Jedi\"), \n",
    "                                           c(\"US\", \"non-US\")))\n",
    "\n"
   ]
  },
  {
   "cell_type": "code",
   "execution_count": 40,
   "metadata": {},
   "outputs": [
    {
     "data": {
      "text/html": [
       "<dl class=dl-horizontal>\n",
       "\t<dt>A New Hope</dt>\n",
       "\t\t<dd>775.398</dd>\n",
       "\t<dt>The Empire Strikes Back</dt>\n",
       "\t\t<dd>538.375</dd>\n",
       "\t<dt>Return of the Jedi</dt>\n",
       "\t\t<dd>475.106</dd>\n",
       "</dl>\n"
      ],
      "text/latex": [
       "\\begin{description*}\n",
       "\\item[A New Hope] 775.398\n",
       "\\item[The Empire Strikes Back] 538.375\n",
       "\\item[Return of the Jedi] 475.106\n",
       "\\end{description*}\n"
      ],
      "text/markdown": [
       "A New Hope\n",
       ":   775.398The Empire Strikes Back\n",
       ":   538.375Return of the Jedi\n",
       ":   475.106\n",
       "\n"
      ],
      "text/plain": [
       "             A New Hope The Empire Strikes Back      Return of the Jedi \n",
       "                775.398                 538.375                 475.106 "
      ]
     },
     "metadata": {},
     "output_type": "display_data"
    }
   ],
   "source": [
    "# Calculate worldwide box office figures\n",
    "worldwide_vector <- rowSums(star_wars_matrix)\n",
    "worldwide_vector"
   ]
  },
  {
   "cell_type": "code",
   "execution_count": 41,
   "metadata": {},
   "outputs": [
    {
     "data": {
      "text/html": [
       "<dl class=dl-horizontal>\n",
       "\t<dt>US</dt>\n",
       "\t\t<dd>1060.779</dd>\n",
       "\t<dt>non-US</dt>\n",
       "\t\t<dd>728.1</dd>\n",
       "</dl>\n"
      ],
      "text/latex": [
       "\\begin{description*}\n",
       "\\item[US] 1060.779\n",
       "\\item[non-US] 728.1\n",
       "\\end{description*}\n"
      ],
      "text/markdown": [
       "US\n",
       ":   1060.779non-US\n",
       ":   728.1\n",
       "\n"
      ],
      "text/plain": [
       "      US   non-US \n",
       "1060.779  728.100 "
      ]
     },
     "metadata": {},
     "output_type": "display_data"
    }
   ],
   "source": [
    "# Compare box office figures between US and non-US\n",
    "us_nonus_vector <- colSums(star_wars_matrix)\n",
    "us_nonus_vector"
   ]
  },
  {
   "cell_type": "code",
   "execution_count": 42,
   "metadata": {},
   "outputs": [],
   "source": [
    "# Adding a column in Matrix\n",
    "\n",
    "# Construct star_wars_matrix\n",
    "box_office <- c(460.998, 314.4, 290.475, 247.900, 309.306, 165.8)\n",
    "star_wars_matrix <- matrix(box_office, nrow = 3, byrow = TRUE,\n",
    "                           dimnames = list(c(\"A New Hope\", \"The Empire Strikes Back\", \"Return of the Jedi\"), \n",
    "                                           c(\"US\", \"non-US\")))\n",
    "\n",
    "\n",
    "\n"
   ]
  },
  {
   "cell_type": "code",
   "execution_count": 43,
   "metadata": {},
   "outputs": [],
   "source": [
    "# The worldwide box office figures\n",
    "worldwide_vector <- rowSums(star_wars_matrix)"
   ]
  },
  {
   "cell_type": "code",
   "execution_count": 45,
   "metadata": {},
   "outputs": [
    {
     "data": {
      "text/html": [
       "<table>\n",
       "<thead><tr><th></th><th scope=col>US</th><th scope=col>non-US</th><th scope=col>worldwide_vector</th></tr></thead>\n",
       "<tbody>\n",
       "\t<tr><th scope=row>A New Hope</th><td>460.998</td><td>314.4  </td><td>775.398</td></tr>\n",
       "\t<tr><th scope=row>The Empire Strikes Back</th><td>290.475</td><td>247.9  </td><td>538.375</td></tr>\n",
       "\t<tr><th scope=row>Return of the Jedi</th><td>309.306</td><td>165.8  </td><td>475.106</td></tr>\n",
       "</tbody>\n",
       "</table>\n"
      ],
      "text/latex": [
       "\\begin{tabular}{r|lll}\n",
       "  & US & non-US & worldwide\\_vector\\\\\n",
       "\\hline\n",
       "\tA New Hope & 460.998 & 314.4   & 775.398\\\\\n",
       "\tThe Empire Strikes Back & 290.475 & 247.9   & 538.375\\\\\n",
       "\tReturn of the Jedi & 309.306 & 165.8   & 475.106\\\\\n",
       "\\end{tabular}\n"
      ],
      "text/markdown": [
       "\n",
       "| <!--/--> | US | non-US | worldwide_vector |\n",
       "|---|---|---|---|\n",
       "| A New Hope | 460.998 | 314.4   | 775.398 |\n",
       "| The Empire Strikes Back | 290.475 | 247.9   | 538.375 |\n",
       "| Return of the Jedi | 309.306 | 165.8   | 475.106 |\n",
       "\n"
      ],
      "text/plain": [
       "                        US      non-US worldwide_vector\n",
       "A New Hope              460.998 314.4  775.398         \n",
       "The Empire Strikes Back 290.475 247.9  538.375         \n",
       "Return of the Jedi      309.306 165.8  475.106         "
      ]
     },
     "metadata": {},
     "output_type": "display_data"
    }
   ],
   "source": [
    "# Bind the new variable worldwide_vector as a column to star_wars_matrix\n",
    "all_wars_matrix <- cbind(star_wars_matrix,worldwide_vector)\n",
    "all_wars_matrix"
   ]
  },
  {
   "cell_type": "code",
   "execution_count": 46,
   "metadata": {},
   "outputs": [],
   "source": [
    "# Construct star_wars_matrix\n",
    "box_office <- c(474.5, 552.5, 310.7, 338.7, 380.3, 468.5)\n",
    "star_wars_matrix2 <- matrix(box_office, nrow = 3, byrow = TRUE,\n",
    "                           dimnames = list(c(\"The Phantom Menace\", \"Attack of the Clones\", \"Revenge of the Sith\"), \n",
    "                                           c(\"US\", \"non-US\")))"
   ]
  },
  {
   "cell_type": "code",
   "execution_count": 47,
   "metadata": {},
   "outputs": [
    {
     "data": {
      "text/html": [
       "<table>\n",
       "<thead><tr><th></th><th scope=col>US</th><th scope=col>non-US</th></tr></thead>\n",
       "<tbody>\n",
       "\t<tr><th scope=row>The Phantom Menace</th><td>474.5</td><td>552.5</td></tr>\n",
       "\t<tr><th scope=row>Attack of the Clones</th><td>310.7</td><td>338.7</td></tr>\n",
       "\t<tr><th scope=row>Revenge of the Sith</th><td>380.3</td><td>468.5</td></tr>\n",
       "</tbody>\n",
       "</table>\n"
      ],
      "text/latex": [
       "\\begin{tabular}{r|ll}\n",
       "  & US & non-US\\\\\n",
       "\\hline\n",
       "\tThe Phantom Menace & 474.5 & 552.5\\\\\n",
       "\tAttack of the Clones & 310.7 & 338.7\\\\\n",
       "\tRevenge of the Sith & 380.3 & 468.5\\\\\n",
       "\\end{tabular}\n"
      ],
      "text/markdown": [
       "\n",
       "| <!--/--> | US | non-US |\n",
       "|---|---|---|\n",
       "| The Phantom Menace | 474.5 | 552.5 |\n",
       "| Attack of the Clones | 310.7 | 338.7 |\n",
       "| Revenge of the Sith | 380.3 | 468.5 |\n",
       "\n"
      ],
      "text/plain": [
       "                     US    non-US\n",
       "The Phantom Menace   474.5 552.5 \n",
       "Attack of the Clones 310.7 338.7 \n",
       "Revenge of the Sith  380.3 468.5 "
      ]
     },
     "metadata": {},
     "output_type": "display_data"
    }
   ],
   "source": [
    "star_wars_matrix2"
   ]
  },
  {
   "cell_type": "code",
   "execution_count": 48,
   "metadata": {},
   "outputs": [
    {
     "data": {
      "text/html": [
       "<table>\n",
       "<thead><tr><th></th><th scope=col>US</th><th scope=col>non-US</th></tr></thead>\n",
       "<tbody>\n",
       "\t<tr><th scope=row>A New Hope</th><td>460.998</td><td>314.4  </td></tr>\n",
       "\t<tr><th scope=row>The Empire Strikes Back</th><td>290.475</td><td>247.9  </td></tr>\n",
       "\t<tr><th scope=row>Return of the Jedi</th><td>309.306</td><td>165.8  </td></tr>\n",
       "\t<tr><th scope=row>The Phantom Menace</th><td>474.500</td><td>552.5  </td></tr>\n",
       "\t<tr><th scope=row>Attack of the Clones</th><td>310.700</td><td>338.7  </td></tr>\n",
       "\t<tr><th scope=row>Revenge of the Sith</th><td>380.300</td><td>468.5  </td></tr>\n",
       "</tbody>\n",
       "</table>\n"
      ],
      "text/latex": [
       "\\begin{tabular}{r|ll}\n",
       "  & US & non-US\\\\\n",
       "\\hline\n",
       "\tA New Hope & 460.998 & 314.4  \\\\\n",
       "\tThe Empire Strikes Back & 290.475 & 247.9  \\\\\n",
       "\tReturn of the Jedi & 309.306 & 165.8  \\\\\n",
       "\tThe Phantom Menace & 474.500 & 552.5  \\\\\n",
       "\tAttack of the Clones & 310.700 & 338.7  \\\\\n",
       "\tRevenge of the Sith & 380.300 & 468.5  \\\\\n",
       "\\end{tabular}\n"
      ],
      "text/markdown": [
       "\n",
       "| <!--/--> | US | non-US |\n",
       "|---|---|---|\n",
       "| A New Hope | 460.998 | 314.4   |\n",
       "| The Empire Strikes Back | 290.475 | 247.9   |\n",
       "| Return of the Jedi | 309.306 | 165.8   |\n",
       "| The Phantom Menace | 474.500 | 552.5   |\n",
       "| Attack of the Clones | 310.700 | 338.7   |\n",
       "| Revenge of the Sith | 380.300 | 468.5   |\n",
       "\n"
      ],
      "text/plain": [
       "                        US      non-US\n",
       "A New Hope              460.998 314.4 \n",
       "The Empire Strikes Back 290.475 247.9 \n",
       "Return of the Jedi      309.306 165.8 \n",
       "The Phantom Menace      474.500 552.5 \n",
       "Attack of the Clones    310.700 338.7 \n",
       "Revenge of the Sith     380.300 468.5 "
      ]
     },
     "metadata": {},
     "output_type": "display_data"
    }
   ],
   "source": [
    "# Combine both Star Wars trilogies in one matrix\n",
    "all_wars_matrix <- rbind(star_wars_matrix,star_wars_matrix2)\n",
    "all_wars_matrix"
   ]
  },
  {
   "cell_type": "code",
   "execution_count": 49,
   "metadata": {},
   "outputs": [
    {
     "data": {
      "text/html": [
       "<dl class=dl-horizontal>\n",
       "\t<dt>A New Hope</dt>\n",
       "\t\t<dd>314.4</dd>\n",
       "\t<dt>The Empire Strikes Back</dt>\n",
       "\t\t<dd>247.9</dd>\n",
       "\t<dt>Return of the Jedi</dt>\n",
       "\t\t<dd>165.8</dd>\n",
       "\t<dt>The Phantom Menace</dt>\n",
       "\t\t<dd>552.5</dd>\n",
       "\t<dt>Attack of the Clones</dt>\n",
       "\t\t<dd>338.7</dd>\n",
       "\t<dt>Revenge of the Sith</dt>\n",
       "\t\t<dd>468.5</dd>\n",
       "</dl>\n"
      ],
      "text/latex": [
       "\\begin{description*}\n",
       "\\item[A New Hope] 314.4\n",
       "\\item[The Empire Strikes Back] 247.9\n",
       "\\item[Return of the Jedi] 165.8\n",
       "\\item[The Phantom Menace] 552.5\n",
       "\\item[Attack of the Clones] 338.7\n",
       "\\item[Revenge of the Sith] 468.5\n",
       "\\end{description*}\n"
      ],
      "text/markdown": [
       "A New Hope\n",
       ":   314.4The Empire Strikes Back\n",
       ":   247.9Return of the Jedi\n",
       ":   165.8The Phantom Menace\n",
       ":   552.5Attack of the Clones\n",
       ":   338.7Revenge of the Sith\n",
       ":   468.5\n",
       "\n"
      ],
      "text/plain": [
       "             A New Hope The Empire Strikes Back      Return of the Jedi \n",
       "                  314.4                   247.9                   165.8 \n",
       "     The Phantom Menace    Attack of the Clones     Revenge of the Sith \n",
       "                  552.5                   338.7                   468.5 "
      ]
     },
     "metadata": {},
     "output_type": "display_data"
    }
   ],
   "source": [
    "# Select the non-US revenue for all movies\n",
    "non_us_all <- all_wars_matrix[,2]\n",
    "non_us_all"
   ]
  },
  {
   "cell_type": "code",
   "execution_count": 50,
   "metadata": {},
   "outputs": [
    {
     "data": {
      "text/html": [
       "347.966666666667"
      ],
      "text/latex": [
       "347.966666666667"
      ],
      "text/markdown": [
       "347.966666666667"
      ],
      "text/plain": [
       "[1] 347.9667"
      ]
     },
     "metadata": {},
     "output_type": "display_data"
    }
   ],
   "source": [
    "# Average non-US revenue\n",
    "mean(non_us_all)"
   ]
  },
  {
   "cell_type": "code",
   "execution_count": 51,
   "metadata": {},
   "outputs": [],
   "source": [
    "# Select the non-US revenue for first two movies\n",
    "non_us_some <- all_wars_matrix[1:2,2]"
   ]
  },
  {
   "cell_type": "code",
   "execution_count": 52,
   "metadata": {},
   "outputs": [
    {
     "data": {
      "text/html": [
       "281.15"
      ],
      "text/latex": [
       "281.15"
      ],
      "text/markdown": [
       "281.15"
      ],
      "text/plain": [
       "[1] 281.15"
      ]
     },
     "metadata": {},
     "output_type": "display_data"
    }
   ],
   "source": [
    "# Average non-US revenue for first two movies\n",
    "mean(non_us_some)"
   ]
  },
  {
   "cell_type": "markdown",
   "metadata": {},
   "source": [
    "# What's a factor and why would you use it ?\n",
    "\n",
    "* The term factor refers to a statistical data type used to store categorical variables. The difference between a categorical variable and a continuous variable is that a categorical variable can belong to a **limited number of categories**. A continuous variable, on the other hand, can correspond to an infinite number of values.\n",
    "\n",
    "***\n",
    "\n",
    "* It is important that R knows whether it is dealing with a continuous or a categorical variable, as the statistical models you will develop in the future treat both types differently.\n",
    "\n",
    "***\n",
    "\n",
    "* A good example of a categorical variable is the variable 'Gender'. A human individual can either be \"Male\" or \"Female\", making abstraction of inter-sexes. So here \"Male\" and \"Female\" are, in a simplified sense, the two values of the categorical variable \"Gender\", and every observation can be assigned to either the value \"Male\" of \"Female\".\n",
    "\n"
   ]
  },
  {
   "cell_type": "code",
   "execution_count": 53,
   "metadata": {},
   "outputs": [
    {
     "name": "stdout",
     "output_type": "stream",
     "text": [
      "[1] Male   Female Female Male   Male  \n",
      "Levels: Female Male\n"
     ]
    }
   ],
   "source": [
    "# # Gender vector\n",
    "gender_vector <- c(\"Male\", \"Female\", \"Female\", \"Male\", \"Male\")\n",
    "\n",
    "# Convert gender_vector to a factor\n",
    "factor_gender_vector <- factor(gender_vector)\n",
    "\n",
    "# Print out factor_gender_vector\n",
    "print(factor_gender_vector)"
   ]
  },
  {
   "cell_type": "markdown",
   "metadata": {},
   "source": [
    "***\n",
    "* There are two types of categorical variables: a nominal categorical variable and an ordinal categorical variable.\n",
    "***\n",
    "* A nominal variable is a categorical variable without an implied order. This means that it is impossible to say that 'one is worth more than the other'. For example, think of the categorical variable animals_vector with the categories \"Elephant\", \"Giraffe\", \"Donkey\" and \"Horse\". Here, it is impossible to say that one stands above or below the other. (Note that some of you might disagree ;-) ).\n",
    "***\n",
    "* In contrast, ordinal variables do have a natural ordering. Consider for example the categorical variable temperature_vector with the categories: \"Low\", \"Medium\" and \"High\". Here it is obvious that \"Medium\" stands above \"Low\", and \"High\" stands above \"Medium\".\n",
    "\n"
   ]
  },
  {
   "cell_type": "code",
   "execution_count": 50,
   "metadata": {},
   "outputs": [
    {
     "name": "stdout",
     "output_type": "stream",
     "text": [
      "[1] Elephant Giraffe  Donkey   Horse   \n",
      "Levels: Donkey Elephant Giraffe Horse\n"
     ]
    }
   ],
   "source": [
    "# Animals\n",
    "animals_vector <- c(\"Elephant\", \"Giraffe\", \"Donkey\", \"Horse\")\n",
    "factor_animals_vector <- factor(animals_vector)\n",
    "print(factor_animals_vector)"
   ]
  },
  {
   "cell_type": "code",
   "execution_count": 51,
   "metadata": {},
   "outputs": [
    {
     "name": "stdout",
     "output_type": "stream",
     "text": [
      "[1] High   Low    High   Low    Medium\n",
      "Levels: Low < Medium < High\n"
     ]
    }
   ],
   "source": [
    "# Temperature\n",
    "temperature_vector <- c(\"High\", \"Low\", \"High\",\"Low\", \"Medium\")\n",
    "factor_temperature_vector <- factor(temperature_vector, order = TRUE, levels = c(\"Low\", \"Medium\", \"High\"))\n",
    "print(factor_temperature_vector)"
   ]
  },
  {
   "cell_type": "code",
   "execution_count": 52,
   "metadata": {},
   "outputs": [
    {
     "name": "stdout",
     "output_type": "stream",
     "text": [
      "[1] High   Low    High   Low    Medium\n",
      "Levels: High < Low < Medium\n"
     ]
    }
   ],
   "source": [
    "factor_temperature_vector2 <- factor(temperature_vector, order = TRUE)\n",
    "print(factor_temperature_vector2)"
   ]
  },
  {
   "cell_type": "markdown",
   "metadata": {},
   "source": [
    "### Factor levels\n",
    "\n",
    "* A good illustration is the raw data that is provided to you by a survey. A standard question for every questionnaire is the gender of the respondent. You remember from the previous question that this is a factor and when performing the questionnaire on the streets its levels are often coded as \"M\" and \"F\".\n",
    "***\n",
    "```\n",
    "survey_vector <- c(\"M\", \"F\", \"F\", \"M\", \"M\")\n",
    "```\n",
    "* Next, when you want to start your data analysis, your main concern is to keep a nice overview of all the variables and what they mean. At that point, you will often want to change the factor levels to \"Male\" and \"Female\" instead of \"M\" and \"F\" to make your life easier.\n",
    "***\n",
    "* Watch out: the order with which you assign the levels is important. If you type levels(factor_survey_vector), you'll see that it outputs [1] \"F\" \"M\". If you don't specify the levels of the factor when creating the vector, R will automatically assign them alphabetically. To correctly map \"F\" to \"Female\" and \"M\" to \"Male\", the levels should be set to c(\"Female\", \"Male\"), in this order order."
   ]
  },
  {
   "cell_type": "code",
   "execution_count": 53,
   "metadata": {},
   "outputs": [
    {
     "name": "stdout",
     "output_type": "stream",
     "text": [
      "[1] M F F M M\n",
      "Levels: F M\n"
     ]
    }
   ],
   "source": [
    "# Code to build factor_survey_vector\n",
    "survey_vector <- c(\"M\", \"F\", \"F\", \"M\", \"M\")\n",
    "factor_survey_vector <- factor(survey_vector)\n",
    "print(factor_survey_vector)"
   ]
  },
  {
   "cell_type": "code",
   "execution_count": 54,
   "metadata": {},
   "outputs": [
    {
     "name": "stdout",
     "output_type": "stream",
     "text": [
      "[1] Male   Female Female Male   Male  \n",
      "Levels: Female Male\n"
     ]
    }
   ],
   "source": [
    "# Specify the levels of factor_survey_vector\n",
    "levels(factor_survey_vector) <- c(\"Female\",\"Male\")\n",
    "print(factor_survey_vector)\n"
   ]
  },
  {
   "cell_type": "markdown",
   "metadata": {},
   "source": [
    "### Summarizing a factor\n",
    "\n",
    "variable:\n",
    "```\n",
    "summary(my_var)\n",
    "```\n",
    "* Going back to our survey, you would like to know how many \"Male\" responses you have in your study, and how many \"Female\" responses. The summary() function gives you the answer to this question."
   ]
  },
  {
   "cell_type": "code",
   "execution_count": 54,
   "metadata": {},
   "outputs": [
    {
     "data": {
      "text/html": [
       "<ol class=list-inline>\n",
       "\t<li>Male</li>\n",
       "\t<li>Female</li>\n",
       "\t<li>Female</li>\n",
       "\t<li>Male</li>\n",
       "\t<li>Male</li>\n",
       "</ol>\n",
       "\n",
       "<details>\n",
       "\t<summary style=display:list-item;cursor:pointer>\n",
       "\t\t<strong>Levels</strong>:\n",
       "\t</summary>\n",
       "\t<ol class=list-inline>\n",
       "\t\t<li>'Female'</li>\n",
       "\t\t<li>'Male'</li>\n",
       "\t</ol>\n",
       "</details>"
      ],
      "text/latex": [
       "\\begin{enumerate*}\n",
       "\\item Male\n",
       "\\item Female\n",
       "\\item Female\n",
       "\\item Male\n",
       "\\item Male\n",
       "\\end{enumerate*}\n",
       "\n",
       "\\emph{Levels}: \\begin{enumerate*}\n",
       "\\item 'Female'\n",
       "\\item 'Male'\n",
       "\\end{enumerate*}\n"
      ],
      "text/markdown": [
       "1. Male\n",
       "2. Female\n",
       "3. Female\n",
       "4. Male\n",
       "5. Male\n",
       "\n",
       "\n",
       "\n",
       "**Levels**: 1. 'Female'\n",
       "2. 'Male'\n",
       "\n",
       "\n"
      ],
      "text/plain": [
       "[1] Male   Female Female Male   Male  \n",
       "Levels: Female Male"
      ]
     },
     "metadata": {},
     "output_type": "display_data"
    }
   ],
   "source": [
    "# Build factor_survey_vector with clean levels\n",
    "survey_vector <- c(\"M\", \"F\", \"F\", \"M\", \"M\")\n",
    "factor_survey_vector <- factor(survey_vector)\n",
    "levels(factor_survey_vector) <- c(\"Female\", \"Male\")\n",
    "factor_survey_vector"
   ]
  },
  {
   "cell_type": "code",
   "execution_count": 55,
   "metadata": {},
   "outputs": [
    {
     "data": {
      "text/plain": [
       "   Length     Class      Mode \n",
       "        5 character character "
      ]
     },
     "metadata": {},
     "output_type": "display_data"
    }
   ],
   "source": [
    "# Generate summary for survey_vector\n",
    "summary(survey_vector)"
   ]
  },
  {
   "cell_type": "code",
   "execution_count": 56,
   "metadata": {},
   "outputs": [
    {
     "data": {
      "text/html": [
       "<dl class=dl-horizontal>\n",
       "\t<dt>Female</dt>\n",
       "\t\t<dd>2</dd>\n",
       "\t<dt>Male</dt>\n",
       "\t\t<dd>3</dd>\n",
       "</dl>\n"
      ],
      "text/latex": [
       "\\begin{description*}\n",
       "\\item[Female] 2\n",
       "\\item[Male] 3\n",
       "\\end{description*}\n"
      ],
      "text/markdown": [
       "Female\n",
       ":   2Male\n",
       ":   3\n",
       "\n"
      ],
      "text/plain": [
       "Female   Male \n",
       "     2      3 "
      ]
     },
     "metadata": {},
     "output_type": "display_data"
    }
   ],
   "source": [
    "# Generate summary for factor_survey_vector\n",
    "summary(factor_survey_vector)"
   ]
  },
  {
   "cell_type": "code",
   "execution_count": 58,
   "metadata": {},
   "outputs": [],
   "source": [
    "# Build factor_survey_vector with clean levels\n",
    "survey_vector <- c(\"M\", \"F\", \"F\", \"M\", \"M\")\n",
    "factor_survey_vector <- factor(survey_vector)\n"
   ]
  },
  {
   "cell_type": "code",
   "execution_count": 59,
   "metadata": {},
   "outputs": [
    {
     "data": {
      "text/html": [
       "<ol class=list-inline>\n",
       "\t<li>M</li>\n",
       "\t<li>F</li>\n",
       "\t<li>F</li>\n",
       "\t<li>M</li>\n",
       "\t<li>M</li>\n",
       "</ol>\n",
       "\n",
       "<details>\n",
       "\t<summary style=display:list-item;cursor:pointer>\n",
       "\t\t<strong>Levels</strong>:\n",
       "\t</summary>\n",
       "\t<ol class=list-inline>\n",
       "\t\t<li>'F'</li>\n",
       "\t\t<li>'M'</li>\n",
       "\t</ol>\n",
       "</details>"
      ],
      "text/latex": [
       "\\begin{enumerate*}\n",
       "\\item M\n",
       "\\item F\n",
       "\\item F\n",
       "\\item M\n",
       "\\item M\n",
       "\\end{enumerate*}\n",
       "\n",
       "\\emph{Levels}: \\begin{enumerate*}\n",
       "\\item 'F'\n",
       "\\item 'M'\n",
       "\\end{enumerate*}\n"
      ],
      "text/markdown": [
       "1. M\n",
       "2. F\n",
       "3. F\n",
       "4. M\n",
       "5. M\n",
       "\n",
       "\n",
       "\n",
       "**Levels**: 1. 'F'\n",
       "2. 'M'\n",
       "\n",
       "\n"
      ],
      "text/plain": [
       "[1] M F F M M\n",
       "Levels: F M"
      ]
     },
     "metadata": {},
     "output_type": "display_data"
    }
   ],
   "source": [
    "factor_survey_vector"
   ]
  },
  {
   "cell_type": "code",
   "execution_count": 60,
   "metadata": {},
   "outputs": [
    {
     "data": {
      "text/html": [
       "<ol class=list-inline>\n",
       "\t<li>'F'</li>\n",
       "\t<li>'M'</li>\n",
       "</ol>\n"
      ],
      "text/latex": [
       "\\begin{enumerate*}\n",
       "\\item 'F'\n",
       "\\item 'M'\n",
       "\\end{enumerate*}\n"
      ],
      "text/markdown": [
       "1. 'F'\n",
       "2. 'M'\n",
       "\n",
       "\n"
      ],
      "text/plain": [
       "[1] \"F\" \"M\""
      ]
     },
     "metadata": {},
     "output_type": "display_data"
    }
   ],
   "source": [
    "levels(factor_survey_vector)"
   ]
  },
  {
   "cell_type": "code",
   "execution_count": 61,
   "metadata": {},
   "outputs": [],
   "source": [
    "levels(factor_survey_vector) <- c(\"Female\", \"Male\")"
   ]
  },
  {
   "cell_type": "code",
   "execution_count": 62,
   "metadata": {},
   "outputs": [],
   "source": [
    "# Male\n",
    "male <- factor_survey_vector[1]"
   ]
  },
  {
   "cell_type": "code",
   "execution_count": 63,
   "metadata": {},
   "outputs": [],
   "source": [
    "# Female\n",
    "female <- factor_survey_vector[2]"
   ]
  },
  {
   "cell_type": "code",
   "execution_count": 64,
   "metadata": {},
   "outputs": [
    {
     "name": "stderr",
     "output_type": "stream",
     "text": [
      "Warning message in Ops.factor(male, female):\n",
      "\"'>' not meaningful for factors\""
     ]
    },
    {
     "data": {
      "text/html": [
       "&lt;NA&gt;"
      ],
      "text/latex": [
       "<NA>"
      ],
      "text/markdown": [
       "&lt;NA&gt;"
      ],
      "text/plain": [
       "[1] NA"
      ]
     },
     "metadata": {},
     "output_type": "display_data"
    }
   ],
   "source": [
    "# Battle of the sexes: Male 'larger' than female?\n",
    "male > female"
   ]
  },
  {
   "cell_type": "markdown",
   "metadata": {},
   "source": [
    "### Ordered factors\n",
    "***\n",
    "* Since \"Male\" and \"Female\" are unordered (or nominal) factor levels, R returns a warning message, telling you that the greater than operator is not meaningful. As seen before, R attaches an equal value to the levels for such factors.\n",
    "***\n",
    "* But this is not always the case! Sometimes you will also deal with factors that do have a natural ordering between its categories. If this is the case, we have to make sure that we pass this information to R...\n",
    "***\n",
    "\n",
    "* Let us say that you are leading a research team of five data analysts and that you want to evaluate their performance. To do this, you track their speed, evaluate each analyst as \"slow\", \"fast\" or \"insane\", and save the results in speed_vector.\n",
    "***\n",
    "\n",
    "* By default, the function **factor() transforms speed_vector into an unordered factor**. To create an ordered factor, you have to add two additional arguments: **ordered and levels**.\n",
    "\n",
    "```\n",
    "factor(some_vector,\n",
    "       ordered = TRUE,\n",
    "       levels = c(\"lev1\", \"lev2\" ...))\n",
    "```\n"
   ]
  },
  {
   "cell_type": "code",
   "execution_count": 65,
   "metadata": {},
   "outputs": [],
   "source": [
    "# Create speed_vector\n",
    "speed_vector <- c(\"fast\", \"slow\", \"slow\", \"fast\", \"insane\")"
   ]
  },
  {
   "cell_type": "code",
   "execution_count": 66,
   "metadata": {},
   "outputs": [],
   "source": [
    "# Convert speed_vector to ordered factor vector\n",
    "factor_speed_vector <- factor(speed_vector,ordered= TRUE,levels=c(\"slow\", \"fast\", \"insane\"))"
   ]
  },
  {
   "cell_type": "code",
   "execution_count": 67,
   "metadata": {},
   "outputs": [
    {
     "data": {
      "text/html": [
       "<ol class=list-inline>\n",
       "\t<li>fast</li>\n",
       "\t<li>slow</li>\n",
       "\t<li>slow</li>\n",
       "\t<li>fast</li>\n",
       "\t<li>insane</li>\n",
       "</ol>\n",
       "\n",
       "<details>\n",
       "\t<summary style=display:list-item;cursor:pointer>\n",
       "\t\t<strong>Levels</strong>:\n",
       "\t</summary>\n",
       "\t<ol class=list-inline>\n",
       "\t\t<li>'slow'</li>\n",
       "\t\t<li>'fast'</li>\n",
       "\t\t<li>'insane'</li>\n",
       "\t</ol>\n",
       "</details>"
      ],
      "text/latex": [
       "\\begin{enumerate*}\n",
       "\\item fast\n",
       "\\item slow\n",
       "\\item slow\n",
       "\\item fast\n",
       "\\item insane\n",
       "\\end{enumerate*}\n",
       "\n",
       "\\emph{Levels}: \\begin{enumerate*}\n",
       "\\item 'slow'\n",
       "\\item 'fast'\n",
       "\\item 'insane'\n",
       "\\end{enumerate*}\n"
      ],
      "text/markdown": [
       "1. fast\n",
       "2. slow\n",
       "3. slow\n",
       "4. fast\n",
       "5. insane\n",
       "\n",
       "\n",
       "\n",
       "**Levels**: 1. 'slow'\n",
       "2. 'fast'\n",
       "3. 'insane'\n",
       "\n",
       "\n"
      ],
      "text/plain": [
       "[1] fast   slow   slow   fast   insane\n",
       "Levels: slow < fast < insane"
      ]
     },
     "metadata": {},
     "output_type": "display_data"
    },
    {
     "data": {
      "text/html": [
       "<dl class=dl-horizontal>\n",
       "\t<dt>slow</dt>\n",
       "\t\t<dd>2</dd>\n",
       "\t<dt>fast</dt>\n",
       "\t\t<dd>2</dd>\n",
       "\t<dt>insane</dt>\n",
       "\t\t<dd>1</dd>\n",
       "</dl>\n"
      ],
      "text/latex": [
       "\\begin{description*}\n",
       "\\item[slow] 2\n",
       "\\item[fast] 2\n",
       "\\item[insane] 1\n",
       "\\end{description*}\n"
      ],
      "text/markdown": [
       "slow\n",
       ":   2fast\n",
       ":   2insane\n",
       ":   1\n",
       "\n"
      ],
      "text/plain": [
       "  slow   fast insane \n",
       "     2      2      1 "
      ]
     },
     "metadata": {},
     "output_type": "display_data"
    }
   ],
   "source": [
    "# Print factor_speed_vector\n",
    "factor_speed_vector\n",
    "summary(factor_speed_vector)"
   ]
  },
  {
   "cell_type": "code",
   "execution_count": 68,
   "metadata": {},
   "outputs": [],
   "source": [
    "# Comparing ordered factors\n",
    "# Create factor_speed_vector\n",
    "speed_vector <- c(\"fast\", \"slow\", \"slow\", \"fast\", \"insane\")\n",
    "factor_speed_vector <- factor(speed_vector, ordered = TRUE, levels = c(\"slow\", \"fast\", \"insane\"))"
   ]
  },
  {
   "cell_type": "code",
   "execution_count": 72,
   "metadata": {},
   "outputs": [],
   "source": [
    "# Factor value for second data analyst\n",
    "da2 <- factor_speed_vector[2]"
   ]
  },
  {
   "cell_type": "code",
   "execution_count": 73,
   "metadata": {},
   "outputs": [],
   "source": [
    "# Factor value for fifth data analyst\n",
    "da5 <- factor_speed_vector[5]"
   ]
  },
  {
   "cell_type": "code",
   "execution_count": 74,
   "metadata": {},
   "outputs": [
    {
     "data": {
      "text/html": [
       "FALSE"
      ],
      "text/latex": [
       "FALSE"
      ],
      "text/markdown": [
       "FALSE"
      ],
      "text/plain": [
       "[1] FALSE"
      ]
     },
     "metadata": {},
     "output_type": "display_data"
    }
   ],
   "source": [
    "# Is data analyst 2 faster than data analyst 5?\n",
    "da2 > da5"
   ]
  },
  {
   "cell_type": "markdown",
   "metadata": {
    "collapsed": true
   },
   "source": [
    "# Dataframes in R\n",
    "\n",
    "* A data frame has the variables of a data set as columns and the observations as rows.\n",
    "\n",
    "* head and tail of a dataframe - \n",
    "```\n",
    "head(mtcars)\n",
    "tail(mtcars)\n",
    "```\n",
    "\n",
    "* structure of dataframe - get a rapid overview of your data is the function str(). The function str() shows you the structure of your data set. \n",
    "```\n",
    "str(mtcars)\n",
    "```\n",
    "\n"
   ]
  },
  {
   "cell_type": "code",
   "execution_count": 77,
   "metadata": {},
   "outputs": [
    {
     "data": {
      "text/html": [
       "<table>\n",
       "<thead><tr><th scope=col>name</th><th scope=col>type</th><th scope=col>diameter</th><th scope=col>rotation</th><th scope=col>rings</th></tr></thead>\n",
       "<tbody>\n",
       "\t<tr><td>Mercury           </td><td>Terrestrial planet</td><td> 0.382            </td><td>  58.64           </td><td>FALSE             </td></tr>\n",
       "\t<tr><td>Venus             </td><td>Terrestrial planet</td><td> 0.949            </td><td>-243.02           </td><td>FALSE             </td></tr>\n",
       "\t<tr><td>Earth             </td><td>Terrestrial planet</td><td> 1.000            </td><td>   1.00           </td><td>FALSE             </td></tr>\n",
       "\t<tr><td>Mars              </td><td>Terrestrial planet</td><td> 0.532            </td><td>   1.03           </td><td>FALSE             </td></tr>\n",
       "\t<tr><td>Jupiter           </td><td>Gas giant         </td><td>11.209            </td><td>   0.41           </td><td> TRUE             </td></tr>\n",
       "\t<tr><td>Saturn            </td><td>Gas giant         </td><td> 9.449            </td><td>   0.43           </td><td> TRUE             </td></tr>\n",
       "\t<tr><td>Uranus            </td><td>Gas giant         </td><td> 4.007            </td><td>  -0.72           </td><td> TRUE             </td></tr>\n",
       "\t<tr><td>Neptune           </td><td>Gas giant         </td><td> 3.883            </td><td>   0.67           </td><td> TRUE             </td></tr>\n",
       "</tbody>\n",
       "</table>\n"
      ],
      "text/latex": [
       "\\begin{tabular}{r|lllll}\n",
       " name & type & diameter & rotation & rings\\\\\n",
       "\\hline\n",
       "\t Mercury            & Terrestrial planet &  0.382             &   58.64            & FALSE             \\\\\n",
       "\t Venus              & Terrestrial planet &  0.949             & -243.02            & FALSE             \\\\\n",
       "\t Earth              & Terrestrial planet &  1.000             &    1.00            & FALSE             \\\\\n",
       "\t Mars               & Terrestrial planet &  0.532             &    1.03            & FALSE             \\\\\n",
       "\t Jupiter            & Gas giant          & 11.209             &    0.41            &  TRUE             \\\\\n",
       "\t Saturn             & Gas giant          &  9.449             &    0.43            &  TRUE             \\\\\n",
       "\t Uranus             & Gas giant          &  4.007             &   -0.72            &  TRUE             \\\\\n",
       "\t Neptune            & Gas giant          &  3.883             &    0.67            &  TRUE             \\\\\n",
       "\\end{tabular}\n"
      ],
      "text/markdown": [
       "\n",
       "| name | type | diameter | rotation | rings |\n",
       "|---|---|---|---|---|\n",
       "| Mercury            | Terrestrial planet |  0.382             |   58.64            | FALSE              |\n",
       "| Venus              | Terrestrial planet |  0.949             | -243.02            | FALSE              |\n",
       "| Earth              | Terrestrial planet |  1.000             |    1.00            | FALSE              |\n",
       "| Mars               | Terrestrial planet |  0.532             |    1.03            | FALSE              |\n",
       "| Jupiter            | Gas giant          | 11.209             |    0.41            |  TRUE              |\n",
       "| Saturn             | Gas giant          |  9.449             |    0.43            |  TRUE              |\n",
       "| Uranus             | Gas giant          |  4.007             |   -0.72            |  TRUE              |\n",
       "| Neptune            | Gas giant          |  3.883             |    0.67            |  TRUE              |\n",
       "\n"
      ],
      "text/plain": [
       "  name    type               diameter rotation rings\n",
       "1 Mercury Terrestrial planet  0.382     58.64  FALSE\n",
       "2 Venus   Terrestrial planet  0.949   -243.02  FALSE\n",
       "3 Earth   Terrestrial planet  1.000      1.00  FALSE\n",
       "4 Mars    Terrestrial planet  0.532      1.03  FALSE\n",
       "5 Jupiter Gas giant          11.209      0.41   TRUE\n",
       "6 Saturn  Gas giant           9.449      0.43   TRUE\n",
       "7 Uranus  Gas giant           4.007     -0.72   TRUE\n",
       "8 Neptune Gas giant           3.883      0.67   TRUE"
      ]
     },
     "metadata": {},
     "output_type": "display_data"
    },
    {
     "name": "stdout",
     "output_type": "stream",
     "text": [
      "     name               type diameter rotation rings\n",
      "1 Mercury Terrestrial planet    0.382    58.64 FALSE\n",
      "2   Venus Terrestrial planet    0.949  -243.02 FALSE\n",
      "3   Earth Terrestrial planet    1.000     1.00 FALSE\n",
      "4    Mars Terrestrial planet    0.532     1.03 FALSE\n",
      "5 Jupiter          Gas giant   11.209     0.41  TRUE\n",
      "6  Saturn          Gas giant    9.449     0.43  TRUE\n",
      "7  Uranus          Gas giant    4.007    -0.72  TRUE\n",
      "8 Neptune          Gas giant    3.883     0.67  TRUE\n"
     ]
    }
   ],
   "source": [
    "# Create a Dataframe\n",
    "\n",
    "# Definition of vectors\n",
    "name <- c(\"Mercury\", \"Venus\", \"Earth\", \"Mars\", \"Jupiter\", \"Saturn\", \"Uranus\", \"Neptune\")\n",
    "type <- c(\"Terrestrial planet\", \"Terrestrial planet\", \"Terrestrial planet\", \n",
    "          \"Terrestrial planet\", \"Gas giant\", \"Gas giant\", \"Gas giant\", \"Gas giant\")\n",
    "diameter <- c(0.382, 0.949, 1, 0.532, 11.209, 9.449, 4.007, 3.883)\n",
    "rotation <- c(58.64, -243.02, 1, 1.03, 0.41, 0.43, -0.72, 0.67)\n",
    "rings <- c(FALSE, FALSE, FALSE, FALSE, TRUE, TRUE, TRUE, TRUE)\n",
    "\n",
    "# Create a data frame from the vectors\n",
    "planets_df <- data.frame(name,type,diameter,rotation,rings)\n",
    "planets_df\n",
    "print(planets_df)"
   ]
  },
  {
   "cell_type": "code",
   "execution_count": 78,
   "metadata": {},
   "outputs": [
    {
     "name": "stdout",
     "output_type": "stream",
     "text": [
      "'data.frame':\t8 obs. of  5 variables:\n",
      " $ name    : Factor w/ 8 levels \"Earth\",\"Jupiter\",..: 4 8 1 3 2 6 7 5\n",
      " $ type    : Factor w/ 2 levels \"Gas giant\",\"Terrestrial planet\": 2 2 2 2 1 1 1 1\n",
      " $ diameter: num  0.382 0.949 1 0.532 11.209 ...\n",
      " $ rotation: num  58.64 -243.02 1 1.03 0.41 ...\n",
      " $ rings   : logi  FALSE FALSE FALSE FALSE TRUE TRUE ...\n"
     ]
    }
   ],
   "source": [
    "# check the structure of planets_df\n",
    "str(planets_df)"
   ]
  },
  {
   "cell_type": "code",
   "execution_count": 79,
   "metadata": {},
   "outputs": [
    {
     "name": "stdout",
     "output_type": "stream",
     "text": [
      "[1] 0.382\n"
     ]
    }
   ],
   "source": [
    "# Print out diameter of Mercury (row 1, column 3)\n",
    "print(planets_df[1,3])"
   ]
  },
  {
   "cell_type": "code",
   "execution_count": 80,
   "metadata": {},
   "outputs": [
    {
     "name": "stdout",
     "output_type": "stream",
     "text": [
      "  name               type diameter rotation rings\n",
      "4 Mars Terrestrial planet    0.532     1.03 FALSE\n"
     ]
    }
   ],
   "source": [
    "# Print out data for Mars (entire fourth row)\n",
    "print(planets_df[4,])"
   ]
  },
  {
   "cell_type": "code",
   "execution_count": 81,
   "metadata": {},
   "outputs": [
    {
     "data": {
      "text/html": [
       "<ol class=list-inline>\n",
       "\t<li>0.382</li>\n",
       "\t<li>0.949</li>\n",
       "\t<li>1</li>\n",
       "\t<li>0.532</li>\n",
       "\t<li>11.209</li>\n",
       "</ol>\n"
      ],
      "text/latex": [
       "\\begin{enumerate*}\n",
       "\\item 0.382\n",
       "\\item 0.949\n",
       "\\item 1\n",
       "\\item 0.532\n",
       "\\item 11.209\n",
       "\\end{enumerate*}\n"
      ],
      "text/markdown": [
       "1. 0.382\n",
       "2. 0.949\n",
       "3. 1\n",
       "4. 0.532\n",
       "5. 11.209\n",
       "\n",
       "\n"
      ],
      "text/plain": [
       "[1]  0.382  0.949  1.000  0.532 11.209"
      ]
     },
     "metadata": {},
     "output_type": "display_data"
    },
    {
     "data": {
      "text/html": [
       "<ol class=list-inline>\n",
       "\t<li>0.382</li>\n",
       "\t<li>0.949</li>\n",
       "\t<li>1</li>\n",
       "\t<li>0.532</li>\n",
       "\t<li>11.209</li>\n",
       "</ol>\n"
      ],
      "text/latex": [
       "\\begin{enumerate*}\n",
       "\\item 0.382\n",
       "\\item 0.949\n",
       "\\item 1\n",
       "\\item 0.532\n",
       "\\item 11.209\n",
       "\\end{enumerate*}\n"
      ],
      "text/markdown": [
       "1. 0.382\n",
       "2. 0.949\n",
       "3. 1\n",
       "4. 0.532\n",
       "5. 11.209\n",
       "\n",
       "\n"
      ],
      "text/plain": [
       "[1]  0.382  0.949  1.000  0.532 11.209"
      ]
     },
     "metadata": {},
     "output_type": "display_data"
    }
   ],
   "source": [
    "# Select a dataframe with columns name\n",
    "\n",
    "# Select first 5 values of diameter column\n",
    "planets_df[1:5,\"diameter\"]\n",
    "planets_df[1:5,3]"
   ]
  },
  {
   "cell_type": "markdown",
   "metadata": {},
   "source": [
    "* However, there is a short-cut. If your columns have names, you can use the $ sign"
   ]
  },
  {
   "cell_type": "code",
   "execution_count": 83,
   "metadata": {},
   "outputs": [
    {
     "data": {
      "text/html": [
       "<ol class=list-inline>\n",
       "\t<li>FALSE</li>\n",
       "\t<li>FALSE</li>\n",
       "\t<li>FALSE</li>\n",
       "\t<li>FALSE</li>\n",
       "\t<li>TRUE</li>\n",
       "\t<li>TRUE</li>\n",
       "\t<li>TRUE</li>\n",
       "\t<li>TRUE</li>\n",
       "</ol>\n"
      ],
      "text/latex": [
       "\\begin{enumerate*}\n",
       "\\item FALSE\n",
       "\\item FALSE\n",
       "\\item FALSE\n",
       "\\item FALSE\n",
       "\\item TRUE\n",
       "\\item TRUE\n",
       "\\item TRUE\n",
       "\\item TRUE\n",
       "\\end{enumerate*}\n"
      ],
      "text/markdown": [
       "1. FALSE\n",
       "2. FALSE\n",
       "3. FALSE\n",
       "4. FALSE\n",
       "5. TRUE\n",
       "6. TRUE\n",
       "7. TRUE\n",
       "8. TRUE\n",
       "\n",
       "\n"
      ],
      "text/plain": [
       "[1] FALSE FALSE FALSE FALSE  TRUE  TRUE  TRUE  TRUE"
      ]
     },
     "metadata": {},
     "output_type": "display_data"
    },
    {
     "data": {
      "text/html": [
       "<ol class=list-inline>\n",
       "\t<li>FALSE</li>\n",
       "\t<li>FALSE</li>\n",
       "\t<li>FALSE</li>\n",
       "\t<li>FALSE</li>\n",
       "\t<li>TRUE</li>\n",
       "\t<li>TRUE</li>\n",
       "\t<li>TRUE</li>\n",
       "\t<li>TRUE</li>\n",
       "</ol>\n"
      ],
      "text/latex": [
       "\\begin{enumerate*}\n",
       "\\item FALSE\n",
       "\\item FALSE\n",
       "\\item FALSE\n",
       "\\item FALSE\n",
       "\\item TRUE\n",
       "\\item TRUE\n",
       "\\item TRUE\n",
       "\\item TRUE\n",
       "\\end{enumerate*}\n"
      ],
      "text/markdown": [
       "1. FALSE\n",
       "2. FALSE\n",
       "3. FALSE\n",
       "4. FALSE\n",
       "5. TRUE\n",
       "6. TRUE\n",
       "7. TRUE\n",
       "8. TRUE\n",
       "\n",
       "\n"
      ],
      "text/plain": [
       "[1] FALSE FALSE FALSE FALSE  TRUE  TRUE  TRUE  TRUE"
      ]
     },
     "metadata": {},
     "output_type": "display_data"
    }
   ],
   "source": [
    "# Select the rings variable from planets_df\n",
    "rings_vector <- planets_df[,\"rings\"]\n",
    "rings_vector1 <- planets_df$rings\n",
    "rings_vector\n",
    "rings_vector1"
   ]
  },
  {
   "cell_type": "code",
   "execution_count": 84,
   "metadata": {},
   "outputs": [
    {
     "data": {
      "text/html": [
       "<ol class=list-inline>\n",
       "\t<li>Jupiter</li>\n",
       "\t<li>Saturn</li>\n",
       "\t<li>Uranus</li>\n",
       "\t<li>Neptune</li>\n",
       "</ol>\n",
       "\n",
       "<details>\n",
       "\t<summary style=display:list-item;cursor:pointer>\n",
       "\t\t<strong>Levels</strong>:\n",
       "\t</summary>\n",
       "\t<ol class=list-inline>\n",
       "\t\t<li>'Earth'</li>\n",
       "\t\t<li>'Jupiter'</li>\n",
       "\t\t<li>'Mars'</li>\n",
       "\t\t<li>'Mercury'</li>\n",
       "\t\t<li>'Neptune'</li>\n",
       "\t\t<li>'Saturn'</li>\n",
       "\t\t<li>'Uranus'</li>\n",
       "\t\t<li>'Venus'</li>\n",
       "\t</ol>\n",
       "</details>"
      ],
      "text/latex": [
       "\\begin{enumerate*}\n",
       "\\item Jupiter\n",
       "\\item Saturn\n",
       "\\item Uranus\n",
       "\\item Neptune\n",
       "\\end{enumerate*}\n",
       "\n",
       "\\emph{Levels}: \\begin{enumerate*}\n",
       "\\item 'Earth'\n",
       "\\item 'Jupiter'\n",
       "\\item 'Mars'\n",
       "\\item 'Mercury'\n",
       "\\item 'Neptune'\n",
       "\\item 'Saturn'\n",
       "\\item 'Uranus'\n",
       "\\item 'Venus'\n",
       "\\end{enumerate*}\n"
      ],
      "text/markdown": [
       "1. Jupiter\n",
       "2. Saturn\n",
       "3. Uranus\n",
       "4. Neptune\n",
       "\n",
       "\n",
       "\n",
       "**Levels**: 1. 'Earth'\n",
       "2. 'Jupiter'\n",
       "3. 'Mars'\n",
       "4. 'Mercury'\n",
       "5. 'Neptune'\n",
       "6. 'Saturn'\n",
       "7. 'Uranus'\n",
       "8. 'Venus'\n",
       "\n",
       "\n"
      ],
      "text/plain": [
       "[1] Jupiter Saturn  Uranus  Neptune\n",
       "Levels: Earth Jupiter Mars Mercury Neptune Saturn Uranus Venus"
      ]
     },
     "metadata": {},
     "output_type": "display_data"
    }
   ],
   "source": [
    "# Adapt the code to select all columns for planets with rings\n",
    "planets_df[rings_vector, \"name\"]"
   ]
  },
  {
   "cell_type": "code",
   "execution_count": 87,
   "metadata": {},
   "outputs": [
    {
     "data": {
      "text/html": [
       "<table>\n",
       "<thead><tr><th></th><th scope=col>name</th><th scope=col>type</th><th scope=col>diameter</th><th scope=col>rotation</th><th scope=col>rings</th></tr></thead>\n",
       "<tbody>\n",
       "\t<tr><th scope=row>5</th><td>Jupiter  </td><td>Gas giant</td><td>11.209   </td><td> 0.41    </td><td>TRUE     </td></tr>\n",
       "\t<tr><th scope=row>6</th><td>Saturn   </td><td>Gas giant</td><td> 9.449   </td><td> 0.43    </td><td>TRUE     </td></tr>\n",
       "\t<tr><th scope=row>7</th><td>Uranus   </td><td>Gas giant</td><td> 4.007   </td><td>-0.72    </td><td>TRUE     </td></tr>\n",
       "\t<tr><th scope=row>8</th><td>Neptune  </td><td>Gas giant</td><td> 3.883   </td><td> 0.67    </td><td>TRUE     </td></tr>\n",
       "</tbody>\n",
       "</table>\n"
      ],
      "text/latex": [
       "\\begin{tabular}{r|lllll}\n",
       "  & name & type & diameter & rotation & rings\\\\\n",
       "\\hline\n",
       "\t5 & Jupiter   & Gas giant & 11.209    &  0.41     & TRUE     \\\\\n",
       "\t6 & Saturn    & Gas giant &  9.449    &  0.43     & TRUE     \\\\\n",
       "\t7 & Uranus    & Gas giant &  4.007    & -0.72     & TRUE     \\\\\n",
       "\t8 & Neptune   & Gas giant &  3.883    &  0.67     & TRUE     \\\\\n",
       "\\end{tabular}\n"
      ],
      "text/markdown": [
       "\n",
       "| <!--/--> | name | type | diameter | rotation | rings |\n",
       "|---|---|---|---|---|---|\n",
       "| 5 | Jupiter   | Gas giant | 11.209    |  0.41     | TRUE      |\n",
       "| 6 | Saturn    | Gas giant |  9.449    |  0.43     | TRUE      |\n",
       "| 7 | Uranus    | Gas giant |  4.007    | -0.72     | TRUE      |\n",
       "| 8 | Neptune   | Gas giant |  3.883    |  0.67     | TRUE      |\n",
       "\n"
      ],
      "text/plain": [
       "  name    type      diameter rotation rings\n",
       "5 Jupiter Gas giant 11.209    0.41    TRUE \n",
       "6 Saturn  Gas giant  9.449    0.43    TRUE \n",
       "7 Uranus  Gas giant  4.007   -0.72    TRUE \n",
       "8 Neptune Gas giant  3.883    0.67    TRUE "
      ]
     },
     "metadata": {},
     "output_type": "display_data"
    }
   ],
   "source": [
    "# Adapt the code to select all columns for planets with rings\n",
    "planets_df[rings_vector, ]"
   ]
  },
  {
   "cell_type": "code",
   "execution_count": 35,
   "metadata": {},
   "outputs": [
    {
     "data": {
      "text/html": [
       "<ol class=list-inline>\n",
       "\t<li>FALSE</li>\n",
       "\t<li>FALSE</li>\n",
       "\t<li>FALSE</li>\n",
       "\t<li>FALSE</li>\n",
       "\t<li>TRUE</li>\n",
       "\t<li>TRUE</li>\n",
       "\t<li>TRUE</li>\n",
       "\t<li>TRUE</li>\n",
       "</ol>\n"
      ],
      "text/latex": [
       "\\begin{enumerate*}\n",
       "\\item FALSE\n",
       "\\item FALSE\n",
       "\\item FALSE\n",
       "\\item FALSE\n",
       "\\item TRUE\n",
       "\\item TRUE\n",
       "\\item TRUE\n",
       "\\item TRUE\n",
       "\\end{enumerate*}\n"
      ],
      "text/markdown": [
       "1. FALSE\n",
       "2. FALSE\n",
       "3. FALSE\n",
       "4. FALSE\n",
       "5. TRUE\n",
       "6. TRUE\n",
       "7. TRUE\n",
       "8. TRUE\n",
       "\n",
       "\n"
      ],
      "text/plain": [
       "[1] FALSE FALSE FALSE FALSE  TRUE  TRUE  TRUE  TRUE"
      ]
     },
     "metadata": {},
     "output_type": "display_data"
    }
   ],
   "source": [
    "rings_vector"
   ]
  },
  {
   "cell_type": "code",
   "execution_count": 88,
   "metadata": {},
   "outputs": [
    {
     "data": {
      "text/html": [
       "<table>\n",
       "<thead><tr><th></th><th scope=col>name</th><th scope=col>type</th><th scope=col>diameter</th><th scope=col>rotation</th><th scope=col>rings</th></tr></thead>\n",
       "<tbody>\n",
       "\t<tr><th scope=row>1</th><td>Mercury           </td><td>Terrestrial planet</td><td>0.382             </td><td>  58.64           </td><td>FALSE             </td></tr>\n",
       "\t<tr><th scope=row>2</th><td>Venus             </td><td>Terrestrial planet</td><td>0.949             </td><td>-243.02           </td><td>FALSE             </td></tr>\n",
       "\t<tr><th scope=row>4</th><td>Mars              </td><td>Terrestrial planet</td><td>0.532             </td><td>   1.03           </td><td>FALSE             </td></tr>\n",
       "</tbody>\n",
       "</table>\n"
      ],
      "text/latex": [
       "\\begin{tabular}{r|lllll}\n",
       "  & name & type & diameter & rotation & rings\\\\\n",
       "\\hline\n",
       "\t1 & Mercury            & Terrestrial planet & 0.382              &   58.64            & FALSE             \\\\\n",
       "\t2 & Venus              & Terrestrial planet & 0.949              & -243.02            & FALSE             \\\\\n",
       "\t4 & Mars               & Terrestrial planet & 0.532              &    1.03            & FALSE             \\\\\n",
       "\\end{tabular}\n"
      ],
      "text/markdown": [
       "\n",
       "| <!--/--> | name | type | diameter | rotation | rings |\n",
       "|---|---|---|---|---|---|\n",
       "| 1 | Mercury            | Terrestrial planet | 0.382              |   58.64            | FALSE              |\n",
       "| 2 | Venus              | Terrestrial planet | 0.949              | -243.02            | FALSE              |\n",
       "| 4 | Mars               | Terrestrial planet | 0.532              |    1.03            | FALSE              |\n",
       "\n"
      ],
      "text/plain": [
       "  name    type               diameter rotation rings\n",
       "1 Mercury Terrestrial planet 0.382      58.64  FALSE\n",
       "2 Venus   Terrestrial planet 0.949    -243.02  FALSE\n",
       "4 Mars    Terrestrial planet 0.532       1.03  FALSE"
      ]
     },
     "metadata": {},
     "output_type": "display_data"
    }
   ],
   "source": [
    "# Subset in dataframes\n",
    "\n",
    "# Select planets with diameter < 1\n",
    "subset(planets_df,diameter < 1)"
   ]
  },
  {
   "cell_type": "code",
   "execution_count": 88,
   "metadata": {},
   "outputs": [
    {
     "data": {
      "text/html": [
       "<table>\n",
       "<caption>A data.frame: 4 x 5</caption>\n",
       "<thead>\n",
       "\t<tr><th></th><th scope=col>name</th><th scope=col>type</th><th scope=col>diameter</th><th scope=col>rotation</th><th scope=col>rings</th></tr>\n",
       "\t<tr><th></th><th scope=col>&lt;fct&gt;</th><th scope=col>&lt;fct&gt;</th><th scope=col>&lt;dbl&gt;</th><th scope=col>&lt;dbl&gt;</th><th scope=col>&lt;lgl&gt;</th></tr>\n",
       "</thead>\n",
       "<tbody>\n",
       "\t<tr><th scope=row>5</th><td>Jupiter</td><td>Gas giant</td><td>11.209</td><td> 0.41</td><td>TRUE</td></tr>\n",
       "\t<tr><th scope=row>6</th><td>Saturn </td><td>Gas giant</td><td> 9.449</td><td> 0.43</td><td>TRUE</td></tr>\n",
       "\t<tr><th scope=row>7</th><td>Uranus </td><td>Gas giant</td><td> 4.007</td><td>-0.72</td><td>TRUE</td></tr>\n",
       "\t<tr><th scope=row>8</th><td>Neptune</td><td>Gas giant</td><td> 3.883</td><td> 0.67</td><td>TRUE</td></tr>\n",
       "</tbody>\n",
       "</table>\n"
      ],
      "text/latex": [
       "A data.frame: 4 x 5\n",
       "\\begin{tabular}{r|lllll}\n",
       "  & name & type & diameter & rotation & rings\\\\\n",
       "  & <fct> & <fct> & <dbl> & <dbl> & <lgl>\\\\\n",
       "\\hline\n",
       "\t5 & Jupiter & Gas giant & 11.209 &  0.41 & TRUE\\\\\n",
       "\t6 & Saturn  & Gas giant &  9.449 &  0.43 & TRUE\\\\\n",
       "\t7 & Uranus  & Gas giant &  4.007 & -0.72 & TRUE\\\\\n",
       "\t8 & Neptune & Gas giant &  3.883 &  0.67 & TRUE\\\\\n",
       "\\end{tabular}\n"
      ],
      "text/markdown": [
       "\n",
       "A data.frame: 4 x 5\n",
       "\n",
       "| <!--/--> | name &lt;fct&gt; | type &lt;fct&gt; | diameter &lt;dbl&gt; | rotation &lt;dbl&gt; | rings &lt;lgl&gt; |\n",
       "|---|---|---|---|---|---|\n",
       "| 5 | Jupiter | Gas giant | 11.209 |  0.41 | TRUE |\n",
       "| 6 | Saturn  | Gas giant |  9.449 |  0.43 | TRUE |\n",
       "| 7 | Uranus  | Gas giant |  4.007 | -0.72 | TRUE |\n",
       "| 8 | Neptune | Gas giant |  3.883 |  0.67 | TRUE |\n",
       "\n"
      ],
      "text/plain": [
       "  name    type      diameter rotation rings\n",
       "5 Jupiter Gas giant 11.209    0.41    TRUE \n",
       "6 Saturn  Gas giant  9.449    0.43    TRUE \n",
       "7 Uranus  Gas giant  4.007   -0.72    TRUE \n",
       "8 Neptune Gas giant  3.883    0.67    TRUE "
      ]
     },
     "metadata": {},
     "output_type": "display_data"
    },
    {
     "data": {
      "text/html": [
       "<table>\n",
       "<caption>A data.frame: 4 x 5</caption>\n",
       "<thead>\n",
       "\t<tr><th></th><th scope=col>name</th><th scope=col>type</th><th scope=col>diameter</th><th scope=col>rotation</th><th scope=col>rings</th></tr>\n",
       "\t<tr><th></th><th scope=col>&lt;fct&gt;</th><th scope=col>&lt;fct&gt;</th><th scope=col>&lt;dbl&gt;</th><th scope=col>&lt;dbl&gt;</th><th scope=col>&lt;lgl&gt;</th></tr>\n",
       "</thead>\n",
       "<tbody>\n",
       "\t<tr><th scope=row>5</th><td>Jupiter</td><td>Gas giant</td><td>11.209</td><td> 0.41</td><td>TRUE</td></tr>\n",
       "\t<tr><th scope=row>6</th><td>Saturn </td><td>Gas giant</td><td> 9.449</td><td> 0.43</td><td>TRUE</td></tr>\n",
       "\t<tr><th scope=row>7</th><td>Uranus </td><td>Gas giant</td><td> 4.007</td><td>-0.72</td><td>TRUE</td></tr>\n",
       "\t<tr><th scope=row>8</th><td>Neptune</td><td>Gas giant</td><td> 3.883</td><td> 0.67</td><td>TRUE</td></tr>\n",
       "</tbody>\n",
       "</table>\n"
      ],
      "text/latex": [
       "A data.frame: 4 x 5\n",
       "\\begin{tabular}{r|lllll}\n",
       "  & name & type & diameter & rotation & rings\\\\\n",
       "  & <fct> & <fct> & <dbl> & <dbl> & <lgl>\\\\\n",
       "\\hline\n",
       "\t5 & Jupiter & Gas giant & 11.209 &  0.41 & TRUE\\\\\n",
       "\t6 & Saturn  & Gas giant &  9.449 &  0.43 & TRUE\\\\\n",
       "\t7 & Uranus  & Gas giant &  4.007 & -0.72 & TRUE\\\\\n",
       "\t8 & Neptune & Gas giant &  3.883 &  0.67 & TRUE\\\\\n",
       "\\end{tabular}\n"
      ],
      "text/markdown": [
       "\n",
       "A data.frame: 4 x 5\n",
       "\n",
       "| <!--/--> | name &lt;fct&gt; | type &lt;fct&gt; | diameter &lt;dbl&gt; | rotation &lt;dbl&gt; | rings &lt;lgl&gt; |\n",
       "|---|---|---|---|---|---|\n",
       "| 5 | Jupiter | Gas giant | 11.209 |  0.41 | TRUE |\n",
       "| 6 | Saturn  | Gas giant |  9.449 |  0.43 | TRUE |\n",
       "| 7 | Uranus  | Gas giant |  4.007 | -0.72 | TRUE |\n",
       "| 8 | Neptune | Gas giant |  3.883 |  0.67 | TRUE |\n",
       "\n"
      ],
      "text/plain": [
       "  name    type      diameter rotation rings\n",
       "5 Jupiter Gas giant 11.209    0.41    TRUE \n",
       "6 Saturn  Gas giant  9.449    0.43    TRUE \n",
       "7 Uranus  Gas giant  4.007   -0.72    TRUE \n",
       "8 Neptune Gas giant  3.883    0.67    TRUE "
      ]
     },
     "metadata": {},
     "output_type": "display_data"
    }
   ],
   "source": [
    "# Select planets with a ring < 1\n",
    "subset(planets_df,rings)\n",
    "subset(planets_df,subset = rings)\n"
   ]
  },
  {
   "cell_type": "code",
   "execution_count": 89,
   "metadata": {},
   "outputs": [
    {
     "data": {
      "text/html": [
       "<ol class=list-inline>\n",
       "\t<li>2</li>\n",
       "\t<li>1</li>\n",
       "\t<li>3</li>\n",
       "</ol>\n"
      ],
      "text/latex": [
       "\\begin{enumerate*}\n",
       "\\item 2\n",
       "\\item 1\n",
       "\\item 3\n",
       "\\end{enumerate*}\n"
      ],
      "text/markdown": [
       "1. 2\n",
       "2. 1\n",
       "3. 3\n",
       "\n",
       "\n"
      ],
      "text/plain": [
       "[1] 2 1 3"
      ]
     },
     "metadata": {},
     "output_type": "display_data"
    }
   ],
   "source": [
    "# Sorting\n",
    "\n",
    "a <- c(100, 10, 1000)\n",
    "order(a)"
   ]
  },
  {
   "cell_type": "code",
   "execution_count": 90,
   "metadata": {},
   "outputs": [
    {
     "data": {
      "text/html": [
       "<ol class=list-inline>\n",
       "\t<li>1</li>\n",
       "\t<li>4</li>\n",
       "\t<li>2</li>\n",
       "\t<li>3</li>\n",
       "\t<li>8</li>\n",
       "\t<li>7</li>\n",
       "\t<li>6</li>\n",
       "\t<li>5</li>\n",
       "</ol>\n"
      ],
      "text/latex": [
       "\\begin{enumerate*}\n",
       "\\item 1\n",
       "\\item 4\n",
       "\\item 2\n",
       "\\item 3\n",
       "\\item 8\n",
       "\\item 7\n",
       "\\item 6\n",
       "\\item 5\n",
       "\\end{enumerate*}\n"
      ],
      "text/markdown": [
       "1. 1\n",
       "2. 4\n",
       "3. 2\n",
       "4. 3\n",
       "5. 8\n",
       "6. 7\n",
       "7. 6\n",
       "8. 5\n",
       "\n",
       "\n"
      ],
      "text/plain": [
       "[1] 1 4 2 3 8 7 6 5"
      ]
     },
     "metadata": {},
     "output_type": "display_data"
    }
   ],
   "source": [
    "# Use order() to create positions\n",
    "positions <-  order(planets_df$diameter)\n",
    "positions"
   ]
  },
  {
   "cell_type": "code",
   "execution_count": 91,
   "metadata": {},
   "outputs": [
    {
     "data": {
      "text/html": [
       "<table>\n",
       "<thead><tr><th></th><th scope=col>name</th><th scope=col>type</th><th scope=col>diameter</th><th scope=col>rotation</th><th scope=col>rings</th></tr></thead>\n",
       "<tbody>\n",
       "\t<tr><th scope=row>1</th><td>Mercury           </td><td>Terrestrial planet</td><td> 0.382            </td><td>  58.64           </td><td>FALSE             </td></tr>\n",
       "\t<tr><th scope=row>4</th><td>Mars              </td><td>Terrestrial planet</td><td> 0.532            </td><td>   1.03           </td><td>FALSE             </td></tr>\n",
       "\t<tr><th scope=row>2</th><td>Venus             </td><td>Terrestrial planet</td><td> 0.949            </td><td>-243.02           </td><td>FALSE             </td></tr>\n",
       "\t<tr><th scope=row>3</th><td>Earth             </td><td>Terrestrial planet</td><td> 1.000            </td><td>   1.00           </td><td>FALSE             </td></tr>\n",
       "\t<tr><th scope=row>8</th><td>Neptune           </td><td>Gas giant         </td><td> 3.883            </td><td>   0.67           </td><td> TRUE             </td></tr>\n",
       "\t<tr><th scope=row>7</th><td>Uranus            </td><td>Gas giant         </td><td> 4.007            </td><td>  -0.72           </td><td> TRUE             </td></tr>\n",
       "\t<tr><th scope=row>6</th><td>Saturn            </td><td>Gas giant         </td><td> 9.449            </td><td>   0.43           </td><td> TRUE             </td></tr>\n",
       "\t<tr><th scope=row>5</th><td>Jupiter           </td><td>Gas giant         </td><td>11.209            </td><td>   0.41           </td><td> TRUE             </td></tr>\n",
       "</tbody>\n",
       "</table>\n"
      ],
      "text/latex": [
       "\\begin{tabular}{r|lllll}\n",
       "  & name & type & diameter & rotation & rings\\\\\n",
       "\\hline\n",
       "\t1 & Mercury            & Terrestrial planet &  0.382             &   58.64            & FALSE             \\\\\n",
       "\t4 & Mars               & Terrestrial planet &  0.532             &    1.03            & FALSE             \\\\\n",
       "\t2 & Venus              & Terrestrial planet &  0.949             & -243.02            & FALSE             \\\\\n",
       "\t3 & Earth              & Terrestrial planet &  1.000             &    1.00            & FALSE             \\\\\n",
       "\t8 & Neptune            & Gas giant          &  3.883             &    0.67            &  TRUE             \\\\\n",
       "\t7 & Uranus             & Gas giant          &  4.007             &   -0.72            &  TRUE             \\\\\n",
       "\t6 & Saturn             & Gas giant          &  9.449             &    0.43            &  TRUE             \\\\\n",
       "\t5 & Jupiter            & Gas giant          & 11.209             &    0.41            &  TRUE             \\\\\n",
       "\\end{tabular}\n"
      ],
      "text/markdown": [
       "\n",
       "| <!--/--> | name | type | diameter | rotation | rings |\n",
       "|---|---|---|---|---|---|\n",
       "| 1 | Mercury            | Terrestrial planet |  0.382             |   58.64            | FALSE              |\n",
       "| 4 | Mars               | Terrestrial planet |  0.532             |    1.03            | FALSE              |\n",
       "| 2 | Venus              | Terrestrial planet |  0.949             | -243.02            | FALSE              |\n",
       "| 3 | Earth              | Terrestrial planet |  1.000             |    1.00            | FALSE              |\n",
       "| 8 | Neptune            | Gas giant          |  3.883             |    0.67            |  TRUE              |\n",
       "| 7 | Uranus             | Gas giant          |  4.007             |   -0.72            |  TRUE              |\n",
       "| 6 | Saturn             | Gas giant          |  9.449             |    0.43            |  TRUE              |\n",
       "| 5 | Jupiter            | Gas giant          | 11.209             |    0.41            |  TRUE              |\n",
       "\n"
      ],
      "text/plain": [
       "  name    type               diameter rotation rings\n",
       "1 Mercury Terrestrial planet  0.382     58.64  FALSE\n",
       "4 Mars    Terrestrial planet  0.532      1.03  FALSE\n",
       "2 Venus   Terrestrial planet  0.949   -243.02  FALSE\n",
       "3 Earth   Terrestrial planet  1.000      1.00  FALSE\n",
       "8 Neptune Gas giant           3.883      0.67   TRUE\n",
       "7 Uranus  Gas giant           4.007     -0.72   TRUE\n",
       "6 Saturn  Gas giant           9.449      0.43   TRUE\n",
       "5 Jupiter Gas giant          11.209      0.41   TRUE"
      ]
     },
     "metadata": {},
     "output_type": "display_data"
    }
   ],
   "source": [
    "# Use positions to sort planets_df\n",
    "planets_df[positions,]"
   ]
  },
  {
   "cell_type": "markdown",
   "metadata": {},
   "source": [
    "* **Vectors** (one dimensional array): can hold numeric, character or logical values. The elements in a vector all have the same data type.\n",
    "***\n",
    "* **Matrices** (two dimensional array): can hold numeric, character or logical values. The elements in a matrix all have the same data type.\n",
    "***\n",
    "* **Data frames** (two-dimensional objects): can hold numeric, character or logical values. Within a column all elements have the same data type, but different columns can be of different data type."
   ]
  },
  {
   "cell_type": "markdown",
   "metadata": {},
   "source": [
    "# List in R\n",
    "\n",
    "* A list in R is similar to your to-do list at work or school: the different items on that list most likely differ in length, characteristic, type of activity that has to do be done.\n",
    "***\n",
    "* A list in R allows you to gather a variety of objects under one name (that is, the name of the list) in an ordered way. These objects can be matrices, vectors, data frames, even other lists, etc. It is not even required that these objects are related to each other in any way.\n"
   ]
  },
  {
   "cell_type": "code",
   "execution_count": 92,
   "metadata": {},
   "outputs": [
    {
     "name": "stdout",
     "output_type": "stream",
     "text": [
      "[[1]]\n",
      " [1]  1  2  3  4  5  6  7  8  9 10\n",
      "\n",
      "[[2]]\n",
      "     [,1] [,2] [,3]\n",
      "[1,]    1    4    7\n",
      "[2,]    2    5    8\n",
      "[3,]    3    6    9\n",
      "\n",
      "[[3]]\n",
      "                   mpg cyl  disp  hp drat    wt  qsec vs am gear carb\n",
      "Mazda RX4         21.0   6 160.0 110 3.90 2.620 16.46  0  1    4    4\n",
      "Mazda RX4 Wag     21.0   6 160.0 110 3.90 2.875 17.02  0  1    4    4\n",
      "Datsun 710        22.8   4 108.0  93 3.85 2.320 18.61  1  1    4    1\n",
      "Hornet 4 Drive    21.4   6 258.0 110 3.08 3.215 19.44  1  0    3    1\n",
      "Hornet Sportabout 18.7   8 360.0 175 3.15 3.440 17.02  0  0    3    2\n",
      "Valiant           18.1   6 225.0 105 2.76 3.460 20.22  1  0    3    1\n",
      "Duster 360        14.3   8 360.0 245 3.21 3.570 15.84  0  0    3    4\n",
      "Merc 240D         24.4   4 146.7  62 3.69 3.190 20.00  1  0    4    2\n",
      "Merc 230          22.8   4 140.8  95 3.92 3.150 22.90  1  0    4    2\n",
      "Merc 280          19.2   6 167.6 123 3.92 3.440 18.30  1  0    4    4\n",
      "\n"
     ]
    }
   ],
   "source": [
    "# Creating a List\n",
    "\n",
    "# Vector with numerics from 1 up to 10\n",
    "my_vector <- 1:10 \n",
    "\n",
    "# Matrix with numerics from 1 up to 9\n",
    "my_matrix <- matrix(1:9, ncol = 3)\n",
    "\n",
    "# First 10 elements of the built-in data frame mtcars\n",
    "my_df <- mtcars[1:10,]\n",
    "\n",
    "# Construct list with these different elements:\n",
    "my_list <- list(my_vector, my_matrix ,my_df )\n",
    "\n",
    "print(my_list)"
   ]
  },
  {
   "cell_type": "markdown",
   "metadata": {},
   "source": [
    "### Creating a named list\n",
    "```\n",
    "my_list <- list(name1 = your_comp1, \n",
    "                name2 = your_comp2)\n",
    "```\n",
    "\n",
    "* If you want to name your lists after you've created them, you can use the names() function as you did with vectors. The following commands are fully equivalent to the assignment above:\n",
    "```\n",
    "my_list <- list(your_comp1, your_comp2)\n",
    "names(my_list) <- c(\"name1\", \"name2\")\n",
    "```"
   ]
  },
  {
   "cell_type": "code",
   "execution_count": 93,
   "metadata": {},
   "outputs": [],
   "source": [
    "# Vector with numerics from 1 up to 10\n",
    "my_vector <- 1:10 "
   ]
  },
  {
   "cell_type": "code",
   "execution_count": 94,
   "metadata": {},
   "outputs": [],
   "source": [
    "# Matrix with numerics from 1 up to 9\n",
    "my_matrix <- matrix(1:9, ncol = 3)"
   ]
  },
  {
   "cell_type": "code",
   "execution_count": 95,
   "metadata": {},
   "outputs": [],
   "source": [
    "# First 10 elements of the built-in data frame mtcars\n",
    "my_df <- mtcars[1:10,]"
   ]
  },
  {
   "cell_type": "code",
   "execution_count": 96,
   "metadata": {},
   "outputs": [],
   "source": [
    "# Adapt list() call to give the components names\n",
    "my_list <- list(my_vector, my_matrix, my_df)\n",
    "names(my_list) <- c(\"vec\", \"mat\", \"df\")"
   ]
  },
  {
   "cell_type": "code",
   "execution_count": 97,
   "metadata": {},
   "outputs": [],
   "source": [
    "# Do the same thing as the above with one line of code\n",
    "my_list <- list(vec = my_vector, mat = my_matrix, df = my_df)"
   ]
  },
  {
   "cell_type": "code",
   "execution_count": 98,
   "metadata": {},
   "outputs": [
    {
     "name": "stdout",
     "output_type": "stream",
     "text": [
      "$vec\n",
      " [1]  1  2  3  4  5  6  7  8  9 10\n",
      "\n",
      "$mat\n",
      "     [,1] [,2] [,3]\n",
      "[1,]    1    4    7\n",
      "[2,]    2    5    8\n",
      "[3,]    3    6    9\n",
      "\n",
      "$df\n",
      "                   mpg cyl  disp  hp drat    wt  qsec vs am gear carb\n",
      "Mazda RX4         21.0   6 160.0 110 3.90 2.620 16.46  0  1    4    4\n",
      "Mazda RX4 Wag     21.0   6 160.0 110 3.90 2.875 17.02  0  1    4    4\n",
      "Datsun 710        22.8   4 108.0  93 3.85 2.320 18.61  1  1    4    1\n",
      "Hornet 4 Drive    21.4   6 258.0 110 3.08 3.215 19.44  1  0    3    1\n",
      "Hornet Sportabout 18.7   8 360.0 175 3.15 3.440 17.02  0  0    3    2\n",
      "Valiant           18.1   6 225.0 105 2.76 3.460 20.22  1  0    3    1\n",
      "Duster 360        14.3   8 360.0 245 3.21 3.570 15.84  0  0    3    4\n",
      "Merc 240D         24.4   4 146.7  62 3.69 3.190 20.00  1  0    4    2\n",
      "Merc 230          22.8   4 140.8  95 3.92 3.150 22.90  1  0    4    2\n",
      "Merc 280          19.2   6 167.6 123 3.92 3.440 18.30  1  0    4    4\n",
      "\n"
     ]
    }
   ],
   "source": [
    "# Print out my_list\n",
    "print(my_list)"
   ]
  },
  {
   "cell_type": "code",
   "execution_count": 99,
   "metadata": {
    "scrolled": true
   },
   "outputs": [
    {
     "name": "stdout",
     "output_type": "stream",
     "text": [
      "                   mpg cyl  disp  hp drat    wt  qsec vs am gear carb\n",
      "Mazda RX4         21.0   6 160.0 110 3.90 2.620 16.46  0  1    4    4\n",
      "Mazda RX4 Wag     21.0   6 160.0 110 3.90 2.875 17.02  0  1    4    4\n",
      "Datsun 710        22.8   4 108.0  93 3.85 2.320 18.61  1  1    4    1\n",
      "Hornet 4 Drive    21.4   6 258.0 110 3.08 3.215 19.44  1  0    3    1\n",
      "Hornet Sportabout 18.7   8 360.0 175 3.15 3.440 17.02  0  0    3    2\n",
      "Valiant           18.1   6 225.0 105 2.76 3.460 20.22  1  0    3    1\n",
      "Duster 360        14.3   8 360.0 245 3.21 3.570 15.84  0  0    3    4\n",
      "Merc 240D         24.4   4 146.7  62 3.69 3.190 20.00  1  0    4    2\n",
      "Merc 230          22.8   4 140.8  95 3.92 3.150 22.90  1  0    4    2\n",
      "Merc 280          19.2   6 167.6 123 3.92 3.440 18.30  1  0    4    4\n",
      "                  cyl\n",
      "Mazda RX4           6\n",
      "Mazda RX4 Wag       6\n",
      "Datsun 710          4\n",
      "Hornet 4 Drive      6\n",
      "Hornet Sportabout   8\n",
      "Valiant             6\n",
      "Duster 360          8\n",
      "Merc 240D           4\n",
      "Merc 230            4\n",
      "Merc 280            6\n"
     ]
    }
   ],
   "source": [
    "# Print out df\n",
    "print(my_list[[\"df\"]])\n",
    "\n",
    "# Print the second column of df\n",
    "print(my_list[[\"df\"]][2])"
   ]
  },
  {
   "cell_type": "code",
   "execution_count": 100,
   "metadata": {},
   "outputs": [
    {
     "name": "stdout",
     "output_type": "stream",
     "text": [
      "                   mpg cyl  disp  hp drat    wt  qsec vs am gear carb\n",
      "Mazda RX4         21.0   6 160.0 110 3.90 2.620 16.46  0  1    4    4\n",
      "Mazda RX4 Wag     21.0   6 160.0 110 3.90 2.875 17.02  0  1    4    4\n",
      "Datsun 710        22.8   4 108.0  93 3.85 2.320 18.61  1  1    4    1\n",
      "Hornet 4 Drive    21.4   6 258.0 110 3.08 3.215 19.44  1  0    3    1\n",
      "Hornet Sportabout 18.7   8 360.0 175 3.15 3.440 17.02  0  0    3    2\n",
      "Valiant           18.1   6 225.0 105 2.76 3.460 20.22  1  0    3    1\n",
      "Duster 360        14.3   8 360.0 245 3.21 3.570 15.84  0  0    3    4\n",
      "Merc 240D         24.4   4 146.7  62 3.69 3.190 20.00  1  0    4    2\n",
      "Merc 230          22.8   4 140.8  95 3.92 3.150 22.90  1  0    4    2\n",
      "Merc 280          19.2   6 167.6 123 3.92 3.440 18.30  1  0    4    4\n"
     ]
    }
   ],
   "source": [
    "# Do the same thing as the above using $\n",
    "# Print out df\n",
    "print(my_list$df)\n"
   ]
  },
  {
   "cell_type": "code",
   "execution_count": 101,
   "metadata": {},
   "outputs": [
    {
     "name": "stdout",
     "output_type": "stream",
     "text": [
      "                  cyl\n",
      "Mazda RX4           6\n",
      "Mazda RX4 Wag       6\n",
      "Datsun 710          4\n",
      "Hornet 4 Drive      6\n",
      "Hornet Sportabout   8\n",
      "Valiant             6\n",
      "Duster 360          8\n",
      "Merc 240D           4\n",
      "Merc 230            4\n",
      "Merc 280            6\n"
     ]
    }
   ],
   "source": [
    "# Print the second column of df\n",
    "print(my_list$df[2])"
   ]
  },
  {
   "cell_type": "code",
   "execution_count": 102,
   "metadata": {},
   "outputs": [
    {
     "name": "stdout",
     "output_type": "stream",
     "text": [
      "              mpg cyl disp  hp drat    wt  qsec vs am gear carb\n",
      "Mazda RX4 Wag  21   6  160 110  3.9 2.875 17.02  0  1    4    4\n"
     ]
    }
   ],
   "source": [
    "# Print the second row of df\n",
    "print(my_list$df[2,])"
   ]
  },
  {
   "cell_type": "code",
   "execution_count": 103,
   "metadata": {},
   "outputs": [
    {
     "data": {
      "text/html": [
       "<ol class=list-inline>\n",
       "\t<li>'Mazda RX4'</li>\n",
       "\t<li>'Mazda RX4 Wag'</li>\n",
       "\t<li>'Datsun 710'</li>\n",
       "\t<li>'Hornet 4 Drive'</li>\n",
       "\t<li>'Hornet Sportabout'</li>\n",
       "\t<li>'Valiant'</li>\n",
       "\t<li>'Duster 360'</li>\n",
       "\t<li>'Merc 240D'</li>\n",
       "\t<li>'Merc 230'</li>\n",
       "\t<li>'Merc 280'</li>\n",
       "</ol>\n"
      ],
      "text/latex": [
       "\\begin{enumerate*}\n",
       "\\item 'Mazda RX4'\n",
       "\\item 'Mazda RX4 Wag'\n",
       "\\item 'Datsun 710'\n",
       "\\item 'Hornet 4 Drive'\n",
       "\\item 'Hornet Sportabout'\n",
       "\\item 'Valiant'\n",
       "\\item 'Duster 360'\n",
       "\\item 'Merc 240D'\n",
       "\\item 'Merc 230'\n",
       "\\item 'Merc 280'\n",
       "\\end{enumerate*}\n"
      ],
      "text/markdown": [
       "1. 'Mazda RX4'\n",
       "2. 'Mazda RX4 Wag'\n",
       "3. 'Datsun 710'\n",
       "4. 'Hornet 4 Drive'\n",
       "5. 'Hornet Sportabout'\n",
       "6. 'Valiant'\n",
       "7. 'Duster 360'\n",
       "8. 'Merc 240D'\n",
       "9. 'Merc 230'\n",
       "10. 'Merc 280'\n",
       "\n",
       "\n"
      ],
      "text/plain": [
       " [1] \"Mazda RX4\"         \"Mazda RX4 Wag\"     \"Datsun 710\"       \n",
       " [4] \"Hornet 4 Drive\"    \"Hornet Sportabout\" \"Valiant\"          \n",
       " [7] \"Duster 360\"        \"Merc 240D\"         \"Merc 230\"         \n",
       "[10] \"Merc 280\"         "
      ]
     },
     "metadata": {},
     "output_type": "display_data"
    }
   ],
   "source": [
    "# print out row names of df\n",
    "rownames(my_list$df)"
   ]
  },
  {
   "cell_type": "code",
   "execution_count": 104,
   "metadata": {},
   "outputs": [
    {
     "data": {
      "text/html": [
       "<ol class=list-inline>\n",
       "\t<li>'mpg'</li>\n",
       "\t<li>'cyl'</li>\n",
       "\t<li>'disp'</li>\n",
       "\t<li>'hp'</li>\n",
       "\t<li>'drat'</li>\n",
       "\t<li>'wt'</li>\n",
       "\t<li>'qsec'</li>\n",
       "\t<li>'vs'</li>\n",
       "\t<li>'am'</li>\n",
       "\t<li>'gear'</li>\n",
       "\t<li>'carb'</li>\n",
       "</ol>\n"
      ],
      "text/latex": [
       "\\begin{enumerate*}\n",
       "\\item 'mpg'\n",
       "\\item 'cyl'\n",
       "\\item 'disp'\n",
       "\\item 'hp'\n",
       "\\item 'drat'\n",
       "\\item 'wt'\n",
       "\\item 'qsec'\n",
       "\\item 'vs'\n",
       "\\item 'am'\n",
       "\\item 'gear'\n",
       "\\item 'carb'\n",
       "\\end{enumerate*}\n"
      ],
      "text/markdown": [
       "1. 'mpg'\n",
       "2. 'cyl'\n",
       "3. 'disp'\n",
       "4. 'hp'\n",
       "5. 'drat'\n",
       "6. 'wt'\n",
       "7. 'qsec'\n",
       "8. 'vs'\n",
       "9. 'am'\n",
       "10. 'gear'\n",
       "11. 'carb'\n",
       "\n",
       "\n"
      ],
      "text/plain": [
       " [1] \"mpg\"  \"cyl\"  \"disp\" \"hp\"   \"drat\" \"wt\"   \"qsec\" \"vs\"   \"am\"   \"gear\"\n",
       "[11] \"carb\""
      ]
     },
     "metadata": {},
     "output_type": "display_data"
    }
   ],
   "source": [
    "# print out column names of df\n",
    "colnames(my_list$df)"
   ]
  },
  {
   "cell_type": "code",
   "execution_count": 105,
   "metadata": {},
   "outputs": [
    {
     "data": {
      "text/html": [
       "<dl>\n",
       "\t<dt>$vec</dt>\n",
       "\t\t<dd><ol class=list-inline>\n",
       "\t<li>1</li>\n",
       "\t<li>2</li>\n",
       "\t<li>3</li>\n",
       "\t<li>4</li>\n",
       "\t<li>5</li>\n",
       "\t<li>6</li>\n",
       "\t<li>7</li>\n",
       "\t<li>8</li>\n",
       "\t<li>9</li>\n",
       "\t<li>10</li>\n",
       "</ol>\n",
       "</dd>\n",
       "\t<dt>$mat</dt>\n",
       "\t\t<dd><table>\n",
       "<tbody>\n",
       "\t<tr><td>1</td><td>4</td><td>7</td></tr>\n",
       "\t<tr><td>2</td><td>5</td><td>8</td></tr>\n",
       "\t<tr><td>3</td><td>6</td><td>9</td></tr>\n",
       "</tbody>\n",
       "</table>\n",
       "</dd>\n",
       "\t<dt>$df</dt>\n",
       "\t\t<dd><table>\n",
       "<thead><tr><th></th><th scope=col>mpg</th><th scope=col>cyl</th><th scope=col>disp</th><th scope=col>hp</th><th scope=col>drat</th><th scope=col>wt</th><th scope=col>qsec</th><th scope=col>vs</th><th scope=col>am</th><th scope=col>gear</th><th scope=col>carb</th></tr></thead>\n",
       "<tbody>\n",
       "\t<tr><th scope=row>Mazda RX4</th><td>21.0 </td><td>6    </td><td>160.0</td><td>110  </td><td>3.90 </td><td>2.620</td><td>16.46</td><td>0    </td><td>1    </td><td>4    </td><td>4    </td></tr>\n",
       "\t<tr><th scope=row>Mazda RX4 Wag</th><td>21.0 </td><td>6    </td><td>160.0</td><td>110  </td><td>3.90 </td><td>2.875</td><td>17.02</td><td>0    </td><td>1    </td><td>4    </td><td>4    </td></tr>\n",
       "\t<tr><th scope=row>Datsun 710</th><td>22.8 </td><td>4    </td><td>108.0</td><td> 93  </td><td>3.85 </td><td>2.320</td><td>18.61</td><td>1    </td><td>1    </td><td>4    </td><td>1    </td></tr>\n",
       "\t<tr><th scope=row>Hornet 4 Drive</th><td>21.4 </td><td>6    </td><td>258.0</td><td>110  </td><td>3.08 </td><td>3.215</td><td>19.44</td><td>1    </td><td>0    </td><td>3    </td><td>1    </td></tr>\n",
       "\t<tr><th scope=row>Hornet Sportabout</th><td>18.7 </td><td>8    </td><td>360.0</td><td>175  </td><td>3.15 </td><td>3.440</td><td>17.02</td><td>0    </td><td>0    </td><td>3    </td><td>2    </td></tr>\n",
       "\t<tr><th scope=row>Valiant</th><td>18.1 </td><td>6    </td><td>225.0</td><td>105  </td><td>2.76 </td><td>3.460</td><td>20.22</td><td>1    </td><td>0    </td><td>3    </td><td>1    </td></tr>\n",
       "\t<tr><th scope=row>Duster 360</th><td>14.3 </td><td>8    </td><td>360.0</td><td>245  </td><td>3.21 </td><td>3.570</td><td>15.84</td><td>0    </td><td>0    </td><td>3    </td><td>4    </td></tr>\n",
       "\t<tr><th scope=row>Merc 240D</th><td>24.4 </td><td>4    </td><td>146.7</td><td> 62  </td><td>3.69 </td><td>3.190</td><td>20.00</td><td>1    </td><td>0    </td><td>4    </td><td>2    </td></tr>\n",
       "\t<tr><th scope=row>Merc 230</th><td>22.8 </td><td>4    </td><td>140.8</td><td> 95  </td><td>3.92 </td><td>3.150</td><td>22.90</td><td>1    </td><td>0    </td><td>4    </td><td>2    </td></tr>\n",
       "\t<tr><th scope=row>Merc 280</th><td>19.2 </td><td>6    </td><td>167.6</td><td>123  </td><td>3.92 </td><td>3.440</td><td>18.30</td><td>1    </td><td>0    </td><td>4    </td><td>4    </td></tr>\n",
       "</tbody>\n",
       "</table>\n",
       "</dd>\n",
       "\t<dt>$year</dt>\n",
       "\t\t<dd>1980</dd>\n",
       "</dl>\n"
      ],
      "text/latex": [
       "\\begin{description}\n",
       "\\item[\\$vec] \\begin{enumerate*}\n",
       "\\item 1\n",
       "\\item 2\n",
       "\\item 3\n",
       "\\item 4\n",
       "\\item 5\n",
       "\\item 6\n",
       "\\item 7\n",
       "\\item 8\n",
       "\\item 9\n",
       "\\item 10\n",
       "\\end{enumerate*}\n",
       "\n",
       "\\item[\\$mat] \\begin{tabular}{lll}\n",
       "\t 1 & 4 & 7\\\\\n",
       "\t 2 & 5 & 8\\\\\n",
       "\t 3 & 6 & 9\\\\\n",
       "\\end{tabular}\n",
       "\n",
       "\\item[\\$df] \\begin{tabular}{r|lllllllllll}\n",
       "  & mpg & cyl & disp & hp & drat & wt & qsec & vs & am & gear & carb\\\\\n",
       "\\hline\n",
       "\tMazda RX4 & 21.0  & 6     & 160.0 & 110   & 3.90  & 2.620 & 16.46 & 0     & 1     & 4     & 4    \\\\\n",
       "\tMazda RX4 Wag & 21.0  & 6     & 160.0 & 110   & 3.90  & 2.875 & 17.02 & 0     & 1     & 4     & 4    \\\\\n",
       "\tDatsun 710 & 22.8  & 4     & 108.0 &  93   & 3.85  & 2.320 & 18.61 & 1     & 1     & 4     & 1    \\\\\n",
       "\tHornet 4 Drive & 21.4  & 6     & 258.0 & 110   & 3.08  & 3.215 & 19.44 & 1     & 0     & 3     & 1    \\\\\n",
       "\tHornet Sportabout & 18.7  & 8     & 360.0 & 175   & 3.15  & 3.440 & 17.02 & 0     & 0     & 3     & 2    \\\\\n",
       "\tValiant & 18.1  & 6     & 225.0 & 105   & 2.76  & 3.460 & 20.22 & 1     & 0     & 3     & 1    \\\\\n",
       "\tDuster 360 & 14.3  & 8     & 360.0 & 245   & 3.21  & 3.570 & 15.84 & 0     & 0     & 3     & 4    \\\\\n",
       "\tMerc 240D & 24.4  & 4     & 146.7 &  62   & 3.69  & 3.190 & 20.00 & 1     & 0     & 4     & 2    \\\\\n",
       "\tMerc 230 & 22.8  & 4     & 140.8 &  95   & 3.92  & 3.150 & 22.90 & 1     & 0     & 4     & 2    \\\\\n",
       "\tMerc 280 & 19.2  & 6     & 167.6 & 123   & 3.92  & 3.440 & 18.30 & 1     & 0     & 4     & 4    \\\\\n",
       "\\end{tabular}\n",
       "\n",
       "\\item[\\$year] 1980\n",
       "\\end{description}\n"
      ],
      "text/markdown": [
       "$vec\n",
       ":   1. 1\n",
       "2. 2\n",
       "3. 3\n",
       "4. 4\n",
       "5. 5\n",
       "6. 6\n",
       "7. 7\n",
       "8. 8\n",
       "9. 9\n",
       "10. 10\n",
       "\n",
       "\n",
       "\n",
       "$mat\n",
       ":   \n",
       "| 1 | 4 | 7 |\n",
       "| 2 | 5 | 8 |\n",
       "| 3 | 6 | 9 |\n",
       "\n",
       "\n",
       "$df\n",
       ":   \n",
       "| <!--/--> | mpg | cyl | disp | hp | drat | wt | qsec | vs | am | gear | carb |\n",
       "|---|---|---|---|---|---|---|---|---|---|---|---|\n",
       "| Mazda RX4 | 21.0  | 6     | 160.0 | 110   | 3.90  | 2.620 | 16.46 | 0     | 1     | 4     | 4     |\n",
       "| Mazda RX4 Wag | 21.0  | 6     | 160.0 | 110   | 3.90  | 2.875 | 17.02 | 0     | 1     | 4     | 4     |\n",
       "| Datsun 710 | 22.8  | 4     | 108.0 |  93   | 3.85  | 2.320 | 18.61 | 1     | 1     | 4     | 1     |\n",
       "| Hornet 4 Drive | 21.4  | 6     | 258.0 | 110   | 3.08  | 3.215 | 19.44 | 1     | 0     | 3     | 1     |\n",
       "| Hornet Sportabout | 18.7  | 8     | 360.0 | 175   | 3.15  | 3.440 | 17.02 | 0     | 0     | 3     | 2     |\n",
       "| Valiant | 18.1  | 6     | 225.0 | 105   | 2.76  | 3.460 | 20.22 | 1     | 0     | 3     | 1     |\n",
       "| Duster 360 | 14.3  | 8     | 360.0 | 245   | 3.21  | 3.570 | 15.84 | 0     | 0     | 3     | 4     |\n",
       "| Merc 240D | 24.4  | 4     | 146.7 |  62   | 3.69  | 3.190 | 20.00 | 1     | 0     | 4     | 2     |\n",
       "| Merc 230 | 22.8  | 4     | 140.8 |  95   | 3.92  | 3.150 | 22.90 | 1     | 0     | 4     | 2     |\n",
       "| Merc 280 | 19.2  | 6     | 167.6 | 123   | 3.92  | 3.440 | 18.30 | 1     | 0     | 4     | 4     |\n",
       "\n",
       "\n",
       "$year\n",
       ":   1980\n",
       "\n",
       "\n"
      ],
      "text/plain": [
       "$vec\n",
       " [1]  1  2  3  4  5  6  7  8  9 10\n",
       "\n",
       "$mat\n",
       "     [,1] [,2] [,3]\n",
       "[1,]    1    4    7\n",
       "[2,]    2    5    8\n",
       "[3,]    3    6    9\n",
       "\n",
       "$df\n",
       "                   mpg cyl  disp  hp drat    wt  qsec vs am gear carb\n",
       "Mazda RX4         21.0   6 160.0 110 3.90 2.620 16.46  0  1    4    4\n",
       "Mazda RX4 Wag     21.0   6 160.0 110 3.90 2.875 17.02  0  1    4    4\n",
       "Datsun 710        22.8   4 108.0  93 3.85 2.320 18.61  1  1    4    1\n",
       "Hornet 4 Drive    21.4   6 258.0 110 3.08 3.215 19.44  1  0    3    1\n",
       "Hornet Sportabout 18.7   8 360.0 175 3.15 3.440 17.02  0  0    3    2\n",
       "Valiant           18.1   6 225.0 105 2.76 3.460 20.22  1  0    3    1\n",
       "Duster 360        14.3   8 360.0 245 3.21 3.570 15.84  0  0    3    4\n",
       "Merc 240D         24.4   4 146.7  62 3.69 3.190 20.00  1  0    4    2\n",
       "Merc 230          22.8   4 140.8  95 3.92 3.150 22.90  1  0    4    2\n",
       "Merc 280          19.2   6 167.6 123 3.92 3.440 18.30  1  0    4    4\n",
       "\n",
       "$year\n",
       "[1] 1980\n"
      ]
     },
     "metadata": {},
     "output_type": "display_data"
    }
   ],
   "source": [
    "# Adding more information to the list\n",
    "\n",
    "my_list_full <- c(my_list,year=1980)\n",
    "my_list_full"
   ]
  },
  {
   "cell_type": "code",
   "execution_count": null,
   "metadata": {},
   "outputs": [],
   "source": []
  },
  {
   "cell_type": "code",
   "execution_count": 106,
   "metadata": {},
   "outputs": [],
   "source": [
    "# comments and scores vectors for movies\n",
    "scores <- c(4.6, 5, 4.8, 5, 4.2)\n",
    "comments <- c(\"I would watch it again\", \"Amazing!\", \"I liked it\", \"One of the best movies\", \"Fascinating plot\")\n",
    "movie_title <- 'The Departed'\n",
    "movie_actors <- c(\"Leonardo DiCaprio\", \"Matt Damon\", \"Jack Nicholson\", \"Mark Wahlberg\", \"Vera Farmiga\", \"Martin Sheen\")"
   ]
  },
  {
   "cell_type": "code",
   "execution_count": 107,
   "metadata": {},
   "outputs": [],
   "source": [
    "# Save the average of the scores vector as avg_review \n",
    "avg_review <- mean(scores)"
   ]
  },
  {
   "cell_type": "code",
   "execution_count": 109,
   "metadata": {},
   "outputs": [
    {
     "name": "stdout",
     "output_type": "stream",
     "text": [
      "  scores               comments\n",
      "1    4.6 I would watch it again\n",
      "2    5.0               Amazing!\n",
      "3    4.8             I liked it\n",
      "4    5.0 One of the best movies\n",
      "5    4.2       Fascinating plot\n"
     ]
    }
   ],
   "source": [
    "# Combine scores and comments into the reviews_df data frame\n",
    "reviews_df <- data.frame(scores, comments)\n",
    "print(reviews_df)"
   ]
  },
  {
   "cell_type": "code",
   "execution_count": 110,
   "metadata": {},
   "outputs": [
    {
     "data": {
      "text/html": [
       "<ol>\n",
       "\t<li>'The Departed'</li>\n",
       "\t<li><ol class=list-inline>\n",
       "\t<li>'Leonardo DiCaprio'</li>\n",
       "\t<li>'Matt Damon'</li>\n",
       "\t<li>'Jack Nicholson'</li>\n",
       "\t<li>'Mark Wahlberg'</li>\n",
       "\t<li>'Vera Farmiga'</li>\n",
       "\t<li>'Martin Sheen'</li>\n",
       "</ol>\n",
       "</li>\n",
       "\t<li><table>\n",
       "<thead><tr><th scope=col>scores</th><th scope=col>comments</th></tr></thead>\n",
       "<tbody>\n",
       "\t<tr><td>4.6                   </td><td>I would watch it again</td></tr>\n",
       "\t<tr><td>5.0                   </td><td>Amazing!              </td></tr>\n",
       "\t<tr><td>4.8                   </td><td>I liked it            </td></tr>\n",
       "\t<tr><td>5.0                   </td><td>One of the best movies</td></tr>\n",
       "\t<tr><td>4.2                   </td><td>Fascinating plot      </td></tr>\n",
       "</tbody>\n",
       "</table>\n",
       "</li>\n",
       "\t<li>4.72</li>\n",
       "</ol>\n"
      ],
      "text/latex": [
       "\\begin{enumerate}\n",
       "\\item 'The Departed'\n",
       "\\item \\begin{enumerate*}\n",
       "\\item 'Leonardo DiCaprio'\n",
       "\\item 'Matt Damon'\n",
       "\\item 'Jack Nicholson'\n",
       "\\item 'Mark Wahlberg'\n",
       "\\item 'Vera Farmiga'\n",
       "\\item 'Martin Sheen'\n",
       "\\end{enumerate*}\n",
       "\n",
       "\\item \\begin{tabular}{r|ll}\n",
       " scores & comments\\\\\n",
       "\\hline\n",
       "\t 4.6                    & I would watch it again\\\\\n",
       "\t 5.0                    & Amazing!              \\\\\n",
       "\t 4.8                    & I liked it            \\\\\n",
       "\t 5.0                    & One of the best movies\\\\\n",
       "\t 4.2                    & Fascinating plot      \\\\\n",
       "\\end{tabular}\n",
       "\n",
       "\\item 4.72\n",
       "\\end{enumerate}\n"
      ],
      "text/markdown": [
       "1. 'The Departed'\n",
       "2. 1. 'Leonardo DiCaprio'\n",
       "2. 'Matt Damon'\n",
       "3. 'Jack Nicholson'\n",
       "4. 'Mark Wahlberg'\n",
       "5. 'Vera Farmiga'\n",
       "6. 'Martin Sheen'\n",
       "\n",
       "\n",
       "\n",
       "3. \n",
       "| scores | comments |\n",
       "|---|---|\n",
       "| 4.6                    | I would watch it again |\n",
       "| 5.0                    | Amazing!               |\n",
       "| 4.8                    | I liked it             |\n",
       "| 5.0                    | One of the best movies |\n",
       "| 4.2                    | Fascinating plot       |\n",
       "\n",
       "\n",
       "4. 4.72\n",
       "\n",
       "\n"
      ],
      "text/plain": [
       "[[1]]\n",
       "[1] \"The Departed\"\n",
       "\n",
       "[[2]]\n",
       "[1] \"Leonardo DiCaprio\" \"Matt Damon\"        \"Jack Nicholson\"   \n",
       "[4] \"Mark Wahlberg\"     \"Vera Farmiga\"      \"Martin Sheen\"     \n",
       "\n",
       "[[3]]\n",
       "  scores               comments\n",
       "1    4.6 I would watch it again\n",
       "2    5.0               Amazing!\n",
       "3    4.8             I liked it\n",
       "4    5.0 One of the best movies\n",
       "5    4.2       Fascinating plot\n",
       "\n",
       "[[4]]\n",
       "[1] 4.72\n"
      ]
     },
     "metadata": {},
     "output_type": "display_data"
    }
   ],
   "source": [
    "# Create and print out a list including all the information, called departed_list\n",
    "#  containing the movie_title, movie_actors, reviews data frame as reviews_df, and the average review score\n",
    "departed_list <- list(movie_title, movie_actors, reviews_df, avg_review)\n",
    "departed_list"
   ]
  },
  {
   "cell_type": "markdown",
   "metadata": {
    "collapsed": true
   },
   "source": [
    "# Conditionals and Control Flow"
   ]
  },
  {
   "cell_type": "markdown",
   "metadata": {},
   "source": [
    "### Relational operators"
   ]
  },
  {
   "cell_type": "markdown",
   "metadata": {},
   "source": [
    "In the editor on the right, write R code to see if \n",
    "\n",
    "1. TRUE equals FALSE.\n",
    "2. check if -6 * 14 is not equal to 17 - 101.\n",
    "3. check if strings \"useR\" and \"user\" are equal.\n",
    "4. check if logicals to numerics: are TRUE and 1 equal?"
   ]
  },
  {
   "cell_type": "code",
   "execution_count": 38,
   "metadata": {},
   "outputs": [
    {
     "data": {
      "text/html": [
       "FALSE"
      ],
      "text/latex": [
       "FALSE"
      ],
      "text/markdown": [
       "FALSE"
      ],
      "text/plain": [
       "[1] FALSE"
      ]
     },
     "metadata": {},
     "output_type": "display_data"
    },
    {
     "data": {
      "text/html": [
       "TRUE"
      ],
      "text/latex": [
       "TRUE"
      ],
      "text/markdown": [
       "TRUE"
      ],
      "text/plain": [
       "[1] TRUE"
      ]
     },
     "metadata": {},
     "output_type": "display_data"
    },
    {
     "data": {
      "text/html": [
       "FALSE"
      ],
      "text/latex": [
       "FALSE"
      ],
      "text/markdown": [
       "FALSE"
      ],
      "text/plain": [
       "[1] FALSE"
      ]
     },
     "metadata": {},
     "output_type": "display_data"
    },
    {
     "data": {
      "text/html": [
       "TRUE"
      ],
      "text/latex": [
       "TRUE"
      ],
      "text/markdown": [
       "TRUE"
      ],
      "text/plain": [
       "[1] TRUE"
      ]
     },
     "metadata": {},
     "output_type": "display_data"
    }
   ],
   "source": [
    "# Comparison of logicals\n",
    "TRUE==FALSE\n",
    "\n",
    "# Comparison of numerics\n",
    "-6*17 != 17-101\n",
    "\n",
    "# Comparison of character strings\n",
    "'useR' == 'user'\n",
    "\n",
    "# Compare a logical with a numeric\n",
    "TRUE==1"
   ]
  },
  {
   "cell_type": "markdown",
   "metadata": {},
   "source": [
    "Write R expressions to check whether:\n",
    "\n",
    "1. -6 * 5 + 2 is greater than or equal to -10 + 1.\n",
    "2. \"raining\" is less than or equal to \"raining dogs\".\n",
    "3. TRUE is greater than FALSE."
   ]
  },
  {
   "cell_type": "code",
   "execution_count": null,
   "metadata": {},
   "outputs": [],
   "source": [
    "# Comparison of numerics\n",
    "-6 * 5 +2 >= -10 +1\n",
    "\n",
    "# Comparison of character strings\n",
    "'raining' <= 'raining dogs'\n",
    "\n",
    "# Comparison of logicals\n",
    "TRUE > FALSE"
   ]
  },
  {
   "cell_type": "markdown",
   "metadata": {},
   "source": [
    "1. On which days did the number of LinkedIn profile views exceed 15?\n",
    "2. When was your LinkedIn profile viewed only 5 times or fewer?\n",
    "3. When was your LinkedIn profile visited more often than your Facebook profile?"
   ]
  },
  {
   "cell_type": "code",
   "execution_count": 111,
   "metadata": {},
   "outputs": [
    {
     "data": {
      "text/html": [
       "<ol class=list-inline>\n",
       "\t<li>TRUE</li>\n",
       "\t<li>FALSE</li>\n",
       "\t<li>FALSE</li>\n",
       "\t<li>FALSE</li>\n",
       "\t<li>FALSE</li>\n",
       "\t<li>TRUE</li>\n",
       "\t<li>FALSE</li>\n",
       "</ol>\n"
      ],
      "text/latex": [
       "\\begin{enumerate*}\n",
       "\\item TRUE\n",
       "\\item FALSE\n",
       "\\item FALSE\n",
       "\\item FALSE\n",
       "\\item FALSE\n",
       "\\item TRUE\n",
       "\\item FALSE\n",
       "\\end{enumerate*}\n"
      ],
      "text/markdown": [
       "1. TRUE\n",
       "2. FALSE\n",
       "3. FALSE\n",
       "4. FALSE\n",
       "5. FALSE\n",
       "6. TRUE\n",
       "7. FALSE\n",
       "\n",
       "\n"
      ],
      "text/plain": [
       "[1]  TRUE FALSE FALSE FALSE FALSE  TRUE FALSE"
      ]
     },
     "metadata": {},
     "output_type": "display_data"
    },
    {
     "data": {
      "text/html": [
       "<ol class=list-inline>\n",
       "\t<li>FALSE</li>\n",
       "\t<li>FALSE</li>\n",
       "\t<li>FALSE</li>\n",
       "\t<li>TRUE</li>\n",
       "\t<li>TRUE</li>\n",
       "\t<li>FALSE</li>\n",
       "\t<li>FALSE</li>\n",
       "</ol>\n"
      ],
      "text/latex": [
       "\\begin{enumerate*}\n",
       "\\item FALSE\n",
       "\\item FALSE\n",
       "\\item FALSE\n",
       "\\item TRUE\n",
       "\\item TRUE\n",
       "\\item FALSE\n",
       "\\item FALSE\n",
       "\\end{enumerate*}\n"
      ],
      "text/markdown": [
       "1. FALSE\n",
       "2. FALSE\n",
       "3. FALSE\n",
       "4. TRUE\n",
       "5. TRUE\n",
       "6. FALSE\n",
       "7. FALSE\n",
       "\n",
       "\n"
      ],
      "text/plain": [
       "[1] FALSE FALSE FALSE  TRUE  TRUE FALSE FALSE"
      ]
     },
     "metadata": {},
     "output_type": "display_data"
    },
    {
     "data": {
      "text/html": [
       "<ol class=list-inline>\n",
       "\t<li>FALSE</li>\n",
       "\t<li>TRUE</li>\n",
       "\t<li>TRUE</li>\n",
       "\t<li>FALSE</li>\n",
       "\t<li>FALSE</li>\n",
       "\t<li>TRUE</li>\n",
       "\t<li>FALSE</li>\n",
       "</ol>\n"
      ],
      "text/latex": [
       "\\begin{enumerate*}\n",
       "\\item FALSE\n",
       "\\item TRUE\n",
       "\\item TRUE\n",
       "\\item FALSE\n",
       "\\item FALSE\n",
       "\\item TRUE\n",
       "\\item FALSE\n",
       "\\end{enumerate*}\n"
      ],
      "text/markdown": [
       "1. FALSE\n",
       "2. TRUE\n",
       "3. TRUE\n",
       "4. FALSE\n",
       "5. FALSE\n",
       "6. TRUE\n",
       "7. FALSE\n",
       "\n",
       "\n"
      ],
      "text/plain": [
       "[1] FALSE  TRUE  TRUE FALSE FALSE  TRUE FALSE"
      ]
     },
     "metadata": {},
     "output_type": "display_data"
    }
   ],
   "source": [
    "# The linkedin and facebook vectors have already been created for you\n",
    "linkedin <- c(16, 9, 13, 5, 2, 17, 14)\n",
    "facebook <- c(17, 7, 5, 16, 8, 13, 14)\n",
    "\n",
    "# Popular days\n",
    "linkedin > 15\n",
    "\n",
    "# Quiet days\n",
    "linkedin <=5\n",
    "\n",
    "# LinkedIn more popular than Facebook\n",
    "linkedin > facebook"
   ]
  },
  {
   "cell_type": "markdown",
   "metadata": {},
   "source": [
    "1. When were the views exactly equal to 13?  \n",
    "(hint: Use the views matrix to return a logical matrix.)\n",
    "2. For which days were the number of views less than or equal to 14?  \n",
    "(hint: Again, have R return a logical matrix.)"
   ]
  },
  {
   "cell_type": "code",
   "execution_count": 112,
   "metadata": {},
   "outputs": [
    {
     "data": {
      "text/html": [
       "<table>\n",
       "<tbody>\n",
       "\t<tr><td>FALSE</td><td>FALSE</td><td> TRUE</td><td>FALSE</td><td>FALSE</td><td>FALSE</td><td>FALSE</td></tr>\n",
       "\t<tr><td>FALSE</td><td>FALSE</td><td>FALSE</td><td>FALSE</td><td>FALSE</td><td> TRUE</td><td>FALSE</td></tr>\n",
       "</tbody>\n",
       "</table>\n"
      ],
      "text/latex": [
       "\\begin{tabular}{lllllll}\n",
       "\t FALSE & FALSE &  TRUE & FALSE & FALSE & FALSE & FALSE\\\\\n",
       "\t FALSE & FALSE & FALSE & FALSE & FALSE &  TRUE & FALSE\\\\\n",
       "\\end{tabular}\n"
      ],
      "text/markdown": [
       "\n",
       "| FALSE | FALSE |  TRUE | FALSE | FALSE | FALSE | FALSE |\n",
       "| FALSE | FALSE | FALSE | FALSE | FALSE |  TRUE | FALSE |\n",
       "\n"
      ],
      "text/plain": [
       "     [,1]  [,2]  [,3]  [,4]  [,5]  [,6]  [,7] \n",
       "[1,] FALSE FALSE  TRUE FALSE FALSE FALSE FALSE\n",
       "[2,] FALSE FALSE FALSE FALSE FALSE  TRUE FALSE"
      ]
     },
     "metadata": {},
     "output_type": "display_data"
    },
    {
     "data": {
      "text/html": [
       "<table>\n",
       "<tbody>\n",
       "\t<tr><td>FALSE</td><td>TRUE </td><td>TRUE </td><td> TRUE</td><td>TRUE </td><td>FALSE</td><td>TRUE </td></tr>\n",
       "\t<tr><td>FALSE</td><td>TRUE </td><td>TRUE </td><td>FALSE</td><td>TRUE </td><td> TRUE</td><td>TRUE </td></tr>\n",
       "</tbody>\n",
       "</table>\n"
      ],
      "text/latex": [
       "\\begin{tabular}{lllllll}\n",
       "\t FALSE & TRUE  & TRUE  &  TRUE & TRUE  & FALSE & TRUE \\\\\n",
       "\t FALSE & TRUE  & TRUE  & FALSE & TRUE  &  TRUE & TRUE \\\\\n",
       "\\end{tabular}\n"
      ],
      "text/markdown": [
       "\n",
       "| FALSE | TRUE  | TRUE  |  TRUE | TRUE  | FALSE | TRUE  |\n",
       "| FALSE | TRUE  | TRUE  | FALSE | TRUE  |  TRUE | TRUE  |\n",
       "\n"
      ],
      "text/plain": [
       "     [,1]  [,2] [,3] [,4]  [,5] [,6]  [,7]\n",
       "[1,] FALSE TRUE TRUE  TRUE TRUE FALSE TRUE\n",
       "[2,] FALSE TRUE TRUE FALSE TRUE  TRUE TRUE"
      ]
     },
     "metadata": {},
     "output_type": "display_data"
    }
   ],
   "source": [
    "# The social data has been created for you\n",
    "linkedin <- c(16, 9, 13, 5, 2, 17, 14)\n",
    "facebook <- c(17, 7, 5, 16, 8, 13, 14)\n",
    "views <- matrix(c(linkedin, facebook), nrow = 2, byrow = TRUE)\n",
    "\n",
    "# When does views equal 13?\n",
    "views == 13\n",
    "\n",
    "# When is views less than or equal to 14?\n",
    "views <= 14"
   ]
  },
  {
   "cell_type": "markdown",
   "metadata": {},
   "source": [
    "### Logical operators"
   ]
  },
  {
   "cell_type": "markdown",
   "metadata": {},
   "source": [
    "1. Is last under 5 or above 10?\n",
    "2. Is last between 15 and 20, excluding 15 but including 20?"
   ]
  },
  {
   "cell_type": "code",
   "execution_count": 117,
   "metadata": {},
   "outputs": [
    {
     "name": "stdout",
     "output_type": "stream",
     "text": [
      "[1] 14\n"
     ]
    },
    {
     "data": {
      "text/html": [
       "TRUE"
      ],
      "text/latex": [
       "TRUE"
      ],
      "text/markdown": [
       "TRUE"
      ],
      "text/plain": [
       "[1] TRUE"
      ]
     },
     "metadata": {},
     "output_type": "display_data"
    },
    {
     "data": {
      "text/html": [
       "FALSE"
      ],
      "text/latex": [
       "FALSE"
      ],
      "text/markdown": [
       "FALSE"
      ],
      "text/plain": [
       "[1] FALSE"
      ]
     },
     "metadata": {},
     "output_type": "display_data"
    }
   ],
   "source": [
    "# The linkedin and last variable are already defined for you\n",
    "linkedin <- c(16, 9, 13, 5, 2, 17, 14)\n",
    "last <- tail(linkedin, 1)\n",
    "print(last)\n",
    "# Is last under 5 or above 10?\n",
    "last <5 | last > 10\n",
    "\n",
    "# Is last between 15 (exclusive) and 20 (inclusive)?\n",
    "last >15 & last <=20"
   ]
  },
  {
   "cell_type": "markdown",
   "metadata": {},
   "source": [
    "1. When did LinkedIn views exceed 10 and did Facebook views fail to reach 10 for a particular day?\n",
    "2. When were one or both of your LinkedIn and Facebook profiles visited at least 12 times?\n",
    "3. When is the views matrix equal to a number between 11 and 14, excluding 11 and including 14?"
   ]
  },
  {
   "cell_type": "code",
   "execution_count": 113,
   "metadata": {},
   "outputs": [
    {
     "data": {
      "text/html": [
       "<ol class=list-inline>\n",
       "\t<li>FALSE</li>\n",
       "\t<li>FALSE</li>\n",
       "\t<li>TRUE</li>\n",
       "\t<li>FALSE</li>\n",
       "\t<li>FALSE</li>\n",
       "\t<li>FALSE</li>\n",
       "\t<li>FALSE</li>\n",
       "</ol>\n"
      ],
      "text/latex": [
       "\\begin{enumerate*}\n",
       "\\item FALSE\n",
       "\\item FALSE\n",
       "\\item TRUE\n",
       "\\item FALSE\n",
       "\\item FALSE\n",
       "\\item FALSE\n",
       "\\item FALSE\n",
       "\\end{enumerate*}\n"
      ],
      "text/markdown": [
       "1. FALSE\n",
       "2. FALSE\n",
       "3. TRUE\n",
       "4. FALSE\n",
       "5. FALSE\n",
       "6. FALSE\n",
       "7. FALSE\n",
       "\n",
       "\n"
      ],
      "text/plain": [
       "[1] FALSE FALSE  TRUE FALSE FALSE FALSE FALSE"
      ]
     },
     "metadata": {},
     "output_type": "display_data"
    },
    {
     "data": {
      "text/html": [
       "<ol class=list-inline>\n",
       "\t<li>TRUE</li>\n",
       "\t<li>FALSE</li>\n",
       "\t<li>TRUE</li>\n",
       "\t<li>TRUE</li>\n",
       "\t<li>FALSE</li>\n",
       "\t<li>TRUE</li>\n",
       "\t<li>TRUE</li>\n",
       "</ol>\n"
      ],
      "text/latex": [
       "\\begin{enumerate*}\n",
       "\\item TRUE\n",
       "\\item FALSE\n",
       "\\item TRUE\n",
       "\\item TRUE\n",
       "\\item FALSE\n",
       "\\item TRUE\n",
       "\\item TRUE\n",
       "\\end{enumerate*}\n"
      ],
      "text/markdown": [
       "1. TRUE\n",
       "2. FALSE\n",
       "3. TRUE\n",
       "4. TRUE\n",
       "5. FALSE\n",
       "6. TRUE\n",
       "7. TRUE\n",
       "\n",
       "\n"
      ],
      "text/plain": [
       "[1]  TRUE FALSE  TRUE  TRUE FALSE  TRUE  TRUE"
      ]
     },
     "metadata": {},
     "output_type": "display_data"
    },
    {
     "data": {
      "text/html": [
       "<table>\n",
       "<tbody>\n",
       "\t<tr><td>FALSE</td><td>FALSE</td><td> TRUE</td><td>FALSE</td><td>FALSE</td><td>FALSE</td><td>TRUE </td></tr>\n",
       "\t<tr><td>FALSE</td><td>FALSE</td><td>FALSE</td><td>FALSE</td><td>FALSE</td><td> TRUE</td><td>TRUE </td></tr>\n",
       "</tbody>\n",
       "</table>\n"
      ],
      "text/latex": [
       "\\begin{tabular}{lllllll}\n",
       "\t FALSE & FALSE &  TRUE & FALSE & FALSE & FALSE & TRUE \\\\\n",
       "\t FALSE & FALSE & FALSE & FALSE & FALSE &  TRUE & TRUE \\\\\n",
       "\\end{tabular}\n"
      ],
      "text/markdown": [
       "\n",
       "| FALSE | FALSE |  TRUE | FALSE | FALSE | FALSE | TRUE  |\n",
       "| FALSE | FALSE | FALSE | FALSE | FALSE |  TRUE | TRUE  |\n",
       "\n"
      ],
      "text/plain": [
       "     [,1]  [,2]  [,3]  [,4]  [,5]  [,6]  [,7]\n",
       "[1,] FALSE FALSE  TRUE FALSE FALSE FALSE TRUE\n",
       "[2,] FALSE FALSE FALSE FALSE FALSE  TRUE TRUE"
      ]
     },
     "metadata": {},
     "output_type": "display_data"
    }
   ],
   "source": [
    "# linkedin exceeds 10 but facebook below 10\n",
    "linkedin > 10 & facebook < 10\n",
    "\n",
    "# When were one or both visited at least 12 times?\n",
    "linkedin >=12 | facebook>=12\n",
    "\n",
    "# When is views between 11 (exclusive) and 14 (inclusive)?\n",
    "views > 11 & views <= 14"
   ]
  },
  {
   "cell_type": "code",
   "execution_count": 40,
   "metadata": {},
   "outputs": [
    {
     "data": {
      "text/html": [
       "FALSE"
      ],
      "text/latex": [
       "FALSE"
      ],
      "text/markdown": [
       "FALSE"
      ],
      "text/plain": [
       "[1] FALSE"
      ]
     },
     "metadata": {},
     "output_type": "display_data"
    }
   ],
   "source": [
    "x <- 5\n",
    "y <- 7\n",
    "!(!(x < 4) & !!!(y > 12))"
   ]
  },
  {
   "cell_type": "code",
   "execution_count": 118,
   "metadata": {},
   "outputs": [
    {
     "data": {
      "text/html": [
       "<table>\n",
       "<thead><tr><th></th><th scope=col>mpg</th><th scope=col>cyl</th><th scope=col>disp</th><th scope=col>hp</th><th scope=col>drat</th><th scope=col>wt</th><th scope=col>qsec</th><th scope=col>vs</th><th scope=col>am</th><th scope=col>gear</th><th scope=col>carb</th></tr></thead>\n",
       "<tbody>\n",
       "\t<tr><th scope=row>Mazda RX4</th><td>21.0 </td><td>6    </td><td>160.0</td><td>110  </td><td>3.90 </td><td>2.620</td><td>16.46</td><td>0    </td><td>1    </td><td>4    </td><td>4    </td></tr>\n",
       "\t<tr><th scope=row>Mazda RX4 Wag</th><td>21.0 </td><td>6    </td><td>160.0</td><td>110  </td><td>3.90 </td><td>2.875</td><td>17.02</td><td>0    </td><td>1    </td><td>4    </td><td>4    </td></tr>\n",
       "\t<tr><th scope=row>Datsun 710</th><td>22.8 </td><td>4    </td><td>108.0</td><td> 93  </td><td>3.85 </td><td>2.320</td><td>18.61</td><td>1    </td><td>1    </td><td>4    </td><td>1    </td></tr>\n",
       "\t<tr><th scope=row>Hornet 4 Drive</th><td>21.4 </td><td>6    </td><td>258.0</td><td>110  </td><td>3.08 </td><td>3.215</td><td>19.44</td><td>1    </td><td>0    </td><td>3    </td><td>1    </td></tr>\n",
       "\t<tr><th scope=row>Hornet Sportabout</th><td>18.7 </td><td>8    </td><td>360.0</td><td>175  </td><td>3.15 </td><td>3.440</td><td>17.02</td><td>0    </td><td>0    </td><td>3    </td><td>2    </td></tr>\n",
       "\t<tr><th scope=row>Valiant</th><td>18.1 </td><td>6    </td><td>225.0</td><td>105  </td><td>2.76 </td><td>3.460</td><td>20.22</td><td>1    </td><td>0    </td><td>3    </td><td>1    </td></tr>\n",
       "\t<tr><th scope=row>Duster 360</th><td>14.3 </td><td>8    </td><td>360.0</td><td>245  </td><td>3.21 </td><td>3.570</td><td>15.84</td><td>0    </td><td>0    </td><td>3    </td><td>4    </td></tr>\n",
       "\t<tr><th scope=row>Merc 240D</th><td>24.4 </td><td>4    </td><td>146.7</td><td> 62  </td><td>3.69 </td><td>3.190</td><td>20.00</td><td>1    </td><td>0    </td><td>4    </td><td>2    </td></tr>\n",
       "\t<tr><th scope=row>Merc 230</th><td>22.8 </td><td>4    </td><td>140.8</td><td> 95  </td><td>3.92 </td><td>3.150</td><td>22.90</td><td>1    </td><td>0    </td><td>4    </td><td>2    </td></tr>\n",
       "\t<tr><th scope=row>Merc 280</th><td>19.2 </td><td>6    </td><td>167.6</td><td>123  </td><td>3.92 </td><td>3.440</td><td>18.30</td><td>1    </td><td>0    </td><td>4    </td><td>4    </td></tr>\n",
       "\t<tr><th scope=row>Merc 280C</th><td>17.8 </td><td>6    </td><td>167.6</td><td>123  </td><td>3.92 </td><td>3.440</td><td>18.90</td><td>1    </td><td>0    </td><td>4    </td><td>4    </td></tr>\n",
       "\t<tr><th scope=row>Merc 450SE</th><td>16.4 </td><td>8    </td><td>275.8</td><td>180  </td><td>3.07 </td><td>4.070</td><td>17.40</td><td>0    </td><td>0    </td><td>3    </td><td>3    </td></tr>\n",
       "\t<tr><th scope=row>Merc 450SL</th><td>17.3 </td><td>8    </td><td>275.8</td><td>180  </td><td>3.07 </td><td>3.730</td><td>17.60</td><td>0    </td><td>0    </td><td>3    </td><td>3    </td></tr>\n",
       "\t<tr><th scope=row>Merc 450SLC</th><td>15.2 </td><td>8    </td><td>275.8</td><td>180  </td><td>3.07 </td><td>3.780</td><td>18.00</td><td>0    </td><td>0    </td><td>3    </td><td>3    </td></tr>\n",
       "\t<tr><th scope=row>Cadillac Fleetwood</th><td>10.4 </td><td>8    </td><td>472.0</td><td>205  </td><td>2.93 </td><td>5.250</td><td>17.98</td><td>0    </td><td>0    </td><td>3    </td><td>4    </td></tr>\n",
       "\t<tr><th scope=row>Lincoln Continental</th><td>10.4 </td><td>8    </td><td>460.0</td><td>215  </td><td>3.00 </td><td>5.424</td><td>17.82</td><td>0    </td><td>0    </td><td>3    </td><td>4    </td></tr>\n",
       "\t<tr><th scope=row>Chrysler Imperial</th><td>14.7 </td><td>8    </td><td>440.0</td><td>230  </td><td>3.23 </td><td>5.345</td><td>17.42</td><td>0    </td><td>0    </td><td>3    </td><td>4    </td></tr>\n",
       "\t<tr><th scope=row>Fiat 128</th><td>32.4 </td><td>4    </td><td> 78.7</td><td> 66  </td><td>4.08 </td><td>2.200</td><td>19.47</td><td>1    </td><td>1    </td><td>4    </td><td>1    </td></tr>\n",
       "\t<tr><th scope=row>Honda Civic</th><td>30.4 </td><td>4    </td><td> 75.7</td><td> 52  </td><td>4.93 </td><td>1.615</td><td>18.52</td><td>1    </td><td>1    </td><td>4    </td><td>2    </td></tr>\n",
       "\t<tr><th scope=row>Toyota Corolla</th><td>33.9 </td><td>4    </td><td> 71.1</td><td> 65  </td><td>4.22 </td><td>1.835</td><td>19.90</td><td>1    </td><td>1    </td><td>4    </td><td>1    </td></tr>\n",
       "\t<tr><th scope=row>Toyota Corona</th><td>21.5 </td><td>4    </td><td>120.1</td><td> 97  </td><td>3.70 </td><td>2.465</td><td>20.01</td><td>1    </td><td>0    </td><td>3    </td><td>1    </td></tr>\n",
       "\t<tr><th scope=row>Dodge Challenger</th><td>15.5 </td><td>8    </td><td>318.0</td><td>150  </td><td>2.76 </td><td>3.520</td><td>16.87</td><td>0    </td><td>0    </td><td>3    </td><td>2    </td></tr>\n",
       "\t<tr><th scope=row>AMC Javelin</th><td>15.2 </td><td>8    </td><td>304.0</td><td>150  </td><td>3.15 </td><td>3.435</td><td>17.30</td><td>0    </td><td>0    </td><td>3    </td><td>2    </td></tr>\n",
       "\t<tr><th scope=row>Camaro Z28</th><td>13.3 </td><td>8    </td><td>350.0</td><td>245  </td><td>3.73 </td><td>3.840</td><td>15.41</td><td>0    </td><td>0    </td><td>3    </td><td>4    </td></tr>\n",
       "\t<tr><th scope=row>Pontiac Firebird</th><td>19.2 </td><td>8    </td><td>400.0</td><td>175  </td><td>3.08 </td><td>3.845</td><td>17.05</td><td>0    </td><td>0    </td><td>3    </td><td>2    </td></tr>\n",
       "\t<tr><th scope=row>Fiat X1-9</th><td>27.3 </td><td>4    </td><td> 79.0</td><td> 66  </td><td>4.08 </td><td>1.935</td><td>18.90</td><td>1    </td><td>1    </td><td>4    </td><td>1    </td></tr>\n",
       "\t<tr><th scope=row>Porsche 914-2</th><td>26.0 </td><td>4    </td><td>120.3</td><td> 91  </td><td>4.43 </td><td>2.140</td><td>16.70</td><td>0    </td><td>1    </td><td>5    </td><td>2    </td></tr>\n",
       "\t<tr><th scope=row>Lotus Europa</th><td>30.4 </td><td>4    </td><td> 95.1</td><td>113  </td><td>3.77 </td><td>1.513</td><td>16.90</td><td>1    </td><td>1    </td><td>5    </td><td>2    </td></tr>\n",
       "\t<tr><th scope=row>Ford Pantera L</th><td>15.8 </td><td>8    </td><td>351.0</td><td>264  </td><td>4.22 </td><td>3.170</td><td>14.50</td><td>0    </td><td>1    </td><td>5    </td><td>4    </td></tr>\n",
       "\t<tr><th scope=row>Ferrari Dino</th><td>19.7 </td><td>6    </td><td>145.0</td><td>175  </td><td>3.62 </td><td>2.770</td><td>15.50</td><td>0    </td><td>1    </td><td>5    </td><td>6    </td></tr>\n",
       "\t<tr><th scope=row>Maserati Bora</th><td>15.0 </td><td>8    </td><td>301.0</td><td>335  </td><td>3.54 </td><td>3.570</td><td>14.60</td><td>0    </td><td>1    </td><td>5    </td><td>8    </td></tr>\n",
       "\t<tr><th scope=row>Volvo 142E</th><td>21.4 </td><td>4    </td><td>121.0</td><td>109  </td><td>4.11 </td><td>2.780</td><td>18.60</td><td>1    </td><td>1    </td><td>4    </td><td>2    </td></tr>\n",
       "</tbody>\n",
       "</table>\n"
      ],
      "text/latex": [
       "\\begin{tabular}{r|lllllllllll}\n",
       "  & mpg & cyl & disp & hp & drat & wt & qsec & vs & am & gear & carb\\\\\n",
       "\\hline\n",
       "\tMazda RX4 & 21.0  & 6     & 160.0 & 110   & 3.90  & 2.620 & 16.46 & 0     & 1     & 4     & 4    \\\\\n",
       "\tMazda RX4 Wag & 21.0  & 6     & 160.0 & 110   & 3.90  & 2.875 & 17.02 & 0     & 1     & 4     & 4    \\\\\n",
       "\tDatsun 710 & 22.8  & 4     & 108.0 &  93   & 3.85  & 2.320 & 18.61 & 1     & 1     & 4     & 1    \\\\\n",
       "\tHornet 4 Drive & 21.4  & 6     & 258.0 & 110   & 3.08  & 3.215 & 19.44 & 1     & 0     & 3     & 1    \\\\\n",
       "\tHornet Sportabout & 18.7  & 8     & 360.0 & 175   & 3.15  & 3.440 & 17.02 & 0     & 0     & 3     & 2    \\\\\n",
       "\tValiant & 18.1  & 6     & 225.0 & 105   & 2.76  & 3.460 & 20.22 & 1     & 0     & 3     & 1    \\\\\n",
       "\tDuster 360 & 14.3  & 8     & 360.0 & 245   & 3.21  & 3.570 & 15.84 & 0     & 0     & 3     & 4    \\\\\n",
       "\tMerc 240D & 24.4  & 4     & 146.7 &  62   & 3.69  & 3.190 & 20.00 & 1     & 0     & 4     & 2    \\\\\n",
       "\tMerc 230 & 22.8  & 4     & 140.8 &  95   & 3.92  & 3.150 & 22.90 & 1     & 0     & 4     & 2    \\\\\n",
       "\tMerc 280 & 19.2  & 6     & 167.6 & 123   & 3.92  & 3.440 & 18.30 & 1     & 0     & 4     & 4    \\\\\n",
       "\tMerc 280C & 17.8  & 6     & 167.6 & 123   & 3.92  & 3.440 & 18.90 & 1     & 0     & 4     & 4    \\\\\n",
       "\tMerc 450SE & 16.4  & 8     & 275.8 & 180   & 3.07  & 4.070 & 17.40 & 0     & 0     & 3     & 3    \\\\\n",
       "\tMerc 450SL & 17.3  & 8     & 275.8 & 180   & 3.07  & 3.730 & 17.60 & 0     & 0     & 3     & 3    \\\\\n",
       "\tMerc 450SLC & 15.2  & 8     & 275.8 & 180   & 3.07  & 3.780 & 18.00 & 0     & 0     & 3     & 3    \\\\\n",
       "\tCadillac Fleetwood & 10.4  & 8     & 472.0 & 205   & 2.93  & 5.250 & 17.98 & 0     & 0     & 3     & 4    \\\\\n",
       "\tLincoln Continental & 10.4  & 8     & 460.0 & 215   & 3.00  & 5.424 & 17.82 & 0     & 0     & 3     & 4    \\\\\n",
       "\tChrysler Imperial & 14.7  & 8     & 440.0 & 230   & 3.23  & 5.345 & 17.42 & 0     & 0     & 3     & 4    \\\\\n",
       "\tFiat 128 & 32.4  & 4     &  78.7 &  66   & 4.08  & 2.200 & 19.47 & 1     & 1     & 4     & 1    \\\\\n",
       "\tHonda Civic & 30.4  & 4     &  75.7 &  52   & 4.93  & 1.615 & 18.52 & 1     & 1     & 4     & 2    \\\\\n",
       "\tToyota Corolla & 33.9  & 4     &  71.1 &  65   & 4.22  & 1.835 & 19.90 & 1     & 1     & 4     & 1    \\\\\n",
       "\tToyota Corona & 21.5  & 4     & 120.1 &  97   & 3.70  & 2.465 & 20.01 & 1     & 0     & 3     & 1    \\\\\n",
       "\tDodge Challenger & 15.5  & 8     & 318.0 & 150   & 2.76  & 3.520 & 16.87 & 0     & 0     & 3     & 2    \\\\\n",
       "\tAMC Javelin & 15.2  & 8     & 304.0 & 150   & 3.15  & 3.435 & 17.30 & 0     & 0     & 3     & 2    \\\\\n",
       "\tCamaro Z28 & 13.3  & 8     & 350.0 & 245   & 3.73  & 3.840 & 15.41 & 0     & 0     & 3     & 4    \\\\\n",
       "\tPontiac Firebird & 19.2  & 8     & 400.0 & 175   & 3.08  & 3.845 & 17.05 & 0     & 0     & 3     & 2    \\\\\n",
       "\tFiat X1-9 & 27.3  & 4     &  79.0 &  66   & 4.08  & 1.935 & 18.90 & 1     & 1     & 4     & 1    \\\\\n",
       "\tPorsche 914-2 & 26.0  & 4     & 120.3 &  91   & 4.43  & 2.140 & 16.70 & 0     & 1     & 5     & 2    \\\\\n",
       "\tLotus Europa & 30.4  & 4     &  95.1 & 113   & 3.77  & 1.513 & 16.90 & 1     & 1     & 5     & 2    \\\\\n",
       "\tFord Pantera L & 15.8  & 8     & 351.0 & 264   & 4.22  & 3.170 & 14.50 & 0     & 1     & 5     & 4    \\\\\n",
       "\tFerrari Dino & 19.7  & 6     & 145.0 & 175   & 3.62  & 2.770 & 15.50 & 0     & 1     & 5     & 6    \\\\\n",
       "\tMaserati Bora & 15.0  & 8     & 301.0 & 335   & 3.54  & 3.570 & 14.60 & 0     & 1     & 5     & 8    \\\\\n",
       "\tVolvo 142E & 21.4  & 4     & 121.0 & 109   & 4.11  & 2.780 & 18.60 & 1     & 1     & 4     & 2    \\\\\n",
       "\\end{tabular}\n"
      ],
      "text/markdown": [
       "\n",
       "| <!--/--> | mpg | cyl | disp | hp | drat | wt | qsec | vs | am | gear | carb |\n",
       "|---|---|---|---|---|---|---|---|---|---|---|---|\n",
       "| Mazda RX4 | 21.0  | 6     | 160.0 | 110   | 3.90  | 2.620 | 16.46 | 0     | 1     | 4     | 4     |\n",
       "| Mazda RX4 Wag | 21.0  | 6     | 160.0 | 110   | 3.90  | 2.875 | 17.02 | 0     | 1     | 4     | 4     |\n",
       "| Datsun 710 | 22.8  | 4     | 108.0 |  93   | 3.85  | 2.320 | 18.61 | 1     | 1     | 4     | 1     |\n",
       "| Hornet 4 Drive | 21.4  | 6     | 258.0 | 110   | 3.08  | 3.215 | 19.44 | 1     | 0     | 3     | 1     |\n",
       "| Hornet Sportabout | 18.7  | 8     | 360.0 | 175   | 3.15  | 3.440 | 17.02 | 0     | 0     | 3     | 2     |\n",
       "| Valiant | 18.1  | 6     | 225.0 | 105   | 2.76  | 3.460 | 20.22 | 1     | 0     | 3     | 1     |\n",
       "| Duster 360 | 14.3  | 8     | 360.0 | 245   | 3.21  | 3.570 | 15.84 | 0     | 0     | 3     | 4     |\n",
       "| Merc 240D | 24.4  | 4     | 146.7 |  62   | 3.69  | 3.190 | 20.00 | 1     | 0     | 4     | 2     |\n",
       "| Merc 230 | 22.8  | 4     | 140.8 |  95   | 3.92  | 3.150 | 22.90 | 1     | 0     | 4     | 2     |\n",
       "| Merc 280 | 19.2  | 6     | 167.6 | 123   | 3.92  | 3.440 | 18.30 | 1     | 0     | 4     | 4     |\n",
       "| Merc 280C | 17.8  | 6     | 167.6 | 123   | 3.92  | 3.440 | 18.90 | 1     | 0     | 4     | 4     |\n",
       "| Merc 450SE | 16.4  | 8     | 275.8 | 180   | 3.07  | 4.070 | 17.40 | 0     | 0     | 3     | 3     |\n",
       "| Merc 450SL | 17.3  | 8     | 275.8 | 180   | 3.07  | 3.730 | 17.60 | 0     | 0     | 3     | 3     |\n",
       "| Merc 450SLC | 15.2  | 8     | 275.8 | 180   | 3.07  | 3.780 | 18.00 | 0     | 0     | 3     | 3     |\n",
       "| Cadillac Fleetwood | 10.4  | 8     | 472.0 | 205   | 2.93  | 5.250 | 17.98 | 0     | 0     | 3     | 4     |\n",
       "| Lincoln Continental | 10.4  | 8     | 460.0 | 215   | 3.00  | 5.424 | 17.82 | 0     | 0     | 3     | 4     |\n",
       "| Chrysler Imperial | 14.7  | 8     | 440.0 | 230   | 3.23  | 5.345 | 17.42 | 0     | 0     | 3     | 4     |\n",
       "| Fiat 128 | 32.4  | 4     |  78.7 |  66   | 4.08  | 2.200 | 19.47 | 1     | 1     | 4     | 1     |\n",
       "| Honda Civic | 30.4  | 4     |  75.7 |  52   | 4.93  | 1.615 | 18.52 | 1     | 1     | 4     | 2     |\n",
       "| Toyota Corolla | 33.9  | 4     |  71.1 |  65   | 4.22  | 1.835 | 19.90 | 1     | 1     | 4     | 1     |\n",
       "| Toyota Corona | 21.5  | 4     | 120.1 |  97   | 3.70  | 2.465 | 20.01 | 1     | 0     | 3     | 1     |\n",
       "| Dodge Challenger | 15.5  | 8     | 318.0 | 150   | 2.76  | 3.520 | 16.87 | 0     | 0     | 3     | 2     |\n",
       "| AMC Javelin | 15.2  | 8     | 304.0 | 150   | 3.15  | 3.435 | 17.30 | 0     | 0     | 3     | 2     |\n",
       "| Camaro Z28 | 13.3  | 8     | 350.0 | 245   | 3.73  | 3.840 | 15.41 | 0     | 0     | 3     | 4     |\n",
       "| Pontiac Firebird | 19.2  | 8     | 400.0 | 175   | 3.08  | 3.845 | 17.05 | 0     | 0     | 3     | 2     |\n",
       "| Fiat X1-9 | 27.3  | 4     |  79.0 |  66   | 4.08  | 1.935 | 18.90 | 1     | 1     | 4     | 1     |\n",
       "| Porsche 914-2 | 26.0  | 4     | 120.3 |  91   | 4.43  | 2.140 | 16.70 | 0     | 1     | 5     | 2     |\n",
       "| Lotus Europa | 30.4  | 4     |  95.1 | 113   | 3.77  | 1.513 | 16.90 | 1     | 1     | 5     | 2     |\n",
       "| Ford Pantera L | 15.8  | 8     | 351.0 | 264   | 4.22  | 3.170 | 14.50 | 0     | 1     | 5     | 4     |\n",
       "| Ferrari Dino | 19.7  | 6     | 145.0 | 175   | 3.62  | 2.770 | 15.50 | 0     | 1     | 5     | 6     |\n",
       "| Maserati Bora | 15.0  | 8     | 301.0 | 335   | 3.54  | 3.570 | 14.60 | 0     | 1     | 5     | 8     |\n",
       "| Volvo 142E | 21.4  | 4     | 121.0 | 109   | 4.11  | 2.780 | 18.60 | 1     | 1     | 4     | 2     |\n",
       "\n"
      ],
      "text/plain": [
       "                    mpg  cyl disp  hp  drat wt    qsec  vs am gear carb\n",
       "Mazda RX4           21.0 6   160.0 110 3.90 2.620 16.46 0  1  4    4   \n",
       "Mazda RX4 Wag       21.0 6   160.0 110 3.90 2.875 17.02 0  1  4    4   \n",
       "Datsun 710          22.8 4   108.0  93 3.85 2.320 18.61 1  1  4    1   \n",
       "Hornet 4 Drive      21.4 6   258.0 110 3.08 3.215 19.44 1  0  3    1   \n",
       "Hornet Sportabout   18.7 8   360.0 175 3.15 3.440 17.02 0  0  3    2   \n",
       "Valiant             18.1 6   225.0 105 2.76 3.460 20.22 1  0  3    1   \n",
       "Duster 360          14.3 8   360.0 245 3.21 3.570 15.84 0  0  3    4   \n",
       "Merc 240D           24.4 4   146.7  62 3.69 3.190 20.00 1  0  4    2   \n",
       "Merc 230            22.8 4   140.8  95 3.92 3.150 22.90 1  0  4    2   \n",
       "Merc 280            19.2 6   167.6 123 3.92 3.440 18.30 1  0  4    4   \n",
       "Merc 280C           17.8 6   167.6 123 3.92 3.440 18.90 1  0  4    4   \n",
       "Merc 450SE          16.4 8   275.8 180 3.07 4.070 17.40 0  0  3    3   \n",
       "Merc 450SL          17.3 8   275.8 180 3.07 3.730 17.60 0  0  3    3   \n",
       "Merc 450SLC         15.2 8   275.8 180 3.07 3.780 18.00 0  0  3    3   \n",
       "Cadillac Fleetwood  10.4 8   472.0 205 2.93 5.250 17.98 0  0  3    4   \n",
       "Lincoln Continental 10.4 8   460.0 215 3.00 5.424 17.82 0  0  3    4   \n",
       "Chrysler Imperial   14.7 8   440.0 230 3.23 5.345 17.42 0  0  3    4   \n",
       "Fiat 128            32.4 4    78.7  66 4.08 2.200 19.47 1  1  4    1   \n",
       "Honda Civic         30.4 4    75.7  52 4.93 1.615 18.52 1  1  4    2   \n",
       "Toyota Corolla      33.9 4    71.1  65 4.22 1.835 19.90 1  1  4    1   \n",
       "Toyota Corona       21.5 4   120.1  97 3.70 2.465 20.01 1  0  3    1   \n",
       "Dodge Challenger    15.5 8   318.0 150 2.76 3.520 16.87 0  0  3    2   \n",
       "AMC Javelin         15.2 8   304.0 150 3.15 3.435 17.30 0  0  3    2   \n",
       "Camaro Z28          13.3 8   350.0 245 3.73 3.840 15.41 0  0  3    4   \n",
       "Pontiac Firebird    19.2 8   400.0 175 3.08 3.845 17.05 0  0  3    2   \n",
       "Fiat X1-9           27.3 4    79.0  66 4.08 1.935 18.90 1  1  4    1   \n",
       "Porsche 914-2       26.0 4   120.3  91 4.43 2.140 16.70 0  1  5    2   \n",
       "Lotus Europa        30.4 4    95.1 113 3.77 1.513 16.90 1  1  5    2   \n",
       "Ford Pantera L      15.8 8   351.0 264 4.22 3.170 14.50 0  1  5    4   \n",
       "Ferrari Dino        19.7 6   145.0 175 3.62 2.770 15.50 0  1  5    6   \n",
       "Maserati Bora       15.0 8   301.0 335 3.54 3.570 14.60 0  1  5    8   \n",
       "Volvo 142E          21.4 4   121.0 109 4.11 2.780 18.60 1  1  4    2   "
      ]
     },
     "metadata": {},
     "output_type": "display_data"
    }
   ],
   "source": [
    "mtcars\n"
   ]
  },
  {
   "cell_type": "code",
   "execution_count": 120,
   "metadata": {},
   "outputs": [
    {
     "data": {
      "text/html": [
       "12"
      ],
      "text/latex": [
       "12"
      ],
      "text/markdown": [
       "12"
      ],
      "text/plain": [
       "[1] 12"
      ]
     },
     "metadata": {},
     "output_type": "display_data"
    }
   ],
   "source": [
    "# Use mtcars\n",
    "\n",
    "# Select the fourth column, named hp, from mtcars: fourth\n",
    "fourth <- mtcars$hp\n",
    "\n",
    "# Build a logical vector, TRUE if value in fourth is extreme: extremes\n",
    "## Larger than 200 or less than 80\n",
    "extremes <- fourth > 200 | fourth < 80\n",
    "\n",
    "# Count the number of TRUEs in extremes\n",
    "sum(extremes)"
   ]
  },
  {
   "cell_type": "markdown",
   "metadata": {},
   "source": [
    "### Conditional statements"
   ]
  },
  {
   "cell_type": "markdown",
   "metadata": {},
   "source": [
    "1. Examine the if statement that prints out \"Showing LinkedIn information\"   if the medium \n",
    "variable equals \"LinkedIn\".  \n",
    "\n",
    "2. Code an if statement that prints \"You are popular!\" to the console  \n",
    "if the num_views variable exceeds 15."
   ]
  },
  {
   "cell_type": "code",
   "execution_count": null,
   "metadata": {},
   "outputs": [],
   "source": [
    "# Variables related to your last day of recordings\n",
    "medium <- \"LinkedIn\"\n",
    "num_views <- 14\n",
    "\n",
    "# Examine the if statement for medium\n",
    "if (medium == \"LinkedIn\") {\n",
    "  print(\"Showing LinkedIn information\")\n",
    "}\n",
    "\n",
    "# Write the if statement for num_views\n",
    "if (num_views > 15) {\n",
    "  print('You are popular!')\n",
    "}"
   ]
  },
  {
   "cell_type": "markdown",
   "metadata": {},
   "source": [
    "1. \"Unknown medium\" gets printed out to the console when the   \n",
    "if-condition on medium does not hold.\n",
    "2. R prints out \"Try to be more visible!\" when the if-condition on   \n",
    "num_views is not met."
   ]
  },
  {
   "cell_type": "code",
   "execution_count": 43,
   "metadata": {},
   "outputs": [
    {
     "name": "stdout",
     "output_type": "stream",
     "text": [
      "[1] \"Showing LinkedIn information\"\n",
      "[1] \"Try to be more visible!\"\n"
     ]
    }
   ],
   "source": [
    "# Variables related to your last day of recordings\n",
    "medium <- \"LinkedIn\"\n",
    "num_views <- 14\n",
    "\n",
    "# Control structure for medium\n",
    "if (medium == \"LinkedIn\") {\n",
    "  print(\"Showing LinkedIn information\")\n",
    "} else{\n",
    "  print('Unknown medium')\n",
    "}\n",
    "\n",
    "\n",
    "\n",
    "\n",
    "# Control structure for num_views\n",
    "if (num_views > 15) {\n",
    "  print(\"You're popular!\")\n",
    "} else{\n",
    "  print('Try to be more visible!')\n",
    "}"
   ]
  },
  {
   "cell_type": "markdown",
   "metadata": {},
   "source": [
    "1. Your number of views is average\" is printed if num_views is between 15 (inclusive) and 10(exclusive).   \n",
    "2. Feel free to change the variables medium and num_views to see how the control structure respond.   \n",
    "3. In both cases, the existing code should be extended in the else if statement. No existing code should be modified.\n"
   ]
  },
  {
   "cell_type": "code",
   "execution_count": null,
   "metadata": {},
   "outputs": [],
   "source": [
    "# Variables related to your last day of recordings\n",
    "medium <- \"LinkedIn\"\n",
    "num_views <- 14\n",
    "\n",
    "# Control structure for medium\n",
    "if (medium == \"LinkedIn\") {\n",
    "  print(\"Showing LinkedIn information\")\n",
    "} else if (medium == \"Facebook\") {\n",
    "  print('Showing Facebook information')\n",
    "} else {\n",
    "  print(\"Unknown medium\")\n",
    "}\n",
    "\n",
    "# Control structure for num_views\n",
    "if (num_views > 15) {\n",
    "  print(\"You're popular!\")\n",
    "} else if (num_views <= 15 & num_views > 10) {\n",
    "  print('Your number of views is average')\n",
    "} else {\n",
    "  print(\"Try to be more visible!\")\n",
    "}"
   ]
  },
  {
   "cell_type": "markdown",
   "metadata": {},
   "source": [
    "1. If both li and fb are 15 or higher, set sms equal to double the sum of li and fb.  \n",
    "2. If both li and fb are strictly below 10, set sms equal to half the sum of li and fb.  \n",
    "3. In all other cases, set sms equal to li + fb.  \n",
    "4. Finally, print the resulting sms variable to the console.  "
   ]
  },
  {
   "cell_type": "code",
   "execution_count": 45,
   "metadata": {},
   "outputs": [
    {
     "name": "stdout",
     "output_type": "stream",
     "text": [
      "[1] 24\n"
     ]
    }
   ],
   "source": [
    "# Variables related to your last day of recordings\n",
    "li <- 15\n",
    "fb <- 9\n",
    "\n",
    "# Code the control-flow construct\n",
    "if (li >= 15 & fb >= 15) {\n",
    "  sms <- 2 * (li + fb)\n",
    "} else if (li < 10 & fb < 10) {\n",
    "  sms <- 0.5 * (li + fb)\n",
    "} else {\n",
    "  sms <- li + fb\n",
    "}\n",
    "\n",
    "# Print the resulting sms to the console\n",
    "print(sms)"
   ]
  },
  {
   "cell_type": "markdown",
   "metadata": {},
   "source": [
    "\n",
    "\n",
    "# Loops\n",
    "\n",
    "\n",
    "\n"
   ]
  },
  {
   "cell_type": "markdown",
   "metadata": {},
   "source": [
    "### Write a while loop"
   ]
  },
  {
   "cell_type": "markdown",
   "metadata": {},
   "source": [
    "The condition of the while loop should check if speed is higher than 30.  \n",
    "Inside the body of the while loop, print out \"Slow down!\".  \n",
    "Inside the body of the while loop, decrease the speed by 7 units and assign this new value to speed again.   \n",
    "This step is crucial; otherwise your while loop will never stop and your session will expire."
   ]
  },
  {
   "cell_type": "code",
   "execution_count": null,
   "metadata": {},
   "outputs": [],
   "source": [
    "# Initialize the speed variable\n",
    "speed <- 64\n",
    "\n",
    "# Code the while loop\n",
    "while (speed > 30) {\n",
    "  print('Slow down!')\n",
    "  speed <- speed - 7\n",
    "}\n",
    "\n",
    "# Print out the speed variable\n",
    "speed"
   ]
  },
  {
   "cell_type": "markdown",
   "metadata": {},
   "source": [
    "If the speed is greater than 48, have R print out \"Slow down big time!\", and decrease the speed by 11.    \n",
    "Otherwise, have R simply print out \"Slow down!\", and decrease the speed by 6.  "
   ]
  },
  {
   "cell_type": "code",
   "execution_count": null,
   "metadata": {},
   "outputs": [],
   "source": [
    "# Initialize the speed variable\n",
    "speed <- 64\n",
    "\n",
    "# Extend/adapt the while loop\n",
    "while (speed > 30) {\n",
    "  print(paste(\"Your speed is\",speed))\n",
    "  if (speed > 48) {\n",
    "    print('Slow down big time!')\n",
    "    speed <- speed - 11\n",
    "  } else {\n",
    "    print(\"Slow down!\")\n",
    "    speed <- speed - 6\n",
    "  }\n",
    "}"
   ]
  },
  {
   "cell_type": "markdown",
   "metadata": {},
   "source": [
    "Adapt the while loop such that it is abandoned when the speed of the vehicle is greater than 80.   \n",
    "This time, the speed variable has been initialized to 88; keep it that way."
   ]
  },
  {
   "cell_type": "code",
   "execution_count": 147,
   "metadata": {},
   "outputs": [
    {
     "name": "stdout",
     "output_type": "stream",
     "text": [
      "[1] \"Your speed is 88\"\n"
     ]
    }
   ],
   "source": [
    "# Initialize the speed variable\n",
    "speed <- 88\n",
    "\n",
    "while (speed > 30) {\n",
    "  print(paste(\"Your speed is\", speed))\n",
    "  \n",
    "  # Break the while loop when speed exceeds 80\n",
    "  if (speed > 80 ) {\n",
    "    break\n",
    "  }\n",
    "  \n",
    "  if (speed > 48) {\n",
    "    print(\"Slow down big time!\")\n",
    "    speed <- speed - 11\n",
    "  } else {\n",
    "    print(\"Slow down!\")\n",
    "    speed <- speed - 6\n",
    "  }\n",
    "}"
   ]
  },
  {
   "cell_type": "markdown",
   "metadata": {},
   "source": [
    "Finish the while loop so that it:  \n",
    "\n",
    "1. prints out the triple of i, so 3 * i, at each run.  \n",
    "2. is abandoned with a break if the triple of i is divisible by 8, but still prints out this triple before breaking."
   ]
  },
  {
   "cell_type": "code",
   "execution_count": null,
   "metadata": {},
   "outputs": [],
   "source": [
    "# Initialize i as 1 \n",
    "i <- 1\n",
    "\n",
    "# Code the while loop\n",
    "while (i <= 10) {\n",
    "  print(3*i)\n",
    "  if ( (3*i)%%8==0 ) {\n",
    "    print(3*i)\n",
    "    break\n",
    "  }\n",
    "  i <- i + 1\n",
    "}"
   ]
  },
  {
   "cell_type": "markdown",
   "metadata": {},
   "source": [
    "### For loop"
   ]
  },
  {
   "cell_type": "code",
   "execution_count": null,
   "metadata": {},
   "outputs": [],
   "source": [
    "## loop over a vector"
   ]
  },
  {
   "cell_type": "code",
   "execution_count": 149,
   "metadata": {},
   "outputs": [
    {
     "name": "stdout",
     "output_type": "stream",
     "text": [
      "[1] 2\n",
      "[1] 3\n",
      "[1] 5\n",
      "[1] 7\n",
      "[1] 11\n",
      "[1] 13\n",
      "[1] 2\n",
      "[1] 3\n",
      "[1] 5\n",
      "[1] 7\n",
      "[1] 11\n",
      "[1] 13\n"
     ]
    }
   ],
   "source": [
    "primes <- c(2, 3, 5, 7, 11, 13)\n",
    "\n",
    "# loop version 1\n",
    "for (p in primes) {\n",
    "  print(p)\n",
    "}\n",
    "\n",
    "# loop version 2\n",
    "for (i in 1:length(primes)) {\n",
    "  print(primes[i])\n",
    "}"
   ]
  },
  {
   "cell_type": "code",
   "execution_count": null,
   "metadata": {},
   "outputs": [],
   "source": [
    "# The linkedin vector has already been defined for you\n",
    "linkedin <- c(16, 9, 13, 5, 2, 17, 14)\n",
    "\n",
    "# Loop version 1\n",
    "for (k in linkedin){\n",
    "  print(k)\n",
    "}"
   ]
  },
  {
   "cell_type": "code",
   "execution_count": null,
   "metadata": {},
   "outputs": [],
   "source": [
    "# Loop version 2\n",
    "for (i in 1:length(linkedin)){\n",
    "  print(linkedin[i])\n",
    "}\n"
   ]
  },
  {
   "cell_type": "code",
   "execution_count": null,
   "metadata": {},
   "outputs": [],
   "source": [
    "## loop over a list"
   ]
  },
  {
   "cell_type": "code",
   "execution_count": null,
   "metadata": {},
   "outputs": [],
   "source": [
    "# The nyc list is already specified\n",
    "nyc <- list(pop = 8405837, \n",
    "            boroughs = c(\"Manhattan\", \"Bronx\", \"Brooklyn\", \"Queens\", \"Staten Island\"), \n",
    "            capital = FALSE)\n",
    "\n",
    "# Loop version 1\n",
    "for (p in nyc){\n",
    "  print(p)\n",
    "}\n",
    "\n"
   ]
  },
  {
   "cell_type": "code",
   "execution_count": null,
   "metadata": {},
   "outputs": [],
   "source": [
    "# Loop version 2\n",
    "for (p in 1:length(nyc)){\n",
    "  print(nyc[[p]])\n",
    "}"
   ]
  },
  {
   "cell_type": "code",
   "execution_count": null,
   "metadata": {},
   "outputs": [],
   "source": [
    "## loop over a matrix"
   ]
  },
  {
   "cell_type": "code",
   "execution_count": null,
   "metadata": {},
   "outputs": [],
   "source": [
    "# Matrix with numerics from 1 up to 9\n",
    "my_matrix <- matrix(1:9, ncol = 3)"
   ]
  },
  {
   "cell_type": "code",
   "execution_count": null,
   "metadata": {},
   "outputs": [],
   "source": [
    "# define the double for loop\n",
    "for (i in 1:nrow(my_matrix)) {\n",
    "  for (j in 1:ncol(my_matrix)) {\n",
    "    print(paste(\"On row\", i, \"and column\", j, \"the number is\", my_matrix[i,j]))\n",
    "  }\n",
    "}"
   ]
  },
  {
   "cell_type": "markdown",
   "metadata": {},
   "source": [
    "1. If the vector element's value exceeds 10, print out \"You're popular!\".   \n",
    "2. If the vector element's value does not exceed 10, print out \"Be more visible!\""
   ]
  },
  {
   "cell_type": "code",
   "execution_count": 150,
   "metadata": {},
   "outputs": [
    {
     "name": "stdout",
     "output_type": "stream",
     "text": [
      "[1] \"You're popular!\"\n",
      "[1] 16\n",
      "[1] \"Be more visible!\"\n",
      "[1] 9\n",
      "[1] \"You're popular!\"\n",
      "[1] 13\n",
      "[1] \"Be more visible!\"\n",
      "[1] 5\n",
      "[1] \"Be more visible!\"\n",
      "[1] 2\n",
      "[1] \"You're popular!\"\n",
      "[1] 17\n",
      "[1] \"You're popular!\"\n",
      "[1] 14\n"
     ]
    }
   ],
   "source": [
    "# The linkedin vector has already been defined for you\n",
    "linkedin <- c(16, 9, 13, 5, 2, 17, 14)\n",
    "\n",
    "# Code the for loop with conditionals\n",
    "for (li in linkedin) {\n",
    "  if (li > 10) {\n",
    "    print(\"You're popular!\")\n",
    "  } else {\n",
    "    print(\"Be more visible!\")\n",
    "    \n",
    "  }\n",
    "  print(li)\n",
    "}"
   ]
  },
  {
   "cell_type": "code",
   "execution_count": 151,
   "metadata": {},
   "outputs": [
    {
     "name": "stdout",
     "output_type": "stream",
     "text": [
      "[1] \"You're popular!\"\n",
      "[1] 16\n",
      "[1] \"Be more visible!\"\n",
      "[1] 9\n",
      "[1] \"You're popular!\"\n",
      "[1] 13\n",
      "[1] \"Be more visible!\"\n",
      "[1] 5\n",
      "[1] \"Be more visible!\"\n",
      "[1] \"This is too embarrassing!\"\n",
      "[1] \"You're popular!\"\n",
      "[1] \"This is ridiculous, I'm outta here!\"\n"
     ]
    }
   ],
   "source": [
    "# The linkedin vector has already been defined for you\n",
    "linkedin <- c(16, 9, 13, 5, 2, 17, 14)\n",
    "\n",
    "# Adapt/extend the for loop\n",
    "for (li in linkedin) {\n",
    "  if (li > 10) {\n",
    "    print(\"You're popular!\")\n",
    "  } else {\n",
    "    print(\"Be more visible!\")\n",
    "  }\n",
    "  \n",
    "  # Add if statement with break\n",
    "  if (li > 16){\n",
    "    print(\"This is ridiculous, I'm outta here!\")\n",
    "    break\n",
    "  }\n",
    "  \n",
    "  # Add if statement with next\n",
    "    if (li < 5){\n",
    "    print(\"This is too embarrassing!\")\n",
    "    next\n",
    "  }\n",
    "  \n",
    "  print(li)\n",
    "}"
   ]
  },
  {
   "cell_type": "markdown",
   "metadata": {},
   "source": [
    "1. Initialize the variable rcount, as 0.  \n",
    "2. Finish the for loop:  \n",
    "3. if char equals \"r\", increase the value of rcount by 1.    \n",
    "4. if char equals \"u\", leave the for loop entirely with a break.  \n",
    "5. print out the variable rcount to the console to see if your code is correct.\n"
   ]
  },
  {
   "cell_type": "code",
   "execution_count": 123,
   "metadata": {},
   "outputs": [
    {
     "name": "stdout",
     "output_type": "stream",
     "text": [
      " [1] \"r\" \"'\" \"s\" \" \" \"i\" \"n\" \"t\" \"e\" \"r\" \"n\" \"a\" \"l\" \"s\" \" \" \"a\" \"r\" \"e\" \" \" \"i\"\n",
      "[20] \"r\" \"r\" \"e\" \"f\" \"u\" \"t\" \"a\" \"b\" \"l\" \"y\" \" \" \"i\" \"n\" \"t\" \"r\" \"i\" \"g\" \"u\" \"i\"\n",
      "[39] \"n\" \"g\"\n",
      "[1] 5\n"
     ]
    }
   ],
   "source": [
    "# Pre-defined variables\n",
    "rquote <- \"r's internals are irrefutably intriguing\"\n",
    "chars <- strsplit(rquote, split = \"\")[[1]]\n",
    "print(chars)\n",
    "\n",
    "# Initialize rcount\n",
    "rcount <- 0\n",
    "\n",
    "# Finish the for loop\n",
    "for (char in chars) {\n",
    "  if (char=='r'){\n",
    "    rcount <- rcount + 1\n",
    "  }else if (char=='u'){\n",
    "    break\n",
    "  }\n",
    "  \n",
    "}\n",
    "\n",
    "# Print out rcount\n",
    "print(rcount)"
   ]
  },
  {
   "cell_type": "code",
   "execution_count": null,
   "metadata": {},
   "outputs": [],
   "source": []
  }
 ],
 "metadata": {
  "kernelspec": {
   "display_name": "R",
   "language": "R",
   "name": "ir"
  },
  "language_info": {
   "codemirror_mode": "r",
   "file_extension": ".r",
   "mimetype": "text/x-r-source",
   "name": "R",
   "pygments_lexer": "r",
   "version": "3.6.1"
  }
 },
 "nbformat": 4,
 "nbformat_minor": 2
}
