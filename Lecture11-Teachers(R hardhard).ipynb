{
 "cells": [
  {
   "cell_type": "markdown",
   "metadata": {},
   "source": [
    "## Grouping and summarizing\n"
   ]
  },
  {
   "cell_type": "code",
   "execution_count": null,
   "metadata": {},
   "outputs": [],
   "source": [
    "library(gapminder)\n",
    "library(dplyr)\n",
    "library(ggplot2)"
   ]
  },
  {
   "cell_type": "code",
   "execution_count": null,
   "metadata": {},
   "outputs": [],
   "source": [
    "# Summarize to find the median life expectancy\n",
    "gapminder %>%\n",
    "  summarize(medianLifeExp = median(lifeExp))"
   ]
  },
  {
   "cell_type": "code",
   "execution_count": null,
   "metadata": {},
   "outputs": [],
   "source": [
    "# Filter for 1957 then summarize the median life expectancy\n",
    "gapminder %>%\n",
    "  filter(year==1957) %>%\n",
    "    summarize(medianLifeExp = median(lifeExp))"
   ]
  },
  {
   "cell_type": "code",
   "execution_count": null,
   "metadata": {},
   "outputs": [],
   "source": [
    "# Filter for 1957 then summarize the median life expectancy and the maximum GDP per capita\n",
    "gapminder %>%\n",
    "  filter(year==1957) %>%\n",
    "    summarize(medianLifeExp = median(lifeExp), maxGdpPercap = max(gdpPercap))"
   ]
  },
  {
   "cell_type": "code",
   "execution_count": null,
   "metadata": {
    "scrolled": true
   },
   "outputs": [],
   "source": [
    "# Find median life expectancy and maximum GDP per capita in each year\n",
    "gapminder %>%\n",
    "    group_by(year) %>%\n",
    "      summarize(medianLifeExp = median(lifeExp), maxGdpPercap = max(gdpPercap)) "
   ]
  },
  {
   "cell_type": "code",
   "execution_count": null,
   "metadata": {},
   "outputs": [],
   "source": [
    "# Find median life expectancy and maximum GDP per capita in each continent in 1957\n",
    "\n",
    "gapminder %>%\n",
    "  filter(year==1957) %>%\n",
    "    group_by(continent) %>%\n",
    "      summarize(medianLifeExp = median(lifeExp), maxGdpPercap = max(gdpPercap)) "
   ]
  },
  {
   "cell_type": "code",
   "execution_count": null,
   "metadata": {},
   "outputs": [],
   "source": [
    "# Find median life expectancy and maximum GDP per capita in each continent/year combination\n",
    "gapminder %>%\n",
    "    group_by(continent, year) %>%\n",
    "      summarize(medianLifeExp = median(lifeExp), maxGdpPercap = max(gdpPercap)) "
   ]
  },
  {
   "cell_type": "code",
   "execution_count": null,
   "metadata": {},
   "outputs": [],
   "source": [
    "by_year <- gapminder %>%\n",
    "  group_by(year) %>%\n",
    "  summarize(medianLifeExp = median(lifeExp),\n",
    "            maxGdpPercap = max(gdpPercap)) \n",
    "\n",
    "# Create a scatter plot showing the change in medianLifeExp over time\n",
    "ggplot(by_year, aes(x=year, y=medianLifeExp)) + geom_point()+expand_limits(y=0)"
   ]
  },
  {
   "cell_type": "code",
   "execution_count": null,
   "metadata": {},
   "outputs": [],
   "source": [
    "# Summarize medianGdpPercap within each continent within each year: by_year_continent\n",
    "by_year_continent <- gapminder %>%\n",
    "  group_by(continent, year) %>%\n",
    "    summarize(medianGdpPercap = median(gdpPercap)) \n",
    "\n",
    "# Plot the change in medianGdpPercap in each continent over time\n",
    "ggplot(by_year_continent, aes(x=year, y=medianGdpPercap, color = continent)) + geom_point() + expand_limits(y=0)"
   ]
  },
  {
   "cell_type": "code",
   "execution_count": null,
   "metadata": {},
   "outputs": [],
   "source": [
    "# Summarize the median GDP and median life expectancy per continent in 2007\n",
    "by_continent_2007 <- gapminder %>%\n",
    "  filter(year==2007) %>%\n",
    "    group_by(continent) %>%\n",
    "      summarize(medianGdpPercap = median(gdpPercap), medianLifeExp = median(lifeExp))\n",
    "\n",
    "# Use a scatter plot to compare the median GDP and median life expectancy\n",
    "ggplot(by_continent_2007, aes(x= medianGdpPercap, y=medianLifeExp, color = continent)) + geom_point() \n"
   ]
  },
  {
   "cell_type": "markdown",
   "metadata": {},
   "source": [
    "## Types of visualization\n"
   ]
  },
  {
   "cell_type": "markdown",
   "metadata": {},
   "source": [
    "### line plot"
   ]
  },
  {
   "cell_type": "code",
   "execution_count": null,
   "metadata": {},
   "outputs": [],
   "source": [
    "# Summarize the median gdpPercap by year, then save it as by_year\n",
    "by_year <- gapminder %>%\n",
    "            group_by(year) %>%\n",
    "              summarize(medianGdpPercap = median(gdpPercap))\n",
    "\n",
    "# Create a line plot showing the change in medianGdpPercap over time\n",
    "ggplot(by_year, aes(x=year, y=medianGdpPercap)) + geom_line() + expand_limits(y=0)"
   ]
  },
  {
   "cell_type": "code",
   "execution_count": null,
   "metadata": {},
   "outputs": [],
   "source": [
    "# Summarize the median gdpPercap by year & continent, save as by_year_continent\n",
    "by_year_continent <- gapminder %>%\n",
    "                        group_by(year, continent) %>%\n",
    "                          summarize(medianGdpPercap = median(gdpPercap)) \n",
    "# Create a line plot showing the change in medianGdpPercap by continent over time\n",
    "ggplot(by_year_continent, aes(x=year, y=medianGdpPercap, color=continent)) + geom_line() + expand_limits(y=0)"
   ]
  },
  {
   "cell_type": "markdown",
   "metadata": {},
   "source": [
    "#### bar plot"
   ]
  },
  {
   "cell_type": "code",
   "execution_count": null,
   "metadata": {},
   "outputs": [],
   "source": [
    "# Summarize the median gdpPercap by continent in 1952\n",
    "by_continent <- gapminder %>%\n",
    "  filter(year==1952) %>%\n",
    "    group_by(continent) %>%\n",
    "      summarize(medianGdpPercap = median(gdpPercap))\n",
    "\n",
    "# Create a bar plot showing medianGdp by continent\n",
    "ggplot(by_continent, aes(x=continent, y=medianGdpPercap)) + \n",
    "geom_col()"
   ]
  },
  {
   "cell_type": "code",
   "execution_count": null,
   "metadata": {},
   "outputs": [],
   "source": [
    "# Filter for observations in the Oceania continent in 1952\n",
    "oceania_1952 <- gapminder %>%\n",
    "                  filter(continent =='Oceania', year==1952) \n",
    "\n",
    "\n",
    "# Create a bar plot of gdpPercap by country\n",
    "ggplot(oceania_1952, aes(x=country, y=gdpPercap)) + geom_col()"
   ]
  },
  {
   "cell_type": "markdown",
   "metadata": {},
   "source": [
    "#### Histogram"
   ]
  },
  {
   "cell_type": "code",
   "execution_count": null,
   "metadata": {},
   "outputs": [],
   "source": [
    "gapminder_1952 <- gapminder %>%\n",
    "  filter(year == 1952) %>%\n",
    "  mutate(pop_by_mil = pop / 1000000)\n",
    "\n",
    "# Create a histogram of population (pop_by_mil)\n",
    "ggplot(gapminder_1952, aes(x = pop_by_mil)) + geom_histogram(bins=50)\n"
   ]
  },
  {
   "cell_type": "code",
   "execution_count": null,
   "metadata": {},
   "outputs": [],
   "source": [
    "library(gapminder)\n",
    "library(dplyr)\n",
    "library(ggplot2)\n",
    "\n",
    "gapminder_1952 <- gapminder %>%\n",
    "  filter(year == 1952)\n",
    "\n",
    "# Create a histogram of population (pop), with x on a log scale\n",
    "ggplot(gapminder_1952, aes(x= pop)) + geom_histogram() + scale_x_log10()"
   ]
  },
  {
   "cell_type": "markdown",
   "metadata": {},
   "source": [
    "#### Boxplot"
   ]
  },
  {
   "cell_type": "code",
   "execution_count": null,
   "metadata": {},
   "outputs": [],
   "source": [
    "gapminder_1952 <- gapminder %>%\n",
    "  filter(year == 1952)\n",
    "\n",
    "# Create a boxplot comparing gdpPercap among continents\n",
    "ggplot(gapminder_1952, aes(x = continent, y=gdpPercap)) + geom_boxplot() + scale_y_log10()"
   ]
  },
  {
   "cell_type": "code",
   "execution_count": null,
   "metadata": {},
   "outputs": [],
   "source": [
    "gapminder_1952 <- gapminder %>%\n",
    "  filter(year == 1952)\n",
    "\n",
    "# Add a title to this graph: \"Comparing GDP per capita across continents\"\n",
    "ggplot(gapminder_1952, aes(x = continent, y = gdpPercap)) +\n",
    "  geom_boxplot() +\n",
    "  scale_y_log10() + ggtitle('Comparing GDP per capita across continents')"
   ]
  },
  {
   "cell_type": "markdown",
   "metadata": {},
   "source": [
    "# Counties dataset"
   ]
  },
  {
   "cell_type": "code",
   "execution_count": null,
   "metadata": {
    "scrolled": false
   },
   "outputs": [],
   "source": [
    "counties = readRDS('counties.rds')\n",
    "glimpse(counties)"
   ]
  },
  {
   "cell_type": "markdown",
   "metadata": {},
   "source": [
    "### select and count verbs"
   ]
  },
  {
   "cell_type": "code",
   "execution_count": null,
   "metadata": {},
   "outputs": [],
   "source": [
    "# Select the columns: state, county, population, poverty\n",
    "counties %>%\n",
    "  select(state, county, population, poverty)"
   ]
  },
  {
   "cell_type": "code",
   "execution_count": null,
   "metadata": {},
   "outputs": [],
   "source": [
    "counties %>%\n",
    "  # Select the five columns : state, county, population, men, and women\n",
    "  select(state, county, population, men, women) %>%\n",
    "  # Add the proportion_men variable with the fraction of the county's population made up of men\n",
    "  mutate(proportion_men = men / population) %>%\n",
    "  # Filter for population of at least 10,000\n",
    "  filter(population >= 10000) %>% \n",
    "  # Arrange proportion of men in descending order \n",
    "  arrange(desc(proportion_men))"
   ]
  },
  {
   "cell_type": "code",
   "execution_count": null,
   "metadata": {},
   "outputs": [],
   "source": [
    "counties_selected <- counties %>%\n",
    "  select(region, state, population, citizens)"
   ]
  },
  {
   "cell_type": "code",
   "execution_count": null,
   "metadata": {},
   "outputs": [],
   "source": [
    "# Use count to find the number of counties in each region and sort in descending order\n",
    "counties_selected %>%\n",
    "  count(region, sort = TRUE)"
   ]
  },
  {
   "cell_type": "code",
   "execution_count": null,
   "metadata": {},
   "outputs": [],
   "source": [
    "# Find number of counties per state, weighted by citizens\n",
    "counties_selected %>%\n",
    "  count(state, wt = citizens, sort = TRUE)"
   ]
  },
  {
   "cell_type": "code",
   "execution_count": null,
   "metadata": {},
   "outputs": [],
   "source": [
    "# walk column indicates percentage of people in each county that walk to work\n",
    "counties_selected %>%\n",
    "  # Add population_walk containing the total number of people who walk to work \n",
    "  mutate(population_walk = population * walk / 100) %>%\n",
    "  # Count weighted by the new column\n",
    "  count(state, wt = population_walk, sort = TRUE)"
   ]
  },
  {
   "cell_type": "markdown",
   "metadata": {},
   "source": [
    "### aggregation"
   ]
  },
  {
   "cell_type": "raw",
   "metadata": {},
   "source": [
    "Summarize the counties dataset to find the following columns: min_population (with the smallest population), max_unemployment (with the maximum unemployment), and average_income (with the mean of the income variable)."
   ]
  },
  {
   "cell_type": "code",
   "execution_count": null,
   "metadata": {},
   "outputs": [],
   "source": [
    "counties_selected <- counties %>%\n",
    "  select(county, population, income, unemployment)"
   ]
  },
  {
   "cell_type": "code",
   "execution_count": null,
   "metadata": {},
   "outputs": [],
   "source": [
    "# Summarize to find minimum population, maximum unemployment, and average income\n",
    "counties_selected %>%\n",
    "  summarize(min_population = min(population), max_unemployment = max(unemployment), average_income = mean(income))\n",
    "\n"
   ]
  },
  {
   "cell_type": "code",
   "execution_count": null,
   "metadata": {},
   "outputs": [],
   "source": [
    "# Summarize to find minimum population, maximum unemployment, and average income\n",
    "counties_selected %>%\n",
    "  summarize(min_population = min(population), max_unemployment = max(unemployment), average_income = mean(income))"
   ]
  },
  {
   "cell_type": "code",
   "execution_count": null,
   "metadata": {},
   "outputs": [],
   "source": [
    "counties_selected <- counties %>%\n",
    "  select(state, county, population, land_area)"
   ]
  },
  {
   "cell_type": "code",
   "execution_count": null,
   "metadata": {},
   "outputs": [],
   "source": [
    "# Group by state and find the total land area and population\n",
    "counties_selected %>%\n",
    "  group_by(state) %>%\n",
    "  summarize(total_area = sum(land_area), total_population = sum(population))\n",
    "  \n",
    "  \n"
   ]
  },
  {
   "cell_type": "code",
   "execution_count": null,
   "metadata": {},
   "outputs": [],
   "source": [
    "# Add a density column, then sort in descending order\n",
    "counties_selected %>%\n",
    "  group_by(state) %>%\n",
    "  summarize(total_area = sum(land_area),\n",
    "            total_population = sum(population)) %>%\n",
    "  mutate(density = total_population / total_area) %>%\n",
    "  arrange(desc(density))"
   ]
  },
  {
   "cell_type": "code",
   "execution_count": null,
   "metadata": {},
   "outputs": [],
   "source": [
    "counties_selected <- counties %>%\n",
    "  select(region, state, county, population)"
   ]
  },
  {
   "cell_type": "code",
   "execution_count": null,
   "metadata": {},
   "outputs": [],
   "source": [
    "# Calculate the average_pop and median_pop columns \n",
    "counties_selected %>%\n",
    "  group_by(region, state) %>%\n",
    "  summarize(total_pop = sum(population)) %>%\n",
    "  summarize(average_pop = mean(total_pop),\n",
    "            median_pop = median(total_pop))"
   ]
  },
  {
   "cell_type": "code",
   "execution_count": null,
   "metadata": {},
   "outputs": [],
   "source": [
    "counties_selected <- counties %>%\n",
    "  select(region, state, county, metro, population, walk)"
   ]
  },
  {
   "cell_type": "code",
   "execution_count": null,
   "metadata": {},
   "outputs": [],
   "source": [
    "# Find the county in each region with the highest percentage of citizens who walk to work.\n",
    "counties_selected %>%\n",
    "  group_by(region) %>%\n",
    "  top_n(1, walk)\n",
    "  "
   ]
  },
  {
   "cell_type": "code",
   "execution_count": null,
   "metadata": {},
   "outputs": [],
   "source": [
    "counties_selected <- counties %>%\n",
    "  select(region, state, county, population, income)"
   ]
  },
  {
   "cell_type": "code",
   "execution_count": null,
   "metadata": {},
   "outputs": [],
   "source": [
    "# Calculate the average income (as average_income) of counties within each region and state\n",
    "counties_selected %>%\n",
    "  group_by(region, state) %>%\n",
    "  # Calculate average income\n",
    "  summarize(average_income = mean(income)) %>%\n",
    "  # Find the highest income state in each region\n",
    "  top_n(1, average_income)"
   ]
  },
  {
   "cell_type": "code",
   "execution_count": null,
   "metadata": {},
   "outputs": [],
   "source": [
    "counties_selected <- counties %>%\n",
    "  select(state, metro, population)"
   ]
  },
  {
   "cell_type": "markdown",
   "metadata": {},
   "source": [
    "### advanced selecting"
   ]
  },
  {
   "cell_type": "code",
   "execution_count": null,
   "metadata": {},
   "outputs": [],
   "source": [
    "# Glimpse the counties table\n",
    "glimpse(counties)\n",
    "\n",
    "counties %>%\n",
    "  # Select state, county, population, and industry-related columns using colon\n",
    "  # (professional, service, office, construction, and production)\n",
    "  select(state, county, population, professional:production) %>%\n",
    "  # Arrange service in descending order \n",
    "  arrange(desc(service))"
   ]
  },
  {
   "cell_type": "code",
   "execution_count": null,
   "metadata": {},
   "outputs": [],
   "source": [
    "counties %>%\n",
    "  # Select the state, county, population, and those ending with \"work\"\n",
    "  select(state, county, population, ends_with(\"work\")) %>%\n",
    "  # Filter for counties that have at least 50% of people engaged in public work\n",
    "  filter(public_work >= 50)"
   ]
  },
  {
   "cell_type": "markdown",
   "metadata": {},
   "source": [
    "### rename"
   ]
  },
  {
   "cell_type": "code",
   "execution_count": null,
   "metadata": {},
   "outputs": [],
   "source": [
    "# Rename the n column to num_counties\n",
    "counties %>%\n",
    "  count(state) %>%\n",
    "  rename(num_counties = n)\n",
    "  "
   ]
  },
  {
   "cell_type": "code",
   "execution_count": null,
   "metadata": {},
   "outputs": [],
   "source": [
    "## rename using select verb\n",
    "# Select state, county, and poverty as poverty_rate\n",
    "counties %>%\n",
    "  select(state, county, poverty_rate = poverty)"
   ]
  },
  {
   "cell_type": "markdown",
   "metadata": {},
   "source": [
    "### transmute = select + mutate"
   ]
  },
  {
   "cell_type": "code",
   "execution_count": null,
   "metadata": {},
   "outputs": [],
   "source": [
    "counties %>%\n",
    "  # Keep the state, county, and populations columns, and add a density column\n",
    "  transmute(state, county, population, density = population/land_area) %>%\n",
    "  # Filter for counties with a population greater than one million \n",
    "  filter(population > 1000000) %>%\n",
    "  # Sort density in ascending order \n",
    "  arrange(density)\n",
    "  "
   ]
  },
  {
   "cell_type": "code",
   "execution_count": null,
   "metadata": {},
   "outputs": [],
   "source": [
    "# Change the name of the unemployment column\n",
    "counties %>%\n",
    "  rename(unemployment_rate = unemployment) \n",
    "\n",
    "# Keep the state and county columns, and the columns containing poverty\n",
    "counties %>%\n",
    "  select(state, county, contains(\"poverty\"))\n",
    "\n",
    "# Calculate the fraction_women column without dropping the other columns\n",
    "counties %>%\n",
    "  mutate(fraction_women = women / population)\n",
    "\n",
    "# Keep only the state, county, and employment_rate columns\n",
    "counties %>%\n",
    "  transmute(state, county, employment_rate = employed / population)"
   ]
  },
  {
   "cell_type": "markdown",
   "metadata": {},
   "source": [
    "# Importing data"
   ]
  },
  {
   "cell_type": "code",
   "execution_count": null,
   "metadata": {},
   "outputs": [],
   "source": [
    "dir()"
   ]
  },
  {
   "cell_type": "code",
   "execution_count": null,
   "metadata": {},
   "outputs": [],
   "source": [
    "# Import swimming_pools.csv: pools\n",
    "pools <- read.csv('swimming_pools.csv')\n",
    "\n",
    "# Print the structure of pools\n",
    "print(str(pools))"
   ]
  },
  {
   "cell_type": "code",
   "execution_count": null,
   "metadata": {},
   "outputs": [],
   "source": [
    "# Import swimming_pools.csv correctly: pools\n",
    "pools <- read.csv('swimming_pools.csv', stringsAsFactors=FALSE)\n",
    "\n",
    "# Check the structure of pools\n",
    "print(str(pools))"
   ]
  },
  {
   "cell_type": "code",
   "execution_count": null,
   "metadata": {},
   "outputs": [],
   "source": [
    "# Import hotdogs.txt: hotdogs\n",
    "hotdogs <- read.delim('hotdogs.txt', header = FALSE)\n",
    "\n",
    "# Summarize hotdogs\n",
    "summary(hotdogs)"
   ]
  },
  {
   "cell_type": "code",
   "execution_count": null,
   "metadata": {},
   "outputs": [],
   "source": [
    "# Path to the hotdogs.txt file: path\n",
    "path <- file.path('hotdogs.txt')\n",
    "#path <- file.path(\"data\", \"hotdogs.txt\")\n",
    "\n",
    "# Import the hotdogs.txt file: hotdogs\n",
    "hotdogs <- read.table(path, head = FALSE,\n",
    "                      sep = '\\t', \n",
    "                      col.names = c(\"type\", \"calories\", \"sodium\"))\n",
    "\n",
    "# Call head() on hotdogs\n",
    "head(hotdogs)"
   ]
  },
  {
   "cell_type": "markdown",
   "metadata": {},
   "source": [
    "### Importing excel data"
   ]
  },
  {
   "cell_type": "code",
   "execution_count": null,
   "metadata": {},
   "outputs": [],
   "source": [
    "# Load the readxl package\n",
    "library(readxl)\n",
    "\n",
    "# Print the names of all worksheets\n",
    "excel_sheets('urbanpop.xlsx')"
   ]
  },
  {
   "cell_type": "code",
   "execution_count": null,
   "metadata": {},
   "outputs": [],
   "source": [
    "# The readxl package is already loaded\n",
    "\n",
    "# Read the sheets, one by one\n",
    "pop_1 <- read_excel(\"urbanpop.xlsx\", sheet = 1)\n",
    "pop_2 <- read_excel(\"urbanpop.xlsx\", sheet = 2)\n",
    "pop_3 <- read_excel(\"urbanpop.xlsx\", sheet = 3)\n",
    "\n",
    "\n",
    "# Put pop_1, pop_2 and pop_3 in a list: pop_list\n",
    "pop_list = list(pop_1, pop_2, pop_3)\n",
    "\n",
    "# Display the structure of pop_list\n",
    "str(pop_list)"
   ]
  },
  {
   "cell_type": "code",
   "execution_count": null,
   "metadata": {},
   "outputs": [],
   "source": [
    "# Read all Excel sheets with lapply(): pop_list\n",
    "pop_list <- lapply(excel_sheets(\"urbanpop.xlsx\"), read_excel, path = \"urbanpop.xlsx\")\n",
    "\n",
    "# Display the structure of pop_list\n",
    "str(pop_list)"
   ]
  }
 ],
 "metadata": {
  "kernelspec": {
   "display_name": "R",
   "language": "R",
   "name": "ir"
  },
  "language_info": {
   "codemirror_mode": "r",
   "file_extension": ".r",
   "mimetype": "text/x-r-source",
   "name": "R",
   "pygments_lexer": "r",
   "version": "3.6.1"
  }
 },
 "nbformat": 4,
 "nbformat_minor": 4
}
