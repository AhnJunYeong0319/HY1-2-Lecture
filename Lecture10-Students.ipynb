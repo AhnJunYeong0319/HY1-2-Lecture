{
 "cells": [
  {
   "cell_type": "markdown",
   "metadata": {},
   "source": [
    "##  Functions\n"
   ]
  },
  {
   "cell_type": "code",
   "execution_count": null,
   "metadata": {},
   "outputs": [],
   "source": [
    "###Function Documentation\n",
    "# Consult the documentation on the mean() function\n",
    "help(mean)\n",
    "?mean"
   ]
  },
  {
   "cell_type": "code",
   "execution_count": null,
   "metadata": {},
   "outputs": [],
   "source": [
    "# Inspect the arguments of the mean() function\n",
    "args(mean)"
   ]
  },
  {
   "cell_type": "code",
   "execution_count": null,
   "metadata": {},
   "outputs": [],
   "source": [
    "x <- c(0:10, 50)"
   ]
  },
  {
   "cell_type": "code",
   "execution_count": null,
   "metadata": {},
   "outputs": [],
   "source": [
    "xm <- mean(x)\n",
    "c(xm, mean(x, trim = 0.10))"
   ]
  },
  {
   "cell_type": "code",
   "execution_count": null,
   "metadata": {},
   "outputs": [],
   "source": [
    "###Use A Function\n",
    "# The linkedin and facebook vectors have already been created for you\n",
    "linkedin <- c(16, 9, 13, 5, 2, 17, 14)\n",
    "facebook <- c(17, 7, 5, 16, 8, 13, 14)\n",
    "\n",
    "# Calculate average number of each of vectors\n",
    "avg_li = \n",
    "avg_fb = \n",
    "\n",
    "# Inspect avg_li and avg_fb\n",
    "avg_li\n",
    "avg_fb\n",
    "\n",
    "# Calculate the mean of linkedin minus facebook\n",
    "mean(linkedin - facebook)"
   ]
  },
  {
   "cell_type": "code",
   "execution_count": null,
   "metadata": {},
   "outputs": [],
   "source": [
    "###Use A Function (2)\n",
    "# The linkedin and facebook vectors have already been created for you\n",
    "linkedin <- c(16, 9, 13, 5, 2, 17, 14)\n",
    "facebook <- c(17, 7, 5, 16, 8, 13, 14)"
   ]
  },
  {
   "cell_type": "code",
   "execution_count": null,
   "metadata": {},
   "outputs": [],
   "source": [
    "# Calculate the mean of the sum\n",
    "avg_sum = "
   ]
  },
  {
   "cell_type": "code",
   "execution_count": null,
   "metadata": {},
   "outputs": [],
   "source": [
    "# Calculate the trimmed mean of the sum, trim = 0.2\n",
    "avg_sum_trimmed = "
   ]
  },
  {
   "cell_type": "code",
   "execution_count": null,
   "metadata": {},
   "outputs": [],
   "source": [
    "# Inspect both new variables\n",
    "avg_sum\n",
    "avg_sum_trimmed"
   ]
  },
  {
   "cell_type": "code",
   "execution_count": null,
   "metadata": {},
   "outputs": [],
   "source": [
    "###Use A Function (3)\n",
    "# The linkedin and facebook vectors have already been created for you\n",
    "linkedin <- c(16, 9, 13, 5, NA, 17, 14)\n",
    "facebook <- c(17, NA, 5, 16, 8, 13, 14)"
   ]
  },
  {
   "cell_type": "code",
   "execution_count": null,
   "metadata": {},
   "outputs": [],
   "source": [
    "# Basic average of linkedin\n"
   ]
  },
  {
   "cell_type": "code",
   "execution_count": null,
   "metadata": {},
   "outputs": [],
   "source": [
    "# Advanced average of linkedin without na values\n"
   ]
  },
  {
   "cell_type": "code",
   "execution_count": null,
   "metadata": {},
   "outputs": [],
   "source": [
    "###Functions Inside Functions\n",
    "# The linkedin and facebook vectors have already been created for you\n",
    "linkedin <- c(16, 9, 13, 5, NA, 17, 14)\n",
    "facebook <- c(17, NA, 5, 16, 8, 13, 14)"
   ]
  },
  {
   "cell_type": "code",
   "execution_count": null,
   "metadata": {},
   "outputs": [],
   "source": [
    "# Calculate the mean absolute deviation between linkedin and facebook\n"
   ]
  },
  {
   "cell_type": "code",
   "execution_count": null,
   "metadata": {},
   "outputs": [],
   "source": [
    "###Write Your Own Function\n",
    "# Create a function pow_two()\n",
    "pow_two <- function(x) {\n",
    "  x ^ 2\n",
    "}"
   ]
  },
  {
   "cell_type": "code",
   "execution_count": null,
   "metadata": {},
   "outputs": [],
   "source": [
    "# Use the function \n",
    "pow_two(12)"
   ]
  },
  {
   "cell_type": "code",
   "execution_count": null,
   "metadata": {},
   "outputs": [],
   "source": [
    "# Create a function sum_abs()\n",
    "sum_abs <- function(x, y) {\n",
    "  abs(x) + abs(y)\n",
    "}"
   ]
  },
  {
   "cell_type": "code",
   "execution_count": null,
   "metadata": {},
   "outputs": [],
   "source": [
    "# Use the function\n",
    "sum_abs(-2, 3)"
   ]
  },
  {
   "cell_type": "code",
   "execution_count": null,
   "metadata": {},
   "outputs": [],
   "source": [
    "###Write Your Own Function (2)\n",
    "# Define the function hello()\n",
    "hello <- function() {\n",
    "  print(\"Hi there!\")\n",
    "  TRUE\n",
    "}"
   ]
  },
  {
   "cell_type": "code",
   "execution_count": null,
   "metadata": {},
   "outputs": [],
   "source": [
    "# Call the function hello()\n",
    "hello()"
   ]
  },
  {
   "cell_type": "code",
   "execution_count": null,
   "metadata": {},
   "outputs": [],
   "source": [
    "# Define the function my_filter()\n",
    "my_filter <- function(x) {\n",
    "  if (x > 0) {\n",
    "    return(x)\n",
    "  } else {\n",
    "    return(NULL)\n",
    "  }\n",
    "}"
   ]
  },
  {
   "cell_type": "code",
   "execution_count": null,
   "metadata": {},
   "outputs": [],
   "source": [
    "# Call the function my_filter() twice\n",
    "my_filter(5)\n",
    "my_filter(-5)"
   ]
  },
  {
   "cell_type": "code",
   "execution_count": null,
   "metadata": {},
   "outputs": [],
   "source": [
    "###Write Your Own Function (3)\n",
    "# Extend the pow_two() function\n",
    "pow_two <- function(x, print_info = TRUE) {\n",
    "  y <- x ^ 2\n",
    "  if (print_info) {\n",
    "    print(paste(x, \"to the power two equals\", y))\n",
    "  }\n",
    "  return(y)\n",
    "}"
   ]
  },
  {
   "cell_type": "code",
   "execution_count": null,
   "metadata": {},
   "outputs": [],
   "source": [
    "### Function Scoping\n",
    "two_dice <- function() {\n",
    "  possibilities <- 1:6\n",
    "  dice1 <- sample(possibilities, size = 1)\n",
    "  dice2 <- sample(possibilities, size = 1)\n",
    "  dice1 + dice2\n",
    "}"
   ]
  },
  {
   "cell_type": "code",
   "execution_count": null,
   "metadata": {},
   "outputs": [],
   "source": [
    "###R Passes Arguments By Value\n",
    "increment <- function(x, inc = 1) {\n",
    "  x <- x + inc\n",
    "  x\n",
    "}"
   ]
  },
  {
   "cell_type": "code",
   "execution_count": null,
   "metadata": {},
   "outputs": [],
   "source": [
    "count <- 5\n",
    "a <- increment(count, 2)\n",
    "b <- increment(count)\n",
    "count <- increment(count, 2)"
   ]
  },
  {
   "cell_type": "code",
   "execution_count": null,
   "metadata": {},
   "outputs": [],
   "source": [
    "# Define the interpret function\n",
    "interpret <- function(num_views) {\n",
    "  if (num_views > 15) {\n",
    "    print(\"You're popular!\")\n",
    "    return(num_views)\n",
    "  } else {\n",
    "    print(\"Try to be more visible!\")\n",
    "    return(0)\n",
    "  }\n",
    "}\n"
   ]
  },
  {
   "cell_type": "code",
   "execution_count": null,
   "metadata": {},
   "outputs": [],
   "source": [
    "# Call the interpret function twice\n",
    "interpret(linkedin[1])\n",
    "interpret(facebook[2])"
   ]
  },
  {
   "cell_type": "code",
   "execution_count": null,
   "metadata": {},
   "outputs": [],
   "source": [
    "# The linkedin and facebook vectors have already been created for you\n",
    "linkedin <- c(16, 9, 13, 5, 2, 17, 14)\n",
    "facebook <- c(17, 7, 5, 16, 8, 13, 14)"
   ]
  },
  {
   "cell_type": "code",
   "execution_count": null,
   "metadata": {},
   "outputs": [],
   "source": [
    "# The interpret() can be used inside interpret_all()\n",
    "interpret <- function(num_views) {\n",
    "  if (num_views > 15) {\n",
    "    print(\"You're popular!\")\n",
    "    return(num_views)\n",
    "  } else {\n",
    "    print(\"Try to be more visible!\")\n",
    "    return(0)\n",
    "  }\n",
    "}"
   ]
  },
  {
   "cell_type": "code",
   "execution_count": null,
   "metadata": {},
   "outputs": [],
   "source": [
    "# Define the interpret_all() function\n",
    "interpret_all <- function(views, return_sum = TRUE) {\n",
    "  count <- 0\n",
    "  for (v in views) {\n",
    "    count <- count + interpret(v)\n",
    "  }\n",
    "  if (return_sum) {\n",
    "    return(count)\n",
    "  } else {\n",
    "    return(NULL)\n",
    "  }\n",
    "}"
   ]
  },
  {
   "cell_type": "code",
   "execution_count": null,
   "metadata": {},
   "outputs": [],
   "source": [
    "# Call the interpret_all() function on both linkedin and facebook\n",
    "interpret_all(linkedin)\n",
    "interpret_all(facebook)"
   ]
  },
  {
   "cell_type": "code",
   "execution_count": null,
   "metadata": {},
   "outputs": [],
   "source": [
    "###Load An R Package\n",
    "# The mtcars vectors have already been prepared for you\n",
    "wt <- mtcars$wt\n",
    "hp <- mtcars$hp"
   ]
  },
  {
   "cell_type": "code",
   "execution_count": null,
   "metadata": {
    "scrolled": false
   },
   "outputs": [],
   "source": [
    "## find attached packages\n",
    "search()"
   ]
  },
  {
   "cell_type": "code",
   "execution_count": null,
   "metadata": {
    "scrolled": true
   },
   "outputs": [],
   "source": [
    "library('ggvis')"
   ]
  },
  {
   "cell_type": "code",
   "execution_count": null,
   "metadata": {},
   "outputs": [],
   "source": [
    "search()"
   ]
  },
  {
   "cell_type": "code",
   "execution_count": null,
   "metadata": {},
   "outputs": [],
   "source": [
    "# Load the ggplot2 package\n",
    "library(\"ggplot2\")"
   ]
  },
  {
   "cell_type": "code",
   "execution_count": null,
   "metadata": {},
   "outputs": [],
   "source": [
    "# Retry the qplot() function\n",
    "qplot(wt, hp)"
   ]
  },
  {
   "cell_type": "code",
   "execution_count": null,
   "metadata": {},
   "outputs": [],
   "source": [
    "## find attached packages again\n",
    "search()"
   ]
  },
  {
   "cell_type": "markdown",
   "metadata": {},
   "source": [
    "## Apply family"
   ]
  },
  {
   "cell_type": "markdown",
   "metadata": {},
   "source": [
    "### Use lapply With A Built-In R Function\n"
   ]
  },
  {
   "cell_type": "code",
   "execution_count": null,
   "metadata": {},
   "outputs": [],
   "source": [
    "pioneers <- c(\"GAUSS:1777\", \"BAYES:1702\", \"PASCAL:1623\", \"PEARSON:1857\")"
   ]
  },
  {
   "cell_type": "code",
   "execution_count": null,
   "metadata": {},
   "outputs": [],
   "source": [
    "# Split names from birth year: split_math\n",
    "split_math <- "
   ]
  },
  {
   "cell_type": "code",
   "execution_count": null,
   "metadata": {},
   "outputs": [],
   "source": [
    "# Convert to lowercase strings: split_low, using tolower\n",
    "split_low <- "
   ]
  },
  {
   "cell_type": "code",
   "execution_count": null,
   "metadata": {},
   "outputs": [],
   "source": [
    "# Take a look at the structure of split_low\n"
   ]
  },
  {
   "cell_type": "code",
   "execution_count": null,
   "metadata": {},
   "outputs": [],
   "source": [
    "split_math[1]"
   ]
  },
  {
   "cell_type": "code",
   "execution_count": null,
   "metadata": {},
   "outputs": [],
   "source": [
    "split_math[[1]][1]"
   ]
  },
  {
   "cell_type": "markdown",
   "metadata": {},
   "source": [
    "### Use lapply With Your Own Function"
   ]
  },
  {
   "cell_type": "code",
   "execution_count": null,
   "metadata": {},
   "outputs": [],
   "source": [
    "# Apply select_first() over split_low: names\n",
    "names <- "
   ]
  },
  {
   "cell_type": "code",
   "execution_count": null,
   "metadata": {},
   "outputs": [],
   "source": [
    "# do the samething as the above with one line of code (anonymous function)\n",
    "names <- "
   ]
  },
  {
   "cell_type": "code",
   "execution_count": null,
   "metadata": {},
   "outputs": [],
   "source": [
    "# Write function select_second()\n",
    "select_second <- function(x) {\n",
    "  x[2]\n",
    "}"
   ]
  },
  {
   "cell_type": "code",
   "execution_count": null,
   "metadata": {},
   "outputs": [],
   "source": [
    "# Apply select_second() over split_low: names\n",
    "years <- "
   ]
  },
  {
   "cell_type": "code",
   "execution_count": null,
   "metadata": {},
   "outputs": [],
   "source": [
    "# do the samething as the above with one line of code\n",
    "years <- "
   ]
  },
  {
   "cell_type": "code",
   "execution_count": null,
   "metadata": {},
   "outputs": [],
   "source": [
    "###Use lapply With Additional Arguments\n",
    "# Definition of split_low\n",
    "pioneers <- c(\"GAUSS:1777\", \"BAYES:1702\", \"PASCAL:1623\", \"PEARSON:1857\")"
   ]
  },
  {
   "cell_type": "code",
   "execution_count": null,
   "metadata": {},
   "outputs": [],
   "source": [
    "split <- strsplit(pioneers, split = \":\")\n",
    "split_low <- lapply(split, tolower)"
   ]
  },
  {
   "cell_type": "code",
   "execution_count": null,
   "metadata": {},
   "outputs": [],
   "source": [
    "# Replace the select_*() functions by a single function: select_el\n",
    "select_el <- function(x, index) {\n",
    "  x[index]\n",
    "}"
   ]
  },
  {
   "cell_type": "code",
   "execution_count": null,
   "metadata": {},
   "outputs": [],
   "source": [
    "# Call the select_el() function twice on split_low: names and years\n",
    "names <- \n",
    "years <- "
   ]
  },
  {
   "cell_type": "code",
   "execution_count": null,
   "metadata": {},
   "outputs": [],
   "source": [
    "###Apply Functions That Return NULL\n",
    "lapply(split_low, function(x) {\n",
    "  if (nchar(x[1]) > 5) {\n",
    "    return(NULL)\n",
    "  } else {\n",
    "    return(x[2])\n",
    "  }\n",
    "})"
   ]
  },
  {
   "cell_type": "markdown",
   "metadata": {},
   "source": [
    "### How To Use sapply\n"
   ]
  },
  {
   "cell_type": "code",
   "execution_count": null,
   "metadata": {},
   "outputs": [],
   "source": [
    "# 5 measurements of temperature for three days\n",
    "temp <- list(c(3, 7, 9, 6, 1), c(6, 9, 12, 13, 5), c(4, 8, 3, -1, 3))"
   ]
  },
  {
   "cell_type": "code",
   "execution_count": null,
   "metadata": {},
   "outputs": [],
   "source": [
    "# Use lapply() to find each day's minimum temperature\n"
   ]
  },
  {
   "cell_type": "code",
   "execution_count": null,
   "metadata": {},
   "outputs": [],
   "source": [
    "# Use sapply() to find each day's minimum temperature\n"
   ]
  },
  {
   "cell_type": "code",
   "execution_count": null,
   "metadata": {},
   "outputs": [],
   "source": [
    "# Use lapply() to find each day's maximum temperature\n"
   ]
  },
  {
   "cell_type": "code",
   "execution_count": null,
   "metadata": {},
   "outputs": [],
   "source": [
    "# Use sapply() to find each day's maximum temperature\n"
   ]
  },
  {
   "cell_type": "code",
   "execution_count": null,
   "metadata": {},
   "outputs": [],
   "source": [
    "###sapply With Your Own Function\n",
    "# Define a function calculates the average of the min and max of a vector: extremes_avg\n",
    "extremes_avg <- function(x) {\n",
    "  (min(x) + max(x))/2\n",
    "}"
   ]
  },
  {
   "cell_type": "code",
   "execution_count": null,
   "metadata": {},
   "outputs": [],
   "source": [
    "# Apply extremes_avg() over temp using lapply()\n"
   ]
  },
  {
   "cell_type": "code",
   "execution_count": null,
   "metadata": {
    "scrolled": true
   },
   "outputs": [],
   "source": [
    "# Apply extremes_avg() over temp using sapply()\n"
   ]
  },
  {
   "cell_type": "code",
   "execution_count": null,
   "metadata": {},
   "outputs": [],
   "source": [
    "###sapply With Function Returning Vector\n",
    "\n",
    "# Create a function that returns min and max of a vector: extremes\n",
    "extremes <- function(x) {\n",
    "  c(min = min(x), max = max(x))\n",
    "}"
   ]
  },
  {
   "cell_type": "code",
   "execution_count": null,
   "metadata": {},
   "outputs": [],
   "source": [
    "# Apply extremes() over temp with lapply()\n"
   ]
  },
  {
   "cell_type": "code",
   "execution_count": null,
   "metadata": {},
   "outputs": [],
   "source": [
    "# Apply extremes() over temp with sapply()\n"
   ]
  },
  {
   "cell_type": "code",
   "execution_count": null,
   "metadata": {},
   "outputs": [],
   "source": [
    "###sapply Can't Simplify, Now What?\n",
    "# Create a function that returns all values below zero: below_zero\n",
    "below_zero <- function(x) {\n",
    "  return(x[x < 0])\n",
    "}"
   ]
  },
  {
   "cell_type": "code",
   "execution_count": null,
   "metadata": {},
   "outputs": [],
   "source": [
    "# Apply below_zero over temp using sapply(): freezing_s\n",
    "freezing_s <- \n",
    "\n",
    "# Apply below_zero over temp using lapply(): freezing_l\n",
    "freezing_l <- \n",
    "\n",
    "# Compare freezing_s to freezing_l using identical()\n",
    "_____(freezing_s, freezing_l)"
   ]
  },
  {
   "cell_type": "code",
   "execution_count": null,
   "metadata": {},
   "outputs": [],
   "source": [
    "###sapply With Functions That Return NULL\n",
    "# temp is already available in the workspace\n",
    "\n",
    "# Write a function that 'cat()s' out the average temperatures: print_info\n",
    "print_info <- function(x) {\n",
    "  cat(\"The average temperature is\", mean(x), \"\\n\")\n",
    "}\n",
    "\n",
    "# Apply print_info() over temp using lapply()\n",
    "\n",
    "# Apply print_info() over temp using sapply()\n",
    "\n"
   ]
  },
  {
   "cell_type": "markdown",
   "metadata": {},
   "source": [
    "### How To Use vapply"
   ]
  },
  {
   "cell_type": "code",
   "execution_count": null,
   "metadata": {},
   "outputs": [],
   "source": [
    "# Code the basics() function\n",
    "basics <- function(x) {\n",
    "  c(min = min(x), mean = mean(x), max = max(x))\n",
    "}"
   ]
  },
  {
   "cell_type": "code",
   "execution_count": null,
   "metadata": {},
   "outputs": [],
   "source": [
    "# Apply basics() over temp using vapply()\n"
   ]
  },
  {
   "cell_type": "code",
   "execution_count": null,
   "metadata": {},
   "outputs": [],
   "source": [
    "# Definition of the basics() function\n",
    "basics <- function(x) {\n",
    "  c(min = min(x), mean = mean(x), median = median(x), max = max(x))\n",
    "}"
   ]
  },
  {
   "cell_type": "code",
   "execution_count": null,
   "metadata": {},
   "outputs": [],
   "source": []
  },
  {
   "cell_type": "code",
   "execution_count": null,
   "metadata": {},
   "outputs": [],
   "source": [
    "# Convert to vapply() expression\n"
   ]
  },
  {
   "cell_type": "markdown",
   "metadata": {},
   "source": [
    "### Some utilities"
   ]
  },
  {
   "cell_type": "markdown",
   "metadata": {},
   "source": [
    "1. seq(): Generate sequences, by specifying the from, to, and by arguments.  \n",
    "2. rep(): Replicate elements of vectors and lists.  \n",
    "3. sort(): Sort a vector in ascending order. Works on numerics, but also on character strings and logicals.  \n",
    "4. rev(): Reverse the elements in a data structures for which reversal is defined.  \n",
    "5. str(): Display the structure of any R object.  \n",
    "6. append(): Merge vectors or lists.  \n",
    "7. is.*(): Check for the class of an R object.  \n",
    "8. as.*(): Convert an R object from one class to another.  \n",
    "9. unlist(): Flatten (possibly embedded) lists to produce a vector.  \n"
   ]
  },
  {
   "cell_type": "code",
   "execution_count": null,
   "metadata": {},
   "outputs": [],
   "source": [
    "###Mathematical Utilities\n",
    "errors <- c(1.9,-2.6,4.0,-9.5,-3.4,7.3)"
   ]
  },
  {
   "cell_type": "code",
   "execution_count": null,
   "metadata": {},
   "outputs": [],
   "source": [
    "# Sum of absolute rounded values of errors\n"
   ]
  },
  {
   "cell_type": "code",
   "execution_count": null,
   "metadata": {},
   "outputs": [],
   "source": [
    "vec1 <- c(1.5,2.5,8.4,3.7,6.3)\n",
    "vec2 <- rev(vec1)"
   ]
  },
  {
   "cell_type": "code",
   "execution_count": null,
   "metadata": {},
   "outputs": [],
   "source": [
    "###Data Utilities\n",
    "linkedin <- list(16, 9, 13, 5, 2, 17, 14)\n",
    "facebook <- list(17, 7, 5, 16, 8, 13, 14)"
   ]
  },
  {
   "cell_type": "code",
   "execution_count": null,
   "metadata": {},
   "outputs": [],
   "source": [
    "# Convert linkedin and facebook to a vector: li_vec and fb_vec\n",
    "li_vec <- unlist(linkedin)\n",
    "fb_vec <- unlist(facebook)"
   ]
  },
  {
   "cell_type": "code",
   "execution_count": null,
   "metadata": {},
   "outputs": [],
   "source": [
    "# Append fb_vec to li_vec: social_vec\n",
    "social_vec <- append(li_vec, fb_vec)"
   ]
  },
  {
   "cell_type": "code",
   "execution_count": null,
   "metadata": {},
   "outputs": [],
   "source": [
    "# Sort social_vec\n",
    "sort(social_vec, decreasing = TRUE)"
   ]
  },
  {
   "cell_type": "code",
   "execution_count": null,
   "metadata": {},
   "outputs": [],
   "source": [
    "round(sum(unlist(list(1.1,3,5))))"
   ]
  },
  {
   "cell_type": "code",
   "execution_count": null,
   "metadata": {},
   "outputs": [],
   "source": [
    "rep(seq(1, 7, by = 2), times = 7)"
   ]
  },
  {
   "cell_type": "code",
   "execution_count": null,
   "metadata": {},
   "outputs": [],
   "source": [
    "# Create first sequence: seq1\n",
    "seq1 <- seq(1, 500, by = 3)"
   ]
  },
  {
   "cell_type": "code",
   "execution_count": null,
   "metadata": {},
   "outputs": [],
   "source": [
    "# Create second sequence: seq2\n",
    "seq2 <- seq(1200, 900, by = -7)"
   ]
  },
  {
   "cell_type": "code",
   "execution_count": null,
   "metadata": {},
   "outputs": [],
   "source": [
    "# Calculate total sum of the sequences\n",
    "sum(seq1) + sum(seq2)"
   ]
  },
  {
   "cell_type": "markdown",
   "metadata": {},
   "source": [
    "# Introduction to the tidyverse"
   ]
  },
  {
   "cell_type": "markdown",
   "metadata": {},
   "source": [
    "## Loading the gapminder and dplyr packages"
   ]
  },
  {
   "cell_type": "code",
   "execution_count": null,
   "metadata": {},
   "outputs": [],
   "source": [
    "# Load the gapminder package\n",
    "library(gapminder)\n",
    "\n",
    "# Load the dplyr package\n",
    "library(dplyr)\n"
   ]
  },
  {
   "cell_type": "code",
   "execution_count": null,
   "metadata": {},
   "outputs": [],
   "source": [
    "# Look at the gapminder dataset\n",
    "head(gapminder)"
   ]
  },
  {
   "cell_type": "raw",
   "metadata": {},
   "source": [
    "Add a filter() line after the pipe (%>%) to extract only the observations from the year 1957.   \n",
    "Remember that you use == to compare two values"
   ]
  },
  {
   "cell_type": "code",
   "execution_count": null,
   "metadata": {},
   "outputs": [],
   "source": [
    "# Filter the gapminder dataset for the year 1957\n",
    "\n",
    "  "
   ]
  },
  {
   "cell_type": "raw",
   "metadata": {},
   "source": [
    "Filter the gapminder data to retrieve only the observation from China in the year 2002."
   ]
  },
  {
   "cell_type": "code",
   "execution_count": null,
   "metadata": {},
   "outputs": [],
   "source": [
    "# Filter for China in 2002\n",
    "\n"
   ]
  },
  {
   "cell_type": "code",
   "execution_count": null,
   "metadata": {},
   "outputs": [],
   "source": [
    "# Sort in ascending order of lifeExp\n",
    "\n",
    "  "
   ]
  },
  {
   "cell_type": "code",
   "execution_count": null,
   "metadata": {},
   "outputs": [],
   "source": [
    "# Sort in descending order of lifeExp\n",
    "\n"
   ]
  },
  {
   "cell_type": "code",
   "execution_count": null,
   "metadata": {},
   "outputs": [],
   "source": [
    "# Filter for the year 1957, then arrange in descending order of population\n",
    "\n"
   ]
  },
  {
   "cell_type": "code",
   "execution_count": null,
   "metadata": {},
   "outputs": [],
   "source": [
    "# Use mutate to change lifeExp to be in months\n",
    "\n"
   ]
  },
  {
   "cell_type": "code",
   "execution_count": null,
   "metadata": {},
   "outputs": [],
   "source": [
    "# Use mutate to create a new column called lifeExpMonths\n",
    "\n"
   ]
  },
  {
   "cell_type": "code",
   "execution_count": null,
   "metadata": {},
   "outputs": [],
   "source": [
    "# Filter, mutate, and arrange the gapminder dataset, year 2007. lifeExpMonths, \n",
    "# descending arrange according to lifeExpMonths\n",
    "\n",
    "\n"
   ]
  },
  {
   "cell_type": "markdown",
   "metadata": {},
   "source": [
    "## Data visualization\n"
   ]
  },
  {
   "cell_type": "code",
   "execution_count": null,
   "metadata": {},
   "outputs": [],
   "source": [
    "library(ggplot2)\n"
   ]
  },
  {
   "cell_type": "code",
   "execution_count": null,
   "metadata": {},
   "outputs": [],
   "source": [
    "# Create gapminder_1952, filter year 1952\n",
    "gapminder_1952 <- "
   ]
  },
  {
   "cell_type": "code",
   "execution_count": null,
   "metadata": {},
   "outputs": [],
   "source": [
    "# scatter plot (gdpPercap vs lifeExp)\n",
    "\n"
   ]
  },
  {
   "cell_type": "code",
   "execution_count": null,
   "metadata": {},
   "outputs": [],
   "source": [
    "# Change to put pop on the x-axis and gdpPercap on the y-axis\n",
    "\n"
   ]
  },
  {
   "cell_type": "markdown",
   "metadata": {},
   "source": [
    "Create a scatter plot of gapminder_1952 with population (pop) is on the x-axis and life expectancy (lifeExp) on the y-axis."
   ]
  },
  {
   "cell_type": "code",
   "execution_count": null,
   "metadata": {},
   "outputs": [],
   "source": [
    "gapminder_1952 <- gapminder %>%\n",
    "  filter(year == 1952)\n",
    "\n",
    "# Create a scatter plot with pop on the x-axis and lifeExp on the y-axis\n",
    "\n"
   ]
  },
  {
   "cell_type": "code",
   "execution_count": null,
   "metadata": {},
   "outputs": [],
   "source": [
    "# Change to put pop on the x-axis (log scale) and lifeExp on the y-axis\n",
    "\n"
   ]
  },
  {
   "cell_type": "code",
   "execution_count": null,
   "metadata": {},
   "outputs": [],
   "source": [
    "# Change to put pop on the x-axis (log scale) and gdpPercap on the y-axis (log scale)\n",
    "\n"
   ]
  },
  {
   "cell_type": "code",
   "execution_count": null,
   "metadata": {},
   "outputs": [],
   "source": [
    "# use color codes for different continents\n"
   ]
  },
  {
   "cell_type": "code",
   "execution_count": null,
   "metadata": {},
   "outputs": [],
   "source": [
    "# Add the size aesthetic to represent a country's gdpPercap\n",
    "\n"
   ]
  },
  {
   "cell_type": "code",
   "execution_count": null,
   "metadata": {},
   "outputs": [],
   "source": [
    "# Scatter plot comparing pop and lifeExp, faceted by continent\n"
   ]
  },
  {
   "cell_type": "code",
   "execution_count": null,
   "metadata": {
    "scrolled": true
   },
   "outputs": [],
   "source": [
    "# Scatter plot comparing gdpPercap and lifeExp, with color representing continent\n",
    "# and size representing population, faceted by year\n",
    "\n"
   ]
  },
  {
   "cell_type": "markdown",
   "metadata": {},
   "source": [
    "## Grouping and summarizing\n"
   ]
  },
  {
   "cell_type": "code",
   "execution_count": null,
   "metadata": {},
   "outputs": [],
   "source": [
    "# Summarize to find the median life expectancy as medianLifeExp\n",
    "\n"
   ]
  },
  {
   "cell_type": "code",
   "execution_count": null,
   "metadata": {},
   "outputs": [],
   "source": [
    "# Filter for 1957 then summarize the median life expectancy\n",
    "\n"
   ]
  },
  {
   "cell_type": "code",
   "execution_count": null,
   "metadata": {},
   "outputs": [],
   "source": [
    "# Filter for 1957 then summarize the median life expectancy as medianLifeExp \n",
    "# and the maximum GDP per capita as maxGdpPercap\n"
   ]
  },
  {
   "cell_type": "code",
   "execution_count": null,
   "metadata": {
    "scrolled": true
   },
   "outputs": [],
   "source": [
    "# Find median life expectancy and maximum GDP per capita in each year\n",
    "\n",
    "\n"
   ]
  },
  {
   "cell_type": "code",
   "execution_count": null,
   "metadata": {},
   "outputs": [],
   "source": [
    "# Find median life expectancy and maximum GDP per capita in each continent in 1957\n",
    "\n"
   ]
  },
  {
   "cell_type": "code",
   "execution_count": null,
   "metadata": {},
   "outputs": [],
   "source": [
    "# Find median life expectancy and maximum GDP per capita in each continent/year combination\n",
    "\n"
   ]
  },
  {
   "cell_type": "code",
   "execution_count": null,
   "metadata": {},
   "outputs": [],
   "source": [
    "# Find median life expectancy and maximum GDP per capita in each year and save it separately as by_year\n",
    "\n",
    "\n",
    "# Create a scatter plot showing the change in medianLifeExp over time (starting y from 0)\n"
   ]
  },
  {
   "cell_type": "code",
   "execution_count": null,
   "metadata": {},
   "outputs": [],
   "source": [
    "# Summarize medianGdpPercap within each continent within each year: by_year_continent\n",
    "\n",
    "\n",
    "# Plot the change in medianGdpPercap in each continent over time\n"
   ]
  },
  {
   "cell_type": "code",
   "execution_count": null,
   "metadata": {},
   "outputs": [],
   "source": [
    "# Summarize the median GDP and median life expectancy per continent in 2007\n",
    "\n",
    "\n",
    "# Use a scatter plot to compare the median GDP and median life expectancy\n",
    "\n"
   ]
  },
  {
   "cell_type": "markdown",
   "metadata": {},
   "source": [
    "## Types of visualization\n"
   ]
  },
  {
   "cell_type": "markdown",
   "metadata": {},
   "source": [
    "### line plot"
   ]
  },
  {
   "cell_type": "code",
   "execution_count": null,
   "metadata": {},
   "outputs": [],
   "source": [
    "# Summarize the median gdpPercap by year, then save it as by_year\n",
    "\n",
    "\n",
    "\n",
    "# Create a line plot showing the change in medianGdpPercap over time\n"
   ]
  },
  {
   "cell_type": "code",
   "execution_count": null,
   "metadata": {},
   "outputs": [],
   "source": [
    "# Summarize the median gdpPercap by year & continent, save as by_year_continent\n",
    "\n",
    "\n",
    "# Create a line plot showing the change in medianGdpPercap by continent over time\n"
   ]
  },
  {
   "cell_type": "markdown",
   "metadata": {},
   "source": [
    "#### bar plot"
   ]
  },
  {
   "cell_type": "code",
   "execution_count": null,
   "metadata": {},
   "outputs": [],
   "source": [
    "# Summarize the median gdpPercap by continent in 1952\n",
    "\n",
    "\n",
    "\n",
    "# Create a bar plot showing medianGdp by continent\n",
    "\n"
   ]
  },
  {
   "cell_type": "code",
   "execution_count": null,
   "metadata": {},
   "outputs": [],
   "source": [
    "# Filter for observations in the Oceania continent in 1952\n",
    "\n",
    "\n",
    "\n",
    "# Create a bar plot of gdpPercap by country\n"
   ]
  },
  {
   "cell_type": "markdown",
   "metadata": {},
   "source": [
    "#### Histogram"
   ]
  },
  {
   "cell_type": "code",
   "execution_count": null,
   "metadata": {},
   "outputs": [],
   "source": [
    "# Use the gapminder_1952 dataset to create a histogram of country population \n",
    "# (pop_by_mil, population as unit of millions) in the year 1952. \n",
    "# Inside the histogram geom, set the number of bins to 50\n",
    "\n",
    "\n",
    "\n",
    "# Create a histogram of population (pop_by_mil)\n",
    "ggplot(gapminder_1952, aes(x = pop_by_mil)) + geom_histogram(bins=50)\n"
   ]
  },
  {
   "cell_type": "code",
   "execution_count": null,
   "metadata": {},
   "outputs": [],
   "source": [
    "gapminder_1952 <- gapminder %>%\n",
    "  filter(year == 1952)\n",
    "\n",
    "# Create a histogram of population (pop), with x on a log scale\n"
   ]
  },
  {
   "cell_type": "markdown",
   "metadata": {},
   "source": [
    "#### Boxplot"
   ]
  },
  {
   "cell_type": "code",
   "execution_count": null,
   "metadata": {},
   "outputs": [],
   "source": [
    "gapminder_1952 <- gapminder %>%\n",
    "  filter(year == 1952)\n",
    "\n",
    "# Create a boxplot comparing gdpPercap among continents\n"
   ]
  },
  {
   "cell_type": "code",
   "execution_count": null,
   "metadata": {},
   "outputs": [],
   "source": [
    "gapminder_1952 <- gapminder %>%\n",
    "  filter(year == 1952)\n",
    "\n",
    "# Add a title to this graph: \"Comparing GDP per capita across continents\"\n",
    "\n"
   ]
  }
 ],
 "metadata": {
  "kernelspec": {
   "display_name": "R",
   "language": "R",
   "name": "ir"
  },
  "language_info": {
   "codemirror_mode": "r",
   "file_extension": ".r",
   "mimetype": "text/x-r-source",
   "name": "R",
   "pygments_lexer": "r",
   "version": "3.6.1"
  }
 },
 "nbformat": 4,
 "nbformat_minor": 4
}
