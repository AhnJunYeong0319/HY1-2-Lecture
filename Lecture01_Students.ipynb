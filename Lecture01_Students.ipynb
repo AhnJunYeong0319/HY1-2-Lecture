{
 "cells": [
  {
   "cell_type": "markdown",
   "metadata": {},
   "source": [
    "# Lecture 1: Review of the basic python programming"
   ]
  },
  {
   "cell_type": "markdown",
   "metadata": {},
   "source": [
    "## Review of data type\n"
   ]
  },
  {
   "cell_type": "markdown",
   "metadata": {},
   "source": [
    "### (1) List"
   ]
  },
  {
   "cell_type": "code",
   "execution_count": null,
   "metadata": {},
   "outputs": [],
   "source": [
    "import pandas as pd\n",
    "## Get the babys' name and conver it to list for each of boy and girl\n",
    "## \"baby_names.csv\" is available\n",
    "baby_df = \n",
    "# Make a list of girls' name\n",
    "girl_names = \n",
    "# Make a list of boys' name\n",
    "boy_names = \n",
    "# Make a list of boys and girls name by concatenating girls' and boys' names\n",
    "baby_names = "
   ]
  },
  {
   "cell_type": "code",
   "execution_count": null,
   "metadata": {},
   "outputs": [],
   "source": [
    "# Recreate a list containing the names: baby_names\n",
    "baby_names = ['Ximena', 'Aliza', 'Ayden', 'Calvin']\n",
    "\n",
    "# Extend baby_names with 'Rowen' and 'Sandeep'\n",
    "\n",
    "\n",
    "# Print baby_names\n",
    "\n",
    "\n",
    "# Find the position of 'Aliza': position\n",
    "position = \n",
    "\n",
    "# Remove 'Aliza' from baby_names\n",
    "\n",
    "\n",
    "# Print baby_names\n"
   ]
  },
  {
   "cell_type": "code",
   "execution_count": null,
   "metadata": {},
   "outputs": [],
   "source": [
    "# areas list\n",
    "areas = [11.25, 18.0, 20.0, 10.75, 9.50]"
   ]
  },
  {
   "cell_type": "markdown",
   "metadata": {},
   "source": [
    "#### Write a code printing the following output\n",
    "room 0: 11.25  \n",
    "room 1: 18.0  \n",
    "room 2: 20.0  \n",
    "room 3: 10.75  \n",
    "room 4: 9.5  "
   ]
  },
  {
   "cell_type": "code",
   "execution_count": null,
   "metadata": {},
   "outputs": [],
   "source": [
    "\n"
   ]
  },
  {
   "cell_type": "code",
   "execution_count": 3,
   "metadata": {},
   "outputs": [],
   "source": [
    "# house list of lists\n",
    "house = [[\"hallway\", 11.25], \n",
    "         [\"kitchen\", 18.0], \n",
    "         [\"living room\", 20.0], \n",
    "         [\"bedroom\", 10.75], \n",
    "         [\"bathroom\", 9.50]]\n",
    "        "
   ]
  },
  {
   "cell_type": "markdown",
   "metadata": {},
   "source": [
    "#### Write a code printing the following output\n",
    "the hallway is 11.25 sqm  \n",
    "the kitchen is 18.0 sqm  \n",
    "the living room is 20.0 sqm  \n",
    "the bedroom is 10.75 sqm  \n",
    "the bathroom is 9.5 sqm  "
   ]
  },
  {
   "cell_type": "markdown",
   "metadata": {},
   "source": [
    "### (2) Tuples"
   ]
  },
  {
   "cell_type": "code",
   "execution_count": null,
   "metadata": {},
   "outputs": [],
   "source": [
    "# Pair up the girl and boy names: pairs\n",
    "pairs ="
   ]
  },
  {
   "cell_type": "markdown",
   "metadata": {},
   "source": [
    "#### Write a code printing the following output\n",
    "Rank 0: GERALDINE and AARAV  \n",
    "Rank 1: GIA and AARON  \n",
    "Rank 2: GIANNA and ABDUL  \n",
    "Rank 3: GISELLE and ABDULLAH  \n",
    "Rank 4: GRACE and ADAM  \n",
    "Rank 5: GUADALUPE and ADITYA  \n",
    "Rank 6: HAILEY and ADRIAN  \n",
    "Rank 7: HALEY and AHMED  \n",
    "Rank 8: HANNAH and AIDAN  \n",
    "Rank 9: HAYLEE and AIDEN   "
   ]
  },
  {
   "cell_type": "code",
   "execution_count": null,
   "metadata": {},
   "outputs": [],
   "source": [
    "# Iterate over pairs using enumerate and variable, pairs\n"
   ]
  },
  {
   "cell_type": "code",
   "execution_count": 2,
   "metadata": {},
   "outputs": [],
   "source": [
    "## Understand the tuple type\n",
    "# Create the normal variable: normal\n",
    "normal = 'simple'\n",
    "# Create the mistaken variable: error\n",
    "error = 'trailing comma', \n",
    "# Print the types of the variables\n"
   ]
  },
  {
   "cell_type": "markdown",
   "metadata": {},
   "source": [
    "### (3) Set"
   ]
  },
  {
   "cell_type": "code",
   "execution_count": null,
   "metadata": {},
   "outputs": [],
   "source": [
    "girl_names_set = set(girl_names)\n",
    "boy_names_set = set(boy_names)\n",
    "\n",
    "# Find the union: all_names\n",
    "all_names_set = \n",
    "\n",
    "# Print the count of names in all_names\n",
    "\n",
    "# Find the intersection: overlapping_names\n",
    "overlapping_names_set = \n",
    "\n",
    "# Print the count of names in overlapping_names\n"
   ]
  },
  {
   "cell_type": "markdown",
   "metadata": {},
   "source": [
    "### (4) Dictionary"
   ]
  },
  {
   "cell_type": "code",
   "execution_count": 7,
   "metadata": {},
   "outputs": [],
   "source": [
    "# Definition of dictionary\n",
    "europe = {'spain':'madrid', 'france':'paris', 'germany':'berlin', 'norway':'oslo' }\n",
    "\n",
    "# Print out the keys in europe\n",
    "\n",
    "\n",
    "# Print out value that belongs to key 'norway'\n"
   ]
  },
  {
   "cell_type": "code",
   "execution_count": 8,
   "metadata": {},
   "outputs": [
    {
     "name": "stdout",
     "output_type": "stream",
     "text": [
      "False\n",
      "{'spain': 'madrid', 'france': 'paris', 'germany': 'berlin', 'norway': 'oslo', 'poland': 'warsaw'}\n"
     ]
    }
   ],
   "source": [
    "# Add italy to europe\n",
    "\n",
    "\n",
    "# Print out italy in europe\n",
    "\n",
    "\n",
    "# Add poland to europe\n",
    "\n",
    "\n",
    "# Print europe\n"
   ]
  },
  {
   "cell_type": "code",
   "execution_count": 12,
   "metadata": {},
   "outputs": [],
   "source": [
    "# Update capital of england as london, nethaland as amsterdam\n",
    "\n",
    "\n",
    "# Remove poland\n",
    "\n",
    "\n",
    "# Print europe\n"
   ]
  },
  {
   "cell_type": "code",
   "execution_count": null,
   "metadata": {},
   "outputs": [],
   "source": [
    "# Dictionary of dictionaries\n",
    "europe = { 'spain': { 'capital':'madrid', 'population':46.77 },\n",
    "           'france': { 'capital':'paris', 'population':66.03 },\n",
    "           'germany': { 'capital':'berlin', 'population':80.62 },\n",
    "           'norway': { 'capital':'oslo', 'population':5.084 } }\n",
    "\n",
    "\n",
    "# Print out the capital of France\n",
    "\n",
    "\n",
    "# Create sub-dictionary data\n",
    "data = {'capital':'rome','population':59.83}\n",
    "\n",
    "# Add data to europe under key 'italy'\n",
    "\n",
    "\n",
    "# Print europe\n"
   ]
  },
  {
   "cell_type": "code",
   "execution_count": null,
   "metadata": {},
   "outputs": [],
   "source": [
    "# Definition of dictionary\n",
    "europe = {'spain':'madrid', 'france':'paris', 'germany':'bonn', \n",
    "          'norway':'oslo', 'italy':'rome', 'poland':'warsaw', 'australia':'vienna' }"
   ]
  },
  {
   "cell_type": "markdown",
   "metadata": {},
   "source": [
    "### Print out the following\n",
    "the capital of spain is madrid  \n",
    "the capital of france is paris  \n",
    "the capital of germany is bonn  \n",
    "the capital of norway is oslo  \n",
    "the capital of italy is rome  \n",
    "the capital of poland is warsaw  \n",
    "the capital of australia is vienna  "
   ]
  },
  {
   "cell_type": "code",
   "execution_count": null,
   "metadata": {},
   "outputs": [],
   "source": [
    "# Iterate over europe with key and value\n"
   ]
  },
  {
   "cell_type": "code",
   "execution_count": null,
   "metadata": {
    "scrolled": true
   },
   "outputs": [],
   "source": [
    "capital_by_country = {}\n",
    "## Print the capital name for the revesere alphabetical order of country name\n",
    "for country, capital in europe.___():\n",
    "    capital_by_country[___] = ___\n",
    "for country in sorted(___, ___=___)___: ## up to 4 countries\n",
    "    print(capital_by_country[country])"
   ]
  },
  {
   "cell_type": "code",
   "execution_count": null,
   "metadata": {},
   "outputs": [],
   "source": [
    "# Where is capital of spain, search it from dictionary, europe\n",
    "\n",
    "# what is the type\n",
    "\n",
    "# print capital of Japan or \"Not Found\"\n"
   ]
  },
  {
   "cell_type": "code",
   "execution_count": null,
   "metadata": {},
   "outputs": [],
   "source": [
    "## make a dictionary for girls's name from a list, girl_names\n",
    "# make it as one line of code\n",
    "# key is the integer from 1\n",
    "girl_names_dict = \n",
    "boy_names_dict = \n",
    "# print girls' name from the dictionary"
   ]
  },
  {
   "cell_type": "code",
   "execution_count": null,
   "metadata": {},
   "outputs": [],
   "source": [
    "## Dealing with nested data, year and numbers of products\n",
    "cookies = {'2017': {'chocolate chip': 483, 'peanut butter': 115}, \n",
    "           '2016': {'chocolate chip': 9513, 'peanut butter': 6792}}"
   ]
  },
  {
   "cell_type": "code",
   "execution_count": null,
   "metadata": {},
   "outputs": [],
   "source": [
    "# Print a list of keys from the boy_names dictionary\n",
    "\n",
    "# Print a list of keys from the boy_names dictionary for the year 2013\n"
   ]
  },
  {
   "cell_type": "markdown",
   "metadata": {},
   "source": [
    "### print the following\n",
    "2017 483  \n",
    "2016 9513  "
   ]
  },
  {
   "cell_type": "code",
   "execution_count": null,
   "metadata": {},
   "outputs": [],
   "source": [
    "# Loop over the dictionary, cookies\n",
    "# Safely print the year and the number of products or 'Unknown'\n",
    "\n"
   ]
  },
  {
   "cell_type": "code",
   "execution_count": null,
   "metadata": {},
   "outputs": [],
   "source": [
    "# Import the python csv module.\n",
    "# Create a Python file object in read mode for baby_names.csv called csvfile with the open function.\n",
    "# Use the reader method from the csv module on the file object in a for loop. \n",
    "# Inside the loop:\n",
    "#\n",
    "# Print each row and add the rank (the 6th element of row) as the key and name (the 4th element of row) \n",
    "# as the value to the existing dictionary (baby_names).\n",
    "# Print the keys of baby_names."
   ]
  },
  {
   "cell_type": "code",
   "execution_count": null,
   "metadata": {},
   "outputs": [],
   "source": [
    "# Import the python CSV module\n",
    "import csv\n",
    "# Create a python file object in read mode for the baby_names.csv file: csvfile\n",
    "csvfile = open('baby_names.csv', 'r')\n",
    "baby_names = {}\n",
    "# Loop over a csv reader on the file object\n",
    "\n",
    "# Print each row \n",
    "\n",
    "    # Add the rank and name to the dictionary\n",
    "\n",
    "# Print the dictionary keys\n"
   ]
  },
  {
   "cell_type": "markdown",
   "metadata": {},
   "source": [
    "### (5) Counter\n"
   ]
  },
  {
   "cell_type": "code",
   "execution_count": null,
   "metadata": {},
   "outputs": [],
   "source": [
    "station_df = pd.read_csv('cta_daily_station_totals.csv')\n",
    "stations = station_df['stationname'].values.tolist()"
   ]
  },
  {
   "cell_type": "code",
   "execution_count": null,
   "metadata": {},
   "outputs": [],
   "source": [
    "# Import the Counter object from collections module\n",
    "\n",
    "# Print the first ten items from the stations list\n",
    "\n",
    "# Create a Counter of the stations list: station_count\n",
    "\n",
    "# Print the station_count\n",
    "\n",
    "\n",
    "# Find the 5 most common elements from station_count\n",
    "\n"
   ]
  },
  {
   "cell_type": "code",
   "execution_count": null,
   "metadata": {},
   "outputs": [],
   "source": [
    "c1  = Counter({'blue': 3, 'red': 2, 'green': 1})\n",
    "## elements(): Return an iterator over elements repeating each as many times as its count\n",
    "# print out the element of c1\n",
    "\n",
    "c2 = Counter(\"Hello Python\")\n",
    "# print out the element of c2\n",
    "\n",
    "\n",
    "# print out the sorted element of c2\n"
   ]
  },
  {
   "cell_type": "markdown",
   "metadata": {},
   "source": [
    "### (6) Numpy"
   ]
  },
  {
   "cell_type": "code",
   "execution_count": null,
   "metadata": {},
   "outputs": [],
   "source": [
    "# Import numpy as np\n"
   ]
  },
  {
   "cell_type": "code",
   "execution_count": null,
   "metadata": {},
   "outputs": [],
   "source": [
    "import pandas as pd\n",
    "# read baseball.csv and save it to baseball\n",
    "baseball = \n"
   ]
  },
  {
   "cell_type": "code",
   "execution_count": null,
   "metadata": {},
   "outputs": [],
   "source": [
    "# Glimpse baseball data\n"
   ]
  },
  {
   "cell_type": "code",
   "execution_count": null,
   "metadata": {},
   "outputs": [],
   "source": [
    "# read baseball.csv with columns, Height, Weight, Age and convert it to numpy array\n",
    "np_baseball = \n",
    "\n",
    "## Print out the type of np_baseball\n"
   ]
  },
  {
   "cell_type": "code",
   "execution_count": null,
   "metadata": {},
   "outputs": [],
   "source": [
    "# np_baseball is available\n",
    "\n",
    "# Print mean height (first column)\n",
    "\n",
    "\n",
    "# Print median height. \n",
    "med = ____\n",
    "print(\"Median: \" + ____)\n",
    "\n",
    "# Print out the standard deviation on height. \n",
    "stddev = ____\n",
    "print(\"Standard Deviation: \" + ____)\n",
    "\n",
    "# Print out correlation between first and second column of np_baseball. \n",
    "corr = np.____(____,____)\n",
    "print(\"Correlation: \" + ____)"
   ]
  },
  {
   "cell_type": "code",
   "execution_count": null,
   "metadata": {},
   "outputs": [],
   "source": [
    "# Convert positions and heights to numpy arrays: np_positions, np_heights\n",
    "positions = \n",
    "heights = \n",
    "np_positions = \n",
    "np_heights = \n",
    "# Heights of the goalkeepers: gk_heights\n",
    "gk_heights = \n",
    "\n",
    "# Heights of the other players: other_heights\n",
    "other_heights = \n",
    "\n",
    "# Print out the median height of goalkeepers. Replace 'None'\n",
    "print(\"Median height of goalkeepers: \" + ____))\n",
    "\n",
    "# Print out the median height of other players. Replace 'None'\n",
    "print(\"Median height of other players: \" + ____)"
   ]
  },
  {
   "cell_type": "code",
   "execution_count": 14,
   "metadata": {},
   "outputs": [
    {
     "ename": "NameError",
     "evalue": "name 'np_heights' is not defined",
     "output_type": "error",
     "traceback": [
      "\u001b[0;31m---------------------------------------------------------------------------\u001b[0m",
      "\u001b[0;31mNameError\u001b[0m                                 Traceback (most recent call last)",
      "\u001b[0;32m<ipython-input-14-0faac0a377c2>\u001b[0m in \u001b[0;36m<module>\u001b[0;34m\u001b[0m\n\u001b[1;32m      1\u001b[0m \u001b[0;31m# For loop over np_height\u001b[0m\u001b[0;34m\u001b[0m\u001b[0;34m\u001b[0m\u001b[0;34m\u001b[0m\u001b[0m\n\u001b[0;32m----> 2\u001b[0;31m \u001b[0;32mfor\u001b[0m \u001b[0mval\u001b[0m \u001b[0;32min\u001b[0m \u001b[0mnp_heights\u001b[0m\u001b[0;34m:\u001b[0m\u001b[0;34m\u001b[0m\u001b[0;34m\u001b[0m\u001b[0m\n\u001b[0m\u001b[1;32m      3\u001b[0m     \u001b[0mprint\u001b[0m\u001b[0;34m(\u001b[0m\u001b[0mstr\u001b[0m\u001b[0;34m(\u001b[0m\u001b[0mval\u001b[0m\u001b[0;34m)\u001b[0m\u001b[0;34m+\u001b[0m\u001b[0;34m\" inches\"\u001b[0m\u001b[0;34m)\u001b[0m\u001b[0;34m\u001b[0m\u001b[0;34m\u001b[0m\u001b[0m\n\u001b[1;32m      4\u001b[0m \u001b[0;31m# For loop over np_baseball\u001b[0m\u001b[0;34m\u001b[0m\u001b[0;34m\u001b[0m\u001b[0;34m\u001b[0m\u001b[0m\n\u001b[1;32m      5\u001b[0m \u001b[0;32mfor\u001b[0m \u001b[0mval\u001b[0m \u001b[0;32min\u001b[0m \u001b[0mnp\u001b[0m\u001b[0;34m.\u001b[0m\u001b[0mnditer\u001b[0m\u001b[0;34m(\u001b[0m\u001b[0mnp_baseball\u001b[0m\u001b[0;34m)\u001b[0m\u001b[0;34m:\u001b[0m\u001b[0;34m\u001b[0m\u001b[0;34m\u001b[0m\u001b[0m\n",
      "\u001b[0;31mNameError\u001b[0m: name 'np_heights' is not defined"
     ]
    }
   ],
   "source": [
    "# For loop over np_height\n",
    "# Print heights of players, For loop over np_baseball\n",
    "for ___ in ___:\n",
    "    print(___+\" inches\")\n",
    "# Print weights of players, For loop over np_baseball\n",
    "# use np.diter\n"
   ]
  },
  {
   "cell_type": "markdown",
   "metadata": {},
   "source": [
    "##  Writing functions, simple algorithms \n"
   ]
  },
  {
   "cell_type": "code",
   "execution_count": null,
   "metadata": {},
   "outputs": [],
   "source": [
    "## Write a function, calculating the squared sum from 1 to n\n"
   ]
  },
  {
   "cell_type": "code",
   "execution_count": null,
   "metadata": {},
   "outputs": [],
   "source": [
    "## Write a function calculating the sum from 1 to n\n",
    "## Use recursive form, with one argument, n \n"
   ]
  },
  {
   "cell_type": "code",
   "execution_count": null,
   "metadata": {},
   "outputs": [],
   "source": [
    "## Write a function returning nth element of Fibonacci Sequence\n"
   ]
  },
  {
   "cell_type": "code",
   "execution_count": null,
   "metadata": {},
   "outputs": [],
   "source": [
    "## Write a function returning a list of Fibonacci sequence with length of n"
   ]
  },
  {
   "cell_type": "code",
   "execution_count": null,
   "metadata": {},
   "outputs": [],
   "source": [
    "## Write a function finding the maximum value from a list, find_max\n",
    "# Use a recursive form\n",
    "# Hint: Write a code finding the maximu from the list up to nth element\n",
    "def find_max(srch_list, n):\n",
    "...\n",
    "    \n",
    "    "
   ]
  },
  {
   "cell_type": "code",
   "execution_count": null,
   "metadata": {},
   "outputs": [],
   "source": [
    "## Generate 20 random integer between 1 and 100\n",
    "\n",
    "## print out the array\n",
    "\n",
    "## Print out the maximum value of the array\n"
   ]
  },
  {
   "cell_type": "code",
   "execution_count": 6,
   "metadata": {},
   "outputs": [
    {
     "ename": "IndentationError",
     "evalue": "expected an indented block (<ipython-input-6-65ae03918461>, line 3)",
     "output_type": "error",
     "traceback": [
      "\u001b[0;36m  File \u001b[0;32m\"<ipython-input-6-65ae03918461>\"\u001b[0;36m, line \u001b[0;32m3\u001b[0m\n\u001b[0;31m    ...\u001b[0m\n\u001b[0m      ^\u001b[0m\n\u001b[0;31mIndentationError\u001b[0m\u001b[0;31m:\u001b[0m expected an indented block\n"
     ]
    }
   ],
   "source": [
    "## Finding prime numbers up to n, find_primes\n",
    "def find_primes(n):\n",
    "...\n"
   ]
  },
  {
   "cell_type": "code",
   "execution_count": null,
   "metadata": {},
   "outputs": [],
   "source": [
    "## Context managers, use of open as file"
   ]
  },
  {
   "cell_type": "code",
   "execution_count": null,
   "metadata": {},
   "outputs": [],
   "source": [
    "# Open \"lab.txt\" and assign the file to \"file\"\n",
    "  text = file.___()\n",
    "n = 0\n",
    "## Print out how many word, \"brain or Brain\" was used in the text\n",
    "for word in text.___():\n",
    "  if word.___() in ['brain', 'brains']:\n",
    "    n += 1\n",
    "\n",
    "print('I used the word \"brain\" {} times'.format(n))"
   ]
  },
  {
   "cell_type": "code",
   "execution_count": null,
   "metadata": {},
   "outputs": [],
   "source": []
  }
 ],
 "metadata": {
  "kernelspec": {
   "display_name": "Python 3",
   "language": "python",
   "name": "python3"
  },
  "language_info": {
   "codemirror_mode": {
    "name": "ipython",
    "version": 3
   },
   "file_extension": ".py",
   "mimetype": "text/x-python",
   "name": "python",
   "nbconvert_exporter": "python",
   "pygments_lexer": "ipython3",
   "version": "3.6.10"
  }
 },
 "nbformat": 4,
 "nbformat_minor": 4
}
