{
 "cells": [
  {
   "cell_type": "markdown",
   "metadata": {},
   "source": [
    "## Grouping and summarizing\n"
   ]
  },
  {
   "cell_type": "code",
   "execution_count": null,
   "metadata": {},
   "outputs": [],
   "source": [
    "# Summarize to find the median life expectancy as medianLifeExp\n",
    "\n"
   ]
  },
  {
   "cell_type": "code",
   "execution_count": null,
   "metadata": {},
   "outputs": [],
   "source": [
    "# Filter for 1957 then summarize the median life expectancy\n",
    "\n"
   ]
  },
  {
   "cell_type": "code",
   "execution_count": null,
   "metadata": {},
   "outputs": [],
   "source": [
    "# Filter for 1957 then summarize the median life expectancy as medianLifeExp \n",
    "# and the maximum GDP per capita as maxGdpPercap\n"
   ]
  },
  {
   "cell_type": "code",
   "execution_count": null,
   "metadata": {
    "scrolled": true
   },
   "outputs": [],
   "source": [
    "# Find median life expectancy and maximum GDP per capita in each year\n",
    "\n",
    "\n"
   ]
  },
  {
   "cell_type": "code",
   "execution_count": null,
   "metadata": {},
   "outputs": [],
   "source": [
    "# Find median life expectancy and maximum GDP per capita in each continent in 1957\n",
    "\n"
   ]
  },
  {
   "cell_type": "code",
   "execution_count": null,
   "metadata": {},
   "outputs": [],
   "source": [
    "# Find median life expectancy and maximum GDP per capita in each continent/year combination\n",
    "\n"
   ]
  },
  {
   "cell_type": "code",
   "execution_count": null,
   "metadata": {},
   "outputs": [],
   "source": [
    "# Find median life expectancy and maximum GDP per capita in each year and save it separately as by_year\n",
    "\n",
    "\n",
    "# Create a scatter plot showing the change in medianLifeExp over time (starting y from 0)\n"
   ]
  },
  {
   "cell_type": "code",
   "execution_count": null,
   "metadata": {},
   "outputs": [],
   "source": [
    "# Summarize medianGdpPercap within each continent within each year: by_year_continent\n",
    "\n",
    "\n",
    "# Plot the change in medianGdpPercap in each continent over time\n"
   ]
  },
  {
   "cell_type": "code",
   "execution_count": null,
   "metadata": {},
   "outputs": [],
   "source": [
    "# Summarize the median GDP and median life expectancy per continent in 2007\n",
    "\n",
    "\n",
    "# Use a scatter plot to compare the median GDP and median life expectancy\n",
    "\n"
   ]
  },
  {
   "cell_type": "markdown",
   "metadata": {},
   "source": [
    "## Types of visualization\n"
   ]
  },
  {
   "cell_type": "markdown",
   "metadata": {},
   "source": [
    "### line plot"
   ]
  },
  {
   "cell_type": "code",
   "execution_count": null,
   "metadata": {},
   "outputs": [],
   "source": [
    "# Summarize the median gdpPercap by year, then save it as by_year\n",
    "\n",
    "\n",
    "\n",
    "# Create a line plot showing the change in medianGdpPercap over time\n"
   ]
  },
  {
   "cell_type": "code",
   "execution_count": null,
   "metadata": {},
   "outputs": [],
   "source": [
    "# Summarize the median gdpPercap by year & continent, save as by_year_continent\n",
    "\n",
    "\n",
    "# Create a line plot showing the change in medianGdpPercap by continent over time\n"
   ]
  },
  {
   "cell_type": "markdown",
   "metadata": {},
   "source": [
    "#### bar plot"
   ]
  },
  {
   "cell_type": "code",
   "execution_count": null,
   "metadata": {},
   "outputs": [],
   "source": [
    "# Summarize the median gdpPercap by continent in 1952\n",
    "\n",
    "\n",
    "\n",
    "# Create a bar plot showing medianGdp by continent\n",
    "\n"
   ]
  },
  {
   "cell_type": "code",
   "execution_count": null,
   "metadata": {},
   "outputs": [],
   "source": [
    "# Filter for observations in the Oceania continent in 1952\n",
    "\n",
    "\n",
    "\n",
    "# Create a bar plot of gdpPercap by country\n"
   ]
  },
  {
   "cell_type": "markdown",
   "metadata": {},
   "source": [
    "#### Histogram"
   ]
  },
  {
   "cell_type": "code",
   "execution_count": null,
   "metadata": {},
   "outputs": [],
   "source": [
    "# Use the gapminder_1952 dataset to create a histogram of country population \n",
    "# (pop_by_mil, population as unit of millions) in the year 1952. \n",
    "# Inside the histogram geom, set the number of bins to 50\n",
    "\n",
    "\n",
    "\n",
    "# Create a histogram of population (pop_by_mil)\n",
    "ggplot(gapminder_1952, aes(x = pop_by_mil)) + geom_histogram(bins=50)\n"
   ]
  },
  {
   "cell_type": "code",
   "execution_count": null,
   "metadata": {},
   "outputs": [],
   "source": [
    "gapminder_1952 <- gapminder %>%\n",
    "  filter(year == 1952)\n",
    "\n",
    "# Create a histogram of population (pop), with x on a log scale\n"
   ]
  },
  {
   "cell_type": "markdown",
   "metadata": {},
   "source": [
    "#### Boxplot"
   ]
  },
  {
   "cell_type": "code",
   "execution_count": null,
   "metadata": {},
   "outputs": [],
   "source": [
    "gapminder_1952 <- gapminder %>%\n",
    "  filter(year == 1952)\n",
    "\n",
    "# Create a boxplot comparing gdpPercap among continents\n"
   ]
  },
  {
   "cell_type": "code",
   "execution_count": null,
   "metadata": {},
   "outputs": [],
   "source": [
    "gapminder_1952 <- gapminder %>%\n",
    "  filter(year == 1952)\n",
    "\n",
    "# Add a title to this graph: \"Comparing GDP per capita across continents\"\n",
    "\n"
   ]
  },
  {
   "cell_type": "markdown",
   "metadata": {},
   "source": [
    "# Counties dataset"
   ]
  },
  {
   "cell_type": "code",
   "execution_count": null,
   "metadata": {
    "scrolled": false
   },
   "outputs": [],
   "source": [
    "counties = readRDS('counties.rds')\n",
    "glimpse(counties)"
   ]
  },
  {
   "cell_type": "code",
   "execution_count": null,
   "metadata": {},
   "outputs": [],
   "source": [
    "# Select the columns: state, county, population, poverty\n",
    "counties %>%\n"
   ]
  },
  {
   "cell_type": "code",
   "execution_count": null,
   "metadata": {},
   "outputs": [],
   "source": [
    "counties %>%\n",
    "  # Select the five columns \n",
    "  \n",
    "  # Add the proportion_men variable\n",
    "  \n",
    "  # Filter for population of at least 10,000\n",
    "  \n",
    "  # Arrange proportion of men in descending order \n",
    "  "
   ]
  },
  {
   "cell_type": "code",
   "execution_count": null,
   "metadata": {},
   "outputs": [],
   "source": [
    "counties_selected <- counties %>%\n",
    "  select(region, state, population, citizens)"
   ]
  },
  {
   "cell_type": "code",
   "execution_count": null,
   "metadata": {},
   "outputs": [],
   "source": [
    "# Use count to find the number of counties in each region and sort in descending order\n",
    "counties_selected %>%\n"
   ]
  },
  {
   "cell_type": "code",
   "execution_count": null,
   "metadata": {},
   "outputs": [],
   "source": [
    "# Find number of counties per state, weighted by citizens\n",
    "counties_selected %>%\n",
    "\n"
   ]
  },
  {
   "cell_type": "code",
   "execution_count": null,
   "metadata": {},
   "outputs": [],
   "source": [
    "# walk column indicates percentage of people in each county that walk to work\n",
    "counties_selected %>%\n",
    "\n",
    "\n"
   ]
  },
  {
   "cell_type": "markdown",
   "metadata": {},
   "source": [
    "### aggregation"
   ]
  },
  {
   "cell_type": "raw",
   "metadata": {},
   "source": [
    "Summarize the counties dataset to find the following columns: min_population (with the smallest population), max_unemployment (with the maximum unemployment), and average_income (with the mean of the income variable)."
   ]
  },
  {
   "cell_type": "code",
   "execution_count": null,
   "metadata": {},
   "outputs": [],
   "source": [
    "counties_selected <- counties %>%\n",
    "  select(county, population, income, unemployment)"
   ]
  },
  {
   "cell_type": "code",
   "execution_count": null,
   "metadata": {},
   "outputs": [],
   "source": [
    "# Summarize to find minimum population, maximum unemployment, and average income\n",
    "counties_selected %>%\n",
    "\n",
    "\n"
   ]
  },
  {
   "cell_type": "code",
   "execution_count": null,
   "metadata": {},
   "outputs": [],
   "source": [
    "# Summarize to find minimum population, maximum unemployment, and average income\n",
    "counties_selected %>%\n",
    "  summarize(min_population = min(population), max_unemployment = max(unemployment), average_income = mean(income))"
   ]
  },
  {
   "cell_type": "code",
   "execution_count": null,
   "metadata": {},
   "outputs": [],
   "source": [
    "counties_selected <- counties %>%\n",
    "  select(state, county, population, land_area)"
   ]
  },
  {
   "cell_type": "code",
   "execution_count": null,
   "metadata": {},
   "outputs": [],
   "source": [
    "# Group by state and find the total land area and population\n",
    "counties_selected %>%\n",
    "\n",
    "  \n",
    "  \n"
   ]
  },
  {
   "cell_type": "code",
   "execution_count": null,
   "metadata": {},
   "outputs": [],
   "source": [
    "# Add a density column, then sort in descending order\n",
    "counties_selected %>%\n",
    "\n"
   ]
  },
  {
   "cell_type": "code",
   "execution_count": null,
   "metadata": {},
   "outputs": [],
   "source": [
    "counties_selected <- counties %>%\n",
    "  select(region, state, county, population)"
   ]
  },
  {
   "cell_type": "code",
   "execution_count": null,
   "metadata": {},
   "outputs": [],
   "source": [
    "# Calculate the average_pop and median_pop columns \n",
    "counties_selected %>%\n",
    "\n"
   ]
  },
  {
   "cell_type": "code",
   "execution_count": null,
   "metadata": {},
   "outputs": [],
   "source": [
    "counties_selected <- counties %>%\n",
    "  select(region, state, county, metro, population, walk)"
   ]
  },
  {
   "cell_type": "code",
   "execution_count": null,
   "metadata": {},
   "outputs": [],
   "source": [
    "# Find the county in each region with the highest percentage of citizens who walk to work.\n",
    "counties_selected %>%\n",
    "\n"
   ]
  },
  {
   "cell_type": "code",
   "execution_count": null,
   "metadata": {},
   "outputs": [],
   "source": [
    "counties_selected <- counties %>%\n",
    "  select(region, state, county, population, income)"
   ]
  },
  {
   "cell_type": "code",
   "execution_count": null,
   "metadata": {},
   "outputs": [],
   "source": [
    "# Calculate the average income (as average_income) of counties within each region and state\n",
    "counties_selected %>%\n",
    "  group_by(region, state) %>%\n",
    "  # Calculate average income\n",
    "  summarize(average_income = mean(income)) %>%\n",
    "  # Find the highest income state in each region\n",
    "  top_n(1, average_income)"
   ]
  },
  {
   "cell_type": "code",
   "execution_count": null,
   "metadata": {},
   "outputs": [],
   "source": [
    "counties_selected <- counties %>%\n",
    "  select(state, metro, population)"
   ]
  },
  {
   "cell_type": "markdown",
   "metadata": {},
   "source": [
    "### advanced selecting"
   ]
  },
  {
   "cell_type": "code",
   "execution_count": null,
   "metadata": {},
   "outputs": [],
   "source": [
    "# Glimpse the counties table\n",
    "glimpse(counties)\n",
    "\n",
    "counties %>%\n",
    "  # Select state, county, population, and industry-related columns using colon\n",
    "  # (professional, service, office, construction, and production)\n",
    "\n",
    "  # Arrange service in descending order \n"
   ]
  },
  {
   "cell_type": "code",
   "execution_count": null,
   "metadata": {},
   "outputs": [],
   "source": [
    "counties %>%\n",
    "  # Select the state, county, population, and those ending with \"work\"\n",
    "\n",
    "  # Filter for counties that have at least 50% of people engaged in public work\n",
    "\n"
   ]
  },
  {
   "cell_type": "markdown",
   "metadata": {},
   "source": [
    "### rename"
   ]
  },
  {
   "cell_type": "code",
   "execution_count": null,
   "metadata": {},
   "outputs": [],
   "source": [
    "# Rename the n column to num_counties\n",
    "\n",
    "  "
   ]
  },
  {
   "cell_type": "code",
   "execution_count": null,
   "metadata": {},
   "outputs": [],
   "source": [
    "## rename using select verb\n",
    "# Select state, county, and poverty as poverty_rate\n",
    "counties %>%\n",
    "  select(state, county, poverty_rate = poverty)"
   ]
  },
  {
   "cell_type": "markdown",
   "metadata": {},
   "source": [
    "### transmute = select + mutate"
   ]
  },
  {
   "cell_type": "code",
   "execution_count": null,
   "metadata": {},
   "outputs": [],
   "source": [
    "counties %>%\n",
    "  # Keep the state, county, and populations columns, and add a density column\n",
    "\n",
    "  # Filter for counties with a population greater than one million \n",
    "\n",
    "  # Sort density in ascending order \n",
    "  "
   ]
  },
  {
   "cell_type": "code",
   "execution_count": null,
   "metadata": {},
   "outputs": [],
   "source": [
    "# Change the name of the unemployment column\n",
    "counties %>%\n",
    "\n",
    "\n",
    "# Keep the state and county columns, and the columns containing poverty\n",
    "counties %>%\n",
    "\n",
    "\n",
    "# Calculate the fraction_women column without dropping the other columns\n",
    "counties %>%\n",
    "\n",
    "\n",
    "# Keep only the state, county, and employment_rate columns\n",
    "counties %>%\n"
   ]
  },
  {
   "cell_type": "markdown",
   "metadata": {},
   "source": [
    "# Importing data"
   ]
  },
  {
   "cell_type": "code",
   "execution_count": null,
   "metadata": {},
   "outputs": [],
   "source": [
    "dir()"
   ]
  },
  {
   "cell_type": "code",
   "execution_count": null,
   "metadata": {},
   "outputs": [],
   "source": [
    "# Import swimming_pools.csv: pools\n",
    "\n",
    "# Print the structure of pools\n",
    "print(str(pools))"
   ]
  },
  {
   "cell_type": "code",
   "execution_count": null,
   "metadata": {},
   "outputs": [],
   "source": [
    "# Import swimming_pools.csv correctly: pools\n",
    "\n",
    "\n",
    "# Check the structure of pools\n",
    "print(str(pools))"
   ]
  },
  {
   "cell_type": "code",
   "execution_count": null,
   "metadata": {},
   "outputs": [],
   "source": [
    "# Import hotdogs.txt: hotdogs\n",
    "\n",
    "\n",
    "# Summarize hotdogs\n",
    "summary(hotdogs)"
   ]
  },
  {
   "cell_type": "code",
   "execution_count": null,
   "metadata": {},
   "outputs": [],
   "source": [
    "# Path to the hotdogs.txt file: path\n",
    "path <- file.path('hotdogs.txt')\n",
    "#path <- file.path(\"data\", \"hotdogs.txt\")\n",
    "\n",
    "# Import the hotdogs.txt file: hotdogs\n",
    "hotdogs <- read.table(path, head = FALSE,\n",
    "                      sep = '\\t', \n",
    "                      col.names = c(\"type\", \"calories\", \"sodium\"))\n",
    "\n",
    "# Call head() on hotdogs\n",
    "head(hotdogs)"
   ]
  },
  {
   "cell_type": "markdown",
   "metadata": {},
   "source": [
    "### Importing excel data"
   ]
  },
  {
   "cell_type": "code",
   "execution_count": null,
   "metadata": {},
   "outputs": [],
   "source": [
    "# Load the readxl package\n",
    "library(readxl)\n",
    "\n",
    "# Print the names of all worksheets\n",
    "excel_sheets('urbanpop.xlsx')"
   ]
  },
  {
   "cell_type": "code",
   "execution_count": null,
   "metadata": {},
   "outputs": [],
   "source": [
    "# The readxl package is already loaded\n",
    "\n",
    "# Read the sheets, one by one\n",
    "pop_1 <- \n",
    "pop_2 <- \n",
    "pop_3 <- \n",
    "\n",
    "\n",
    "# Put pop_1, pop_2 and pop_3 in a list: pop_list\n",
    "pop_list = list(pop_1, pop_2, pop_3)\n",
    "\n",
    "# Display the structure of pop_list\n",
    "str(pop_list)"
   ]
  },
  {
   "cell_type": "code",
   "execution_count": null,
   "metadata": {},
   "outputs": [],
   "source": [
    "# Read all Excel sheets with lapply(): pop_list\n",
    "pop_list <- \n",
    "\n",
    "# Display the structure of pop_list\n",
    "str(pop_list)"
   ]
  },
  {
   "cell_type": "code",
   "execution_count": null,
   "metadata": {},
   "outputs": [],
   "source": []
  }
 ],
 "metadata": {
  "kernelspec": {
   "display_name": "R",
   "language": "R",
   "name": "ir"
  },
  "language_info": {
   "codemirror_mode": "r",
   "file_extension": ".r",
   "mimetype": "text/x-r-source",
   "name": "R",
   "pygments_lexer": "r",
   "version": "3.6.1"
  }
 },
 "nbformat": 4,
 "nbformat_minor": 4
}
