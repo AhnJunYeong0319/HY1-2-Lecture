{
 "cells": [
  {
   "cell_type": "markdown",
   "metadata": {},
   "source": [
    "##  Functions\n"
   ]
  },
  {
   "cell_type": "code",
   "execution_count": 177,
   "metadata": {},
   "outputs": [
    {
     "name": "stdout",
     "output_type": "stream",
     "text": [
      "function (x, ...) \n",
      "NULL\n"
     ]
    }
   ],
   "source": []
  },
  {
   "cell_type": "code",
   "execution_count": 1,
   "metadata": {},
   "outputs": [],
   "source": [
    "library(magrittr)"
   ]
  },
  {
   "cell_type": "code",
   "execution_count": 2,
   "metadata": {},
   "outputs": [],
   "source": [
    "x <-c(10, 1000, 1000000, 10000)"
   ]
  },
  {
   "cell_type": "code",
   "execution_count": 7,
   "metadata": {},
   "outputs": [],
   "source": [
    "y <- x %>% log10() %>%\n",
    "    diff() %>%\n",
    "    exp() %>%\n",
    "    round(1)\n",
    "   "
   ]
  },
  {
   "cell_type": "code",
   "execution_count": 8,
   "metadata": {},
   "outputs": [
    {
     "name": "stdout",
     "output_type": "stream",
     "text": [
      "[1]  7.4 20.1  0.1\n"
     ]
    }
   ],
   "source": [
    "print(y)"
   ]
  },
  {
   "cell_type": "code",
   "execution_count": 13,
   "metadata": {},
   "outputs": [],
   "source": [
    "###Function Documentation\n",
    "# Consult the documentation on the mean() function\n",
    "help(mean)\n",
    "?mean\n"
   ]
  },
  {
   "cell_type": "code",
   "execution_count": 16,
   "metadata": {},
   "outputs": [
    {
     "data": {
      "text/html": [
       "<pre class=language-r><code>function (x, ...) \n",
       "NULL</code></pre>"
      ],
      "text/latex": [
       "\\begin{minted}{r}\n",
       "function (x, ...) \n",
       "NULL\n",
       "\\end{minted}"
      ],
      "text/markdown": [
       "```r\n",
       "function (x, ...) \n",
       "NULL\n",
       "```"
      ],
      "text/plain": [
       "function (x, ...) \n",
       "NULL"
      ]
     },
     "metadata": {},
     "output_type": "display_data"
    }
   ],
   "source": [
    "## https://github.com/JoshuaHaden/Intermediate-R-Programming-Data-Camp/blob/master/Chapter%203%20Functions.R\n",
    "# Inspect the arguments of the mean() function\n",
    "args(mean)"
   ]
  },
  {
   "cell_type": "code",
   "execution_count": 18,
   "metadata": {},
   "outputs": [
    {
     "name": "stdout",
     "output_type": "stream",
     "text": [
      " [1]  0  1  2  3  4  5  6  7  8  9 10 50\n"
     ]
    }
   ],
   "source": [
    "x <- c(0:10, 50)\n",
    "print(x)"
   ]
  },
  {
   "cell_type": "code",
   "execution_count": 19,
   "metadata": {},
   "outputs": [
    {
     "data": {
      "text/html": [
       "<ol class=list-inline>\n",
       "\t<li>8.75</li>\n",
       "\t<li>5.5</li>\n",
       "</ol>\n"
      ],
      "text/latex": [
       "\\begin{enumerate*}\n",
       "\\item 8.75\n",
       "\\item 5.5\n",
       "\\end{enumerate*}\n"
      ],
      "text/markdown": [
       "1. 8.75\n",
       "2. 5.5\n",
       "\n",
       "\n"
      ],
      "text/plain": [
       "[1] 8.75 5.50"
      ]
     },
     "metadata": {},
     "output_type": "display_data"
    }
   ],
   "source": [
    "xm <- mean(x)\n",
    "c(xm, mean(x, trim = 0.10))"
   ]
  },
  {
   "cell_type": "code",
   "execution_count": 20,
   "metadata": {},
   "outputs": [
    {
     "data": {
      "text/html": [
       "10.8571428571429"
      ],
      "text/latex": [
       "10.8571428571429"
      ],
      "text/markdown": [
       "10.8571428571429"
      ],
      "text/plain": [
       "[1] 10.85714"
      ]
     },
     "metadata": {},
     "output_type": "display_data"
    },
    {
     "data": {
      "text/html": [
       "11.4285714285714"
      ],
      "text/latex": [
       "11.4285714285714"
      ],
      "text/markdown": [
       "11.4285714285714"
      ],
      "text/plain": [
       "[1] 11.42857"
      ]
     },
     "metadata": {},
     "output_type": "display_data"
    },
    {
     "data": {
      "text/html": [
       "-0.571428571428571"
      ],
      "text/latex": [
       "-0.571428571428571"
      ],
      "text/markdown": [
       "-0.571428571428571"
      ],
      "text/plain": [
       "[1] -0.5714286"
      ]
     },
     "metadata": {},
     "output_type": "display_data"
    }
   ],
   "source": [
    "###Use A Function\n",
    "# The linkedin and facebook vectors have already been created for you\n",
    "linkedin <- c(16, 9, 13, 5, 2, 17, 14)\n",
    "facebook <- c(17, 7, 5, 16, 8, 13, 14)\n",
    "\n",
    "# Calculate average number of views\n",
    "avg_li = mean(linkedin)\n",
    "avg_fb = mean(facebook)\n",
    "\n",
    "# Inspect avg_li and avg_fb\n",
    "avg_li\n",
    "avg_fb\n",
    "\n",
    "# Calculate the mean of linkedin minus facebook\n",
    "mean(linkedin - facebook)"
   ]
  },
  {
   "cell_type": "code",
   "execution_count": 21,
   "metadata": {},
   "outputs": [],
   "source": [
    "###Use A Function (2)\n",
    "# The linkedin and facebook vectors have already been created for you\n",
    "linkedin <- c(16, 9, 13, 5, 2, 17, 14)\n",
    "facebook <- c(17, 7, 5, 16, 8, 13, 14)"
   ]
  },
  {
   "cell_type": "code",
   "execution_count": 22,
   "metadata": {},
   "outputs": [],
   "source": [
    "# Calculate the mean of the sum\n",
    "avg_sum = mean(linkedin + facebook)"
   ]
  },
  {
   "cell_type": "code",
   "execution_count": 23,
   "metadata": {},
   "outputs": [],
   "source": [
    "# Calculate the trimmed mean of the sum\n",
    "avg_sum_trimmed = mean(linkedin + facebook, trim = 0.2)"
   ]
  },
  {
   "cell_type": "code",
   "execution_count": 24,
   "metadata": {},
   "outputs": [
    {
     "data": {
      "text/html": [
       "22.2857142857143"
      ],
      "text/latex": [
       "22.2857142857143"
      ],
      "text/markdown": [
       "22.2857142857143"
      ],
      "text/plain": [
       "[1] 22.28571"
      ]
     },
     "metadata": {},
     "output_type": "display_data"
    },
    {
     "data": {
      "text/html": [
       "22.6"
      ],
      "text/latex": [
       "22.6"
      ],
      "text/markdown": [
       "22.6"
      ],
      "text/plain": [
       "[1] 22.6"
      ]
     },
     "metadata": {},
     "output_type": "display_data"
    }
   ],
   "source": [
    "# Inspect both new variables\n",
    "avg_sum\n",
    "avg_sum_trimmed"
   ]
  },
  {
   "cell_type": "code",
   "execution_count": 25,
   "metadata": {},
   "outputs": [],
   "source": [
    "###Use A Function (3)\n",
    "# The linkedin and facebook vectors have already been created for you\n",
    "linkedin <- c(16, 9, 13, 5, NA, 17, 14)\n",
    "facebook <- c(17, NA, 5, 16, 8, 13, 14)"
   ]
  },
  {
   "cell_type": "code",
   "execution_count": 26,
   "metadata": {},
   "outputs": [
    {
     "data": {
      "text/html": [
       "&lt;NA&gt;"
      ],
      "text/latex": [
       "<NA>"
      ],
      "text/markdown": [
       "&lt;NA&gt;"
      ],
      "text/plain": [
       "[1] NA"
      ]
     },
     "metadata": {},
     "output_type": "display_data"
    }
   ],
   "source": [
    "# Basic average of linkedin\n",
    "mean(linkedin)"
   ]
  },
  {
   "cell_type": "code",
   "execution_count": 27,
   "metadata": {},
   "outputs": [
    {
     "data": {
      "text/html": [
       "12.3333333333333"
      ],
      "text/latex": [
       "12.3333333333333"
      ],
      "text/markdown": [
       "12.3333333333333"
      ],
      "text/plain": [
       "[1] 12.33333"
      ]
     },
     "metadata": {},
     "output_type": "display_data"
    }
   ],
   "source": [
    "# Advanced average of linkedin\n",
    "mean(linkedin, na.rm = TRUE)"
   ]
  },
  {
   "cell_type": "code",
   "execution_count": 51,
   "metadata": {},
   "outputs": [],
   "source": [
    "###Functions Inside Functions\n",
    "# The linkedin and facebook vectors have already been created for you\n",
    "linkedin <- c(16, 9, 13, 5, NA, 17, 14)\n",
    "facebook <- c(17, NA, 5, 16, 8, 13, 14)"
   ]
  },
  {
   "cell_type": "code",
   "execution_count": 32,
   "metadata": {},
   "outputs": [
    {
     "data": {
      "text/html": [
       "4.8"
      ],
      "text/latex": [
       "4.8"
      ],
      "text/markdown": [
       "4.8"
      ],
      "text/plain": [
       "[1] 4.8"
      ]
     },
     "metadata": {},
     "output_type": "display_data"
    }
   ],
   "source": [
    "# Calculate the mean absolute deviation\n",
    "mean(abs(linkedin - facebook), na.rm = TRUE)"
   ]
  },
  {
   "cell_type": "code",
   "execution_count": 33,
   "metadata": {},
   "outputs": [],
   "source": [
    "###Write Your Own Function\n",
    "# Create a function pow_two()\n",
    "pow_two <- function(x) {\n",
    "  x ^ 2\n",
    "}"
   ]
  },
  {
   "cell_type": "code",
   "execution_count": 34,
   "metadata": {},
   "outputs": [
    {
     "data": {
      "text/html": [
       "144"
      ],
      "text/latex": [
       "144"
      ],
      "text/markdown": [
       "144"
      ],
      "text/plain": [
       "[1] 144"
      ]
     },
     "metadata": {},
     "output_type": "display_data"
    }
   ],
   "source": [
    "# Use the function \n",
    "pow_two(12)"
   ]
  },
  {
   "cell_type": "code",
   "execution_count": 35,
   "metadata": {},
   "outputs": [],
   "source": [
    "# Create a function sum_abs()\n",
    "sum_abs <- function(x, y) {\n",
    "  abs(x) + abs(y)\n",
    "}"
   ]
  },
  {
   "cell_type": "code",
   "execution_count": 36,
   "metadata": {},
   "outputs": [
    {
     "data": {
      "text/html": [
       "5"
      ],
      "text/latex": [
       "5"
      ],
      "text/markdown": [
       "5"
      ],
      "text/plain": [
       "[1] 5"
      ]
     },
     "metadata": {},
     "output_type": "display_data"
    }
   ],
   "source": [
    "# Use the function\n",
    "sum_abs(-2, 3)"
   ]
  },
  {
   "cell_type": "code",
   "execution_count": 37,
   "metadata": {},
   "outputs": [],
   "source": [
    "###Write Your Own Function (2)\n",
    "# Define the function hello()\n",
    "hello <- function() {\n",
    "  print(\"Hi there!\")\n",
    "  TRUE\n",
    "}"
   ]
  },
  {
   "cell_type": "code",
   "execution_count": 38,
   "metadata": {},
   "outputs": [
    {
     "name": "stdout",
     "output_type": "stream",
     "text": [
      "[1] \"Hi there!\"\n"
     ]
    },
    {
     "data": {
      "text/html": [
       "TRUE"
      ],
      "text/latex": [
       "TRUE"
      ],
      "text/markdown": [
       "TRUE"
      ],
      "text/plain": [
       "[1] TRUE"
      ]
     },
     "metadata": {},
     "output_type": "display_data"
    }
   ],
   "source": [
    "# Call the function hello()\n",
    "hello()"
   ]
  },
  {
   "cell_type": "code",
   "execution_count": 39,
   "metadata": {},
   "outputs": [],
   "source": [
    "# Define the function my_filter()\n",
    "my_filter <- function(x) {\n",
    "  if (x > 0) {\n",
    "    return(x)\n",
    "  } else {\n",
    "    return(NULL)\n",
    "  }\n",
    "}"
   ]
  },
  {
   "cell_type": "code",
   "execution_count": 41,
   "metadata": {},
   "outputs": [
    {
     "data": {
      "text/html": [
       "5"
      ],
      "text/latex": [
       "5"
      ],
      "text/markdown": [
       "5"
      ],
      "text/plain": [
       "[1] 5"
      ]
     },
     "metadata": {},
     "output_type": "display_data"
    },
    {
     "data": {
      "text/plain": [
       "NULL"
      ]
     },
     "metadata": {},
     "output_type": "display_data"
    }
   ],
   "source": [
    "# Call the function my_filter() twice\n",
    "my_filter(5)\n",
    "my_filter(-5)"
   ]
  },
  {
   "cell_type": "code",
   "execution_count": 45,
   "metadata": {},
   "outputs": [
    {
     "name": "stdout",
     "output_type": "stream",
     "text": [
      "[1] \"3 to the power two equals 9\"\n"
     ]
    },
    {
     "data": {
      "text/html": [
       "9"
      ],
      "text/latex": [
       "9"
      ],
      "text/markdown": [
       "9"
      ],
      "text/plain": [
       "[1] 9"
      ]
     },
     "metadata": {},
     "output_type": "display_data"
    }
   ],
   "source": [
    "###Write Your Own Function (3)\n",
    "# Extend the pow_two() function\n",
    "pow_two <- function(x, print_info = TRUE) {\n",
    "  y <- x ^ 2\n",
    "  if (print_info) {\n",
    "    print(paste(x, \"to the power two equals\", y))\n",
    "  }\n",
    "  return(y)\n",
    "}\n",
    "\n",
    "pow_two(3)"
   ]
  },
  {
   "cell_type": "code",
   "execution_count": 46,
   "metadata": {},
   "outputs": [],
   "source": [
    "### Function Scoping\n",
    "two_dice <- function() {\n",
    "  possibilities <- 1:6\n",
    "  dice1 <- sample(possibilities, size = 1)\n",
    "  dice2 <- sample(possibilities, size = 1)\n",
    "  dice1 + dice2\n",
    "}"
   ]
  },
  {
   "cell_type": "code",
   "execution_count": 47,
   "metadata": {},
   "outputs": [],
   "source": [
    "###R Passes Arguments By Value\n",
    "increment <- function(x, inc = 1) {\n",
    "  x <- x + inc\n",
    "  x\n",
    "}"
   ]
  },
  {
   "cell_type": "code",
   "execution_count": 48,
   "metadata": {},
   "outputs": [],
   "source": [
    "count <- 5\n",
    "a <- increment(count, 2)\n",
    "b <- increment(count)\n",
    "count <- increment(count, 2)"
   ]
  },
  {
   "cell_type": "code",
   "execution_count": 52,
   "metadata": {},
   "outputs": [],
   "source": [
    "# Define the interpret function\n",
    "interpret <- function(num_views) {\n",
    "  if (num_views > 15) {\n",
    "    print(\"You're popular!\")\n",
    "    return(num_views)\n",
    "  } else {\n",
    "    print(\"Try to be more visible!\")\n",
    "    return(0)\n",
    "  }\n",
    "}\n"
   ]
  },
  {
   "cell_type": "code",
   "execution_count": 53,
   "metadata": {},
   "outputs": [
    {
     "name": "stdout",
     "output_type": "stream",
     "text": [
      "[1] \"You're popular!\"\n"
     ]
    },
    {
     "data": {
      "text/html": [
       "16"
      ],
      "text/latex": [
       "16"
      ],
      "text/markdown": [
       "16"
      ],
      "text/plain": [
       "[1] 16"
      ]
     },
     "metadata": {},
     "output_type": "display_data"
    },
    {
     "ename": "ERROR",
     "evalue": "Error in if (num_views > 15) {: TRUE/FALSE가 필요한 곳에 값이 없습니다\n",
     "output_type": "error",
     "traceback": [
      "Error in if (num_views > 15) {: TRUE/FALSE가 필요한 곳에 값이 없습니다\nTraceback:\n",
      "1. interpret(facebook[2])"
     ]
    }
   ],
   "source": [
    "# Call the interpret function twice\n",
    "interpret(linkedin[1])\n",
    "interpret(facebook[2])"
   ]
  },
  {
   "cell_type": "code",
   "execution_count": 54,
   "metadata": {},
   "outputs": [],
   "source": [
    "# The linkedin and facebook vectors have already been created for you\n",
    "linkedin <- c(16, 9, 13, 5, 2, 17, 14)\n",
    "facebook <- c(17, 7, 5, 16, 8, 13, 14)"
   ]
  },
  {
   "cell_type": "code",
   "execution_count": 55,
   "metadata": {},
   "outputs": [],
   "source": [
    "# The interpret() can be used inside interpret_all()\n",
    "interpret <- function(num_views) {\n",
    "  if (num_views > 15) {\n",
    "    print(\"You're popular!\")\n",
    "    return(num_views)\n",
    "  } else {\n",
    "    print(\"Try to be more visible!\")\n",
    "    return(0)\n",
    "  }\n",
    "}"
   ]
  },
  {
   "cell_type": "code",
   "execution_count": 57,
   "metadata": {},
   "outputs": [],
   "source": [
    "# Define the interpret_all() function\n",
    "interpret_all <- function(views, return_sum = TRUE) {\n",
    "  count <- 0\n",
    "  for (v in views) {\n",
    "    count <- count + interpret(v)\n",
    "  }\n",
    "  if (return_sum) {\n",
    "    return(count)\n",
    "  } else {\n",
    "    return(NULL)\n",
    "  }\n",
    "}"
   ]
  },
  {
   "cell_type": "code",
   "execution_count": 58,
   "metadata": {},
   "outputs": [
    {
     "name": "stdout",
     "output_type": "stream",
     "text": [
      "[1] \"You're popular!\"\n",
      "[1] \"Try to be more visible!\"\n",
      "[1] \"Try to be more visible!\"\n",
      "[1] \"Try to be more visible!\"\n",
      "[1] \"Try to be more visible!\"\n",
      "[1] \"You're popular!\"\n",
      "[1] \"Try to be more visible!\"\n"
     ]
    },
    {
     "data": {
      "text/html": [
       "33"
      ],
      "text/latex": [
       "33"
      ],
      "text/markdown": [
       "33"
      ],
      "text/plain": [
       "[1] 33"
      ]
     },
     "metadata": {},
     "output_type": "display_data"
    },
    {
     "name": "stdout",
     "output_type": "stream",
     "text": [
      "[1] \"You're popular!\"\n",
      "[1] \"Try to be more visible!\"\n",
      "[1] \"Try to be more visible!\"\n",
      "[1] \"You're popular!\"\n",
      "[1] \"Try to be more visible!\"\n",
      "[1] \"Try to be more visible!\"\n",
      "[1] \"Try to be more visible!\"\n"
     ]
    },
    {
     "data": {
      "text/html": [
       "33"
      ],
      "text/latex": [
       "33"
      ],
      "text/markdown": [
       "33"
      ],
      "text/plain": [
       "[1] 33"
      ]
     },
     "metadata": {},
     "output_type": "display_data"
    }
   ],
   "source": [
    "# Call the interpret_all() function on both linkedin and facebook\n",
    "interpret_all(linkedin)\n",
    "interpret_all(facebook)"
   ]
  },
  {
   "cell_type": "code",
   "execution_count": 68,
   "metadata": {},
   "outputs": [
    {
     "data": {
      "text/html": [
       "<ol class=list-inline>\n",
       "\t<li>2.62</li>\n",
       "\t<li>2.875</li>\n",
       "\t<li>2.32</li>\n",
       "\t<li>3.215</li>\n",
       "\t<li>3.44</li>\n",
       "\t<li>3.46</li>\n",
       "\t<li>3.57</li>\n",
       "\t<li>3.19</li>\n",
       "\t<li>3.15</li>\n",
       "\t<li>3.44</li>\n",
       "\t<li>3.44</li>\n",
       "\t<li>4.07</li>\n",
       "\t<li>3.73</li>\n",
       "\t<li>3.78</li>\n",
       "\t<li>5.25</li>\n",
       "\t<li>5.424</li>\n",
       "\t<li>5.345</li>\n",
       "\t<li>2.2</li>\n",
       "\t<li>1.615</li>\n",
       "\t<li>1.835</li>\n",
       "\t<li>2.465</li>\n",
       "\t<li>3.52</li>\n",
       "\t<li>3.435</li>\n",
       "\t<li>3.84</li>\n",
       "\t<li>3.845</li>\n",
       "\t<li>1.935</li>\n",
       "\t<li>2.14</li>\n",
       "\t<li>1.513</li>\n",
       "\t<li>3.17</li>\n",
       "\t<li>2.77</li>\n",
       "\t<li>3.57</li>\n",
       "\t<li>2.78</li>\n",
       "</ol>\n"
      ],
      "text/latex": [
       "\\begin{enumerate*}\n",
       "\\item 2.62\n",
       "\\item 2.875\n",
       "\\item 2.32\n",
       "\\item 3.215\n",
       "\\item 3.44\n",
       "\\item 3.46\n",
       "\\item 3.57\n",
       "\\item 3.19\n",
       "\\item 3.15\n",
       "\\item 3.44\n",
       "\\item 3.44\n",
       "\\item 4.07\n",
       "\\item 3.73\n",
       "\\item 3.78\n",
       "\\item 5.25\n",
       "\\item 5.424\n",
       "\\item 5.345\n",
       "\\item 2.2\n",
       "\\item 1.615\n",
       "\\item 1.835\n",
       "\\item 2.465\n",
       "\\item 3.52\n",
       "\\item 3.435\n",
       "\\item 3.84\n",
       "\\item 3.845\n",
       "\\item 1.935\n",
       "\\item 2.14\n",
       "\\item 1.513\n",
       "\\item 3.17\n",
       "\\item 2.77\n",
       "\\item 3.57\n",
       "\\item 2.78\n",
       "\\end{enumerate*}\n"
      ],
      "text/markdown": [
       "1. 2.62\n",
       "2. 2.875\n",
       "3. 2.32\n",
       "4. 3.215\n",
       "5. 3.44\n",
       "6. 3.46\n",
       "7. 3.57\n",
       "8. 3.19\n",
       "9. 3.15\n",
       "10. 3.44\n",
       "11. 3.44\n",
       "12. 4.07\n",
       "13. 3.73\n",
       "14. 3.78\n",
       "15. 5.25\n",
       "16. 5.424\n",
       "17. 5.345\n",
       "18. 2.2\n",
       "19. 1.615\n",
       "20. 1.835\n",
       "21. 2.465\n",
       "22. 3.52\n",
       "23. 3.435\n",
       "24. 3.84\n",
       "25. 3.845\n",
       "26. 1.935\n",
       "27. 2.14\n",
       "28. 1.513\n",
       "29. 3.17\n",
       "30. 2.77\n",
       "31. 3.57\n",
       "32. 2.78\n",
       "\n",
       "\n"
      ],
      "text/plain": [
       " [1] 2.620 2.875 2.320 3.215 3.440 3.460 3.570 3.190 3.150 3.440 3.440 4.070\n",
       "[13] 3.730 3.780 5.250 5.424 5.345 2.200 1.615 1.835 2.465 3.520 3.435 3.840\n",
       "[25] 3.845 1.935 2.140 1.513 3.170 2.770 3.570 2.780"
      ]
     },
     "metadata": {},
     "output_type": "display_data"
    },
    {
     "data": {
      "text/html": [
       "<ol class=list-inline>\n",
       "\t<li>110</li>\n",
       "\t<li>110</li>\n",
       "\t<li>93</li>\n",
       "\t<li>110</li>\n",
       "\t<li>175</li>\n",
       "\t<li>105</li>\n",
       "\t<li>245</li>\n",
       "\t<li>62</li>\n",
       "\t<li>95</li>\n",
       "\t<li>123</li>\n",
       "\t<li>123</li>\n",
       "\t<li>180</li>\n",
       "\t<li>180</li>\n",
       "\t<li>180</li>\n",
       "\t<li>205</li>\n",
       "\t<li>215</li>\n",
       "\t<li>230</li>\n",
       "\t<li>66</li>\n",
       "\t<li>52</li>\n",
       "\t<li>65</li>\n",
       "\t<li>97</li>\n",
       "\t<li>150</li>\n",
       "\t<li>150</li>\n",
       "\t<li>245</li>\n",
       "\t<li>175</li>\n",
       "\t<li>66</li>\n",
       "\t<li>91</li>\n",
       "\t<li>113</li>\n",
       "\t<li>264</li>\n",
       "\t<li>175</li>\n",
       "\t<li>335</li>\n",
       "\t<li>109</li>\n",
       "</ol>\n"
      ],
      "text/latex": [
       "\\begin{enumerate*}\n",
       "\\item 110\n",
       "\\item 110\n",
       "\\item 93\n",
       "\\item 110\n",
       "\\item 175\n",
       "\\item 105\n",
       "\\item 245\n",
       "\\item 62\n",
       "\\item 95\n",
       "\\item 123\n",
       "\\item 123\n",
       "\\item 180\n",
       "\\item 180\n",
       "\\item 180\n",
       "\\item 205\n",
       "\\item 215\n",
       "\\item 230\n",
       "\\item 66\n",
       "\\item 52\n",
       "\\item 65\n",
       "\\item 97\n",
       "\\item 150\n",
       "\\item 150\n",
       "\\item 245\n",
       "\\item 175\n",
       "\\item 66\n",
       "\\item 91\n",
       "\\item 113\n",
       "\\item 264\n",
       "\\item 175\n",
       "\\item 335\n",
       "\\item 109\n",
       "\\end{enumerate*}\n"
      ],
      "text/markdown": [
       "1. 110\n",
       "2. 110\n",
       "3. 93\n",
       "4. 110\n",
       "5. 175\n",
       "6. 105\n",
       "7. 245\n",
       "8. 62\n",
       "9. 95\n",
       "10. 123\n",
       "11. 123\n",
       "12. 180\n",
       "13. 180\n",
       "14. 180\n",
       "15. 205\n",
       "16. 215\n",
       "17. 230\n",
       "18. 66\n",
       "19. 52\n",
       "20. 65\n",
       "21. 97\n",
       "22. 150\n",
       "23. 150\n",
       "24. 245\n",
       "25. 175\n",
       "26. 66\n",
       "27. 91\n",
       "28. 113\n",
       "29. 264\n",
       "30. 175\n",
       "31. 335\n",
       "32. 109\n",
       "\n",
       "\n"
      ],
      "text/plain": [
       " [1] 110 110  93 110 175 105 245  62  95 123 123 180 180 180 205 215 230  66  52\n",
       "[20]  65  97 150 150 245 175  66  91 113 264 175 335 109"
      ]
     },
     "metadata": {},
     "output_type": "display_data"
    }
   ],
   "source": [
    "###Load An R Package\n",
    "# The mtcars vectors have already been prepared for you\n",
    "wt <- mtcars$wt\n",
    "hp <- mtcars$hp\n",
    "\n",
    "wt\n",
    "\n",
    "hp"
   ]
  },
  {
   "cell_type": "code",
   "execution_count": 60,
   "metadata": {
    "scrolled": false
   },
   "outputs": [
    {
     "data": {
      "text/html": [
       "<ol class=list-inline>\n",
       "\t<li>'.GlobalEnv'</li>\n",
       "\t<li>'package:magrittr'</li>\n",
       "\t<li>'jupyter:irkernel'</li>\n",
       "\t<li>'package:stats'</li>\n",
       "\t<li>'package:graphics'</li>\n",
       "\t<li>'package:grDevices'</li>\n",
       "\t<li>'package:utils'</li>\n",
       "\t<li>'package:datasets'</li>\n",
       "\t<li>'package:methods'</li>\n",
       "\t<li>'Autoloads'</li>\n",
       "\t<li>'package:base'</li>\n",
       "</ol>\n"
      ],
      "text/latex": [
       "\\begin{enumerate*}\n",
       "\\item '.GlobalEnv'\n",
       "\\item 'package:magrittr'\n",
       "\\item 'jupyter:irkernel'\n",
       "\\item 'package:stats'\n",
       "\\item 'package:graphics'\n",
       "\\item 'package:grDevices'\n",
       "\\item 'package:utils'\n",
       "\\item 'package:datasets'\n",
       "\\item 'package:methods'\n",
       "\\item 'Autoloads'\n",
       "\\item 'package:base'\n",
       "\\end{enumerate*}\n"
      ],
      "text/markdown": [
       "1. '.GlobalEnv'\n",
       "2. 'package:magrittr'\n",
       "3. 'jupyter:irkernel'\n",
       "4. 'package:stats'\n",
       "5. 'package:graphics'\n",
       "6. 'package:grDevices'\n",
       "7. 'package:utils'\n",
       "8. 'package:datasets'\n",
       "9. 'package:methods'\n",
       "10. 'Autoloads'\n",
       "11. 'package:base'\n",
       "\n",
       "\n"
      ],
      "text/plain": [
       " [1] \".GlobalEnv\"        \"package:magrittr\"  \"jupyter:irkernel\" \n",
       " [4] \"package:stats\"     \"package:graphics\"  \"package:grDevices\"\n",
       " [7] \"package:utils\"     \"package:datasets\"  \"package:methods\"  \n",
       "[10] \"Autoloads\"         \"package:base\"     "
      ]
     },
     "metadata": {},
     "output_type": "display_data"
    }
   ],
   "source": [
    "## find attached packages\n",
    "search()"
   ]
  },
  {
   "cell_type": "code",
   "execution_count": 61,
   "metadata": {
    "scrolled": true
   },
   "outputs": [
    {
     "name": "stderr",
     "output_type": "stream",
     "text": [
      "Warning message:\n",
      "\"package 'ggvis' was built under R version 3.6.3\""
     ]
    }
   ],
   "source": [
    "library('ggvis')"
   ]
  },
  {
   "cell_type": "code",
   "execution_count": 62,
   "metadata": {},
   "outputs": [
    {
     "data": {
      "text/html": [
       "<ol class=list-inline>\n",
       "\t<li>'.GlobalEnv'</li>\n",
       "\t<li>'package:ggvis'</li>\n",
       "\t<li>'package:magrittr'</li>\n",
       "\t<li>'jupyter:irkernel'</li>\n",
       "\t<li>'package:stats'</li>\n",
       "\t<li>'package:graphics'</li>\n",
       "\t<li>'package:grDevices'</li>\n",
       "\t<li>'package:utils'</li>\n",
       "\t<li>'package:datasets'</li>\n",
       "\t<li>'package:methods'</li>\n",
       "\t<li>'Autoloads'</li>\n",
       "\t<li>'package:base'</li>\n",
       "</ol>\n"
      ],
      "text/latex": [
       "\\begin{enumerate*}\n",
       "\\item '.GlobalEnv'\n",
       "\\item 'package:ggvis'\n",
       "\\item 'package:magrittr'\n",
       "\\item 'jupyter:irkernel'\n",
       "\\item 'package:stats'\n",
       "\\item 'package:graphics'\n",
       "\\item 'package:grDevices'\n",
       "\\item 'package:utils'\n",
       "\\item 'package:datasets'\n",
       "\\item 'package:methods'\n",
       "\\item 'Autoloads'\n",
       "\\item 'package:base'\n",
       "\\end{enumerate*}\n"
      ],
      "text/markdown": [
       "1. '.GlobalEnv'\n",
       "2. 'package:ggvis'\n",
       "3. 'package:magrittr'\n",
       "4. 'jupyter:irkernel'\n",
       "5. 'package:stats'\n",
       "6. 'package:graphics'\n",
       "7. 'package:grDevices'\n",
       "8. 'package:utils'\n",
       "9. 'package:datasets'\n",
       "10. 'package:methods'\n",
       "11. 'Autoloads'\n",
       "12. 'package:base'\n",
       "\n",
       "\n"
      ],
      "text/plain": [
       " [1] \".GlobalEnv\"        \"package:ggvis\"     \"package:magrittr\" \n",
       " [4] \"jupyter:irkernel\"  \"package:stats\"     \"package:graphics\" \n",
       " [7] \"package:grDevices\" \"package:utils\"     \"package:datasets\" \n",
       "[10] \"package:methods\"   \"Autoloads\"         \"package:base\"     "
      ]
     },
     "metadata": {},
     "output_type": "display_data"
    }
   ],
   "source": [
    "search()"
   ]
  },
  {
   "cell_type": "code",
   "execution_count": 63,
   "metadata": {},
   "outputs": [
    {
     "name": "stderr",
     "output_type": "stream",
     "text": [
      "Registered S3 methods overwritten by 'ggplot2':\n",
      "  method         from \n",
      "  [.quosures     rlang\n",
      "  c.quosures     rlang\n",
      "  print.quosures rlang\n",
      "\n",
      "Attaching package: 'ggplot2'\n",
      "\n",
      "The following object is masked from 'package:ggvis':\n",
      "\n",
      "    resolution\n",
      "\n"
     ]
    }
   ],
   "source": [
    "# Load the ggplot2 package\n",
    "library(\"ggplot2\")"
   ]
  },
  {
   "cell_type": "code",
   "execution_count": 64,
   "metadata": {},
   "outputs": [
    {
     "data": {
      "image/png": "[encoded data removed]",
      "text/plain": [
       "plot without title"
      ]
     },
     "metadata": {},
     "output_type": "display_data"
    }
   ],
   "source": [
    "# Retry the qplot() function\n",
    "qplot(wt, hp)"
   ]
  },
  {
   "cell_type": "code",
   "execution_count": 69,
   "metadata": {},
   "outputs": [
    {
     "data": {
      "text/html": [
       "<ol class=list-inline>\n",
       "\t<li>'.GlobalEnv'</li>\n",
       "\t<li>'package:ggplot2'</li>\n",
       "\t<li>'package:ggvis'</li>\n",
       "\t<li>'package:magrittr'</li>\n",
       "\t<li>'jupyter:irkernel'</li>\n",
       "\t<li>'package:stats'</li>\n",
       "\t<li>'package:graphics'</li>\n",
       "\t<li>'package:grDevices'</li>\n",
       "\t<li>'package:utils'</li>\n",
       "\t<li>'package:datasets'</li>\n",
       "\t<li>'package:methods'</li>\n",
       "\t<li>'Autoloads'</li>\n",
       "\t<li>'package:base'</li>\n",
       "</ol>\n"
      ],
      "text/latex": [
       "\\begin{enumerate*}\n",
       "\\item '.GlobalEnv'\n",
       "\\item 'package:ggplot2'\n",
       "\\item 'package:ggvis'\n",
       "\\item 'package:magrittr'\n",
       "\\item 'jupyter:irkernel'\n",
       "\\item 'package:stats'\n",
       "\\item 'package:graphics'\n",
       "\\item 'package:grDevices'\n",
       "\\item 'package:utils'\n",
       "\\item 'package:datasets'\n",
       "\\item 'package:methods'\n",
       "\\item 'Autoloads'\n",
       "\\item 'package:base'\n",
       "\\end{enumerate*}\n"
      ],
      "text/markdown": [
       "1. '.GlobalEnv'\n",
       "2. 'package:ggplot2'\n",
       "3. 'package:ggvis'\n",
       "4. 'package:magrittr'\n",
       "5. 'jupyter:irkernel'\n",
       "6. 'package:stats'\n",
       "7. 'package:graphics'\n",
       "8. 'package:grDevices'\n",
       "9. 'package:utils'\n",
       "10. 'package:datasets'\n",
       "11. 'package:methods'\n",
       "12. 'Autoloads'\n",
       "13. 'package:base'\n",
       "\n",
       "\n"
      ],
      "text/plain": [
       " [1] \".GlobalEnv\"        \"package:ggplot2\"   \"package:ggvis\"    \n",
       " [4] \"package:magrittr\"  \"jupyter:irkernel\"  \"package:stats\"    \n",
       " [7] \"package:graphics\"  \"package:grDevices\" \"package:utils\"    \n",
       "[10] \"package:datasets\"  \"package:methods\"   \"Autoloads\"        \n",
       "[13] \"package:base\"     "
      ]
     },
     "metadata": {},
     "output_type": "display_data"
    }
   ],
   "source": [
    "## find attached packages again\n",
    "search()"
   ]
  },
  {
   "cell_type": "markdown",
   "metadata": {},
   "source": [
    "## Apply family"
   ]
  },
  {
   "cell_type": "markdown",
   "metadata": {},
   "source": [
    "### Use lapply With A Built-In R Function\n"
   ]
  },
  {
   "cell_type": "code",
   "execution_count": 70,
   "metadata": {},
   "outputs": [],
   "source": [
    "pioneers <- c(\"GAUSS:1777\", \"BAYES:1702\", \"PASCAL:1623\", \"PEARSON:1857\")"
   ]
  },
  {
   "cell_type": "code",
   "execution_count": 73,
   "metadata": {},
   "outputs": [],
   "source": [
    "# Split names from birth year: split_math\n",
    "split_math <- strsplit(pioneers, split = \":\")"
   ]
  },
  {
   "cell_type": "code",
   "execution_count": 84,
   "metadata": {},
   "outputs": [
    {
     "name": "stdout",
     "output_type": "stream",
     "text": [
      "[[1]]\n",
      "[1] \"gauss\" \"1777\" \n",
      "\n",
      "[[2]]\n",
      "[1] \"bayes\" \"1702\" \n",
      "\n",
      "[[3]]\n",
      "[1] \"pascal\" \"1623\"  \n",
      "\n",
      "[[4]]\n",
      "[1] \"pearson\" \"1857\"   \n",
      "\n"
     ]
    }
   ],
   "source": [
    "# Convert to lowercase strings: split_low\n",
    "split_low <- lapply(split_math, tolower)\n",
    "print(split_low)"
   ]
  },
  {
   "cell_type": "code",
   "execution_count": 78,
   "metadata": {},
   "outputs": [
    {
     "name": "stdout",
     "output_type": "stream",
     "text": [
      "List of 4\n",
      " $ : chr [1:2] \"gauss\" \"1777\"\n",
      " $ : chr [1:2] \"bayes\" \"1702\"\n",
      " $ : chr [1:2] \"pascal\" \"1623\"\n",
      " $ : chr [1:2] \"pearson\" \"1857\"\n"
     ]
    }
   ],
   "source": [
    "# Take a look at the structure of split_low\n",
    "str(split_low)"
   ]
  },
  {
   "cell_type": "code",
   "execution_count": 75,
   "metadata": {},
   "outputs": [
    {
     "data": {
      "text/html": [
       "<ol>\n",
       "\t<li><ol class=list-inline>\n",
       "\t<li>'GAUSS'</li>\n",
       "\t<li>'1777'</li>\n",
       "</ol>\n",
       "</li>\n",
       "</ol>\n"
      ],
      "text/latex": [
       "\\begin{enumerate}\n",
       "\\item \\begin{enumerate*}\n",
       "\\item 'GAUSS'\n",
       "\\item '1777'\n",
       "\\end{enumerate*}\n",
       "\n",
       "\\end{enumerate}\n"
      ],
      "text/markdown": [
       "1. 1. 'GAUSS'\n",
       "2. '1777'\n",
       "\n",
       "\n",
       "\n",
       "\n",
       "\n"
      ],
      "text/plain": [
       "[[1]]\n",
       "[1] \"GAUSS\" \"1777\" \n"
      ]
     },
     "metadata": {},
     "output_type": "display_data"
    }
   ],
   "source": [
    "split_math[1]"
   ]
  },
  {
   "cell_type": "code",
   "execution_count": 74,
   "metadata": {},
   "outputs": [
    {
     "data": {
      "text/html": [
       "'GAUSS'"
      ],
      "text/latex": [
       "'GAUSS'"
      ],
      "text/markdown": [
       "'GAUSS'"
      ],
      "text/plain": [
       "[1] \"GAUSS\""
      ]
     },
     "metadata": {},
     "output_type": "display_data"
    }
   ],
   "source": [
    "split_math[[1]][1]"
   ]
  },
  {
   "cell_type": "markdown",
   "metadata": {},
   "source": [
    "### Use lapply With Your Own Function"
   ]
  },
  {
   "cell_type": "code",
   "execution_count": 79,
   "metadata": {},
   "outputs": [
    {
     "ename": "ERROR",
     "evalue": "Error in match.fun(FUN): 객체 'select_first'를 찾을 수 없습니다\n",
     "output_type": "error",
     "traceback": [
      "Error in match.fun(FUN): 객체 'select_first'를 찾을 수 없습니다\nTraceback:\n",
      "1. lapply(split_low, select_first)",
      "2. match.fun(FUN)"
     ]
    }
   ],
   "source": [
    "# Apply select_first() over split_low: names\n",
    "names <- lapply(split_low, select_first)"
   ]
  },
  {
   "cell_type": "code",
   "execution_count": 83,
   "metadata": {},
   "outputs": [
    {
     "name": "stdout",
     "output_type": "stream",
     "text": [
      "[[1]]\n",
      "[1] \"gauss\"\n",
      "\n",
      "[[2]]\n",
      "[1] \"bayes\"\n",
      "\n",
      "[[3]]\n",
      "[1] \"pascal\"\n",
      "\n",
      "[[4]]\n",
      "[1] \"pearson\"\n",
      "\n"
     ]
    }
   ],
   "source": [
    "# do the samething as the above with one line of code (anonymous function)\n",
    "names <- lapply(split_low, function(x) { x[1] })\n",
    "print(names)"
   ]
  },
  {
   "cell_type": "code",
   "execution_count": 85,
   "metadata": {},
   "outputs": [],
   "source": [
    "# Write function select_second()\n",
    "select_second <- function(x) {\n",
    "  x[2]\n",
    "}"
   ]
  },
  {
   "cell_type": "code",
   "execution_count": 86,
   "metadata": {},
   "outputs": [],
   "source": [
    "# Apply select_second() over split_low: names\n",
    "years <- lapply(split_low, select_second)"
   ]
  },
  {
   "cell_type": "code",
   "execution_count": 87,
   "metadata": {},
   "outputs": [],
   "source": [
    "# do the samething as the above with one line of code\n",
    "years <- lapply(split_low, function(x) { x[2] })\n"
   ]
  },
  {
   "cell_type": "code",
   "execution_count": 88,
   "metadata": {},
   "outputs": [],
   "source": [
    "###Use lapply With Additional Arguments\n",
    "# Definition of split_low\n",
    "pioneers <- c(\"GAUSS:1777\", \"BAYES:1702\", \"PASCAL:1623\", \"PEARSON:1857\")"
   ]
  },
  {
   "cell_type": "code",
   "execution_count": 100,
   "metadata": {},
   "outputs": [
    {
     "name": "stdout",
     "output_type": "stream",
     "text": [
      "[[1]]\n",
      "[1] \"gauss\" \"1777\" \n",
      "\n",
      "[[2]]\n",
      "[1] \"bayes\" \"1702\" \n",
      "\n",
      "[[3]]\n",
      "[1] \"pascal\" \"1623\"  \n",
      "\n",
      "[[4]]\n",
      "[1] \"pearson\" \"1857\"   \n",
      "\n"
     ]
    }
   ],
   "source": [
    "split <- strsplit(pioneers, split = \":\")\n",
    "split_low <- lapply(split, tolower)\n",
    "print(split_low)"
   ]
  },
  {
   "cell_type": "code",
   "execution_count": 101,
   "metadata": {},
   "outputs": [],
   "source": [
    "# Replace the select_*() functions by a single function: select_el\n",
    "select_el <- function(x, index) {\n",
    "  x[index]\n",
    "}"
   ]
  },
  {
   "cell_type": "code",
   "execution_count": 102,
   "metadata": {},
   "outputs": [],
   "source": [
    "# Call the select_el() function twice on split_low: names and years\n",
    "names <- lapply(split_low, select_el, index = 1)\n",
    "years <- lapply(split_low, select_el, index = 2)"
   ]
  },
  {
   "cell_type": "code",
   "execution_count": 103,
   "metadata": {},
   "outputs": [
    {
     "data": {
      "text/html": [
       "<ol>\n",
       "\t<li>'1777'</li>\n",
       "\t<li>'1702'</li>\n",
       "\t<li>NULL</li>\n",
       "\t<li>NULL</li>\n",
       "</ol>\n"
      ],
      "text/latex": [
       "\\begin{enumerate}\n",
       "\\item '1777'\n",
       "\\item '1702'\n",
       "\\item NULL\n",
       "\\item NULL\n",
       "\\end{enumerate}\n"
      ],
      "text/markdown": [
       "1. '1777'\n",
       "2. '1702'\n",
       "3. NULL\n",
       "4. NULL\n",
       "\n",
       "\n"
      ],
      "text/plain": [
       "[[1]]\n",
       "[1] \"1777\"\n",
       "\n",
       "[[2]]\n",
       "[1] \"1702\"\n",
       "\n",
       "[[3]]\n",
       "NULL\n",
       "\n",
       "[[4]]\n",
       "NULL\n"
      ]
     },
     "metadata": {},
     "output_type": "display_data"
    }
   ],
   "source": [
    "###Apply Functions That Return NULL\n",
    "lapply(split_low, function(x) {\n",
    "  if (nchar(x[1]) > 5) {\n",
    "    return(NULL)\n",
    "  } else {\n",
    "    return(x[2])\n",
    "  }\n",
    "})"
   ]
  },
  {
   "cell_type": "markdown",
   "metadata": {},
   "source": [
    "### How To Use sapply\n"
   ]
  },
  {
   "cell_type": "code",
   "execution_count": 104,
   "metadata": {},
   "outputs": [],
   "source": [
    "# 5 measurements of temperature for three days\n",
    "temp <- list(c(3, 7, 9, 6, 1), c(6, 9, 12, 13, 5), c(4, 8, 3, -1, 3))"
   ]
  },
  {
   "cell_type": "code",
   "execution_count": 105,
   "metadata": {},
   "outputs": [
    {
     "data": {
      "text/html": [
       "<ol>\n",
       "\t<li>1</li>\n",
       "\t<li>5</li>\n",
       "\t<li>-1</li>\n",
       "</ol>\n"
      ],
      "text/latex": [
       "\\begin{enumerate}\n",
       "\\item 1\n",
       "\\item 5\n",
       "\\item -1\n",
       "\\end{enumerate}\n"
      ],
      "text/markdown": [
       "1. 1\n",
       "2. 5\n",
       "3. -1\n",
       "\n",
       "\n"
      ],
      "text/plain": [
       "[[1]]\n",
       "[1] 1\n",
       "\n",
       "[[2]]\n",
       "[1] 5\n",
       "\n",
       "[[3]]\n",
       "[1] -1\n"
      ]
     },
     "metadata": {},
     "output_type": "display_data"
    }
   ],
   "source": [
    "# Use lapply() to find each day's minimum temperature\n",
    "lapply(temp, min)"
   ]
  },
  {
   "cell_type": "code",
   "execution_count": 106,
   "metadata": {},
   "outputs": [
    {
     "data": {
      "text/html": [
       "<ol class=list-inline>\n",
       "\t<li>1</li>\n",
       "\t<li>5</li>\n",
       "\t<li>-1</li>\n",
       "</ol>\n"
      ],
      "text/latex": [
       "\\begin{enumerate*}\n",
       "\\item 1\n",
       "\\item 5\n",
       "\\item -1\n",
       "\\end{enumerate*}\n"
      ],
      "text/markdown": [
       "1. 1\n",
       "2. 5\n",
       "3. -1\n",
       "\n",
       "\n"
      ],
      "text/plain": [
       "[1]  1  5 -1"
      ]
     },
     "metadata": {},
     "output_type": "display_data"
    }
   ],
   "source": [
    "# Use sapply() to find each day's minimum temperature\n",
    "sapply(temp, min)"
   ]
  },
  {
   "cell_type": "code",
   "execution_count": 107,
   "metadata": {},
   "outputs": [
    {
     "data": {
      "text/html": [
       "<ol>\n",
       "\t<li>9</li>\n",
       "\t<li>13</li>\n",
       "\t<li>8</li>\n",
       "</ol>\n"
      ],
      "text/latex": [
       "\\begin{enumerate}\n",
       "\\item 9\n",
       "\\item 13\n",
       "\\item 8\n",
       "\\end{enumerate}\n"
      ],
      "text/markdown": [
       "1. 9\n",
       "2. 13\n",
       "3. 8\n",
       "\n",
       "\n"
      ],
      "text/plain": [
       "[[1]]\n",
       "[1] 9\n",
       "\n",
       "[[2]]\n",
       "[1] 13\n",
       "\n",
       "[[3]]\n",
       "[1] 8\n"
      ]
     },
     "metadata": {},
     "output_type": "display_data"
    }
   ],
   "source": [
    "# Use lapply() to find each day's maximum temperature\n",
    "lapply(temp, max)"
   ]
  },
  {
   "cell_type": "code",
   "execution_count": 108,
   "metadata": {},
   "outputs": [
    {
     "data": {
      "text/html": [
       "<ol class=list-inline>\n",
       "\t<li>9</li>\n",
       "\t<li>13</li>\n",
       "\t<li>8</li>\n",
       "</ol>\n"
      ],
      "text/latex": [
       "\\begin{enumerate*}\n",
       "\\item 9\n",
       "\\item 13\n",
       "\\item 8\n",
       "\\end{enumerate*}\n"
      ],
      "text/markdown": [
       "1. 9\n",
       "2. 13\n",
       "3. 8\n",
       "\n",
       "\n"
      ],
      "text/plain": [
       "[1]  9 13  8"
      ]
     },
     "metadata": {},
     "output_type": "display_data"
    }
   ],
   "source": [
    "# Use sapply() to find each day's maximum temperature\n",
    "sapply(temp, max)"
   ]
  },
  {
   "cell_type": "code",
   "execution_count": 109,
   "metadata": {},
   "outputs": [],
   "source": [
    "###sapply With Your Own Function\n",
    "# Define a function calculates the average of the min and max of a vector: extremes_avg\n",
    "extremes_avg <- function(x) {\n",
    "  (min(x) + max(x))/2\n",
    "}"
   ]
  },
  {
   "cell_type": "code",
   "execution_count": 110,
   "metadata": {},
   "outputs": [
    {
     "data": {
      "text/html": [
       "<ol>\n",
       "\t<li>5</li>\n",
       "\t<li>9</li>\n",
       "\t<li>3.5</li>\n",
       "</ol>\n"
      ],
      "text/latex": [
       "\\begin{enumerate}\n",
       "\\item 5\n",
       "\\item 9\n",
       "\\item 3.5\n",
       "\\end{enumerate}\n"
      ],
      "text/markdown": [
       "1. 5\n",
       "2. 9\n",
       "3. 3.5\n",
       "\n",
       "\n"
      ],
      "text/plain": [
       "[[1]]\n",
       "[1] 5\n",
       "\n",
       "[[2]]\n",
       "[1] 9\n",
       "\n",
       "[[3]]\n",
       "[1] 3.5\n"
      ]
     },
     "metadata": {},
     "output_type": "display_data"
    }
   ],
   "source": [
    "# Apply extremes_avg() over temp using lapply()\n",
    "lapply(temp, extremes_avg)"
   ]
  },
  {
   "cell_type": "code",
   "execution_count": 111,
   "metadata": {
    "scrolled": true
   },
   "outputs": [
    {
     "data": {
      "text/html": [
       "<ol class=list-inline>\n",
       "\t<li>5</li>\n",
       "\t<li>9</li>\n",
       "\t<li>3.5</li>\n",
       "</ol>\n"
      ],
      "text/latex": [
       "\\begin{enumerate*}\n",
       "\\item 5\n",
       "\\item 9\n",
       "\\item 3.5\n",
       "\\end{enumerate*}\n"
      ],
      "text/markdown": [
       "1. 5\n",
       "2. 9\n",
       "3. 3.5\n",
       "\n",
       "\n"
      ],
      "text/plain": [
       "[1] 5.0 9.0 3.5"
      ]
     },
     "metadata": {},
     "output_type": "display_data"
    }
   ],
   "source": [
    "# Apply extremes_avg() over temp using sapply()\n",
    "sapply(temp, extremes_avg)"
   ]
  },
  {
   "cell_type": "code",
   "execution_count": 112,
   "metadata": {},
   "outputs": [],
   "source": [
    "###sapply With Function Returning Vector\n",
    "# temp is already available in the workspace\n",
    "\n",
    "# Create a function that returns min and max of a vector: extremes\n",
    "extremes <- function(x) {\n",
    "  c(min = min(x), max = max(x))\n",
    "}"
   ]
  },
  {
   "cell_type": "code",
   "execution_count": 113,
   "metadata": {},
   "outputs": [
    {
     "data": {
      "text/html": [
       "<ol>\n",
       "\t<li><dl class=dl-horizontal>\n",
       "\t<dt>min</dt>\n",
       "\t\t<dd>1</dd>\n",
       "\t<dt>max</dt>\n",
       "\t\t<dd>9</dd>\n",
       "</dl>\n",
       "</li>\n",
       "\t<li><dl class=dl-horizontal>\n",
       "\t<dt>min</dt>\n",
       "\t\t<dd>5</dd>\n",
       "\t<dt>max</dt>\n",
       "\t\t<dd>13</dd>\n",
       "</dl>\n",
       "</li>\n",
       "\t<li><dl class=dl-horizontal>\n",
       "\t<dt>min</dt>\n",
       "\t\t<dd>-1</dd>\n",
       "\t<dt>max</dt>\n",
       "\t\t<dd>8</dd>\n",
       "</dl>\n",
       "</li>\n",
       "</ol>\n"
      ],
      "text/latex": [
       "\\begin{enumerate}\n",
       "\\item \\begin{description*}\n",
       "\\item[min] 1\n",
       "\\item[max] 9\n",
       "\\end{description*}\n",
       "\n",
       "\\item \\begin{description*}\n",
       "\\item[min] 5\n",
       "\\item[max] 13\n",
       "\\end{description*}\n",
       "\n",
       "\\item \\begin{description*}\n",
       "\\item[min] -1\n",
       "\\item[max] 8\n",
       "\\end{description*}\n",
       "\n",
       "\\end{enumerate}\n"
      ],
      "text/markdown": [
       "1. min\n",
       ":   1max\n",
       ":   9\n",
       "\n",
       "\n",
       "2. min\n",
       ":   5max\n",
       ":   13\n",
       "\n",
       "\n",
       "3. min\n",
       ":   -1max\n",
       ":   8\n",
       "\n",
       "\n",
       "\n",
       "\n"
      ],
      "text/plain": [
       "[[1]]\n",
       "min max \n",
       "  1   9 \n",
       "\n",
       "[[2]]\n",
       "min max \n",
       "  5  13 \n",
       "\n",
       "[[3]]\n",
       "min max \n",
       " -1   8 \n"
      ]
     },
     "metadata": {},
     "output_type": "display_data"
    }
   ],
   "source": [
    "# Apply extremes() over temp with lapply()\n",
    "lapply(temp, extremes)"
   ]
  },
  {
   "cell_type": "code",
   "execution_count": 114,
   "metadata": {},
   "outputs": [
    {
     "data": {
      "text/html": [
       "<table>\n",
       "<tbody>\n",
       "\t<tr><th scope=row>min</th><td>1 </td><td> 5</td><td>-1</td></tr>\n",
       "\t<tr><th scope=row>max</th><td>9 </td><td>13</td><td> 8</td></tr>\n",
       "</tbody>\n",
       "</table>\n"
      ],
      "text/latex": [
       "\\begin{tabular}{r|lll}\n",
       "\tmin & 1  &  5 & -1\\\\\n",
       "\tmax & 9  & 13 &  8\\\\\n",
       "\\end{tabular}\n"
      ],
      "text/markdown": [
       "\n",
       "| min | 1  |  5 | -1 |\n",
       "| max | 9  | 13 |  8 |\n",
       "\n"
      ],
      "text/plain": [
       "    [,1] [,2] [,3]\n",
       "min 1     5   -1  \n",
       "max 9    13    8  "
      ]
     },
     "metadata": {},
     "output_type": "display_data"
    }
   ],
   "source": [
    "# Apply extremes() over temp with sapply()\n",
    "sapply(temp, extremes)"
   ]
  },
  {
   "cell_type": "code",
   "execution_count": 115,
   "metadata": {},
   "outputs": [],
   "source": [
    "###sapply Can't Simplify, Now What?\n",
    "# Create a function that returns all values below zero: below_zero\n",
    "below_zero <- function(x) {\n",
    "  return(x[x < 0])\n",
    "}"
   ]
  },
  {
   "cell_type": "code",
   "execution_count": 116,
   "metadata": {},
   "outputs": [
    {
     "data": {
      "text/html": [
       "TRUE"
      ],
      "text/latex": [
       "TRUE"
      ],
      "text/markdown": [
       "TRUE"
      ],
      "text/plain": [
       "[1] TRUE"
      ]
     },
     "metadata": {},
     "output_type": "display_data"
    }
   ],
   "source": [
    "# Apply below_zero over temp using sapply(): freezing_s\n",
    "freezing_s <- sapply(temp, below_zero)\n",
    "\n",
    "# Apply below_zero over temp using lapply(): freezing_l\n",
    "freezing_l <- lapply(temp, below_zero)\n",
    "\n",
    "# Compare freezing_s to freezing_l using identical()\n",
    "identical(freezing_s, freezing_l)"
   ]
  },
  {
   "cell_type": "code",
   "execution_count": 121,
   "metadata": {},
   "outputs": [
    {
     "name": "stdout",
     "output_type": "stream",
     "text": [
      "The average temperature is 5.2 \n",
      "The average temperature is 9 \n",
      "The average temperature is 3.4 \n",
      "The average temperature is 5.2 \n",
      "The average temperature is 9 \n",
      "The average temperature is 3.4 \n"
     ]
    },
    {
     "ename": "ERROR",
     "evalue": "Error in min(x): 인자의 'type' (list)이 올바르지 않습니다\n",
     "output_type": "error",
     "traceback": [
      "Error in min(x): 인자의 'type' (list)이 올바르지 않습니다\nTraceback:\n"
     ]
    }
   ],
   "source": [
    "###sapply With Functions That Return NULL\n",
    "# temp is already available in the workspace\n",
    "\n",
    "# Write a function that 'cat()s' out the average temperatures: print_info\n",
    "print_info <- function(x) {\n",
    "  cat(\"The average temperature is\", mean(x), \"\\n\")\n",
    "}\n",
    "\n",
    "# Apply print_info() over temp using lapply()\n",
    "x = sapply(temp, print_info)\n",
    "\n",
    "# Apply print_info() over temp using sapply()\n",
    "y = lapply(temp, print_info)\n",
    "\n",
    "x <- c(min = min(x), mean = mean(x), max = max(x))\n"
   ]
  },
  {
   "cell_type": "markdown",
   "metadata": {},
   "source": [
    "### How To Use vapply"
   ]
  },
  {
   "cell_type": "code",
   "execution_count": 122,
   "metadata": {},
   "outputs": [],
   "source": [
    "# Code the basics() function\n",
    "basics <- function(x) {\n",
    "  c(min = min(x), mean = mean(x), max = max(x))\n",
    "}"
   ]
  },
  {
   "cell_type": "code",
   "execution_count": 125,
   "metadata": {},
   "outputs": [
    {
     "data": {
      "text/html": [
       "<table>\n",
       "<tbody>\n",
       "\t<tr><th scope=row>min</th><td>1.0 </td><td> 5  </td><td>-1.0</td></tr>\n",
       "\t<tr><th scope=row>mean</th><td>5.2 </td><td> 9  </td><td> 3.4</td></tr>\n",
       "\t<tr><th scope=row>max</th><td>9.0 </td><td>13  </td><td> 8.0</td></tr>\n",
       "</tbody>\n",
       "</table>\n"
      ],
      "text/latex": [
       "\\begin{tabular}{r|lll}\n",
       "\tmin & 1.0  &  5   & -1.0\\\\\n",
       "\tmean & 5.2  &  9   &  3.4\\\\\n",
       "\tmax & 9.0  & 13   &  8.0\\\\\n",
       "\\end{tabular}\n"
      ],
      "text/markdown": [
       "\n",
       "| min | 1.0  |  5   | -1.0 |\n",
       "| mean | 5.2  |  9   |  3.4 |\n",
       "| max | 9.0  | 13   |  8.0 |\n",
       "\n"
      ],
      "text/plain": [
       "     [,1] [,2] [,3]\n",
       "min  1.0   5   -1.0\n",
       "mean 5.2   9    3.4\n",
       "max  9.0  13    8.0"
      ]
     },
     "metadata": {},
     "output_type": "display_data"
    }
   ],
   "source": [
    "# Apply basics() over temp using vapply()\n",
    "vapply(temp, basics, numeric(3))"
   ]
  },
  {
   "cell_type": "code",
   "execution_count": 126,
   "metadata": {},
   "outputs": [],
   "source": [
    "# Definition of the basics() function\n",
    "basics <- function(x) {\n",
    "  c(min = min(x), mean = mean(x), median = median(x), max = max(x))\n",
    "}"
   ]
  },
  {
   "cell_type": "code",
   "execution_count": 127,
   "metadata": {},
   "outputs": [
    {
     "data": {
      "text/html": [
       "<table>\n",
       "<tbody>\n",
       "\t<tr><th scope=row>min</th><td>1.0 </td><td> 5  </td><td>-1.0</td></tr>\n",
       "\t<tr><th scope=row>mean</th><td>5.2 </td><td> 9  </td><td> 3.4</td></tr>\n",
       "\t<tr><th scope=row>median</th><td>6.0 </td><td> 9  </td><td> 3.0</td></tr>\n",
       "\t<tr><th scope=row>max</th><td>9.0 </td><td>13  </td><td> 8.0</td></tr>\n",
       "</tbody>\n",
       "</table>\n"
      ],
      "text/latex": [
       "\\begin{tabular}{r|lll}\n",
       "\tmin & 1.0  &  5   & -1.0\\\\\n",
       "\tmean & 5.2  &  9   &  3.4\\\\\n",
       "\tmedian & 6.0  &  9   &  3.0\\\\\n",
       "\tmax & 9.0  & 13   &  8.0\\\\\n",
       "\\end{tabular}\n"
      ],
      "text/markdown": [
       "\n",
       "| min | 1.0  |  5   | -1.0 |\n",
       "| mean | 5.2  |  9   |  3.4 |\n",
       "| median | 6.0  |  9   |  3.0 |\n",
       "| max | 9.0  | 13   |  8.0 |\n",
       "\n"
      ],
      "text/plain": [
       "       [,1] [,2] [,3]\n",
       "min    1.0   5   -1.0\n",
       "mean   5.2   9    3.4\n",
       "median 6.0   9    3.0\n",
       "max    9.0  13    8.0"
      ]
     },
     "metadata": {},
     "output_type": "display_data"
    }
   ],
   "source": [
    "# Fix the error:\n",
    "vapply(temp, basics, numeric(4))"
   ]
  },
  {
   "cell_type": "code",
   "execution_count": 128,
   "metadata": {},
   "outputs": [
    {
     "data": {
      "text/html": [
       "<ol class=list-inline>\n",
       "\t<li>9</li>\n",
       "\t<li>13</li>\n",
       "\t<li>8</li>\n",
       "</ol>\n"
      ],
      "text/latex": [
       "\\begin{enumerate*}\n",
       "\\item 9\n",
       "\\item 13\n",
       "\\item 8\n",
       "\\end{enumerate*}\n"
      ],
      "text/markdown": [
       "1. 9\n",
       "2. 13\n",
       "3. 8\n",
       "\n",
       "\n"
      ],
      "text/plain": [
       "[1]  9 13  8"
      ]
     },
     "metadata": {},
     "output_type": "display_data"
    }
   ],
   "source": [
    "# Convert to vapply() expression\n",
    "vapply(temp, max, numeric(1))"
   ]
  },
  {
   "cell_type": "markdown",
   "metadata": {},
   "source": [
    "### Some utilities"
   ]
  },
  {
   "cell_type": "markdown",
   "metadata": {},
   "source": [
    "1. seq(): Generate sequences, by specifying the from, to, and by arguments.  \n",
    "2. rep(): Replicate elements of vectors and lists.  \n",
    "3. sort(): Sort a vector in ascending order. Works on numerics, but also on character strings and logicals.  \n",
    "4. rev(): Reverse the elements in a data structures for which reversal is defined.  \n",
    "5. str(): Display the structure of any R object.  \n",
    "6. append(): Merge vectors or lists.  \n",
    "7. is.*(): Check for the class of an R object.  \n",
    "8. as.*(): Convert an R object from one class to another.  \n",
    "9. unlist(): Flatten (possibly embedded) lists to produce a vector.  \n"
   ]
  },
  {
   "cell_type": "code",
   "execution_count": 129,
   "metadata": {},
   "outputs": [],
   "source": [
    "###Mathematical Utilities\n",
    "errors <- c(1.9,-2.6,4.0,-9.5,-3.4,7.3)"
   ]
  },
  {
   "cell_type": "code",
   "execution_count": 130,
   "metadata": {},
   "outputs": [
    {
     "data": {
      "text/html": [
       "29"
      ],
      "text/latex": [
       "29"
      ],
      "text/markdown": [
       "29"
      ],
      "text/plain": [
       "[1] 29"
      ]
     },
     "metadata": {},
     "output_type": "display_data"
    }
   ],
   "source": [
    "# Sum of absolute rounded values of errors\n",
    "sum(round(abs(errors)))"
   ]
  },
  {
   "cell_type": "code",
   "execution_count": 131,
   "metadata": {},
   "outputs": [],
   "source": [
    "vec1 <- c(1.5,2.5,8.4,3.7,6.3)\n",
    "vec2 <- rev(vec1)"
   ]
  },
  {
   "cell_type": "code",
   "execution_count": 135,
   "metadata": {},
   "outputs": [
    {
     "name": "stdout",
     "output_type": "stream",
     "text": [
      "[[1]]\n",
      "[1] 16\n",
      "\n",
      "[[2]]\n",
      "[1] 9\n",
      "\n",
      "[[3]]\n",
      "[1] 13\n",
      "\n",
      "[[4]]\n",
      "[1] 5\n",
      "\n",
      "[[5]]\n",
      "[1] 2\n",
      "\n",
      "[[6]]\n",
      "[1] 17\n",
      "\n",
      "[[7]]\n",
      "[1] 14\n",
      "\n"
     ]
    }
   ],
   "source": [
    "###Data Utilities\n",
    "linkedin <- list(16, 9, 13, 5, 2, 17, 14)\n",
    "print(linkedin)\n",
    "facebook <- list(17, 7, 5, 16, 8, 13, 14)"
   ]
  },
  {
   "cell_type": "code",
   "execution_count": 134,
   "metadata": {},
   "outputs": [
    {
     "name": "stdout",
     "output_type": "stream",
     "text": [
      "[1] 16  9 13  5  2 17 14\n"
     ]
    }
   ],
   "source": [
    "# Convert linkedin and facebook to a vector: li_vec and fb_vec\n",
    "li_vec <- unlist(linkedin)\n",
    "print(li_vec)\n",
    "fb_vec <- unlist(facebook)"
   ]
  },
  {
   "cell_type": "code",
   "execution_count": 137,
   "metadata": {},
   "outputs": [
    {
     "name": "stdout",
     "output_type": "stream",
     "text": [
      " [1] 16  9 13  5  2 17 14 17  7  5 16  8 13 14\n"
     ]
    }
   ],
   "source": [
    "# Append fb_vec to li_vec: social_vec\n",
    "social_vec <- append(li_vec, fb_vec)\n",
    "print(social_vec)"
   ]
  },
  {
   "cell_type": "code",
   "execution_count": 140,
   "metadata": {},
   "outputs": [
    {
     "data": {
      "text/html": [
       "<ol class=list-inline>\n",
       "\t<li>17</li>\n",
       "\t<li>17</li>\n",
       "\t<li>16</li>\n",
       "\t<li>16</li>\n",
       "\t<li>14</li>\n",
       "\t<li>14</li>\n",
       "\t<li>13</li>\n",
       "\t<li>13</li>\n",
       "\t<li>9</li>\n",
       "\t<li>8</li>\n",
       "\t<li>7</li>\n",
       "\t<li>5</li>\n",
       "\t<li>5</li>\n",
       "\t<li>2</li>\n",
       "</ol>\n"
      ],
      "text/latex": [
       "\\begin{enumerate*}\n",
       "\\item 17\n",
       "\\item 17\n",
       "\\item 16\n",
       "\\item 16\n",
       "\\item 14\n",
       "\\item 14\n",
       "\\item 13\n",
       "\\item 13\n",
       "\\item 9\n",
       "\\item 8\n",
       "\\item 7\n",
       "\\item 5\n",
       "\\item 5\n",
       "\\item 2\n",
       "\\end{enumerate*}\n"
      ],
      "text/markdown": [
       "1. 17\n",
       "2. 17\n",
       "3. 16\n",
       "4. 16\n",
       "5. 14\n",
       "6. 14\n",
       "7. 13\n",
       "8. 13\n",
       "9. 9\n",
       "10. 8\n",
       "11. 7\n",
       "12. 5\n",
       "13. 5\n",
       "14. 2\n",
       "\n",
       "\n"
      ],
      "text/plain": [
       " [1] 17 17 16 16 14 14 13 13  9  8  7  5  5  2"
      ]
     },
     "metadata": {},
     "output_type": "display_data"
    }
   ],
   "source": [
    "# Sort social_vec\n",
    "sort(social_vec, decreasing = TRUE)"
   ]
  },
  {
   "cell_type": "code",
   "execution_count": 141,
   "metadata": {},
   "outputs": [
    {
     "data": {
      "text/html": [
       "9"
      ],
      "text/latex": [
       "9"
      ],
      "text/markdown": [
       "9"
      ],
      "text/plain": [
       "[1] 9"
      ]
     },
     "metadata": {},
     "output_type": "display_data"
    }
   ],
   "source": [
    "round(sum(unlist(list(1.1,3,5))))"
   ]
  },
  {
   "cell_type": "code",
   "execution_count": 142,
   "metadata": {},
   "outputs": [
    {
     "data": {
      "text/html": [
       "<ol class=list-inline>\n",
       "\t<li>1</li>\n",
       "\t<li>3</li>\n",
       "\t<li>5</li>\n",
       "\t<li>7</li>\n",
       "\t<li>1</li>\n",
       "\t<li>3</li>\n",
       "\t<li>5</li>\n",
       "\t<li>7</li>\n",
       "\t<li>1</li>\n",
       "\t<li>3</li>\n",
       "\t<li>5</li>\n",
       "\t<li>7</li>\n",
       "\t<li>1</li>\n",
       "\t<li>3</li>\n",
       "\t<li>5</li>\n",
       "\t<li>7</li>\n",
       "\t<li>1</li>\n",
       "\t<li>3</li>\n",
       "\t<li>5</li>\n",
       "\t<li>7</li>\n",
       "\t<li>1</li>\n",
       "\t<li>3</li>\n",
       "\t<li>5</li>\n",
       "\t<li>7</li>\n",
       "\t<li>1</li>\n",
       "\t<li>3</li>\n",
       "\t<li>5</li>\n",
       "\t<li>7</li>\n",
       "</ol>\n"
      ],
      "text/latex": [
       "\\begin{enumerate*}\n",
       "\\item 1\n",
       "\\item 3\n",
       "\\item 5\n",
       "\\item 7\n",
       "\\item 1\n",
       "\\item 3\n",
       "\\item 5\n",
       "\\item 7\n",
       "\\item 1\n",
       "\\item 3\n",
       "\\item 5\n",
       "\\item 7\n",
       "\\item 1\n",
       "\\item 3\n",
       "\\item 5\n",
       "\\item 7\n",
       "\\item 1\n",
       "\\item 3\n",
       "\\item 5\n",
       "\\item 7\n",
       "\\item 1\n",
       "\\item 3\n",
       "\\item 5\n",
       "\\item 7\n",
       "\\item 1\n",
       "\\item 3\n",
       "\\item 5\n",
       "\\item 7\n",
       "\\end{enumerate*}\n"
      ],
      "text/markdown": [
       "1. 1\n",
       "2. 3\n",
       "3. 5\n",
       "4. 7\n",
       "5. 1\n",
       "6. 3\n",
       "7. 5\n",
       "8. 7\n",
       "9. 1\n",
       "10. 3\n",
       "11. 5\n",
       "12. 7\n",
       "13. 1\n",
       "14. 3\n",
       "15. 5\n",
       "16. 7\n",
       "17. 1\n",
       "18. 3\n",
       "19. 5\n",
       "20. 7\n",
       "21. 1\n",
       "22. 3\n",
       "23. 5\n",
       "24. 7\n",
       "25. 1\n",
       "26. 3\n",
       "27. 5\n",
       "28. 7\n",
       "\n",
       "\n"
      ],
      "text/plain": [
       " [1] 1 3 5 7 1 3 5 7 1 3 5 7 1 3 5 7 1 3 5 7 1 3 5 7 1 3 5 7"
      ]
     },
     "metadata": {},
     "output_type": "display_data"
    }
   ],
   "source": [
    "rep(seq(1, 7, by = 2), times = 7)"
   ]
  },
  {
   "cell_type": "code",
   "execution_count": 143,
   "metadata": {},
   "outputs": [],
   "source": [
    "# Create first sequence: seq1\n",
    "seq1 <- seq(1, 500, by = 3)"
   ]
  },
  {
   "cell_type": "code",
   "execution_count": 144,
   "metadata": {},
   "outputs": [],
   "source": [
    "# Create second sequence: seq2\n",
    "seq2 <- seq(1200, 900, by = -7)"
   ]
  },
  {
   "cell_type": "code",
   "execution_count": 145,
   "metadata": {},
   "outputs": [
    {
     "data": {
      "text/html": [
       "87029"
      ],
      "text/latex": [
       "87029"
      ],
      "text/markdown": [
       "87029"
      ],
      "text/plain": [
       "[1] 87029"
      ]
     },
     "metadata": {},
     "output_type": "display_data"
    }
   ],
   "source": [
    "# Calculate total sum of the sequences\n",
    "sum(seq1) + sum(seq2)"
   ]
  },
  {
   "cell_type": "markdown",
   "metadata": {},
   "source": [
    "# Introduction to the tidyverse"
   ]
  },
  {
   "cell_type": "markdown",
   "metadata": {},
   "source": [
    "## Loading the gapminder and dplyr packages"
   ]
  },
  {
   "cell_type": "code",
   "execution_count": 146,
   "metadata": {},
   "outputs": [
    {
     "name": "stderr",
     "output_type": "stream",
     "text": [
      "Warning message:\n",
      "\"package 'gapminder' was built under R version 3.6.3\"Warning message:\n",
      "\"package 'dplyr' was built under R version 3.6.3\"\n",
      "Attaching package: 'dplyr'\n",
      "\n",
      "The following objects are masked from 'package:stats':\n",
      "\n",
      "    filter, lag\n",
      "\n",
      "The following objects are masked from 'package:base':\n",
      "\n",
      "    intersect, setdiff, setequal, union\n",
      "\n"
     ]
    }
   ],
   "source": [
    "# Load the gapminder package\n",
    "library(gapminder)\n",
    "\n",
    "# Load the dplyr package\n",
    "library(dplyr)\n"
   ]
  },
  {
   "cell_type": "code",
   "execution_count": 147,
   "metadata": {},
   "outputs": [
    {
     "data": {
      "text/html": [
       "<table>\n",
       "<thead><tr><th scope=col>country</th><th scope=col>continent</th><th scope=col>year</th><th scope=col>lifeExp</th><th scope=col>pop</th><th scope=col>gdpPercap</th></tr></thead>\n",
       "<tbody>\n",
       "\t<tr><td>Afghanistan</td><td>Asia       </td><td>1952       </td><td>28.801     </td><td> 8425333   </td><td>779.4453   </td></tr>\n",
       "\t<tr><td>Afghanistan</td><td>Asia       </td><td>1957       </td><td>30.332     </td><td> 9240934   </td><td>820.8530   </td></tr>\n",
       "\t<tr><td>Afghanistan</td><td>Asia       </td><td>1962       </td><td>31.997     </td><td>10267083   </td><td>853.1007   </td></tr>\n",
       "\t<tr><td>Afghanistan</td><td>Asia       </td><td>1967       </td><td>34.020     </td><td>11537966   </td><td>836.1971   </td></tr>\n",
       "\t<tr><td>Afghanistan</td><td>Asia       </td><td>1972       </td><td>36.088     </td><td>13079460   </td><td>739.9811   </td></tr>\n",
       "\t<tr><td>Afghanistan</td><td>Asia       </td><td>1977       </td><td>38.438     </td><td>14880372   </td><td>786.1134   </td></tr>\n",
       "</tbody>\n",
       "</table>\n"
      ],
      "text/latex": [
       "\\begin{tabular}{r|llllll}\n",
       " country & continent & year & lifeExp & pop & gdpPercap\\\\\n",
       "\\hline\n",
       "\t Afghanistan & Asia        & 1952        & 28.801      &  8425333    & 779.4453   \\\\\n",
       "\t Afghanistan & Asia        & 1957        & 30.332      &  9240934    & 820.8530   \\\\\n",
       "\t Afghanistan & Asia        & 1962        & 31.997      & 10267083    & 853.1007   \\\\\n",
       "\t Afghanistan & Asia        & 1967        & 34.020      & 11537966    & 836.1971   \\\\\n",
       "\t Afghanistan & Asia        & 1972        & 36.088      & 13079460    & 739.9811   \\\\\n",
       "\t Afghanistan & Asia        & 1977        & 38.438      & 14880372    & 786.1134   \\\\\n",
       "\\end{tabular}\n"
      ],
      "text/markdown": [
       "\n",
       "| country | continent | year | lifeExp | pop | gdpPercap |\n",
       "|---|---|---|---|---|---|\n",
       "| Afghanistan | Asia        | 1952        | 28.801      |  8425333    | 779.4453    |\n",
       "| Afghanistan | Asia        | 1957        | 30.332      |  9240934    | 820.8530    |\n",
       "| Afghanistan | Asia        | 1962        | 31.997      | 10267083    | 853.1007    |\n",
       "| Afghanistan | Asia        | 1967        | 34.020      | 11537966    | 836.1971    |\n",
       "| Afghanistan | Asia        | 1972        | 36.088      | 13079460    | 739.9811    |\n",
       "| Afghanistan | Asia        | 1977        | 38.438      | 14880372    | 786.1134    |\n",
       "\n"
      ],
      "text/plain": [
       "  country     continent year lifeExp pop      gdpPercap\n",
       "1 Afghanistan Asia      1952 28.801   8425333 779.4453 \n",
       "2 Afghanistan Asia      1957 30.332   9240934 820.8530 \n",
       "3 Afghanistan Asia      1962 31.997  10267083 853.1007 \n",
       "4 Afghanistan Asia      1967 34.020  11537966 836.1971 \n",
       "5 Afghanistan Asia      1972 36.088  13079460 739.9811 \n",
       "6 Afghanistan Asia      1977 38.438  14880372 786.1134 "
      ]
     },
     "metadata": {},
     "output_type": "display_data"
    }
   ],
   "source": [
    "# Look at the gapminder dataset\n",
    "head(gapminder)"
   ]
  },
  {
   "cell_type": "markdown",
   "metadata": {},
   "source": [
    "Add a filter() line after the pipe (%>%) to extract only the observations from the year 1957.   \n",
    "Remember that you use == to compare two values"
   ]
  },
  {
   "cell_type": "code",
   "execution_count": 149,
   "metadata": {},
   "outputs": [
    {
     "data": {
      "text/html": [
       "<table>\n",
       "<thead><tr><th scope=col>country</th><th scope=col>continent</th><th scope=col>year</th><th scope=col>lifeExp</th><th scope=col>pop</th><th scope=col>gdpPercap</th></tr></thead>\n",
       "<tbody>\n",
       "\t<tr><td>Afghanistan             </td><td>Asia                    </td><td>1957                    </td><td>30.33200                </td><td>  9240934               </td><td>  820.8530              </td></tr>\n",
       "\t<tr><td>Albania                 </td><td>Europe                  </td><td>1957                    </td><td>59.28000                </td><td>  1476505               </td><td> 1942.2842              </td></tr>\n",
       "\t<tr><td>Algeria                 </td><td>Africa                  </td><td>1957                    </td><td>45.68500                </td><td> 10270856               </td><td> 3013.9760              </td></tr>\n",
       "\t<tr><td>Angola                  </td><td>Africa                  </td><td>1957                    </td><td>31.99900                </td><td>  4561361               </td><td> 3827.9405              </td></tr>\n",
       "\t<tr><td>Argentina               </td><td>Americas                </td><td>1957                    </td><td>64.39900                </td><td> 19610538               </td><td> 6856.8562              </td></tr>\n",
       "\t<tr><td>Australia               </td><td>Oceania                 </td><td>1957                    </td><td>70.33000                </td><td>  9712569               </td><td>10949.6496              </td></tr>\n",
       "\t<tr><td>Austria                 </td><td>Europe                  </td><td>1957                    </td><td>67.48000                </td><td>  6965860               </td><td> 8842.5980              </td></tr>\n",
       "\t<tr><td>Bahrain                 </td><td>Asia                    </td><td>1957                    </td><td>53.83200                </td><td>   138655               </td><td>11635.7995              </td></tr>\n",
       "\t<tr><td>Bangladesh              </td><td>Asia                    </td><td>1957                    </td><td>39.34800                </td><td> 51365468               </td><td>  661.6375              </td></tr>\n",
       "\t<tr><td>Belgium                 </td><td>Europe                  </td><td>1957                    </td><td>69.24000                </td><td>  8989111               </td><td> 9714.9606              </td></tr>\n",
       "\t<tr><td>Benin                   </td><td>Africa                  </td><td>1957                    </td><td>40.35800                </td><td>  1925173               </td><td>  959.6011              </td></tr>\n",
       "\t<tr><td>Bolivia                 </td><td>Americas                </td><td>1957                    </td><td>41.89000                </td><td>  3211738               </td><td> 2127.6863              </td></tr>\n",
       "\t<tr><td>Bosnia and Herzegovina  </td><td>Europe                  </td><td>1957                    </td><td>58.45000                </td><td>  3076000               </td><td> 1353.9892              </td></tr>\n",
       "\t<tr><td>Botswana                </td><td>Africa                  </td><td>1957                    </td><td>49.61800                </td><td>   474639               </td><td>  918.2325              </td></tr>\n",
       "\t<tr><td>Brazil                  </td><td>Americas                </td><td>1957                    </td><td>53.28500                </td><td> 65551171               </td><td> 2487.3660              </td></tr>\n",
       "\t<tr><td>Bulgaria                </td><td>Europe                  </td><td>1957                    </td><td>66.61000                </td><td>  7651254               </td><td> 3008.6707              </td></tr>\n",
       "\t<tr><td>Burkina Faso            </td><td>Africa                  </td><td>1957                    </td><td>34.90600                </td><td>  4713416               </td><td>  617.1835              </td></tr>\n",
       "\t<tr><td>Burundi                 </td><td>Africa                  </td><td>1957                    </td><td>40.53300                </td><td>  2667518               </td><td>  379.5646              </td></tr>\n",
       "\t<tr><td>Cambodia                </td><td>Asia                    </td><td>1957                    </td><td>41.36600                </td><td>  5322536               </td><td>  434.0383              </td></tr>\n",
       "\t<tr><td>Cameroon                </td><td>Africa                  </td><td>1957                    </td><td>40.42800                </td><td>  5359923               </td><td> 1313.0481              </td></tr>\n",
       "\t<tr><td>Canada                  </td><td>Americas                </td><td>1957                    </td><td>69.96000                </td><td> 17010154               </td><td>12489.9501              </td></tr>\n",
       "\t<tr><td>Central African Republic</td><td>Africa                  </td><td>1957                    </td><td>37.46400                </td><td>  1392284               </td><td> 1190.8443              </td></tr>\n",
       "\t<tr><td>Chad                    </td><td>Africa                  </td><td>1957                    </td><td>39.88100                </td><td>  2894855               </td><td> 1308.4956              </td></tr>\n",
       "\t<tr><td>Chile                   </td><td>Americas                </td><td>1957                    </td><td>56.07400                </td><td>  7048426               </td><td> 4315.6227              </td></tr>\n",
       "\t<tr><td>China                   </td><td>Asia                    </td><td>1957                    </td><td>50.54896                </td><td>637408000               </td><td>  575.9870              </td></tr>\n",
       "\t<tr><td>Colombia                </td><td>Americas                </td><td>1957                    </td><td>55.11800                </td><td> 14485993               </td><td> 2323.8056              </td></tr>\n",
       "\t<tr><td>Comoros                 </td><td>Africa                  </td><td>1957                    </td><td>42.46000                </td><td>   170928               </td><td> 1211.1485              </td></tr>\n",
       "\t<tr><td>Congo, Dem. Rep.        </td><td>Africa                  </td><td>1957                    </td><td>40.65200                </td><td> 15577932               </td><td>  905.8602              </td></tr>\n",
       "\t<tr><td>Congo, Rep.             </td><td>Africa                  </td><td>1957                    </td><td>45.05300                </td><td>   940458               </td><td> 2315.0566              </td></tr>\n",
       "\t<tr><td>Costa Rica              </td><td>Americas                </td><td>1957                    </td><td>60.02600                </td><td>  1112300               </td><td> 2990.0108              </td></tr>\n",
       "\t<tr><td>...</td><td>...</td><td>...</td><td>...</td><td>...</td><td>...</td></tr>\n",
       "\t<tr><td>Sierra Leone       </td><td>Africa             </td><td>1957               </td><td>31.570             </td><td>  2295678          </td><td> 1004.4844         </td></tr>\n",
       "\t<tr><td>Singapore          </td><td>Asia               </td><td>1957               </td><td>63.179             </td><td>  1445929          </td><td> 2843.1044         </td></tr>\n",
       "\t<tr><td>Slovak Republic    </td><td>Europe             </td><td>1957               </td><td>67.450             </td><td>  3844277          </td><td> 6093.2630         </td></tr>\n",
       "\t<tr><td>Slovenia           </td><td>Europe             </td><td>1957               </td><td>67.850             </td><td>  1533070          </td><td> 5862.2766         </td></tr>\n",
       "\t<tr><td>Somalia            </td><td>Africa             </td><td>1957               </td><td>34.977             </td><td>  2780415          </td><td> 1258.1474         </td></tr>\n",
       "\t<tr><td>South Africa       </td><td>Africa             </td><td>1957               </td><td>47.985             </td><td> 16151549          </td><td> 5487.1042         </td></tr>\n",
       "\t<tr><td>Spain              </td><td>Europe             </td><td>1957               </td><td>66.660             </td><td> 29841614          </td><td> 4564.8024         </td></tr>\n",
       "\t<tr><td>Sri Lanka          </td><td>Asia               </td><td>1957               </td><td>61.456             </td><td>  9128546          </td><td> 1072.5466         </td></tr>\n",
       "\t<tr><td>Sudan              </td><td>Africa             </td><td>1957               </td><td>39.624             </td><td>  9753392          </td><td> 1770.3371         </td></tr>\n",
       "\t<tr><td>Swaziland          </td><td>Africa             </td><td>1957               </td><td>43.424             </td><td>   326741          </td><td> 1244.7084         </td></tr>\n",
       "\t<tr><td>Sweden             </td><td>Europe             </td><td>1957               </td><td>72.490             </td><td>  7363802          </td><td> 9911.8782         </td></tr>\n",
       "\t<tr><td>Switzerland        </td><td>Europe             </td><td>1957               </td><td>70.560             </td><td>  5126000          </td><td>17909.4897         </td></tr>\n",
       "\t<tr><td>Syria              </td><td>Asia               </td><td>1957               </td><td>48.284             </td><td>  4149908          </td><td> 2117.2349         </td></tr>\n",
       "\t<tr><td>Taiwan             </td><td>Asia               </td><td>1957               </td><td>62.400             </td><td> 10164215          </td><td> 1507.8613         </td></tr>\n",
       "\t<tr><td>Tanzania           </td><td>Africa             </td><td>1957               </td><td>42.974             </td><td>  9452826          </td><td>  698.5356         </td></tr>\n",
       "\t<tr><td>Thailand           </td><td>Asia               </td><td>1957               </td><td>53.630             </td><td> 25041917          </td><td>  793.5774         </td></tr>\n",
       "\t<tr><td>Togo               </td><td>Africa             </td><td>1957               </td><td>41.208             </td><td>  1357445          </td><td>  925.9083         </td></tr>\n",
       "\t<tr><td>Trinidad and Tobago</td><td>Americas           </td><td>1957               </td><td>61.800             </td><td>   764900          </td><td> 4100.3934         </td></tr>\n",
       "\t<tr><td>Tunisia            </td><td>Africa             </td><td>1957               </td><td>47.100             </td><td>  3950849          </td><td> 1395.2325         </td></tr>\n",
       "\t<tr><td>Turkey             </td><td>Europe             </td><td>1957               </td><td>48.079             </td><td> 25670939          </td><td> 2218.7543         </td></tr>\n",
       "\t<tr><td>Uganda             </td><td>Africa             </td><td>1957               </td><td>42.571             </td><td>  6675501          </td><td>  774.3711         </td></tr>\n",
       "\t<tr><td>United Kingdom     </td><td>Europe             </td><td>1957               </td><td>70.420             </td><td> 51430000          </td><td>11283.1779         </td></tr>\n",
       "\t<tr><td>United States      </td><td>Americas           </td><td>1957               </td><td>69.490             </td><td>171984000          </td><td>14847.1271         </td></tr>\n",
       "\t<tr><td>Uruguay            </td><td>Americas           </td><td>1957               </td><td>67.044             </td><td>  2424959          </td><td> 6150.7730         </td></tr>\n",
       "\t<tr><td>Venezuela          </td><td>Americas           </td><td>1957               </td><td>57.907             </td><td>  6702668          </td><td> 9802.4665         </td></tr>\n",
       "\t<tr><td>Vietnam            </td><td>Asia               </td><td>1957               </td><td>42.887             </td><td> 28998543          </td><td>  676.2854         </td></tr>\n",
       "\t<tr><td>West Bank and Gaza </td><td>Asia               </td><td>1957               </td><td>45.671             </td><td>  1070439          </td><td> 1827.0677         </td></tr>\n",
       "\t<tr><td>Yemen, Rep.        </td><td>Asia               </td><td>1957               </td><td>33.970             </td><td>  5498090          </td><td>  804.8305         </td></tr>\n",
       "\t<tr><td>Zambia             </td><td>Africa             </td><td>1957               </td><td>44.077             </td><td>  3016000          </td><td> 1311.9568         </td></tr>\n",
       "\t<tr><td>Zimbabwe           </td><td>Africa             </td><td>1957               </td><td>50.469             </td><td>  3646340          </td><td>  518.7643         </td></tr>\n",
       "</tbody>\n",
       "</table>\n"
      ],
      "text/latex": [
       "\\begin{tabular}{r|llllll}\n",
       " country & continent & year & lifeExp & pop & gdpPercap\\\\\n",
       "\\hline\n",
       "\t Afghanistan              & Asia                     & 1957                     & 30.33200                 &   9240934                &   820.8530              \\\\\n",
       "\t Albania                  & Europe                   & 1957                     & 59.28000                 &   1476505                &  1942.2842              \\\\\n",
       "\t Algeria                  & Africa                   & 1957                     & 45.68500                 &  10270856                &  3013.9760              \\\\\n",
       "\t Angola                   & Africa                   & 1957                     & 31.99900                 &   4561361                &  3827.9405              \\\\\n",
       "\t Argentina                & Americas                 & 1957                     & 64.39900                 &  19610538                &  6856.8562              \\\\\n",
       "\t Australia                & Oceania                  & 1957                     & 70.33000                 &   9712569                & 10949.6496              \\\\\n",
       "\t Austria                  & Europe                   & 1957                     & 67.48000                 &   6965860                &  8842.5980              \\\\\n",
       "\t Bahrain                  & Asia                     & 1957                     & 53.83200                 &    138655                & 11635.7995              \\\\\n",
       "\t Bangladesh               & Asia                     & 1957                     & 39.34800                 &  51365468                &   661.6375              \\\\\n",
       "\t Belgium                  & Europe                   & 1957                     & 69.24000                 &   8989111                &  9714.9606              \\\\\n",
       "\t Benin                    & Africa                   & 1957                     & 40.35800                 &   1925173                &   959.6011              \\\\\n",
       "\t Bolivia                  & Americas                 & 1957                     & 41.89000                 &   3211738                &  2127.6863              \\\\\n",
       "\t Bosnia and Herzegovina   & Europe                   & 1957                     & 58.45000                 &   3076000                &  1353.9892              \\\\\n",
       "\t Botswana                 & Africa                   & 1957                     & 49.61800                 &    474639                &   918.2325              \\\\\n",
       "\t Brazil                   & Americas                 & 1957                     & 53.28500                 &  65551171                &  2487.3660              \\\\\n",
       "\t Bulgaria                 & Europe                   & 1957                     & 66.61000                 &   7651254                &  3008.6707              \\\\\n",
       "\t Burkina Faso             & Africa                   & 1957                     & 34.90600                 &   4713416                &   617.1835              \\\\\n",
       "\t Burundi                  & Africa                   & 1957                     & 40.53300                 &   2667518                &   379.5646              \\\\\n",
       "\t Cambodia                 & Asia                     & 1957                     & 41.36600                 &   5322536                &   434.0383              \\\\\n",
       "\t Cameroon                 & Africa                   & 1957                     & 40.42800                 &   5359923                &  1313.0481              \\\\\n",
       "\t Canada                   & Americas                 & 1957                     & 69.96000                 &  17010154                & 12489.9501              \\\\\n",
       "\t Central African Republic & Africa                   & 1957                     & 37.46400                 &   1392284                &  1190.8443              \\\\\n",
       "\t Chad                     & Africa                   & 1957                     & 39.88100                 &   2894855                &  1308.4956              \\\\\n",
       "\t Chile                    & Americas                 & 1957                     & 56.07400                 &   7048426                &  4315.6227              \\\\\n",
       "\t China                    & Asia                     & 1957                     & 50.54896                 & 637408000                &   575.9870              \\\\\n",
       "\t Colombia                 & Americas                 & 1957                     & 55.11800                 &  14485993                &  2323.8056              \\\\\n",
       "\t Comoros                  & Africa                   & 1957                     & 42.46000                 &    170928                &  1211.1485              \\\\\n",
       "\t Congo, Dem. Rep.         & Africa                   & 1957                     & 40.65200                 &  15577932                &   905.8602              \\\\\n",
       "\t Congo, Rep.              & Africa                   & 1957                     & 45.05300                 &    940458                &  2315.0566              \\\\\n",
       "\t Costa Rica               & Americas                 & 1957                     & 60.02600                 &   1112300                &  2990.0108              \\\\\n",
       "\t ... & ... & ... & ... & ... & ...\\\\\n",
       "\t Sierra Leone        & Africa              & 1957                & 31.570              &   2295678           &  1004.4844         \\\\\n",
       "\t Singapore           & Asia                & 1957                & 63.179              &   1445929           &  2843.1044         \\\\\n",
       "\t Slovak Republic     & Europe              & 1957                & 67.450              &   3844277           &  6093.2630         \\\\\n",
       "\t Slovenia            & Europe              & 1957                & 67.850              &   1533070           &  5862.2766         \\\\\n",
       "\t Somalia             & Africa              & 1957                & 34.977              &   2780415           &  1258.1474         \\\\\n",
       "\t South Africa        & Africa              & 1957                & 47.985              &  16151549           &  5487.1042         \\\\\n",
       "\t Spain               & Europe              & 1957                & 66.660              &  29841614           &  4564.8024         \\\\\n",
       "\t Sri Lanka           & Asia                & 1957                & 61.456              &   9128546           &  1072.5466         \\\\\n",
       "\t Sudan               & Africa              & 1957                & 39.624              &   9753392           &  1770.3371         \\\\\n",
       "\t Swaziland           & Africa              & 1957                & 43.424              &    326741           &  1244.7084         \\\\\n",
       "\t Sweden              & Europe              & 1957                & 72.490              &   7363802           &  9911.8782         \\\\\n",
       "\t Switzerland         & Europe              & 1957                & 70.560              &   5126000           & 17909.4897         \\\\\n",
       "\t Syria               & Asia                & 1957                & 48.284              &   4149908           &  2117.2349         \\\\\n",
       "\t Taiwan              & Asia                & 1957                & 62.400              &  10164215           &  1507.8613         \\\\\n",
       "\t Tanzania            & Africa              & 1957                & 42.974              &   9452826           &   698.5356         \\\\\n",
       "\t Thailand            & Asia                & 1957                & 53.630              &  25041917           &   793.5774         \\\\\n",
       "\t Togo                & Africa              & 1957                & 41.208              &   1357445           &   925.9083         \\\\\n",
       "\t Trinidad and Tobago & Americas            & 1957                & 61.800              &    764900           &  4100.3934         \\\\\n",
       "\t Tunisia             & Africa              & 1957                & 47.100              &   3950849           &  1395.2325         \\\\\n",
       "\t Turkey              & Europe              & 1957                & 48.079              &  25670939           &  2218.7543         \\\\\n",
       "\t Uganda              & Africa              & 1957                & 42.571              &   6675501           &   774.3711         \\\\\n",
       "\t United Kingdom      & Europe              & 1957                & 70.420              &  51430000           & 11283.1779         \\\\\n",
       "\t United States       & Americas            & 1957                & 69.490              & 171984000           & 14847.1271         \\\\\n",
       "\t Uruguay             & Americas            & 1957                & 67.044              &   2424959           &  6150.7730         \\\\\n",
       "\t Venezuela           & Americas            & 1957                & 57.907              &   6702668           &  9802.4665         \\\\\n",
       "\t Vietnam             & Asia                & 1957                & 42.887              &  28998543           &   676.2854         \\\\\n",
       "\t West Bank and Gaza  & Asia                & 1957                & 45.671              &   1070439           &  1827.0677         \\\\\n",
       "\t Yemen, Rep.         & Asia                & 1957                & 33.970              &   5498090           &   804.8305         \\\\\n",
       "\t Zambia              & Africa              & 1957                & 44.077              &   3016000           &  1311.9568         \\\\\n",
       "\t Zimbabwe            & Africa              & 1957                & 50.469              &   3646340           &   518.7643         \\\\\n",
       "\\end{tabular}\n"
      ],
      "text/markdown": [
       "\n",
       "| country | continent | year | lifeExp | pop | gdpPercap |\n",
       "|---|---|---|---|---|---|\n",
       "| Afghanistan              | Asia                     | 1957                     | 30.33200                 |   9240934                |   820.8530               |\n",
       "| Albania                  | Europe                   | 1957                     | 59.28000                 |   1476505                |  1942.2842               |\n",
       "| Algeria                  | Africa                   | 1957                     | 45.68500                 |  10270856                |  3013.9760               |\n",
       "| Angola                   | Africa                   | 1957                     | 31.99900                 |   4561361                |  3827.9405               |\n",
       "| Argentina                | Americas                 | 1957                     | 64.39900                 |  19610538                |  6856.8562               |\n",
       "| Australia                | Oceania                  | 1957                     | 70.33000                 |   9712569                | 10949.6496               |\n",
       "| Austria                  | Europe                   | 1957                     | 67.48000                 |   6965860                |  8842.5980               |\n",
       "| Bahrain                  | Asia                     | 1957                     | 53.83200                 |    138655                | 11635.7995               |\n",
       "| Bangladesh               | Asia                     | 1957                     | 39.34800                 |  51365468                |   661.6375               |\n",
       "| Belgium                  | Europe                   | 1957                     | 69.24000                 |   8989111                |  9714.9606               |\n",
       "| Benin                    | Africa                   | 1957                     | 40.35800                 |   1925173                |   959.6011               |\n",
       "| Bolivia                  | Americas                 | 1957                     | 41.89000                 |   3211738                |  2127.6863               |\n",
       "| Bosnia and Herzegovina   | Europe                   | 1957                     | 58.45000                 |   3076000                |  1353.9892               |\n",
       "| Botswana                 | Africa                   | 1957                     | 49.61800                 |    474639                |   918.2325               |\n",
       "| Brazil                   | Americas                 | 1957                     | 53.28500                 |  65551171                |  2487.3660               |\n",
       "| Bulgaria                 | Europe                   | 1957                     | 66.61000                 |   7651254                |  3008.6707               |\n",
       "| Burkina Faso             | Africa                   | 1957                     | 34.90600                 |   4713416                |   617.1835               |\n",
       "| Burundi                  | Africa                   | 1957                     | 40.53300                 |   2667518                |   379.5646               |\n",
       "| Cambodia                 | Asia                     | 1957                     | 41.36600                 |   5322536                |   434.0383               |\n",
       "| Cameroon                 | Africa                   | 1957                     | 40.42800                 |   5359923                |  1313.0481               |\n",
       "| Canada                   | Americas                 | 1957                     | 69.96000                 |  17010154                | 12489.9501               |\n",
       "| Central African Republic | Africa                   | 1957                     | 37.46400                 |   1392284                |  1190.8443               |\n",
       "| Chad                     | Africa                   | 1957                     | 39.88100                 |   2894855                |  1308.4956               |\n",
       "| Chile                    | Americas                 | 1957                     | 56.07400                 |   7048426                |  4315.6227               |\n",
       "| China                    | Asia                     | 1957                     | 50.54896                 | 637408000                |   575.9870               |\n",
       "| Colombia                 | Americas                 | 1957                     | 55.11800                 |  14485993                |  2323.8056               |\n",
       "| Comoros                  | Africa                   | 1957                     | 42.46000                 |    170928                |  1211.1485               |\n",
       "| Congo, Dem. Rep.         | Africa                   | 1957                     | 40.65200                 |  15577932                |   905.8602               |\n",
       "| Congo, Rep.              | Africa                   | 1957                     | 45.05300                 |    940458                |  2315.0566               |\n",
       "| Costa Rica               | Americas                 | 1957                     | 60.02600                 |   1112300                |  2990.0108               |\n",
       "| ... | ... | ... | ... | ... | ... |\n",
       "| Sierra Leone        | Africa              | 1957                | 31.570              |   2295678           |  1004.4844          |\n",
       "| Singapore           | Asia                | 1957                | 63.179              |   1445929           |  2843.1044          |\n",
       "| Slovak Republic     | Europe              | 1957                | 67.450              |   3844277           |  6093.2630          |\n",
       "| Slovenia            | Europe              | 1957                | 67.850              |   1533070           |  5862.2766          |\n",
       "| Somalia             | Africa              | 1957                | 34.977              |   2780415           |  1258.1474          |\n",
       "| South Africa        | Africa              | 1957                | 47.985              |  16151549           |  5487.1042          |\n",
       "| Spain               | Europe              | 1957                | 66.660              |  29841614           |  4564.8024          |\n",
       "| Sri Lanka           | Asia                | 1957                | 61.456              |   9128546           |  1072.5466          |\n",
       "| Sudan               | Africa              | 1957                | 39.624              |   9753392           |  1770.3371          |\n",
       "| Swaziland           | Africa              | 1957                | 43.424              |    326741           |  1244.7084          |\n",
       "| Sweden              | Europe              | 1957                | 72.490              |   7363802           |  9911.8782          |\n",
       "| Switzerland         | Europe              | 1957                | 70.560              |   5126000           | 17909.4897          |\n",
       "| Syria               | Asia                | 1957                | 48.284              |   4149908           |  2117.2349          |\n",
       "| Taiwan              | Asia                | 1957                | 62.400              |  10164215           |  1507.8613          |\n",
       "| Tanzania            | Africa              | 1957                | 42.974              |   9452826           |   698.5356          |\n",
       "| Thailand            | Asia                | 1957                | 53.630              |  25041917           |   793.5774          |\n",
       "| Togo                | Africa              | 1957                | 41.208              |   1357445           |   925.9083          |\n",
       "| Trinidad and Tobago | Americas            | 1957                | 61.800              |    764900           |  4100.3934          |\n",
       "| Tunisia             | Africa              | 1957                | 47.100              |   3950849           |  1395.2325          |\n",
       "| Turkey              | Europe              | 1957                | 48.079              |  25670939           |  2218.7543          |\n",
       "| Uganda              | Africa              | 1957                | 42.571              |   6675501           |   774.3711          |\n",
       "| United Kingdom      | Europe              | 1957                | 70.420              |  51430000           | 11283.1779          |\n",
       "| United States       | Americas            | 1957                | 69.490              | 171984000           | 14847.1271          |\n",
       "| Uruguay             | Americas            | 1957                | 67.044              |   2424959           |  6150.7730          |\n",
       "| Venezuela           | Americas            | 1957                | 57.907              |   6702668           |  9802.4665          |\n",
       "| Vietnam             | Asia                | 1957                | 42.887              |  28998543           |   676.2854          |\n",
       "| West Bank and Gaza  | Asia                | 1957                | 45.671              |   1070439           |  1827.0677          |\n",
       "| Yemen, Rep.         | Asia                | 1957                | 33.970              |   5498090           |   804.8305          |\n",
       "| Zambia              | Africa              | 1957                | 44.077              |   3016000           |  1311.9568          |\n",
       "| Zimbabwe            | Africa              | 1957                | 50.469              |   3646340           |   518.7643          |\n",
       "\n"
      ],
      "text/plain": [
       "    country                  continent year lifeExp  pop       gdpPercap \n",
       "1   Afghanistan              Asia      1957 30.33200   9240934   820.8530\n",
       "2   Albania                  Europe    1957 59.28000   1476505  1942.2842\n",
       "3   Algeria                  Africa    1957 45.68500  10270856  3013.9760\n",
       "4   Angola                   Africa    1957 31.99900   4561361  3827.9405\n",
       "5   Argentina                Americas  1957 64.39900  19610538  6856.8562\n",
       "6   Australia                Oceania   1957 70.33000   9712569 10949.6496\n",
       "7   Austria                  Europe    1957 67.48000   6965860  8842.5980\n",
       "8   Bahrain                  Asia      1957 53.83200    138655 11635.7995\n",
       "9   Bangladesh               Asia      1957 39.34800  51365468   661.6375\n",
       "10  Belgium                  Europe    1957 69.24000   8989111  9714.9606\n",
       "11  Benin                    Africa    1957 40.35800   1925173   959.6011\n",
       "12  Bolivia                  Americas  1957 41.89000   3211738  2127.6863\n",
       "13  Bosnia and Herzegovina   Europe    1957 58.45000   3076000  1353.9892\n",
       "14  Botswana                 Africa    1957 49.61800    474639   918.2325\n",
       "15  Brazil                   Americas  1957 53.28500  65551171  2487.3660\n",
       "16  Bulgaria                 Europe    1957 66.61000   7651254  3008.6707\n",
       "17  Burkina Faso             Africa    1957 34.90600   4713416   617.1835\n",
       "18  Burundi                  Africa    1957 40.53300   2667518   379.5646\n",
       "19  Cambodia                 Asia      1957 41.36600   5322536   434.0383\n",
       "20  Cameroon                 Africa    1957 40.42800   5359923  1313.0481\n",
       "21  Canada                   Americas  1957 69.96000  17010154 12489.9501\n",
       "22  Central African Republic Africa    1957 37.46400   1392284  1190.8443\n",
       "23  Chad                     Africa    1957 39.88100   2894855  1308.4956\n",
       "24  Chile                    Americas  1957 56.07400   7048426  4315.6227\n",
       "25  China                    Asia      1957 50.54896 637408000   575.9870\n",
       "26  Colombia                 Americas  1957 55.11800  14485993  2323.8056\n",
       "27  Comoros                  Africa    1957 42.46000    170928  1211.1485\n",
       "28  Congo, Dem. Rep.         Africa    1957 40.65200  15577932   905.8602\n",
       "29  Congo, Rep.              Africa    1957 45.05300    940458  2315.0566\n",
       "30  Costa Rica               Americas  1957 60.02600   1112300  2990.0108\n",
       "... ...                      ...       ...  ...      ...       ...       \n",
       "113 Sierra Leone             Africa    1957 31.570     2295678  1004.4844\n",
       "114 Singapore                Asia      1957 63.179     1445929  2843.1044\n",
       "115 Slovak Republic          Europe    1957 67.450     3844277  6093.2630\n",
       "116 Slovenia                 Europe    1957 67.850     1533070  5862.2766\n",
       "117 Somalia                  Africa    1957 34.977     2780415  1258.1474\n",
       "118 South Africa             Africa    1957 47.985    16151549  5487.1042\n",
       "119 Spain                    Europe    1957 66.660    29841614  4564.8024\n",
       "120 Sri Lanka                Asia      1957 61.456     9128546  1072.5466\n",
       "121 Sudan                    Africa    1957 39.624     9753392  1770.3371\n",
       "122 Swaziland                Africa    1957 43.424      326741  1244.7084\n",
       "123 Sweden                   Europe    1957 72.490     7363802  9911.8782\n",
       "124 Switzerland              Europe    1957 70.560     5126000 17909.4897\n",
       "125 Syria                    Asia      1957 48.284     4149908  2117.2349\n",
       "126 Taiwan                   Asia      1957 62.400    10164215  1507.8613\n",
       "127 Tanzania                 Africa    1957 42.974     9452826   698.5356\n",
       "128 Thailand                 Asia      1957 53.630    25041917   793.5774\n",
       "129 Togo                     Africa    1957 41.208     1357445   925.9083\n",
       "130 Trinidad and Tobago      Americas  1957 61.800      764900  4100.3934\n",
       "131 Tunisia                  Africa    1957 47.100     3950849  1395.2325\n",
       "132 Turkey                   Europe    1957 48.079    25670939  2218.7543\n",
       "133 Uganda                   Africa    1957 42.571     6675501   774.3711\n",
       "134 United Kingdom           Europe    1957 70.420    51430000 11283.1779\n",
       "135 United States            Americas  1957 69.490   171984000 14847.1271\n",
       "136 Uruguay                  Americas  1957 67.044     2424959  6150.7730\n",
       "137 Venezuela                Americas  1957 57.907     6702668  9802.4665\n",
       "138 Vietnam                  Asia      1957 42.887    28998543   676.2854\n",
       "139 West Bank and Gaza       Asia      1957 45.671     1070439  1827.0677\n",
       "140 Yemen, Rep.              Asia      1957 33.970     5498090   804.8305\n",
       "141 Zambia                   Africa    1957 44.077     3016000  1311.9568\n",
       "142 Zimbabwe                 Africa    1957 50.469     3646340   518.7643"
      ]
     },
     "metadata": {},
     "output_type": "display_data"
    }
   ],
   "source": [
    "# Filter the gapminder dataset for the year 1957\n",
    "gapminder %>%\n",
    "  filter(year == 1957)\n",
    "  "
   ]
  },
  {
   "cell_type": "markdown",
   "metadata": {},
   "source": [
    "Filter the gapminder data to retrieve only the observation from China in the year 2002."
   ]
  },
  {
   "cell_type": "code",
   "execution_count": 150,
   "metadata": {},
   "outputs": [
    {
     "data": {
      "text/html": [
       "<table>\n",
       "<thead><tr><th scope=col>country</th><th scope=col>continent</th><th scope=col>year</th><th scope=col>lifeExp</th><th scope=col>pop</th><th scope=col>gdpPercap</th></tr></thead>\n",
       "<tbody>\n",
       "\t<tr><td>China     </td><td>Asia      </td><td>2002      </td><td>72.028    </td><td>1280400000</td><td>3119.281  </td></tr>\n",
       "</tbody>\n",
       "</table>\n"
      ],
      "text/latex": [
       "\\begin{tabular}{r|llllll}\n",
       " country & continent & year & lifeExp & pop & gdpPercap\\\\\n",
       "\\hline\n",
       "\t China      & Asia       & 2002       & 72.028     & 1280400000 & 3119.281  \\\\\n",
       "\\end{tabular}\n"
      ],
      "text/markdown": [
       "\n",
       "| country | continent | year | lifeExp | pop | gdpPercap |\n",
       "|---|---|---|---|---|---|\n",
       "| China      | Asia       | 2002       | 72.028     | 1280400000 | 3119.281   |\n",
       "\n"
      ],
      "text/plain": [
       "  country continent year lifeExp pop        gdpPercap\n",
       "1 China   Asia      2002 72.028  1280400000 3119.281 "
      ]
     },
     "metadata": {},
     "output_type": "display_data"
    }
   ],
   "source": [
    "# Filter for China in 2002\n",
    "gapminder %>%\n",
    "  filter(country=='China',year==2002)"
   ]
  },
  {
   "cell_type": "code",
   "execution_count": 153,
   "metadata": {},
   "outputs": [
    {
     "data": {
      "text/html": [
       "<table>\n",
       "<thead><tr><th scope=col>country</th><th scope=col>continent</th><th scope=col>year</th><th scope=col>lifeExp</th><th scope=col>pop</th><th scope=col>gdpPercap</th></tr></thead>\n",
       "<tbody>\n",
       "\t<tr><td>Rwanda           </td><td>Africa           </td><td>1992             </td><td>23.599           </td><td> 7290203         </td><td> 737.0686        </td></tr>\n",
       "\t<tr><td>Afghanistan      </td><td>Asia             </td><td>1952             </td><td>28.801           </td><td> 8425333         </td><td> 779.4453        </td></tr>\n",
       "\t<tr><td>Gambia           </td><td>Africa           </td><td>1952             </td><td>30.000           </td><td>  284320         </td><td> 485.2307        </td></tr>\n",
       "\t<tr><td>Angola           </td><td>Africa           </td><td>1952             </td><td>30.015           </td><td> 4232095         </td><td>3520.6103        </td></tr>\n",
       "\t<tr><td>Sierra Leone     </td><td>Africa           </td><td>1952             </td><td>30.331           </td><td> 2143249         </td><td> 879.7877        </td></tr>\n",
       "\t<tr><td>Afghanistan      </td><td>Asia             </td><td>1957             </td><td>30.332           </td><td> 9240934         </td><td> 820.8530        </td></tr>\n",
       "\t<tr><td>Cambodia         </td><td>Asia             </td><td>1977             </td><td>31.220           </td><td> 6978607         </td><td> 524.9722        </td></tr>\n",
       "\t<tr><td>Mozambique       </td><td>Africa           </td><td>1952             </td><td>31.286           </td><td> 6446316         </td><td> 468.5260        </td></tr>\n",
       "\t<tr><td>Sierra Leone     </td><td>Africa           </td><td>1957             </td><td>31.570           </td><td> 2295678         </td><td>1004.4844        </td></tr>\n",
       "\t<tr><td>Burkina Faso     </td><td>Africa           </td><td>1952             </td><td>31.975           </td><td> 4469979         </td><td> 543.2552        </td></tr>\n",
       "\t<tr><td>Afghanistan      </td><td>Asia             </td><td>1962             </td><td>31.997           </td><td>10267083         </td><td> 853.1007        </td></tr>\n",
       "\t<tr><td>Angola           </td><td>Africa           </td><td>1957             </td><td>31.999           </td><td> 4561361         </td><td>3827.9405        </td></tr>\n",
       "\t<tr><td>Gambia           </td><td>Africa           </td><td>1957             </td><td>32.065           </td><td>  323150         </td><td> 520.9267        </td></tr>\n",
       "\t<tr><td>Guinea-Bissau    </td><td>Africa           </td><td>1952             </td><td>32.500           </td><td>  580653         </td><td> 299.8503        </td></tr>\n",
       "\t<tr><td>Yemen, Rep.      </td><td>Asia             </td><td>1952             </td><td>32.548           </td><td> 4963829         </td><td> 781.7176        </td></tr>\n",
       "\t<tr><td>Sierra Leone     </td><td>Africa           </td><td>1962             </td><td>32.767           </td><td> 2467895         </td><td>1116.6399        </td></tr>\n",
       "\t<tr><td>Somalia          </td><td>Africa           </td><td>1952             </td><td>32.978           </td><td> 2526994         </td><td>1135.7498        </td></tr>\n",
       "\t<tr><td>Guinea-Bissau    </td><td>Africa           </td><td>1957             </td><td>33.489           </td><td>  601095         </td><td> 431.7905        </td></tr>\n",
       "\t<tr><td>Guinea           </td><td>Africa           </td><td>1952             </td><td>33.609           </td><td> 2664249         </td><td> 510.1965        </td></tr>\n",
       "\t<tr><td>Mali             </td><td>Africa           </td><td>1952             </td><td>33.685           </td><td> 3838168         </td><td> 452.3370        </td></tr>\n",
       "\t<tr><td>Mozambique       </td><td>Africa           </td><td>1957             </td><td>33.779           </td><td> 7038035         </td><td> 495.5868        </td></tr>\n",
       "\t<tr><td>Gambia           </td><td>Africa           </td><td>1962             </td><td>33.896           </td><td>  374020         </td><td> 599.6503        </td></tr>\n",
       "\t<tr><td>Yemen, Rep.      </td><td>Asia             </td><td>1957             </td><td>33.970           </td><td> 5498090         </td><td> 804.8305        </td></tr>\n",
       "\t<tr><td>Angola           </td><td>Africa           </td><td>1962             </td><td>34.000           </td><td> 4826015         </td><td>4269.2767        </td></tr>\n",
       "\t<tr><td>Afghanistan      </td><td>Asia             </td><td>1967             </td><td>34.020           </td><td>11537966         </td><td> 836.1971        </td></tr>\n",
       "\t<tr><td>Ethiopia         </td><td>Africa           </td><td>1952             </td><td>34.078           </td><td>20860941         </td><td> 362.1463        </td></tr>\n",
       "\t<tr><td>Sierra Leone     </td><td>Africa           </td><td>1967             </td><td>34.113           </td><td> 2662190         </td><td>1206.0435        </td></tr>\n",
       "\t<tr><td>Equatorial Guinea</td><td>Africa           </td><td>1952             </td><td>34.482           </td><td>  216964         </td><td> 375.6431        </td></tr>\n",
       "\t<tr><td>Guinea-Bissau    </td><td>Africa           </td><td>1962             </td><td>34.488           </td><td>  627820         </td><td> 522.0344        </td></tr>\n",
       "\t<tr><td>Guinea           </td><td>Africa           </td><td>1957             </td><td>34.558           </td><td> 2876726         </td><td> 576.2670        </td></tr>\n",
       "\t<tr><td>...</td><td>...</td><td>...</td><td>...</td><td>...</td><td>...</td></tr>\n",
       "\t<tr><td>Greece          </td><td>Europe          </td><td>2007            </td><td>79.483          </td><td> 10706290       </td><td>27538.41        </td></tr>\n",
       "\t<tr><td>France          </td><td>Europe          </td><td>2002            </td><td>79.590          </td><td> 59925035       </td><td>28926.03        </td></tr>\n",
       "\t<tr><td>Israel          </td><td>Asia            </td><td>2002            </td><td>79.696          </td><td>  6029529       </td><td>21905.60        </td></tr>\n",
       "\t<tr><td>Netherlands     </td><td>Europe          </td><td>2007            </td><td>79.762          </td><td> 16570613       </td><td>36797.93        </td></tr>\n",
       "\t<tr><td>Canada          </td><td>Americas        </td><td>2002            </td><td>79.770          </td><td> 31902268       </td><td>33328.97        </td></tr>\n",
       "\t<tr><td>Spain           </td><td>Europe          </td><td>2002            </td><td>79.780          </td><td> 40152517       </td><td>24835.47        </td></tr>\n",
       "\t<tr><td>Austria         </td><td>Europe          </td><td>2007            </td><td>79.829          </td><td>  8199783       </td><td>36126.49        </td></tr>\n",
       "\t<tr><td>Singapore       </td><td>Asia            </td><td>2007            </td><td>79.972          </td><td>  4553009       </td><td>47143.18        </td></tr>\n",
       "\t<tr><td>Hong Kong, China</td><td>Asia            </td><td>1997            </td><td>80.000          </td><td>  6495918       </td><td>28377.63        </td></tr>\n",
       "\t<tr><td>Sweden          </td><td>Europe          </td><td>2002            </td><td>80.040          </td><td>  8954175       </td><td>29341.63        </td></tr>\n",
       "\t<tr><td>Norway          </td><td>Europe          </td><td>2007            </td><td>80.196          </td><td>  4627926       </td><td>49357.19        </td></tr>\n",
       "\t<tr><td>New Zealand     </td><td>Oceania         </td><td>2007            </td><td>80.204          </td><td>  4115771       </td><td>25185.01        </td></tr>\n",
       "\t<tr><td>Italy           </td><td>Europe          </td><td>2002            </td><td>80.240          </td><td> 57926999       </td><td>27968.10        </td></tr>\n",
       "\t<tr><td>Australia       </td><td>Oceania         </td><td>2002            </td><td>80.370          </td><td> 19546792       </td><td>30687.75        </td></tr>\n",
       "\t<tr><td>Iceland         </td><td>Europe          </td><td>2002            </td><td>80.500          </td><td>   288030       </td><td>31163.20        </td></tr>\n",
       "\t<tr><td>Italy           </td><td>Europe          </td><td>2007            </td><td>80.546          </td><td> 58147733       </td><td>28569.72        </td></tr>\n",
       "\t<tr><td>Switzerland     </td><td>Europe          </td><td>2002            </td><td>80.620          </td><td>  7361757       </td><td>34480.96        </td></tr>\n",
       "\t<tr><td>Canada          </td><td>Americas        </td><td>2007            </td><td>80.653          </td><td> 33390141       </td><td>36319.24        </td></tr>\n",
       "\t<tr><td>France          </td><td>Europe          </td><td>2007            </td><td>80.657          </td><td> 61083916       </td><td>30470.02        </td></tr>\n",
       "\t<tr><td>Japan           </td><td>Asia            </td><td>1997            </td><td>80.690          </td><td>125956499       </td><td>28816.58        </td></tr>\n",
       "\t<tr><td>Israel          </td><td>Asia            </td><td>2007            </td><td>80.745          </td><td>  6426679       </td><td>25523.28        </td></tr>\n",
       "\t<tr><td>Sweden          </td><td>Europe          </td><td>2007            </td><td>80.884          </td><td>  9031088       </td><td>33859.75        </td></tr>\n",
       "\t<tr><td>Spain           </td><td>Europe          </td><td>2007            </td><td>80.941          </td><td> 40448191       </td><td>28821.06        </td></tr>\n",
       "\t<tr><td>Australia       </td><td>Oceania         </td><td>2007            </td><td>81.235          </td><td> 20434176       </td><td>34435.37        </td></tr>\n",
       "\t<tr><td>Hong Kong, China</td><td>Asia            </td><td>2002            </td><td>81.495          </td><td>  6762476       </td><td>30209.02        </td></tr>\n",
       "\t<tr><td>Switzerland     </td><td>Europe          </td><td>2007            </td><td>81.701          </td><td>  7554661       </td><td>37506.42        </td></tr>\n",
       "\t<tr><td>Iceland         </td><td>Europe          </td><td>2007            </td><td>81.757          </td><td>   301931       </td><td>36180.79        </td></tr>\n",
       "\t<tr><td>Japan           </td><td>Asia            </td><td>2002            </td><td>82.000          </td><td>127065841       </td><td>28604.59        </td></tr>\n",
       "\t<tr><td>Hong Kong, China</td><td>Asia            </td><td>2007            </td><td>82.208          </td><td>  6980412       </td><td>39724.98        </td></tr>\n",
       "\t<tr><td>Japan           </td><td>Asia            </td><td>2007            </td><td>82.603          </td><td>127467972       </td><td>31656.07        </td></tr>\n",
       "</tbody>\n",
       "</table>\n"
      ],
      "text/latex": [
       "\\begin{tabular}{r|llllll}\n",
       " country & continent & year & lifeExp & pop & gdpPercap\\\\\n",
       "\\hline\n",
       "\t Rwanda            & Africa            & 1992              & 23.599            &  7290203          &  737.0686        \\\\\n",
       "\t Afghanistan       & Asia              & 1952              & 28.801            &  8425333          &  779.4453        \\\\\n",
       "\t Gambia            & Africa            & 1952              & 30.000            &   284320          &  485.2307        \\\\\n",
       "\t Angola            & Africa            & 1952              & 30.015            &  4232095          & 3520.6103        \\\\\n",
       "\t Sierra Leone      & Africa            & 1952              & 30.331            &  2143249          &  879.7877        \\\\\n",
       "\t Afghanistan       & Asia              & 1957              & 30.332            &  9240934          &  820.8530        \\\\\n",
       "\t Cambodia          & Asia              & 1977              & 31.220            &  6978607          &  524.9722        \\\\\n",
       "\t Mozambique        & Africa            & 1952              & 31.286            &  6446316          &  468.5260        \\\\\n",
       "\t Sierra Leone      & Africa            & 1957              & 31.570            &  2295678          & 1004.4844        \\\\\n",
       "\t Burkina Faso      & Africa            & 1952              & 31.975            &  4469979          &  543.2552        \\\\\n",
       "\t Afghanistan       & Asia              & 1962              & 31.997            & 10267083          &  853.1007        \\\\\n",
       "\t Angola            & Africa            & 1957              & 31.999            &  4561361          & 3827.9405        \\\\\n",
       "\t Gambia            & Africa            & 1957              & 32.065            &   323150          &  520.9267        \\\\\n",
       "\t Guinea-Bissau     & Africa            & 1952              & 32.500            &   580653          &  299.8503        \\\\\n",
       "\t Yemen, Rep.       & Asia              & 1952              & 32.548            &  4963829          &  781.7176        \\\\\n",
       "\t Sierra Leone      & Africa            & 1962              & 32.767            &  2467895          & 1116.6399        \\\\\n",
       "\t Somalia           & Africa            & 1952              & 32.978            &  2526994          & 1135.7498        \\\\\n",
       "\t Guinea-Bissau     & Africa            & 1957              & 33.489            &   601095          &  431.7905        \\\\\n",
       "\t Guinea            & Africa            & 1952              & 33.609            &  2664249          &  510.1965        \\\\\n",
       "\t Mali              & Africa            & 1952              & 33.685            &  3838168          &  452.3370        \\\\\n",
       "\t Mozambique        & Africa            & 1957              & 33.779            &  7038035          &  495.5868        \\\\\n",
       "\t Gambia            & Africa            & 1962              & 33.896            &   374020          &  599.6503        \\\\\n",
       "\t Yemen, Rep.       & Asia              & 1957              & 33.970            &  5498090          &  804.8305        \\\\\n",
       "\t Angola            & Africa            & 1962              & 34.000            &  4826015          & 4269.2767        \\\\\n",
       "\t Afghanistan       & Asia              & 1967              & 34.020            & 11537966          &  836.1971        \\\\\n",
       "\t Ethiopia          & Africa            & 1952              & 34.078            & 20860941          &  362.1463        \\\\\n",
       "\t Sierra Leone      & Africa            & 1967              & 34.113            &  2662190          & 1206.0435        \\\\\n",
       "\t Equatorial Guinea & Africa            & 1952              & 34.482            &   216964          &  375.6431        \\\\\n",
       "\t Guinea-Bissau     & Africa            & 1962              & 34.488            &   627820          &  522.0344        \\\\\n",
       "\t Guinea            & Africa            & 1957              & 34.558            &  2876726          &  576.2670        \\\\\n",
       "\t ... & ... & ... & ... & ... & ...\\\\\n",
       "\t Greece           & Europe           & 2007             & 79.483           &  10706290        & 27538.41        \\\\\n",
       "\t France           & Europe           & 2002             & 79.590           &  59925035        & 28926.03        \\\\\n",
       "\t Israel           & Asia             & 2002             & 79.696           &   6029529        & 21905.60        \\\\\n",
       "\t Netherlands      & Europe           & 2007             & 79.762           &  16570613        & 36797.93        \\\\\n",
       "\t Canada           & Americas         & 2002             & 79.770           &  31902268        & 33328.97        \\\\\n",
       "\t Spain            & Europe           & 2002             & 79.780           &  40152517        & 24835.47        \\\\\n",
       "\t Austria          & Europe           & 2007             & 79.829           &   8199783        & 36126.49        \\\\\n",
       "\t Singapore        & Asia             & 2007             & 79.972           &   4553009        & 47143.18        \\\\\n",
       "\t Hong Kong, China & Asia             & 1997             & 80.000           &   6495918        & 28377.63        \\\\\n",
       "\t Sweden           & Europe           & 2002             & 80.040           &   8954175        & 29341.63        \\\\\n",
       "\t Norway           & Europe           & 2007             & 80.196           &   4627926        & 49357.19        \\\\\n",
       "\t New Zealand      & Oceania          & 2007             & 80.204           &   4115771        & 25185.01        \\\\\n",
       "\t Italy            & Europe           & 2002             & 80.240           &  57926999        & 27968.10        \\\\\n",
       "\t Australia        & Oceania          & 2002             & 80.370           &  19546792        & 30687.75        \\\\\n",
       "\t Iceland          & Europe           & 2002             & 80.500           &    288030        & 31163.20        \\\\\n",
       "\t Italy            & Europe           & 2007             & 80.546           &  58147733        & 28569.72        \\\\\n",
       "\t Switzerland      & Europe           & 2002             & 80.620           &   7361757        & 34480.96        \\\\\n",
       "\t Canada           & Americas         & 2007             & 80.653           &  33390141        & 36319.24        \\\\\n",
       "\t France           & Europe           & 2007             & 80.657           &  61083916        & 30470.02        \\\\\n",
       "\t Japan            & Asia             & 1997             & 80.690           & 125956499        & 28816.58        \\\\\n",
       "\t Israel           & Asia             & 2007             & 80.745           &   6426679        & 25523.28        \\\\\n",
       "\t Sweden           & Europe           & 2007             & 80.884           &   9031088        & 33859.75        \\\\\n",
       "\t Spain            & Europe           & 2007             & 80.941           &  40448191        & 28821.06        \\\\\n",
       "\t Australia        & Oceania          & 2007             & 81.235           &  20434176        & 34435.37        \\\\\n",
       "\t Hong Kong, China & Asia             & 2002             & 81.495           &   6762476        & 30209.02        \\\\\n",
       "\t Switzerland      & Europe           & 2007             & 81.701           &   7554661        & 37506.42        \\\\\n",
       "\t Iceland          & Europe           & 2007             & 81.757           &    301931        & 36180.79        \\\\\n",
       "\t Japan            & Asia             & 2002             & 82.000           & 127065841        & 28604.59        \\\\\n",
       "\t Hong Kong, China & Asia             & 2007             & 82.208           &   6980412        & 39724.98        \\\\\n",
       "\t Japan            & Asia             & 2007             & 82.603           & 127467972        & 31656.07        \\\\\n",
       "\\end{tabular}\n"
      ],
      "text/markdown": [
       "\n",
       "| country | continent | year | lifeExp | pop | gdpPercap |\n",
       "|---|---|---|---|---|---|\n",
       "| Rwanda            | Africa            | 1992              | 23.599            |  7290203          |  737.0686         |\n",
       "| Afghanistan       | Asia              | 1952              | 28.801            |  8425333          |  779.4453         |\n",
       "| Gambia            | Africa            | 1952              | 30.000            |   284320          |  485.2307         |\n",
       "| Angola            | Africa            | 1952              | 30.015            |  4232095          | 3520.6103         |\n",
       "| Sierra Leone      | Africa            | 1952              | 30.331            |  2143249          |  879.7877         |\n",
       "| Afghanistan       | Asia              | 1957              | 30.332            |  9240934          |  820.8530         |\n",
       "| Cambodia          | Asia              | 1977              | 31.220            |  6978607          |  524.9722         |\n",
       "| Mozambique        | Africa            | 1952              | 31.286            |  6446316          |  468.5260         |\n",
       "| Sierra Leone      | Africa            | 1957              | 31.570            |  2295678          | 1004.4844         |\n",
       "| Burkina Faso      | Africa            | 1952              | 31.975            |  4469979          |  543.2552         |\n",
       "| Afghanistan       | Asia              | 1962              | 31.997            | 10267083          |  853.1007         |\n",
       "| Angola            | Africa            | 1957              | 31.999            |  4561361          | 3827.9405         |\n",
       "| Gambia            | Africa            | 1957              | 32.065            |   323150          |  520.9267         |\n",
       "| Guinea-Bissau     | Africa            | 1952              | 32.500            |   580653          |  299.8503         |\n",
       "| Yemen, Rep.       | Asia              | 1952              | 32.548            |  4963829          |  781.7176         |\n",
       "| Sierra Leone      | Africa            | 1962              | 32.767            |  2467895          | 1116.6399         |\n",
       "| Somalia           | Africa            | 1952              | 32.978            |  2526994          | 1135.7498         |\n",
       "| Guinea-Bissau     | Africa            | 1957              | 33.489            |   601095          |  431.7905         |\n",
       "| Guinea            | Africa            | 1952              | 33.609            |  2664249          |  510.1965         |\n",
       "| Mali              | Africa            | 1952              | 33.685            |  3838168          |  452.3370         |\n",
       "| Mozambique        | Africa            | 1957              | 33.779            |  7038035          |  495.5868         |\n",
       "| Gambia            | Africa            | 1962              | 33.896            |   374020          |  599.6503         |\n",
       "| Yemen, Rep.       | Asia              | 1957              | 33.970            |  5498090          |  804.8305         |\n",
       "| Angola            | Africa            | 1962              | 34.000            |  4826015          | 4269.2767         |\n",
       "| Afghanistan       | Asia              | 1967              | 34.020            | 11537966          |  836.1971         |\n",
       "| Ethiopia          | Africa            | 1952              | 34.078            | 20860941          |  362.1463         |\n",
       "| Sierra Leone      | Africa            | 1967              | 34.113            |  2662190          | 1206.0435         |\n",
       "| Equatorial Guinea | Africa            | 1952              | 34.482            |   216964          |  375.6431         |\n",
       "| Guinea-Bissau     | Africa            | 1962              | 34.488            |   627820          |  522.0344         |\n",
       "| Guinea            | Africa            | 1957              | 34.558            |  2876726          |  576.2670         |\n",
       "| ... | ... | ... | ... | ... | ... |\n",
       "| Greece           | Europe           | 2007             | 79.483           |  10706290        | 27538.41         |\n",
       "| France           | Europe           | 2002             | 79.590           |  59925035        | 28926.03         |\n",
       "| Israel           | Asia             | 2002             | 79.696           |   6029529        | 21905.60         |\n",
       "| Netherlands      | Europe           | 2007             | 79.762           |  16570613        | 36797.93         |\n",
       "| Canada           | Americas         | 2002             | 79.770           |  31902268        | 33328.97         |\n",
       "| Spain            | Europe           | 2002             | 79.780           |  40152517        | 24835.47         |\n",
       "| Austria          | Europe           | 2007             | 79.829           |   8199783        | 36126.49         |\n",
       "| Singapore        | Asia             | 2007             | 79.972           |   4553009        | 47143.18         |\n",
       "| Hong Kong, China | Asia             | 1997             | 80.000           |   6495918        | 28377.63         |\n",
       "| Sweden           | Europe           | 2002             | 80.040           |   8954175        | 29341.63         |\n",
       "| Norway           | Europe           | 2007             | 80.196           |   4627926        | 49357.19         |\n",
       "| New Zealand      | Oceania          | 2007             | 80.204           |   4115771        | 25185.01         |\n",
       "| Italy            | Europe           | 2002             | 80.240           |  57926999        | 27968.10         |\n",
       "| Australia        | Oceania          | 2002             | 80.370           |  19546792        | 30687.75         |\n",
       "| Iceland          | Europe           | 2002             | 80.500           |    288030        | 31163.20         |\n",
       "| Italy            | Europe           | 2007             | 80.546           |  58147733        | 28569.72         |\n",
       "| Switzerland      | Europe           | 2002             | 80.620           |   7361757        | 34480.96         |\n",
       "| Canada           | Americas         | 2007             | 80.653           |  33390141        | 36319.24         |\n",
       "| France           | Europe           | 2007             | 80.657           |  61083916        | 30470.02         |\n",
       "| Japan            | Asia             | 1997             | 80.690           | 125956499        | 28816.58         |\n",
       "| Israel           | Asia             | 2007             | 80.745           |   6426679        | 25523.28         |\n",
       "| Sweden           | Europe           | 2007             | 80.884           |   9031088        | 33859.75         |\n",
       "| Spain            | Europe           | 2007             | 80.941           |  40448191        | 28821.06         |\n",
       "| Australia        | Oceania          | 2007             | 81.235           |  20434176        | 34435.37         |\n",
       "| Hong Kong, China | Asia             | 2002             | 81.495           |   6762476        | 30209.02         |\n",
       "| Switzerland      | Europe           | 2007             | 81.701           |   7554661        | 37506.42         |\n",
       "| Iceland          | Europe           | 2007             | 81.757           |    301931        | 36180.79         |\n",
       "| Japan            | Asia             | 2002             | 82.000           | 127065841        | 28604.59         |\n",
       "| Hong Kong, China | Asia             | 2007             | 82.208           |   6980412        | 39724.98         |\n",
       "| Japan            | Asia             | 2007             | 82.603           | 127467972        | 31656.07         |\n",
       "\n"
      ],
      "text/plain": [
       "     country           continent year lifeExp pop       gdpPercap\n",
       "1    Rwanda            Africa    1992 23.599   7290203   737.0686\n",
       "2    Afghanistan       Asia      1952 28.801   8425333   779.4453\n",
       "3    Gambia            Africa    1952 30.000    284320   485.2307\n",
       "4    Angola            Africa    1952 30.015   4232095  3520.6103\n",
       "5    Sierra Leone      Africa    1952 30.331   2143249   879.7877\n",
       "6    Afghanistan       Asia      1957 30.332   9240934   820.8530\n",
       "7    Cambodia          Asia      1977 31.220   6978607   524.9722\n",
       "8    Mozambique        Africa    1952 31.286   6446316   468.5260\n",
       "9    Sierra Leone      Africa    1957 31.570   2295678  1004.4844\n",
       "10   Burkina Faso      Africa    1952 31.975   4469979   543.2552\n",
       "11   Afghanistan       Asia      1962 31.997  10267083   853.1007\n",
       "12   Angola            Africa    1957 31.999   4561361  3827.9405\n",
       "13   Gambia            Africa    1957 32.065    323150   520.9267\n",
       "14   Guinea-Bissau     Africa    1952 32.500    580653   299.8503\n",
       "15   Yemen, Rep.       Asia      1952 32.548   4963829   781.7176\n",
       "16   Sierra Leone      Africa    1962 32.767   2467895  1116.6399\n",
       "17   Somalia           Africa    1952 32.978   2526994  1135.7498\n",
       "18   Guinea-Bissau     Africa    1957 33.489    601095   431.7905\n",
       "19   Guinea            Africa    1952 33.609   2664249   510.1965\n",
       "20   Mali              Africa    1952 33.685   3838168   452.3370\n",
       "21   Mozambique        Africa    1957 33.779   7038035   495.5868\n",
       "22   Gambia            Africa    1962 33.896    374020   599.6503\n",
       "23   Yemen, Rep.       Asia      1957 33.970   5498090   804.8305\n",
       "24   Angola            Africa    1962 34.000   4826015  4269.2767\n",
       "25   Afghanistan       Asia      1967 34.020  11537966   836.1971\n",
       "26   Ethiopia          Africa    1952 34.078  20860941   362.1463\n",
       "27   Sierra Leone      Africa    1967 34.113   2662190  1206.0435\n",
       "28   Equatorial Guinea Africa    1952 34.482    216964   375.6431\n",
       "29   Guinea-Bissau     Africa    1962 34.488    627820   522.0344\n",
       "30   Guinea            Africa    1957 34.558   2876726   576.2670\n",
       "...  ...               ...       ...  ...     ...       ...      \n",
       "1675 Greece            Europe    2007 79.483   10706290 27538.41 \n",
       "1676 France            Europe    2002 79.590   59925035 28926.03 \n",
       "1677 Israel            Asia      2002 79.696    6029529 21905.60 \n",
       "1678 Netherlands       Europe    2007 79.762   16570613 36797.93 \n",
       "1679 Canada            Americas  2002 79.770   31902268 33328.97 \n",
       "1680 Spain             Europe    2002 79.780   40152517 24835.47 \n",
       "1681 Austria           Europe    2007 79.829    8199783 36126.49 \n",
       "1682 Singapore         Asia      2007 79.972    4553009 47143.18 \n",
       "1683 Hong Kong, China  Asia      1997 80.000    6495918 28377.63 \n",
       "1684 Sweden            Europe    2002 80.040    8954175 29341.63 \n",
       "1685 Norway            Europe    2007 80.196    4627926 49357.19 \n",
       "1686 New Zealand       Oceania   2007 80.204    4115771 25185.01 \n",
       "1687 Italy             Europe    2002 80.240   57926999 27968.10 \n",
       "1688 Australia         Oceania   2002 80.370   19546792 30687.75 \n",
       "1689 Iceland           Europe    2002 80.500     288030 31163.20 \n",
       "1690 Italy             Europe    2007 80.546   58147733 28569.72 \n",
       "1691 Switzerland       Europe    2002 80.620    7361757 34480.96 \n",
       "1692 Canada            Americas  2007 80.653   33390141 36319.24 \n",
       "1693 France            Europe    2007 80.657   61083916 30470.02 \n",
       "1694 Japan             Asia      1997 80.690  125956499 28816.58 \n",
       "1695 Israel            Asia      2007 80.745    6426679 25523.28 \n",
       "1696 Sweden            Europe    2007 80.884    9031088 33859.75 \n",
       "1697 Spain             Europe    2007 80.941   40448191 28821.06 \n",
       "1698 Australia         Oceania   2007 81.235   20434176 34435.37 \n",
       "1699 Hong Kong, China  Asia      2002 81.495    6762476 30209.02 \n",
       "1700 Switzerland       Europe    2007 81.701    7554661 37506.42 \n",
       "1701 Iceland           Europe    2007 81.757     301931 36180.79 \n",
       "1702 Japan             Asia      2002 82.000  127065841 28604.59 \n",
       "1703 Hong Kong, China  Asia      2007 82.208    6980412 39724.98 \n",
       "1704 Japan             Asia      2007 82.603  127467972 31656.07 "
      ]
     },
     "metadata": {},
     "output_type": "display_data"
    },
    {
     "data": {
      "text/html": [
       "<table>\n",
       "<thead><tr><th scope=col>country</th><th scope=col>continent</th><th scope=col>year</th><th scope=col>lifeExp</th><th scope=col>pop</th><th scope=col>gdpPercap</th></tr></thead>\n",
       "<tbody>\n",
       "\t<tr><td>Japan           </td><td>Asia            </td><td>2007            </td><td>82.603          </td><td>127467972       </td><td>31656.07        </td></tr>\n",
       "\t<tr><td>Hong Kong, China</td><td>Asia            </td><td>2007            </td><td>82.208          </td><td>  6980412       </td><td>39724.98        </td></tr>\n",
       "\t<tr><td>Japan           </td><td>Asia            </td><td>2002            </td><td>82.000          </td><td>127065841       </td><td>28604.59        </td></tr>\n",
       "\t<tr><td>Iceland         </td><td>Europe          </td><td>2007            </td><td>81.757          </td><td>   301931       </td><td>36180.79        </td></tr>\n",
       "\t<tr><td>Switzerland     </td><td>Europe          </td><td>2007            </td><td>81.701          </td><td>  7554661       </td><td>37506.42        </td></tr>\n",
       "\t<tr><td>Hong Kong, China</td><td>Asia            </td><td>2002            </td><td>81.495          </td><td>  6762476       </td><td>30209.02        </td></tr>\n",
       "\t<tr><td>Australia       </td><td>Oceania         </td><td>2007            </td><td>81.235          </td><td> 20434176       </td><td>34435.37        </td></tr>\n",
       "\t<tr><td>Spain           </td><td>Europe          </td><td>2007            </td><td>80.941          </td><td> 40448191       </td><td>28821.06        </td></tr>\n",
       "\t<tr><td>Sweden          </td><td>Europe          </td><td>2007            </td><td>80.884          </td><td>  9031088       </td><td>33859.75        </td></tr>\n",
       "\t<tr><td>Israel          </td><td>Asia            </td><td>2007            </td><td>80.745          </td><td>  6426679       </td><td>25523.28        </td></tr>\n",
       "\t<tr><td>Japan           </td><td>Asia            </td><td>1997            </td><td>80.690          </td><td>125956499       </td><td>28816.58        </td></tr>\n",
       "\t<tr><td>France          </td><td>Europe          </td><td>2007            </td><td>80.657          </td><td> 61083916       </td><td>30470.02        </td></tr>\n",
       "\t<tr><td>Canada          </td><td>Americas        </td><td>2007            </td><td>80.653          </td><td> 33390141       </td><td>36319.24        </td></tr>\n",
       "\t<tr><td>Switzerland     </td><td>Europe          </td><td>2002            </td><td>80.620          </td><td>  7361757       </td><td>34480.96        </td></tr>\n",
       "\t<tr><td>Italy           </td><td>Europe          </td><td>2007            </td><td>80.546          </td><td> 58147733       </td><td>28569.72        </td></tr>\n",
       "\t<tr><td>Iceland         </td><td>Europe          </td><td>2002            </td><td>80.500          </td><td>   288030       </td><td>31163.20        </td></tr>\n",
       "\t<tr><td>Australia       </td><td>Oceania         </td><td>2002            </td><td>80.370          </td><td> 19546792       </td><td>30687.75        </td></tr>\n",
       "\t<tr><td>Italy           </td><td>Europe          </td><td>2002            </td><td>80.240          </td><td> 57926999       </td><td>27968.10        </td></tr>\n",
       "\t<tr><td>New Zealand     </td><td>Oceania         </td><td>2007            </td><td>80.204          </td><td>  4115771       </td><td>25185.01        </td></tr>\n",
       "\t<tr><td>Norway          </td><td>Europe          </td><td>2007            </td><td>80.196          </td><td>  4627926       </td><td>49357.19        </td></tr>\n",
       "\t<tr><td>Sweden          </td><td>Europe          </td><td>2002            </td><td>80.040          </td><td>  8954175       </td><td>29341.63        </td></tr>\n",
       "\t<tr><td>Hong Kong, China</td><td>Asia            </td><td>1997            </td><td>80.000          </td><td>  6495918       </td><td>28377.63        </td></tr>\n",
       "\t<tr><td>Singapore       </td><td>Asia            </td><td>2007            </td><td>79.972          </td><td>  4553009       </td><td>47143.18        </td></tr>\n",
       "\t<tr><td>Austria         </td><td>Europe          </td><td>2007            </td><td>79.829          </td><td>  8199783       </td><td>36126.49        </td></tr>\n",
       "\t<tr><td>Spain           </td><td>Europe          </td><td>2002            </td><td>79.780          </td><td> 40152517       </td><td>24835.47        </td></tr>\n",
       "\t<tr><td>Canada          </td><td>Americas        </td><td>2002            </td><td>79.770          </td><td> 31902268       </td><td>33328.97        </td></tr>\n",
       "\t<tr><td>Netherlands     </td><td>Europe          </td><td>2007            </td><td>79.762          </td><td> 16570613       </td><td>36797.93        </td></tr>\n",
       "\t<tr><td>Israel          </td><td>Asia            </td><td>2002            </td><td>79.696          </td><td>  6029529       </td><td>21905.60        </td></tr>\n",
       "\t<tr><td>France          </td><td>Europe          </td><td>2002            </td><td>79.590          </td><td> 59925035       </td><td>28926.03        </td></tr>\n",
       "\t<tr><td>Greece          </td><td>Europe          </td><td>2007            </td><td>79.483          </td><td> 10706290       </td><td>27538.41        </td></tr>\n",
       "\t<tr><td>...</td><td>...</td><td>...</td><td>...</td><td>...</td><td>...</td></tr>\n",
       "\t<tr><td>Guinea           </td><td>Africa           </td><td>1957             </td><td>34.558           </td><td> 2876726         </td><td> 576.2670        </td></tr>\n",
       "\t<tr><td>Guinea-Bissau    </td><td>Africa           </td><td>1962             </td><td>34.488           </td><td>  627820         </td><td> 522.0344        </td></tr>\n",
       "\t<tr><td>Equatorial Guinea</td><td>Africa           </td><td>1952             </td><td>34.482           </td><td>  216964         </td><td> 375.6431        </td></tr>\n",
       "\t<tr><td>Sierra Leone     </td><td>Africa           </td><td>1967             </td><td>34.113           </td><td> 2662190         </td><td>1206.0435        </td></tr>\n",
       "\t<tr><td>Ethiopia         </td><td>Africa           </td><td>1952             </td><td>34.078           </td><td>20860941         </td><td> 362.1463        </td></tr>\n",
       "\t<tr><td>Afghanistan      </td><td>Asia             </td><td>1967             </td><td>34.020           </td><td>11537966         </td><td> 836.1971        </td></tr>\n",
       "\t<tr><td>Angola           </td><td>Africa           </td><td>1962             </td><td>34.000           </td><td> 4826015         </td><td>4269.2767        </td></tr>\n",
       "\t<tr><td>Yemen, Rep.      </td><td>Asia             </td><td>1957             </td><td>33.970           </td><td> 5498090         </td><td> 804.8305        </td></tr>\n",
       "\t<tr><td>Gambia           </td><td>Africa           </td><td>1962             </td><td>33.896           </td><td>  374020         </td><td> 599.6503        </td></tr>\n",
       "\t<tr><td>Mozambique       </td><td>Africa           </td><td>1957             </td><td>33.779           </td><td> 7038035         </td><td> 495.5868        </td></tr>\n",
       "\t<tr><td>Mali             </td><td>Africa           </td><td>1952             </td><td>33.685           </td><td> 3838168         </td><td> 452.3370        </td></tr>\n",
       "\t<tr><td>Guinea           </td><td>Africa           </td><td>1952             </td><td>33.609           </td><td> 2664249         </td><td> 510.1965        </td></tr>\n",
       "\t<tr><td>Guinea-Bissau    </td><td>Africa           </td><td>1957             </td><td>33.489           </td><td>  601095         </td><td> 431.7905        </td></tr>\n",
       "\t<tr><td>Somalia          </td><td>Africa           </td><td>1952             </td><td>32.978           </td><td> 2526994         </td><td>1135.7498        </td></tr>\n",
       "\t<tr><td>Sierra Leone     </td><td>Africa           </td><td>1962             </td><td>32.767           </td><td> 2467895         </td><td>1116.6399        </td></tr>\n",
       "\t<tr><td>Yemen, Rep.      </td><td>Asia             </td><td>1952             </td><td>32.548           </td><td> 4963829         </td><td> 781.7176        </td></tr>\n",
       "\t<tr><td>Guinea-Bissau    </td><td>Africa           </td><td>1952             </td><td>32.500           </td><td>  580653         </td><td> 299.8503        </td></tr>\n",
       "\t<tr><td>Gambia           </td><td>Africa           </td><td>1957             </td><td>32.065           </td><td>  323150         </td><td> 520.9267        </td></tr>\n",
       "\t<tr><td>Angola           </td><td>Africa           </td><td>1957             </td><td>31.999           </td><td> 4561361         </td><td>3827.9405        </td></tr>\n",
       "\t<tr><td>Afghanistan      </td><td>Asia             </td><td>1962             </td><td>31.997           </td><td>10267083         </td><td> 853.1007        </td></tr>\n",
       "\t<tr><td>Burkina Faso     </td><td>Africa           </td><td>1952             </td><td>31.975           </td><td> 4469979         </td><td> 543.2552        </td></tr>\n",
       "\t<tr><td>Sierra Leone     </td><td>Africa           </td><td>1957             </td><td>31.570           </td><td> 2295678         </td><td>1004.4844        </td></tr>\n",
       "\t<tr><td>Mozambique       </td><td>Africa           </td><td>1952             </td><td>31.286           </td><td> 6446316         </td><td> 468.5260        </td></tr>\n",
       "\t<tr><td>Cambodia         </td><td>Asia             </td><td>1977             </td><td>31.220           </td><td> 6978607         </td><td> 524.9722        </td></tr>\n",
       "\t<tr><td>Afghanistan      </td><td>Asia             </td><td>1957             </td><td>30.332           </td><td> 9240934         </td><td> 820.8530        </td></tr>\n",
       "\t<tr><td>Sierra Leone     </td><td>Africa           </td><td>1952             </td><td>30.331           </td><td> 2143249         </td><td> 879.7877        </td></tr>\n",
       "\t<tr><td>Angola           </td><td>Africa           </td><td>1952             </td><td>30.015           </td><td> 4232095         </td><td>3520.6103        </td></tr>\n",
       "\t<tr><td>Gambia           </td><td>Africa           </td><td>1952             </td><td>30.000           </td><td>  284320         </td><td> 485.2307        </td></tr>\n",
       "\t<tr><td>Afghanistan      </td><td>Asia             </td><td>1952             </td><td>28.801           </td><td> 8425333         </td><td> 779.4453        </td></tr>\n",
       "\t<tr><td>Rwanda           </td><td>Africa           </td><td>1992             </td><td>23.599           </td><td> 7290203         </td><td> 737.0686        </td></tr>\n",
       "</tbody>\n",
       "</table>\n"
      ],
      "text/latex": [
       "\\begin{tabular}{r|llllll}\n",
       " country & continent & year & lifeExp & pop & gdpPercap\\\\\n",
       "\\hline\n",
       "\t Japan            & Asia             & 2007             & 82.603           & 127467972        & 31656.07        \\\\\n",
       "\t Hong Kong, China & Asia             & 2007             & 82.208           &   6980412        & 39724.98        \\\\\n",
       "\t Japan            & Asia             & 2002             & 82.000           & 127065841        & 28604.59        \\\\\n",
       "\t Iceland          & Europe           & 2007             & 81.757           &    301931        & 36180.79        \\\\\n",
       "\t Switzerland      & Europe           & 2007             & 81.701           &   7554661        & 37506.42        \\\\\n",
       "\t Hong Kong, China & Asia             & 2002             & 81.495           &   6762476        & 30209.02        \\\\\n",
       "\t Australia        & Oceania          & 2007             & 81.235           &  20434176        & 34435.37        \\\\\n",
       "\t Spain            & Europe           & 2007             & 80.941           &  40448191        & 28821.06        \\\\\n",
       "\t Sweden           & Europe           & 2007             & 80.884           &   9031088        & 33859.75        \\\\\n",
       "\t Israel           & Asia             & 2007             & 80.745           &   6426679        & 25523.28        \\\\\n",
       "\t Japan            & Asia             & 1997             & 80.690           & 125956499        & 28816.58        \\\\\n",
       "\t France           & Europe           & 2007             & 80.657           &  61083916        & 30470.02        \\\\\n",
       "\t Canada           & Americas         & 2007             & 80.653           &  33390141        & 36319.24        \\\\\n",
       "\t Switzerland      & Europe           & 2002             & 80.620           &   7361757        & 34480.96        \\\\\n",
       "\t Italy            & Europe           & 2007             & 80.546           &  58147733        & 28569.72        \\\\\n",
       "\t Iceland          & Europe           & 2002             & 80.500           &    288030        & 31163.20        \\\\\n",
       "\t Australia        & Oceania          & 2002             & 80.370           &  19546792        & 30687.75        \\\\\n",
       "\t Italy            & Europe           & 2002             & 80.240           &  57926999        & 27968.10        \\\\\n",
       "\t New Zealand      & Oceania          & 2007             & 80.204           &   4115771        & 25185.01        \\\\\n",
       "\t Norway           & Europe           & 2007             & 80.196           &   4627926        & 49357.19        \\\\\n",
       "\t Sweden           & Europe           & 2002             & 80.040           &   8954175        & 29341.63        \\\\\n",
       "\t Hong Kong, China & Asia             & 1997             & 80.000           &   6495918        & 28377.63        \\\\\n",
       "\t Singapore        & Asia             & 2007             & 79.972           &   4553009        & 47143.18        \\\\\n",
       "\t Austria          & Europe           & 2007             & 79.829           &   8199783        & 36126.49        \\\\\n",
       "\t Spain            & Europe           & 2002             & 79.780           &  40152517        & 24835.47        \\\\\n",
       "\t Canada           & Americas         & 2002             & 79.770           &  31902268        & 33328.97        \\\\\n",
       "\t Netherlands      & Europe           & 2007             & 79.762           &  16570613        & 36797.93        \\\\\n",
       "\t Israel           & Asia             & 2002             & 79.696           &   6029529        & 21905.60        \\\\\n",
       "\t France           & Europe           & 2002             & 79.590           &  59925035        & 28926.03        \\\\\n",
       "\t Greece           & Europe           & 2007             & 79.483           &  10706290        & 27538.41        \\\\\n",
       "\t ... & ... & ... & ... & ... & ...\\\\\n",
       "\t Guinea            & Africa            & 1957              & 34.558            &  2876726          &  576.2670        \\\\\n",
       "\t Guinea-Bissau     & Africa            & 1962              & 34.488            &   627820          &  522.0344        \\\\\n",
       "\t Equatorial Guinea & Africa            & 1952              & 34.482            &   216964          &  375.6431        \\\\\n",
       "\t Sierra Leone      & Africa            & 1967              & 34.113            &  2662190          & 1206.0435        \\\\\n",
       "\t Ethiopia          & Africa            & 1952              & 34.078            & 20860941          &  362.1463        \\\\\n",
       "\t Afghanistan       & Asia              & 1967              & 34.020            & 11537966          &  836.1971        \\\\\n",
       "\t Angola            & Africa            & 1962              & 34.000            &  4826015          & 4269.2767        \\\\\n",
       "\t Yemen, Rep.       & Asia              & 1957              & 33.970            &  5498090          &  804.8305        \\\\\n",
       "\t Gambia            & Africa            & 1962              & 33.896            &   374020          &  599.6503        \\\\\n",
       "\t Mozambique        & Africa            & 1957              & 33.779            &  7038035          &  495.5868        \\\\\n",
       "\t Mali              & Africa            & 1952              & 33.685            &  3838168          &  452.3370        \\\\\n",
       "\t Guinea            & Africa            & 1952              & 33.609            &  2664249          &  510.1965        \\\\\n",
       "\t Guinea-Bissau     & Africa            & 1957              & 33.489            &   601095          &  431.7905        \\\\\n",
       "\t Somalia           & Africa            & 1952              & 32.978            &  2526994          & 1135.7498        \\\\\n",
       "\t Sierra Leone      & Africa            & 1962              & 32.767            &  2467895          & 1116.6399        \\\\\n",
       "\t Yemen, Rep.       & Asia              & 1952              & 32.548            &  4963829          &  781.7176        \\\\\n",
       "\t Guinea-Bissau     & Africa            & 1952              & 32.500            &   580653          &  299.8503        \\\\\n",
       "\t Gambia            & Africa            & 1957              & 32.065            &   323150          &  520.9267        \\\\\n",
       "\t Angola            & Africa            & 1957              & 31.999            &  4561361          & 3827.9405        \\\\\n",
       "\t Afghanistan       & Asia              & 1962              & 31.997            & 10267083          &  853.1007        \\\\\n",
       "\t Burkina Faso      & Africa            & 1952              & 31.975            &  4469979          &  543.2552        \\\\\n",
       "\t Sierra Leone      & Africa            & 1957              & 31.570            &  2295678          & 1004.4844        \\\\\n",
       "\t Mozambique        & Africa            & 1952              & 31.286            &  6446316          &  468.5260        \\\\\n",
       "\t Cambodia          & Asia              & 1977              & 31.220            &  6978607          &  524.9722        \\\\\n",
       "\t Afghanistan       & Asia              & 1957              & 30.332            &  9240934          &  820.8530        \\\\\n",
       "\t Sierra Leone      & Africa            & 1952              & 30.331            &  2143249          &  879.7877        \\\\\n",
       "\t Angola            & Africa            & 1952              & 30.015            &  4232095          & 3520.6103        \\\\\n",
       "\t Gambia            & Africa            & 1952              & 30.000            &   284320          &  485.2307        \\\\\n",
       "\t Afghanistan       & Asia              & 1952              & 28.801            &  8425333          &  779.4453        \\\\\n",
       "\t Rwanda            & Africa            & 1992              & 23.599            &  7290203          &  737.0686        \\\\\n",
       "\\end{tabular}\n"
      ],
      "text/markdown": [
       "\n",
       "| country | continent | year | lifeExp | pop | gdpPercap |\n",
       "|---|---|---|---|---|---|\n",
       "| Japan            | Asia             | 2007             | 82.603           | 127467972        | 31656.07         |\n",
       "| Hong Kong, China | Asia             | 2007             | 82.208           |   6980412        | 39724.98         |\n",
       "| Japan            | Asia             | 2002             | 82.000           | 127065841        | 28604.59         |\n",
       "| Iceland          | Europe           | 2007             | 81.757           |    301931        | 36180.79         |\n",
       "| Switzerland      | Europe           | 2007             | 81.701           |   7554661        | 37506.42         |\n",
       "| Hong Kong, China | Asia             | 2002             | 81.495           |   6762476        | 30209.02         |\n",
       "| Australia        | Oceania          | 2007             | 81.235           |  20434176        | 34435.37         |\n",
       "| Spain            | Europe           | 2007             | 80.941           |  40448191        | 28821.06         |\n",
       "| Sweden           | Europe           | 2007             | 80.884           |   9031088        | 33859.75         |\n",
       "| Israel           | Asia             | 2007             | 80.745           |   6426679        | 25523.28         |\n",
       "| Japan            | Asia             | 1997             | 80.690           | 125956499        | 28816.58         |\n",
       "| France           | Europe           | 2007             | 80.657           |  61083916        | 30470.02         |\n",
       "| Canada           | Americas         | 2007             | 80.653           |  33390141        | 36319.24         |\n",
       "| Switzerland      | Europe           | 2002             | 80.620           |   7361757        | 34480.96         |\n",
       "| Italy            | Europe           | 2007             | 80.546           |  58147733        | 28569.72         |\n",
       "| Iceland          | Europe           | 2002             | 80.500           |    288030        | 31163.20         |\n",
       "| Australia        | Oceania          | 2002             | 80.370           |  19546792        | 30687.75         |\n",
       "| Italy            | Europe           | 2002             | 80.240           |  57926999        | 27968.10         |\n",
       "| New Zealand      | Oceania          | 2007             | 80.204           |   4115771        | 25185.01         |\n",
       "| Norway           | Europe           | 2007             | 80.196           |   4627926        | 49357.19         |\n",
       "| Sweden           | Europe           | 2002             | 80.040           |   8954175        | 29341.63         |\n",
       "| Hong Kong, China | Asia             | 1997             | 80.000           |   6495918        | 28377.63         |\n",
       "| Singapore        | Asia             | 2007             | 79.972           |   4553009        | 47143.18         |\n",
       "| Austria          | Europe           | 2007             | 79.829           |   8199783        | 36126.49         |\n",
       "| Spain            | Europe           | 2002             | 79.780           |  40152517        | 24835.47         |\n",
       "| Canada           | Americas         | 2002             | 79.770           |  31902268        | 33328.97         |\n",
       "| Netherlands      | Europe           | 2007             | 79.762           |  16570613        | 36797.93         |\n",
       "| Israel           | Asia             | 2002             | 79.696           |   6029529        | 21905.60         |\n",
       "| France           | Europe           | 2002             | 79.590           |  59925035        | 28926.03         |\n",
       "| Greece           | Europe           | 2007             | 79.483           |  10706290        | 27538.41         |\n",
       "| ... | ... | ... | ... | ... | ... |\n",
       "| Guinea            | Africa            | 1957              | 34.558            |  2876726          |  576.2670         |\n",
       "| Guinea-Bissau     | Africa            | 1962              | 34.488            |   627820          |  522.0344         |\n",
       "| Equatorial Guinea | Africa            | 1952              | 34.482            |   216964          |  375.6431         |\n",
       "| Sierra Leone      | Africa            | 1967              | 34.113            |  2662190          | 1206.0435         |\n",
       "| Ethiopia          | Africa            | 1952              | 34.078            | 20860941          |  362.1463         |\n",
       "| Afghanistan       | Asia              | 1967              | 34.020            | 11537966          |  836.1971         |\n",
       "| Angola            | Africa            | 1962              | 34.000            |  4826015          | 4269.2767         |\n",
       "| Yemen, Rep.       | Asia              | 1957              | 33.970            |  5498090          |  804.8305         |\n",
       "| Gambia            | Africa            | 1962              | 33.896            |   374020          |  599.6503         |\n",
       "| Mozambique        | Africa            | 1957              | 33.779            |  7038035          |  495.5868         |\n",
       "| Mali              | Africa            | 1952              | 33.685            |  3838168          |  452.3370         |\n",
       "| Guinea            | Africa            | 1952              | 33.609            |  2664249          |  510.1965         |\n",
       "| Guinea-Bissau     | Africa            | 1957              | 33.489            |   601095          |  431.7905         |\n",
       "| Somalia           | Africa            | 1952              | 32.978            |  2526994          | 1135.7498         |\n",
       "| Sierra Leone      | Africa            | 1962              | 32.767            |  2467895          | 1116.6399         |\n",
       "| Yemen, Rep.       | Asia              | 1952              | 32.548            |  4963829          |  781.7176         |\n",
       "| Guinea-Bissau     | Africa            | 1952              | 32.500            |   580653          |  299.8503         |\n",
       "| Gambia            | Africa            | 1957              | 32.065            |   323150          |  520.9267         |\n",
       "| Angola            | Africa            | 1957              | 31.999            |  4561361          | 3827.9405         |\n",
       "| Afghanistan       | Asia              | 1962              | 31.997            | 10267083          |  853.1007         |\n",
       "| Burkina Faso      | Africa            | 1952              | 31.975            |  4469979          |  543.2552         |\n",
       "| Sierra Leone      | Africa            | 1957              | 31.570            |  2295678          | 1004.4844         |\n",
       "| Mozambique        | Africa            | 1952              | 31.286            |  6446316          |  468.5260         |\n",
       "| Cambodia          | Asia              | 1977              | 31.220            |  6978607          |  524.9722         |\n",
       "| Afghanistan       | Asia              | 1957              | 30.332            |  9240934          |  820.8530         |\n",
       "| Sierra Leone      | Africa            | 1952              | 30.331            |  2143249          |  879.7877         |\n",
       "| Angola            | Africa            | 1952              | 30.015            |  4232095          | 3520.6103         |\n",
       "| Gambia            | Africa            | 1952              | 30.000            |   284320          |  485.2307         |\n",
       "| Afghanistan       | Asia              | 1952              | 28.801            |  8425333          |  779.4453         |\n",
       "| Rwanda            | Africa            | 1992              | 23.599            |  7290203          |  737.0686         |\n",
       "\n"
      ],
      "text/plain": [
       "     country           continent year lifeExp pop       gdpPercap\n",
       "1    Japan             Asia      2007 82.603  127467972 31656.07 \n",
       "2    Hong Kong, China  Asia      2007 82.208    6980412 39724.98 \n",
       "3    Japan             Asia      2002 82.000  127065841 28604.59 \n",
       "4    Iceland           Europe    2007 81.757     301931 36180.79 \n",
       "5    Switzerland       Europe    2007 81.701    7554661 37506.42 \n",
       "6    Hong Kong, China  Asia      2002 81.495    6762476 30209.02 \n",
       "7    Australia         Oceania   2007 81.235   20434176 34435.37 \n",
       "8    Spain             Europe    2007 80.941   40448191 28821.06 \n",
       "9    Sweden            Europe    2007 80.884    9031088 33859.75 \n",
       "10   Israel            Asia      2007 80.745    6426679 25523.28 \n",
       "11   Japan             Asia      1997 80.690  125956499 28816.58 \n",
       "12   France            Europe    2007 80.657   61083916 30470.02 \n",
       "13   Canada            Americas  2007 80.653   33390141 36319.24 \n",
       "14   Switzerland       Europe    2002 80.620    7361757 34480.96 \n",
       "15   Italy             Europe    2007 80.546   58147733 28569.72 \n",
       "16   Iceland           Europe    2002 80.500     288030 31163.20 \n",
       "17   Australia         Oceania   2002 80.370   19546792 30687.75 \n",
       "18   Italy             Europe    2002 80.240   57926999 27968.10 \n",
       "19   New Zealand       Oceania   2007 80.204    4115771 25185.01 \n",
       "20   Norway            Europe    2007 80.196    4627926 49357.19 \n",
       "21   Sweden            Europe    2002 80.040    8954175 29341.63 \n",
       "22   Hong Kong, China  Asia      1997 80.000    6495918 28377.63 \n",
       "23   Singapore         Asia      2007 79.972    4553009 47143.18 \n",
       "24   Austria           Europe    2007 79.829    8199783 36126.49 \n",
       "25   Spain             Europe    2002 79.780   40152517 24835.47 \n",
       "26   Canada            Americas  2002 79.770   31902268 33328.97 \n",
       "27   Netherlands       Europe    2007 79.762   16570613 36797.93 \n",
       "28   Israel            Asia      2002 79.696    6029529 21905.60 \n",
       "29   France            Europe    2002 79.590   59925035 28926.03 \n",
       "30   Greece            Europe    2007 79.483   10706290 27538.41 \n",
       "...  ...               ...       ...  ...     ...       ...      \n",
       "1675 Guinea            Africa    1957 34.558   2876726   576.2670\n",
       "1676 Guinea-Bissau     Africa    1962 34.488    627820   522.0344\n",
       "1677 Equatorial Guinea Africa    1952 34.482    216964   375.6431\n",
       "1678 Sierra Leone      Africa    1967 34.113   2662190  1206.0435\n",
       "1679 Ethiopia          Africa    1952 34.078  20860941   362.1463\n",
       "1680 Afghanistan       Asia      1967 34.020  11537966   836.1971\n",
       "1681 Angola            Africa    1962 34.000   4826015  4269.2767\n",
       "1682 Yemen, Rep.       Asia      1957 33.970   5498090   804.8305\n",
       "1683 Gambia            Africa    1962 33.896    374020   599.6503\n",
       "1684 Mozambique        Africa    1957 33.779   7038035   495.5868\n",
       "1685 Mali              Africa    1952 33.685   3838168   452.3370\n",
       "1686 Guinea            Africa    1952 33.609   2664249   510.1965\n",
       "1687 Guinea-Bissau     Africa    1957 33.489    601095   431.7905\n",
       "1688 Somalia           Africa    1952 32.978   2526994  1135.7498\n",
       "1689 Sierra Leone      Africa    1962 32.767   2467895  1116.6399\n",
       "1690 Yemen, Rep.       Asia      1952 32.548   4963829   781.7176\n",
       "1691 Guinea-Bissau     Africa    1952 32.500    580653   299.8503\n",
       "1692 Gambia            Africa    1957 32.065    323150   520.9267\n",
       "1693 Angola            Africa    1957 31.999   4561361  3827.9405\n",
       "1694 Afghanistan       Asia      1962 31.997  10267083   853.1007\n",
       "1695 Burkina Faso      Africa    1952 31.975   4469979   543.2552\n",
       "1696 Sierra Leone      Africa    1957 31.570   2295678  1004.4844\n",
       "1697 Mozambique        Africa    1952 31.286   6446316   468.5260\n",
       "1698 Cambodia          Asia      1977 31.220   6978607   524.9722\n",
       "1699 Afghanistan       Asia      1957 30.332   9240934   820.8530\n",
       "1700 Sierra Leone      Africa    1952 30.331   2143249   879.7877\n",
       "1701 Angola            Africa    1952 30.015   4232095  3520.6103\n",
       "1702 Gambia            Africa    1952 30.000    284320   485.2307\n",
       "1703 Afghanistan       Asia      1952 28.801   8425333   779.4453\n",
       "1704 Rwanda            Africa    1992 23.599   7290203   737.0686"
      ]
     },
     "metadata": {},
     "output_type": "display_data"
    }
   ],
   "source": [
    "# Sort in ascending order of lifeExp\n",
    "gapminder %>%\n",
    "  arrange(lifeExp)\n",
    "\n",
    "  \n",
    "# Sort in descending order of lifeExp\n",
    "gapminder %>%\n",
    "  arrange(desc(lifeExp))\n"
   ]
  },
  {
   "cell_type": "code",
   "execution_count": 154,
   "metadata": {},
   "outputs": [
    {
     "data": {
      "text/html": [
       "<table>\n",
       "<thead><tr><th scope=col>country</th><th scope=col>continent</th><th scope=col>year</th><th scope=col>lifeExp</th><th scope=col>pop</th><th scope=col>gdpPercap</th></tr></thead>\n",
       "<tbody>\n",
       "\t<tr><td>China           </td><td>Asia            </td><td>1957            </td><td>50.54896        </td><td>637408000       </td><td>  575.9870      </td></tr>\n",
       "\t<tr><td>India           </td><td>Asia            </td><td>1957            </td><td>40.24900        </td><td>409000000       </td><td>  590.0620      </td></tr>\n",
       "\t<tr><td>United States   </td><td>Americas        </td><td>1957            </td><td>69.49000        </td><td>171984000       </td><td>14847.1271      </td></tr>\n",
       "\t<tr><td>Japan           </td><td>Asia            </td><td>1957            </td><td>65.50000        </td><td> 91563009       </td><td> 4317.6944      </td></tr>\n",
       "\t<tr><td>Indonesia       </td><td>Asia            </td><td>1957            </td><td>39.91800        </td><td> 90124000       </td><td>  858.9003      </td></tr>\n",
       "\t<tr><td>Germany         </td><td>Europe          </td><td>1957            </td><td>69.10000        </td><td> 71019069       </td><td>10187.8267      </td></tr>\n",
       "\t<tr><td>Brazil          </td><td>Americas        </td><td>1957            </td><td>53.28500        </td><td> 65551171       </td><td> 2487.3660      </td></tr>\n",
       "\t<tr><td>United Kingdom  </td><td>Europe          </td><td>1957            </td><td>70.42000        </td><td> 51430000       </td><td>11283.1779      </td></tr>\n",
       "\t<tr><td>Bangladesh      </td><td>Asia            </td><td>1957            </td><td>39.34800        </td><td> 51365468       </td><td>  661.6375      </td></tr>\n",
       "\t<tr><td>Italy           </td><td>Europe          </td><td>1957            </td><td>67.81000        </td><td> 49182000       </td><td> 6248.6562      </td></tr>\n",
       "\t<tr><td>Pakistan        </td><td>Asia            </td><td>1957            </td><td>45.55700        </td><td> 46679944       </td><td>  747.0835      </td></tr>\n",
       "\t<tr><td>France          </td><td>Europe          </td><td>1957            </td><td>68.93000        </td><td> 44310863       </td><td> 8662.8349      </td></tr>\n",
       "\t<tr><td>Nigeria         </td><td>Africa          </td><td>1957            </td><td>37.80200        </td><td> 37173340       </td><td> 1100.5926      </td></tr>\n",
       "\t<tr><td>Mexico          </td><td>Americas        </td><td>1957            </td><td>55.19000        </td><td> 35015548       </td><td> 4131.5466      </td></tr>\n",
       "\t<tr><td>Spain           </td><td>Europe          </td><td>1957            </td><td>66.66000        </td><td> 29841614       </td><td> 4564.8024      </td></tr>\n",
       "\t<tr><td>Vietnam         </td><td>Asia            </td><td>1957            </td><td>42.88700        </td><td> 28998543       </td><td>  676.2854      </td></tr>\n",
       "\t<tr><td>Poland          </td><td>Europe          </td><td>1957            </td><td>65.77000        </td><td> 28235346       </td><td> 4734.2530      </td></tr>\n",
       "\t<tr><td>Philippines     </td><td>Asia            </td><td>1957            </td><td>51.33400        </td><td> 26072194       </td><td> 1547.9448      </td></tr>\n",
       "\t<tr><td>Turkey          </td><td>Europe          </td><td>1957            </td><td>48.07900        </td><td> 25670939       </td><td> 2218.7543      </td></tr>\n",
       "\t<tr><td>Thailand        </td><td>Asia            </td><td>1957            </td><td>53.63000        </td><td> 25041917       </td><td>  793.5774      </td></tr>\n",
       "\t<tr><td>Egypt           </td><td>Africa          </td><td>1957            </td><td>44.44400        </td><td> 25009741       </td><td> 1458.9153      </td></tr>\n",
       "\t<tr><td>Ethiopia        </td><td>Africa          </td><td>1957            </td><td>36.66700        </td><td> 22815614       </td><td>  378.9042      </td></tr>\n",
       "\t<tr><td>Korea, Rep.     </td><td>Asia            </td><td>1957            </td><td>52.68100        </td><td> 22611552       </td><td> 1487.5935      </td></tr>\n",
       "\t<tr><td>Myanmar         </td><td>Asia            </td><td>1957            </td><td>41.90500        </td><td> 21731844       </td><td>  350.0000      </td></tr>\n",
       "\t<tr><td>Iran            </td><td>Asia            </td><td>1957            </td><td>47.18100        </td><td> 19792000       </td><td> 3290.2576      </td></tr>\n",
       "\t<tr><td>Argentina       </td><td>Americas        </td><td>1957            </td><td>64.39900        </td><td> 19610538       </td><td> 6856.8562      </td></tr>\n",
       "\t<tr><td>Romania         </td><td>Europe          </td><td>1957            </td><td>64.10000        </td><td> 17829327       </td><td> 3943.3702      </td></tr>\n",
       "\t<tr><td>Canada          </td><td>Americas        </td><td>1957            </td><td>69.96000        </td><td> 17010154       </td><td>12489.9501      </td></tr>\n",
       "\t<tr><td>South Africa    </td><td>Africa          </td><td>1957            </td><td>47.98500        </td><td> 16151549       </td><td> 5487.1042      </td></tr>\n",
       "\t<tr><td>Congo, Dem. Rep.</td><td>Africa          </td><td>1957            </td><td>40.65200        </td><td> 15577932       </td><td>  905.8602      </td></tr>\n",
       "\t<tr><td>...</td><td>...</td><td>...</td><td>...</td><td>...</td><td>...</td></tr>\n",
       "\t<tr><td>Nicaragua            </td><td>Americas             </td><td>1957                 </td><td>45.432               </td><td>1358828              </td><td>  3457.4159          </td></tr>\n",
       "\t<tr><td>Togo                 </td><td>Africa               </td><td>1957                 </td><td>41.208               </td><td>1357445              </td><td>   925.9083          </td></tr>\n",
       "\t<tr><td>Libya                </td><td>Africa               </td><td>1957                 </td><td>45.289               </td><td>1201578              </td><td>  3448.2844          </td></tr>\n",
       "\t<tr><td>Costa Rica           </td><td>Americas             </td><td>1957                 </td><td>60.026               </td><td>1112300              </td><td>  2990.0108          </td></tr>\n",
       "\t<tr><td>Mauritania           </td><td>Africa               </td><td>1957                 </td><td>42.338               </td><td>1076852              </td><td>   846.1203          </td></tr>\n",
       "\t<tr><td>West Bank and Gaza   </td><td>Asia                 </td><td>1957                 </td><td>45.671               </td><td>1070439              </td><td>  1827.0677          </td></tr>\n",
       "\t<tr><td>Panama               </td><td>Americas             </td><td>1957                 </td><td>59.201               </td><td>1063506              </td><td>  2961.8009          </td></tr>\n",
       "\t<tr><td>Liberia              </td><td>Africa               </td><td>1957                 </td><td>39.486               </td><td> 975950              </td><td>   620.9700          </td></tr>\n",
       "\t<tr><td>Congo, Rep.          </td><td>Africa               </td><td>1957                 </td><td>45.053               </td><td> 940458              </td><td>  2315.0566          </td></tr>\n",
       "\t<tr><td>Mongolia             </td><td>Asia                 </td><td>1957                 </td><td>45.248               </td><td> 882134              </td><td>   912.6626          </td></tr>\n",
       "\t<tr><td>Lesotho              </td><td>Africa               </td><td>1957                 </td><td>45.047               </td><td> 813338              </td><td>   335.9971          </td></tr>\n",
       "\t<tr><td>Trinidad and Tobago  </td><td>Americas             </td><td>1957                 </td><td>61.800               </td><td> 764900              </td><td>  4100.3934          </td></tr>\n",
       "\t<tr><td>Jordan               </td><td>Asia                 </td><td>1957                 </td><td>45.669               </td><td> 746559              </td><td>  1886.0806          </td></tr>\n",
       "\t<tr><td>Mauritius            </td><td>Africa               </td><td>1957                 </td><td>58.089               </td><td> 609816              </td><td>  2034.0380          </td></tr>\n",
       "\t<tr><td>Guinea-Bissau        </td><td>Africa               </td><td>1957                 </td><td>33.489               </td><td> 601095              </td><td>   431.7905          </td></tr>\n",
       "\t<tr><td>Oman                 </td><td>Asia                 </td><td>1957                 </td><td>40.080               </td><td> 561977              </td><td>  2242.7466          </td></tr>\n",
       "\t<tr><td>Namibia              </td><td>Africa               </td><td>1957                 </td><td>45.226               </td><td> 548080              </td><td>  2621.4481          </td></tr>\n",
       "\t<tr><td>Botswana             </td><td>Africa               </td><td>1957                 </td><td>49.618               </td><td> 474639              </td><td>   918.2325          </td></tr>\n",
       "\t<tr><td>Montenegro           </td><td>Europe               </td><td>1957                 </td><td>61.448               </td><td> 442829              </td><td>  3682.2599          </td></tr>\n",
       "\t<tr><td>Gabon                </td><td>Africa               </td><td>1957                 </td><td>38.999               </td><td> 434904              </td><td>  4976.1981          </td></tr>\n",
       "\t<tr><td>Swaziland            </td><td>Africa               </td><td>1957                 </td><td>43.424               </td><td> 326741              </td><td>  1244.7084          </td></tr>\n",
       "\t<tr><td>Gambia               </td><td>Africa               </td><td>1957                 </td><td>32.065               </td><td> 323150              </td><td>   520.9267          </td></tr>\n",
       "\t<tr><td>Reunion              </td><td>Africa               </td><td>1957                 </td><td>55.090               </td><td> 308700              </td><td>  2769.4518          </td></tr>\n",
       "\t<tr><td>Equatorial Guinea    </td><td>Africa               </td><td>1957                 </td><td>35.983               </td><td> 232922              </td><td>   426.0964          </td></tr>\n",
       "\t<tr><td>Kuwait               </td><td>Asia                 </td><td>1957                 </td><td>58.033               </td><td> 212846              </td><td>113523.1329          </td></tr>\n",
       "\t<tr><td>Comoros              </td><td>Africa               </td><td>1957                 </td><td>42.460               </td><td> 170928              </td><td>  1211.1485          </td></tr>\n",
       "\t<tr><td>Iceland              </td><td>Europe               </td><td>1957                 </td><td>73.470               </td><td> 165110              </td><td>  9244.0014          </td></tr>\n",
       "\t<tr><td>Bahrain              </td><td>Asia                 </td><td>1957                 </td><td>53.832               </td><td> 138655              </td><td> 11635.7995          </td></tr>\n",
       "\t<tr><td>Djibouti             </td><td>Africa               </td><td>1957                 </td><td>37.328               </td><td>  71851              </td><td>  2864.9691          </td></tr>\n",
       "\t<tr><td>Sao Tome and Principe</td><td>Africa               </td><td>1957                 </td><td>48.945               </td><td>  61325              </td><td>   860.7369          </td></tr>\n",
       "</tbody>\n",
       "</table>\n"
      ],
      "text/latex": [
       "\\begin{tabular}{r|llllll}\n",
       " country & continent & year & lifeExp & pop & gdpPercap\\\\\n",
       "\\hline\n",
       "\t China            & Asia             & 1957             & 50.54896         & 637408000        &   575.9870      \\\\\n",
       "\t India            & Asia             & 1957             & 40.24900         & 409000000        &   590.0620      \\\\\n",
       "\t United States    & Americas         & 1957             & 69.49000         & 171984000        & 14847.1271      \\\\\n",
       "\t Japan            & Asia             & 1957             & 65.50000         &  91563009        &  4317.6944      \\\\\n",
       "\t Indonesia        & Asia             & 1957             & 39.91800         &  90124000        &   858.9003      \\\\\n",
       "\t Germany          & Europe           & 1957             & 69.10000         &  71019069        & 10187.8267      \\\\\n",
       "\t Brazil           & Americas         & 1957             & 53.28500         &  65551171        &  2487.3660      \\\\\n",
       "\t United Kingdom   & Europe           & 1957             & 70.42000         &  51430000        & 11283.1779      \\\\\n",
       "\t Bangladesh       & Asia             & 1957             & 39.34800         &  51365468        &   661.6375      \\\\\n",
       "\t Italy            & Europe           & 1957             & 67.81000         &  49182000        &  6248.6562      \\\\\n",
       "\t Pakistan         & Asia             & 1957             & 45.55700         &  46679944        &   747.0835      \\\\\n",
       "\t France           & Europe           & 1957             & 68.93000         &  44310863        &  8662.8349      \\\\\n",
       "\t Nigeria          & Africa           & 1957             & 37.80200         &  37173340        &  1100.5926      \\\\\n",
       "\t Mexico           & Americas         & 1957             & 55.19000         &  35015548        &  4131.5466      \\\\\n",
       "\t Spain            & Europe           & 1957             & 66.66000         &  29841614        &  4564.8024      \\\\\n",
       "\t Vietnam          & Asia             & 1957             & 42.88700         &  28998543        &   676.2854      \\\\\n",
       "\t Poland           & Europe           & 1957             & 65.77000         &  28235346        &  4734.2530      \\\\\n",
       "\t Philippines      & Asia             & 1957             & 51.33400         &  26072194        &  1547.9448      \\\\\n",
       "\t Turkey           & Europe           & 1957             & 48.07900         &  25670939        &  2218.7543      \\\\\n",
       "\t Thailand         & Asia             & 1957             & 53.63000         &  25041917        &   793.5774      \\\\\n",
       "\t Egypt            & Africa           & 1957             & 44.44400         &  25009741        &  1458.9153      \\\\\n",
       "\t Ethiopia         & Africa           & 1957             & 36.66700         &  22815614        &   378.9042      \\\\\n",
       "\t Korea, Rep.      & Asia             & 1957             & 52.68100         &  22611552        &  1487.5935      \\\\\n",
       "\t Myanmar          & Asia             & 1957             & 41.90500         &  21731844        &   350.0000      \\\\\n",
       "\t Iran             & Asia             & 1957             & 47.18100         &  19792000        &  3290.2576      \\\\\n",
       "\t Argentina        & Americas         & 1957             & 64.39900         &  19610538        &  6856.8562      \\\\\n",
       "\t Romania          & Europe           & 1957             & 64.10000         &  17829327        &  3943.3702      \\\\\n",
       "\t Canada           & Americas         & 1957             & 69.96000         &  17010154        & 12489.9501      \\\\\n",
       "\t South Africa     & Africa           & 1957             & 47.98500         &  16151549        &  5487.1042      \\\\\n",
       "\t Congo, Dem. Rep. & Africa           & 1957             & 40.65200         &  15577932        &   905.8602      \\\\\n",
       "\t ... & ... & ... & ... & ... & ...\\\\\n",
       "\t Nicaragua             & Americas              & 1957                  & 45.432                & 1358828               &   3457.4159          \\\\\n",
       "\t Togo                  & Africa                & 1957                  & 41.208                & 1357445               &    925.9083          \\\\\n",
       "\t Libya                 & Africa                & 1957                  & 45.289                & 1201578               &   3448.2844          \\\\\n",
       "\t Costa Rica            & Americas              & 1957                  & 60.026                & 1112300               &   2990.0108          \\\\\n",
       "\t Mauritania            & Africa                & 1957                  & 42.338                & 1076852               &    846.1203          \\\\\n",
       "\t West Bank and Gaza    & Asia                  & 1957                  & 45.671                & 1070439               &   1827.0677          \\\\\n",
       "\t Panama                & Americas              & 1957                  & 59.201                & 1063506               &   2961.8009          \\\\\n",
       "\t Liberia               & Africa                & 1957                  & 39.486                &  975950               &    620.9700          \\\\\n",
       "\t Congo, Rep.           & Africa                & 1957                  & 45.053                &  940458               &   2315.0566          \\\\\n",
       "\t Mongolia              & Asia                  & 1957                  & 45.248                &  882134               &    912.6626          \\\\\n",
       "\t Lesotho               & Africa                & 1957                  & 45.047                &  813338               &    335.9971          \\\\\n",
       "\t Trinidad and Tobago   & Americas              & 1957                  & 61.800                &  764900               &   4100.3934          \\\\\n",
       "\t Jordan                & Asia                  & 1957                  & 45.669                &  746559               &   1886.0806          \\\\\n",
       "\t Mauritius             & Africa                & 1957                  & 58.089                &  609816               &   2034.0380          \\\\\n",
       "\t Guinea-Bissau         & Africa                & 1957                  & 33.489                &  601095               &    431.7905          \\\\\n",
       "\t Oman                  & Asia                  & 1957                  & 40.080                &  561977               &   2242.7466          \\\\\n",
       "\t Namibia               & Africa                & 1957                  & 45.226                &  548080               &   2621.4481          \\\\\n",
       "\t Botswana              & Africa                & 1957                  & 49.618                &  474639               &    918.2325          \\\\\n",
       "\t Montenegro            & Europe                & 1957                  & 61.448                &  442829               &   3682.2599          \\\\\n",
       "\t Gabon                 & Africa                & 1957                  & 38.999                &  434904               &   4976.1981          \\\\\n",
       "\t Swaziland             & Africa                & 1957                  & 43.424                &  326741               &   1244.7084          \\\\\n",
       "\t Gambia                & Africa                & 1957                  & 32.065                &  323150               &    520.9267          \\\\\n",
       "\t Reunion               & Africa                & 1957                  & 55.090                &  308700               &   2769.4518          \\\\\n",
       "\t Equatorial Guinea     & Africa                & 1957                  & 35.983                &  232922               &    426.0964          \\\\\n",
       "\t Kuwait                & Asia                  & 1957                  & 58.033                &  212846               & 113523.1329          \\\\\n",
       "\t Comoros               & Africa                & 1957                  & 42.460                &  170928               &   1211.1485          \\\\\n",
       "\t Iceland               & Europe                & 1957                  & 73.470                &  165110               &   9244.0014          \\\\\n",
       "\t Bahrain               & Asia                  & 1957                  & 53.832                &  138655               &  11635.7995          \\\\\n",
       "\t Djibouti              & Africa                & 1957                  & 37.328                &   71851               &   2864.9691          \\\\\n",
       "\t Sao Tome and Principe & Africa                & 1957                  & 48.945                &   61325               &    860.7369          \\\\\n",
       "\\end{tabular}\n"
      ],
      "text/markdown": [
       "\n",
       "| country | continent | year | lifeExp | pop | gdpPercap |\n",
       "|---|---|---|---|---|---|\n",
       "| China            | Asia             | 1957             | 50.54896         | 637408000        |   575.9870       |\n",
       "| India            | Asia             | 1957             | 40.24900         | 409000000        |   590.0620       |\n",
       "| United States    | Americas         | 1957             | 69.49000         | 171984000        | 14847.1271       |\n",
       "| Japan            | Asia             | 1957             | 65.50000         |  91563009        |  4317.6944       |\n",
       "| Indonesia        | Asia             | 1957             | 39.91800         |  90124000        |   858.9003       |\n",
       "| Germany          | Europe           | 1957             | 69.10000         |  71019069        | 10187.8267       |\n",
       "| Brazil           | Americas         | 1957             | 53.28500         |  65551171        |  2487.3660       |\n",
       "| United Kingdom   | Europe           | 1957             | 70.42000         |  51430000        | 11283.1779       |\n",
       "| Bangladesh       | Asia             | 1957             | 39.34800         |  51365468        |   661.6375       |\n",
       "| Italy            | Europe           | 1957             | 67.81000         |  49182000        |  6248.6562       |\n",
       "| Pakistan         | Asia             | 1957             | 45.55700         |  46679944        |   747.0835       |\n",
       "| France           | Europe           | 1957             | 68.93000         |  44310863        |  8662.8349       |\n",
       "| Nigeria          | Africa           | 1957             | 37.80200         |  37173340        |  1100.5926       |\n",
       "| Mexico           | Americas         | 1957             | 55.19000         |  35015548        |  4131.5466       |\n",
       "| Spain            | Europe           | 1957             | 66.66000         |  29841614        |  4564.8024       |\n",
       "| Vietnam          | Asia             | 1957             | 42.88700         |  28998543        |   676.2854       |\n",
       "| Poland           | Europe           | 1957             | 65.77000         |  28235346        |  4734.2530       |\n",
       "| Philippines      | Asia             | 1957             | 51.33400         |  26072194        |  1547.9448       |\n",
       "| Turkey           | Europe           | 1957             | 48.07900         |  25670939        |  2218.7543       |\n",
       "| Thailand         | Asia             | 1957             | 53.63000         |  25041917        |   793.5774       |\n",
       "| Egypt            | Africa           | 1957             | 44.44400         |  25009741        |  1458.9153       |\n",
       "| Ethiopia         | Africa           | 1957             | 36.66700         |  22815614        |   378.9042       |\n",
       "| Korea, Rep.      | Asia             | 1957             | 52.68100         |  22611552        |  1487.5935       |\n",
       "| Myanmar          | Asia             | 1957             | 41.90500         |  21731844        |   350.0000       |\n",
       "| Iran             | Asia             | 1957             | 47.18100         |  19792000        |  3290.2576       |\n",
       "| Argentina        | Americas         | 1957             | 64.39900         |  19610538        |  6856.8562       |\n",
       "| Romania          | Europe           | 1957             | 64.10000         |  17829327        |  3943.3702       |\n",
       "| Canada           | Americas         | 1957             | 69.96000         |  17010154        | 12489.9501       |\n",
       "| South Africa     | Africa           | 1957             | 47.98500         |  16151549        |  5487.1042       |\n",
       "| Congo, Dem. Rep. | Africa           | 1957             | 40.65200         |  15577932        |   905.8602       |\n",
       "| ... | ... | ... | ... | ... | ... |\n",
       "| Nicaragua             | Americas              | 1957                  | 45.432                | 1358828               |   3457.4159           |\n",
       "| Togo                  | Africa                | 1957                  | 41.208                | 1357445               |    925.9083           |\n",
       "| Libya                 | Africa                | 1957                  | 45.289                | 1201578               |   3448.2844           |\n",
       "| Costa Rica            | Americas              | 1957                  | 60.026                | 1112300               |   2990.0108           |\n",
       "| Mauritania            | Africa                | 1957                  | 42.338                | 1076852               |    846.1203           |\n",
       "| West Bank and Gaza    | Asia                  | 1957                  | 45.671                | 1070439               |   1827.0677           |\n",
       "| Panama                | Americas              | 1957                  | 59.201                | 1063506               |   2961.8009           |\n",
       "| Liberia               | Africa                | 1957                  | 39.486                |  975950               |    620.9700           |\n",
       "| Congo, Rep.           | Africa                | 1957                  | 45.053                |  940458               |   2315.0566           |\n",
       "| Mongolia              | Asia                  | 1957                  | 45.248                |  882134               |    912.6626           |\n",
       "| Lesotho               | Africa                | 1957                  | 45.047                |  813338               |    335.9971           |\n",
       "| Trinidad and Tobago   | Americas              | 1957                  | 61.800                |  764900               |   4100.3934           |\n",
       "| Jordan                | Asia                  | 1957                  | 45.669                |  746559               |   1886.0806           |\n",
       "| Mauritius             | Africa                | 1957                  | 58.089                |  609816               |   2034.0380           |\n",
       "| Guinea-Bissau         | Africa                | 1957                  | 33.489                |  601095               |    431.7905           |\n",
       "| Oman                  | Asia                  | 1957                  | 40.080                |  561977               |   2242.7466           |\n",
       "| Namibia               | Africa                | 1957                  | 45.226                |  548080               |   2621.4481           |\n",
       "| Botswana              | Africa                | 1957                  | 49.618                |  474639               |    918.2325           |\n",
       "| Montenegro            | Europe                | 1957                  | 61.448                |  442829               |   3682.2599           |\n",
       "| Gabon                 | Africa                | 1957                  | 38.999                |  434904               |   4976.1981           |\n",
       "| Swaziland             | Africa                | 1957                  | 43.424                |  326741               |   1244.7084           |\n",
       "| Gambia                | Africa                | 1957                  | 32.065                |  323150               |    520.9267           |\n",
       "| Reunion               | Africa                | 1957                  | 55.090                |  308700               |   2769.4518           |\n",
       "| Equatorial Guinea     | Africa                | 1957                  | 35.983                |  232922               |    426.0964           |\n",
       "| Kuwait                | Asia                  | 1957                  | 58.033                |  212846               | 113523.1329           |\n",
       "| Comoros               | Africa                | 1957                  | 42.460                |  170928               |   1211.1485           |\n",
       "| Iceland               | Europe                | 1957                  | 73.470                |  165110               |   9244.0014           |\n",
       "| Bahrain               | Asia                  | 1957                  | 53.832                |  138655               |  11635.7995           |\n",
       "| Djibouti              | Africa                | 1957                  | 37.328                |   71851               |   2864.9691           |\n",
       "| Sao Tome and Principe | Africa                | 1957                  | 48.945                |   61325               |    860.7369           |\n",
       "\n"
      ],
      "text/plain": [
       "    country               continent year lifeExp  pop       gdpPercap  \n",
       "1   China                 Asia      1957 50.54896 637408000   575.9870 \n",
       "2   India                 Asia      1957 40.24900 409000000   590.0620 \n",
       "3   United States         Americas  1957 69.49000 171984000 14847.1271 \n",
       "4   Japan                 Asia      1957 65.50000  91563009  4317.6944 \n",
       "5   Indonesia             Asia      1957 39.91800  90124000   858.9003 \n",
       "6   Germany               Europe    1957 69.10000  71019069 10187.8267 \n",
       "7   Brazil                Americas  1957 53.28500  65551171  2487.3660 \n",
       "8   United Kingdom        Europe    1957 70.42000  51430000 11283.1779 \n",
       "9   Bangladesh            Asia      1957 39.34800  51365468   661.6375 \n",
       "10  Italy                 Europe    1957 67.81000  49182000  6248.6562 \n",
       "11  Pakistan              Asia      1957 45.55700  46679944   747.0835 \n",
       "12  France                Europe    1957 68.93000  44310863  8662.8349 \n",
       "13  Nigeria               Africa    1957 37.80200  37173340  1100.5926 \n",
       "14  Mexico                Americas  1957 55.19000  35015548  4131.5466 \n",
       "15  Spain                 Europe    1957 66.66000  29841614  4564.8024 \n",
       "16  Vietnam               Asia      1957 42.88700  28998543   676.2854 \n",
       "17  Poland                Europe    1957 65.77000  28235346  4734.2530 \n",
       "18  Philippines           Asia      1957 51.33400  26072194  1547.9448 \n",
       "19  Turkey                Europe    1957 48.07900  25670939  2218.7543 \n",
       "20  Thailand              Asia      1957 53.63000  25041917   793.5774 \n",
       "21  Egypt                 Africa    1957 44.44400  25009741  1458.9153 \n",
       "22  Ethiopia              Africa    1957 36.66700  22815614   378.9042 \n",
       "23  Korea, Rep.           Asia      1957 52.68100  22611552  1487.5935 \n",
       "24  Myanmar               Asia      1957 41.90500  21731844   350.0000 \n",
       "25  Iran                  Asia      1957 47.18100  19792000  3290.2576 \n",
       "26  Argentina             Americas  1957 64.39900  19610538  6856.8562 \n",
       "27  Romania               Europe    1957 64.10000  17829327  3943.3702 \n",
       "28  Canada                Americas  1957 69.96000  17010154 12489.9501 \n",
       "29  South Africa          Africa    1957 47.98500  16151549  5487.1042 \n",
       "30  Congo, Dem. Rep.      Africa    1957 40.65200  15577932   905.8602 \n",
       "... ...                   ...       ...  ...      ...       ...        \n",
       "113 Nicaragua             Americas  1957 45.432   1358828     3457.4159\n",
       "114 Togo                  Africa    1957 41.208   1357445      925.9083\n",
       "115 Libya                 Africa    1957 45.289   1201578     3448.2844\n",
       "116 Costa Rica            Americas  1957 60.026   1112300     2990.0108\n",
       "117 Mauritania            Africa    1957 42.338   1076852      846.1203\n",
       "118 West Bank and Gaza    Asia      1957 45.671   1070439     1827.0677\n",
       "119 Panama                Americas  1957 59.201   1063506     2961.8009\n",
       "120 Liberia               Africa    1957 39.486    975950      620.9700\n",
       "121 Congo, Rep.           Africa    1957 45.053    940458     2315.0566\n",
       "122 Mongolia              Asia      1957 45.248    882134      912.6626\n",
       "123 Lesotho               Africa    1957 45.047    813338      335.9971\n",
       "124 Trinidad and Tobago   Americas  1957 61.800    764900     4100.3934\n",
       "125 Jordan                Asia      1957 45.669    746559     1886.0806\n",
       "126 Mauritius             Africa    1957 58.089    609816     2034.0380\n",
       "127 Guinea-Bissau         Africa    1957 33.489    601095      431.7905\n",
       "128 Oman                  Asia      1957 40.080    561977     2242.7466\n",
       "129 Namibia               Africa    1957 45.226    548080     2621.4481\n",
       "130 Botswana              Africa    1957 49.618    474639      918.2325\n",
       "131 Montenegro            Europe    1957 61.448    442829     3682.2599\n",
       "132 Gabon                 Africa    1957 38.999    434904     4976.1981\n",
       "133 Swaziland             Africa    1957 43.424    326741     1244.7084\n",
       "134 Gambia                Africa    1957 32.065    323150      520.9267\n",
       "135 Reunion               Africa    1957 55.090    308700     2769.4518\n",
       "136 Equatorial Guinea     Africa    1957 35.983    232922      426.0964\n",
       "137 Kuwait                Asia      1957 58.033    212846   113523.1329\n",
       "138 Comoros               Africa    1957 42.460    170928     1211.1485\n",
       "139 Iceland               Europe    1957 73.470    165110     9244.0014\n",
       "140 Bahrain               Asia      1957 53.832    138655    11635.7995\n",
       "141 Djibouti              Africa    1957 37.328     71851     2864.9691\n",
       "142 Sao Tome and Principe Africa    1957 48.945     61325      860.7369"
      ]
     },
     "metadata": {},
     "output_type": "display_data"
    }
   ],
   "source": [
    "# Filter for the year 1957, then arrange in descending order of population\n",
    "gapminder %>%\n",
    "  filter(year==1957) %>%\n",
    "    arrange(desc(pop))"
   ]
  },
  {
   "cell_type": "code",
   "execution_count": 155,
   "metadata": {},
   "outputs": [
    {
     "data": {
      "text/html": [
       "<table>\n",
       "<thead><tr><th scope=col>country</th><th scope=col>continent</th><th scope=col>year</th><th scope=col>lifeExp</th><th scope=col>pop</th><th scope=col>gdpPercap</th></tr></thead>\n",
       "<tbody>\n",
       "\t<tr><td>Afghanistan</td><td>Asia       </td><td>1952       </td><td>345.612    </td><td> 8425333   </td><td> 779.4453  </td></tr>\n",
       "\t<tr><td>Afghanistan</td><td>Asia       </td><td>1957       </td><td>363.984    </td><td> 9240934   </td><td> 820.8530  </td></tr>\n",
       "\t<tr><td>Afghanistan</td><td>Asia       </td><td>1962       </td><td>383.964    </td><td>10267083   </td><td> 853.1007  </td></tr>\n",
       "\t<tr><td>Afghanistan</td><td>Asia       </td><td>1967       </td><td>408.240    </td><td>11537966   </td><td> 836.1971  </td></tr>\n",
       "\t<tr><td>Afghanistan</td><td>Asia       </td><td>1972       </td><td>433.056    </td><td>13079460   </td><td> 739.9811  </td></tr>\n",
       "\t<tr><td>Afghanistan</td><td>Asia       </td><td>1977       </td><td>461.256    </td><td>14880372   </td><td> 786.1134  </td></tr>\n",
       "\t<tr><td>Afghanistan</td><td>Asia       </td><td>1982       </td><td>478.248    </td><td>12881816   </td><td> 978.0114  </td></tr>\n",
       "\t<tr><td>Afghanistan</td><td>Asia       </td><td>1987       </td><td>489.864    </td><td>13867957   </td><td> 852.3959  </td></tr>\n",
       "\t<tr><td>Afghanistan</td><td>Asia       </td><td>1992       </td><td>500.088    </td><td>16317921   </td><td> 649.3414  </td></tr>\n",
       "\t<tr><td>Afghanistan</td><td>Asia       </td><td>1997       </td><td>501.156    </td><td>22227415   </td><td> 635.3414  </td></tr>\n",
       "\t<tr><td>Afghanistan</td><td>Asia       </td><td>2002       </td><td>505.548    </td><td>25268405   </td><td> 726.7341  </td></tr>\n",
       "\t<tr><td>Afghanistan</td><td>Asia       </td><td>2007       </td><td>525.936    </td><td>31889923   </td><td> 974.5803  </td></tr>\n",
       "\t<tr><td>Albania    </td><td>Europe     </td><td>1952       </td><td>662.760    </td><td> 1282697   </td><td>1601.0561  </td></tr>\n",
       "\t<tr><td>Albania    </td><td>Europe     </td><td>1957       </td><td>711.360    </td><td> 1476505   </td><td>1942.2842  </td></tr>\n",
       "\t<tr><td>Albania    </td><td>Europe     </td><td>1962       </td><td>777.840    </td><td> 1728137   </td><td>2312.8890  </td></tr>\n",
       "\t<tr><td>Albania    </td><td>Europe     </td><td>1967       </td><td>794.640    </td><td> 1984060   </td><td>2760.1969  </td></tr>\n",
       "\t<tr><td>Albania    </td><td>Europe     </td><td>1972       </td><td>812.280    </td><td> 2263554   </td><td>3313.4222  </td></tr>\n",
       "\t<tr><td>Albania    </td><td>Europe     </td><td>1977       </td><td>827.160    </td><td> 2509048   </td><td>3533.0039  </td></tr>\n",
       "\t<tr><td>Albania    </td><td>Europe     </td><td>1982       </td><td>845.040    </td><td> 2780097   </td><td>3630.8807  </td></tr>\n",
       "\t<tr><td>Albania    </td><td>Europe     </td><td>1987       </td><td>864.000    </td><td> 3075321   </td><td>3738.9327  </td></tr>\n",
       "\t<tr><td>Albania    </td><td>Europe     </td><td>1992       </td><td>858.972    </td><td> 3326498   </td><td>2497.4379  </td></tr>\n",
       "\t<tr><td>Albania    </td><td>Europe     </td><td>1997       </td><td>875.400    </td><td> 3428038   </td><td>3193.0546  </td></tr>\n",
       "\t<tr><td>Albania    </td><td>Europe     </td><td>2002       </td><td>907.812    </td><td> 3508512   </td><td>4604.2117  </td></tr>\n",
       "\t<tr><td>Albania    </td><td>Europe     </td><td>2007       </td><td>917.076    </td><td> 3600523   </td><td>5937.0295  </td></tr>\n",
       "\t<tr><td>Algeria    </td><td>Africa     </td><td>1952       </td><td>516.924    </td><td> 9279525   </td><td>2449.0082  </td></tr>\n",
       "\t<tr><td>Algeria    </td><td>Africa     </td><td>1957       </td><td>548.220    </td><td>10270856   </td><td>3013.9760  </td></tr>\n",
       "\t<tr><td>Algeria    </td><td>Africa     </td><td>1962       </td><td>579.636    </td><td>11000948   </td><td>2550.8169  </td></tr>\n",
       "\t<tr><td>Algeria    </td><td>Africa     </td><td>1967       </td><td>616.884    </td><td>12760499   </td><td>3246.9918  </td></tr>\n",
       "\t<tr><td>Algeria    </td><td>Africa     </td><td>1972       </td><td>654.216    </td><td>14760787   </td><td>4182.6638  </td></tr>\n",
       "\t<tr><td>Algeria    </td><td>Africa     </td><td>1977       </td><td>696.168    </td><td>17152804   </td><td>4910.4168  </td></tr>\n",
       "\t<tr><td>...</td><td>...</td><td>...</td><td>...</td><td>...</td><td>...</td></tr>\n",
       "\t<tr><td>Yemen, Rep.</td><td>Asia       </td><td>1982       </td><td>589.356    </td><td> 9657618   </td><td>1977.5570  </td></tr>\n",
       "\t<tr><td>Yemen, Rep.</td><td>Asia       </td><td>1987       </td><td>635.064    </td><td>11219340   </td><td>1971.7415  </td></tr>\n",
       "\t<tr><td>Yemen, Rep.</td><td>Asia       </td><td>1992       </td><td>667.188    </td><td>13367997   </td><td>1879.4967  </td></tr>\n",
       "\t<tr><td>Yemen, Rep.</td><td>Asia       </td><td>1997       </td><td>696.240    </td><td>15826497   </td><td>2117.4845  </td></tr>\n",
       "\t<tr><td>Yemen, Rep.</td><td>Asia       </td><td>2002       </td><td>723.696    </td><td>18701257   </td><td>2234.8208  </td></tr>\n",
       "\t<tr><td>Yemen, Rep.</td><td>Asia       </td><td>2007       </td><td>752.376    </td><td>22211743   </td><td>2280.7699  </td></tr>\n",
       "\t<tr><td>Zambia     </td><td>Africa     </td><td>1952       </td><td>504.456    </td><td> 2672000   </td><td>1147.3888  </td></tr>\n",
       "\t<tr><td>Zambia     </td><td>Africa     </td><td>1957       </td><td>528.924    </td><td> 3016000   </td><td>1311.9568  </td></tr>\n",
       "\t<tr><td>Zambia     </td><td>Africa     </td><td>1962       </td><td>552.276    </td><td> 3421000   </td><td>1452.7258  </td></tr>\n",
       "\t<tr><td>Zambia     </td><td>Africa     </td><td>1967       </td><td>573.216    </td><td> 3900000   </td><td>1777.0773  </td></tr>\n",
       "\t<tr><td>Zambia     </td><td>Africa     </td><td>1972       </td><td>601.284    </td><td> 4506497   </td><td>1773.4983  </td></tr>\n",
       "\t<tr><td>Zambia     </td><td>Africa     </td><td>1977       </td><td>616.632    </td><td> 5216550   </td><td>1588.6883  </td></tr>\n",
       "\t<tr><td>Zambia     </td><td>Africa     </td><td>1982       </td><td>621.852    </td><td> 6100407   </td><td>1408.6786  </td></tr>\n",
       "\t<tr><td>Zambia     </td><td>Africa     </td><td>1987       </td><td>609.852    </td><td> 7272406   </td><td>1213.3151  </td></tr>\n",
       "\t<tr><td>Zambia     </td><td>Africa     </td><td>1992       </td><td>553.200    </td><td> 8381163   </td><td>1210.8846  </td></tr>\n",
       "\t<tr><td>Zambia     </td><td>Africa     </td><td>1997       </td><td>482.856    </td><td> 9417789   </td><td>1071.3538  </td></tr>\n",
       "\t<tr><td>Zambia     </td><td>Africa     </td><td>2002       </td><td>470.316    </td><td>10595811   </td><td>1071.6139  </td></tr>\n",
       "\t<tr><td>Zambia     </td><td>Africa     </td><td>2007       </td><td>508.608    </td><td>11746035   </td><td>1271.2116  </td></tr>\n",
       "\t<tr><td>Zimbabwe   </td><td>Africa     </td><td>1952       </td><td>581.412    </td><td> 3080907   </td><td> 406.8841  </td></tr>\n",
       "\t<tr><td>Zimbabwe   </td><td>Africa     </td><td>1957       </td><td>605.628    </td><td> 3646340   </td><td> 518.7643  </td></tr>\n",
       "\t<tr><td>Zimbabwe   </td><td>Africa     </td><td>1962       </td><td>628.296    </td><td> 4277736   </td><td> 527.2722  </td></tr>\n",
       "\t<tr><td>Zimbabwe   </td><td>Africa     </td><td>1967       </td><td>647.940    </td><td> 4995432   </td><td> 569.7951  </td></tr>\n",
       "\t<tr><td>Zimbabwe   </td><td>Africa     </td><td>1972       </td><td>667.620    </td><td> 5861135   </td><td> 799.3622  </td></tr>\n",
       "\t<tr><td>Zimbabwe   </td><td>Africa     </td><td>1977       </td><td>692.088    </td><td> 6642107   </td><td> 685.5877  </td></tr>\n",
       "\t<tr><td>Zimbabwe   </td><td>Africa     </td><td>1982       </td><td>724.356    </td><td> 7636524   </td><td> 788.8550  </td></tr>\n",
       "\t<tr><td>Zimbabwe   </td><td>Africa     </td><td>1987       </td><td>748.212    </td><td> 9216418   </td><td> 706.1573  </td></tr>\n",
       "\t<tr><td>Zimbabwe   </td><td>Africa     </td><td>1992       </td><td>724.524    </td><td>10704340   </td><td> 693.4208  </td></tr>\n",
       "\t<tr><td>Zimbabwe   </td><td>Africa     </td><td>1997       </td><td>561.708    </td><td>11404948   </td><td> 792.4500  </td></tr>\n",
       "\t<tr><td>Zimbabwe   </td><td>Africa     </td><td>2002       </td><td>479.868    </td><td>11926563   </td><td> 672.0386  </td></tr>\n",
       "\t<tr><td>Zimbabwe   </td><td>Africa     </td><td>2007       </td><td>521.844    </td><td>12311143   </td><td> 469.7093  </td></tr>\n",
       "</tbody>\n",
       "</table>\n"
      ],
      "text/latex": [
       "\\begin{tabular}{r|llllll}\n",
       " country & continent & year & lifeExp & pop & gdpPercap\\\\\n",
       "\\hline\n",
       "\t Afghanistan & Asia        & 1952        & 345.612     &  8425333    &  779.4453  \\\\\n",
       "\t Afghanistan & Asia        & 1957        & 363.984     &  9240934    &  820.8530  \\\\\n",
       "\t Afghanistan & Asia        & 1962        & 383.964     & 10267083    &  853.1007  \\\\\n",
       "\t Afghanistan & Asia        & 1967        & 408.240     & 11537966    &  836.1971  \\\\\n",
       "\t Afghanistan & Asia        & 1972        & 433.056     & 13079460    &  739.9811  \\\\\n",
       "\t Afghanistan & Asia        & 1977        & 461.256     & 14880372    &  786.1134  \\\\\n",
       "\t Afghanistan & Asia        & 1982        & 478.248     & 12881816    &  978.0114  \\\\\n",
       "\t Afghanistan & Asia        & 1987        & 489.864     & 13867957    &  852.3959  \\\\\n",
       "\t Afghanistan & Asia        & 1992        & 500.088     & 16317921    &  649.3414  \\\\\n",
       "\t Afghanistan & Asia        & 1997        & 501.156     & 22227415    &  635.3414  \\\\\n",
       "\t Afghanistan & Asia        & 2002        & 505.548     & 25268405    &  726.7341  \\\\\n",
       "\t Afghanistan & Asia        & 2007        & 525.936     & 31889923    &  974.5803  \\\\\n",
       "\t Albania     & Europe      & 1952        & 662.760     &  1282697    & 1601.0561  \\\\\n",
       "\t Albania     & Europe      & 1957        & 711.360     &  1476505    & 1942.2842  \\\\\n",
       "\t Albania     & Europe      & 1962        & 777.840     &  1728137    & 2312.8890  \\\\\n",
       "\t Albania     & Europe      & 1967        & 794.640     &  1984060    & 2760.1969  \\\\\n",
       "\t Albania     & Europe      & 1972        & 812.280     &  2263554    & 3313.4222  \\\\\n",
       "\t Albania     & Europe      & 1977        & 827.160     &  2509048    & 3533.0039  \\\\\n",
       "\t Albania     & Europe      & 1982        & 845.040     &  2780097    & 3630.8807  \\\\\n",
       "\t Albania     & Europe      & 1987        & 864.000     &  3075321    & 3738.9327  \\\\\n",
       "\t Albania     & Europe      & 1992        & 858.972     &  3326498    & 2497.4379  \\\\\n",
       "\t Albania     & Europe      & 1997        & 875.400     &  3428038    & 3193.0546  \\\\\n",
       "\t Albania     & Europe      & 2002        & 907.812     &  3508512    & 4604.2117  \\\\\n",
       "\t Albania     & Europe      & 2007        & 917.076     &  3600523    & 5937.0295  \\\\\n",
       "\t Algeria     & Africa      & 1952        & 516.924     &  9279525    & 2449.0082  \\\\\n",
       "\t Algeria     & Africa      & 1957        & 548.220     & 10270856    & 3013.9760  \\\\\n",
       "\t Algeria     & Africa      & 1962        & 579.636     & 11000948    & 2550.8169  \\\\\n",
       "\t Algeria     & Africa      & 1967        & 616.884     & 12760499    & 3246.9918  \\\\\n",
       "\t Algeria     & Africa      & 1972        & 654.216     & 14760787    & 4182.6638  \\\\\n",
       "\t Algeria     & Africa      & 1977        & 696.168     & 17152804    & 4910.4168  \\\\\n",
       "\t ... & ... & ... & ... & ... & ...\\\\\n",
       "\t Yemen, Rep. & Asia        & 1982        & 589.356     &  9657618    & 1977.5570  \\\\\n",
       "\t Yemen, Rep. & Asia        & 1987        & 635.064     & 11219340    & 1971.7415  \\\\\n",
       "\t Yemen, Rep. & Asia        & 1992        & 667.188     & 13367997    & 1879.4967  \\\\\n",
       "\t Yemen, Rep. & Asia        & 1997        & 696.240     & 15826497    & 2117.4845  \\\\\n",
       "\t Yemen, Rep. & Asia        & 2002        & 723.696     & 18701257    & 2234.8208  \\\\\n",
       "\t Yemen, Rep. & Asia        & 2007        & 752.376     & 22211743    & 2280.7699  \\\\\n",
       "\t Zambia      & Africa      & 1952        & 504.456     &  2672000    & 1147.3888  \\\\\n",
       "\t Zambia      & Africa      & 1957        & 528.924     &  3016000    & 1311.9568  \\\\\n",
       "\t Zambia      & Africa      & 1962        & 552.276     &  3421000    & 1452.7258  \\\\\n",
       "\t Zambia      & Africa      & 1967        & 573.216     &  3900000    & 1777.0773  \\\\\n",
       "\t Zambia      & Africa      & 1972        & 601.284     &  4506497    & 1773.4983  \\\\\n",
       "\t Zambia      & Africa      & 1977        & 616.632     &  5216550    & 1588.6883  \\\\\n",
       "\t Zambia      & Africa      & 1982        & 621.852     &  6100407    & 1408.6786  \\\\\n",
       "\t Zambia      & Africa      & 1987        & 609.852     &  7272406    & 1213.3151  \\\\\n",
       "\t Zambia      & Africa      & 1992        & 553.200     &  8381163    & 1210.8846  \\\\\n",
       "\t Zambia      & Africa      & 1997        & 482.856     &  9417789    & 1071.3538  \\\\\n",
       "\t Zambia      & Africa      & 2002        & 470.316     & 10595811    & 1071.6139  \\\\\n",
       "\t Zambia      & Africa      & 2007        & 508.608     & 11746035    & 1271.2116  \\\\\n",
       "\t Zimbabwe    & Africa      & 1952        & 581.412     &  3080907    &  406.8841  \\\\\n",
       "\t Zimbabwe    & Africa      & 1957        & 605.628     &  3646340    &  518.7643  \\\\\n",
       "\t Zimbabwe    & Africa      & 1962        & 628.296     &  4277736    &  527.2722  \\\\\n",
       "\t Zimbabwe    & Africa      & 1967        & 647.940     &  4995432    &  569.7951  \\\\\n",
       "\t Zimbabwe    & Africa      & 1972        & 667.620     &  5861135    &  799.3622  \\\\\n",
       "\t Zimbabwe    & Africa      & 1977        & 692.088     &  6642107    &  685.5877  \\\\\n",
       "\t Zimbabwe    & Africa      & 1982        & 724.356     &  7636524    &  788.8550  \\\\\n",
       "\t Zimbabwe    & Africa      & 1987        & 748.212     &  9216418    &  706.1573  \\\\\n",
       "\t Zimbabwe    & Africa      & 1992        & 724.524     & 10704340    &  693.4208  \\\\\n",
       "\t Zimbabwe    & Africa      & 1997        & 561.708     & 11404948    &  792.4500  \\\\\n",
       "\t Zimbabwe    & Africa      & 2002        & 479.868     & 11926563    &  672.0386  \\\\\n",
       "\t Zimbabwe    & Africa      & 2007        & 521.844     & 12311143    &  469.7093  \\\\\n",
       "\\end{tabular}\n"
      ],
      "text/markdown": [
       "\n",
       "| country | continent | year | lifeExp | pop | gdpPercap |\n",
       "|---|---|---|---|---|---|\n",
       "| Afghanistan | Asia        | 1952        | 345.612     |  8425333    |  779.4453   |\n",
       "| Afghanistan | Asia        | 1957        | 363.984     |  9240934    |  820.8530   |\n",
       "| Afghanistan | Asia        | 1962        | 383.964     | 10267083    |  853.1007   |\n",
       "| Afghanistan | Asia        | 1967        | 408.240     | 11537966    |  836.1971   |\n",
       "| Afghanistan | Asia        | 1972        | 433.056     | 13079460    |  739.9811   |\n",
       "| Afghanistan | Asia        | 1977        | 461.256     | 14880372    |  786.1134   |\n",
       "| Afghanistan | Asia        | 1982        | 478.248     | 12881816    |  978.0114   |\n",
       "| Afghanistan | Asia        | 1987        | 489.864     | 13867957    |  852.3959   |\n",
       "| Afghanistan | Asia        | 1992        | 500.088     | 16317921    |  649.3414   |\n",
       "| Afghanistan | Asia        | 1997        | 501.156     | 22227415    |  635.3414   |\n",
       "| Afghanistan | Asia        | 2002        | 505.548     | 25268405    |  726.7341   |\n",
       "| Afghanistan | Asia        | 2007        | 525.936     | 31889923    |  974.5803   |\n",
       "| Albania     | Europe      | 1952        | 662.760     |  1282697    | 1601.0561   |\n",
       "| Albania     | Europe      | 1957        | 711.360     |  1476505    | 1942.2842   |\n",
       "| Albania     | Europe      | 1962        | 777.840     |  1728137    | 2312.8890   |\n",
       "| Albania     | Europe      | 1967        | 794.640     |  1984060    | 2760.1969   |\n",
       "| Albania     | Europe      | 1972        | 812.280     |  2263554    | 3313.4222   |\n",
       "| Albania     | Europe      | 1977        | 827.160     |  2509048    | 3533.0039   |\n",
       "| Albania     | Europe      | 1982        | 845.040     |  2780097    | 3630.8807   |\n",
       "| Albania     | Europe      | 1987        | 864.000     |  3075321    | 3738.9327   |\n",
       "| Albania     | Europe      | 1992        | 858.972     |  3326498    | 2497.4379   |\n",
       "| Albania     | Europe      | 1997        | 875.400     |  3428038    | 3193.0546   |\n",
       "| Albania     | Europe      | 2002        | 907.812     |  3508512    | 4604.2117   |\n",
       "| Albania     | Europe      | 2007        | 917.076     |  3600523    | 5937.0295   |\n",
       "| Algeria     | Africa      | 1952        | 516.924     |  9279525    | 2449.0082   |\n",
       "| Algeria     | Africa      | 1957        | 548.220     | 10270856    | 3013.9760   |\n",
       "| Algeria     | Africa      | 1962        | 579.636     | 11000948    | 2550.8169   |\n",
       "| Algeria     | Africa      | 1967        | 616.884     | 12760499    | 3246.9918   |\n",
       "| Algeria     | Africa      | 1972        | 654.216     | 14760787    | 4182.6638   |\n",
       "| Algeria     | Africa      | 1977        | 696.168     | 17152804    | 4910.4168   |\n",
       "| ... | ... | ... | ... | ... | ... |\n",
       "| Yemen, Rep. | Asia        | 1982        | 589.356     |  9657618    | 1977.5570   |\n",
       "| Yemen, Rep. | Asia        | 1987        | 635.064     | 11219340    | 1971.7415   |\n",
       "| Yemen, Rep. | Asia        | 1992        | 667.188     | 13367997    | 1879.4967   |\n",
       "| Yemen, Rep. | Asia        | 1997        | 696.240     | 15826497    | 2117.4845   |\n",
       "| Yemen, Rep. | Asia        | 2002        | 723.696     | 18701257    | 2234.8208   |\n",
       "| Yemen, Rep. | Asia        | 2007        | 752.376     | 22211743    | 2280.7699   |\n",
       "| Zambia      | Africa      | 1952        | 504.456     |  2672000    | 1147.3888   |\n",
       "| Zambia      | Africa      | 1957        | 528.924     |  3016000    | 1311.9568   |\n",
       "| Zambia      | Africa      | 1962        | 552.276     |  3421000    | 1452.7258   |\n",
       "| Zambia      | Africa      | 1967        | 573.216     |  3900000    | 1777.0773   |\n",
       "| Zambia      | Africa      | 1972        | 601.284     |  4506497    | 1773.4983   |\n",
       "| Zambia      | Africa      | 1977        | 616.632     |  5216550    | 1588.6883   |\n",
       "| Zambia      | Africa      | 1982        | 621.852     |  6100407    | 1408.6786   |\n",
       "| Zambia      | Africa      | 1987        | 609.852     |  7272406    | 1213.3151   |\n",
       "| Zambia      | Africa      | 1992        | 553.200     |  8381163    | 1210.8846   |\n",
       "| Zambia      | Africa      | 1997        | 482.856     |  9417789    | 1071.3538   |\n",
       "| Zambia      | Africa      | 2002        | 470.316     | 10595811    | 1071.6139   |\n",
       "| Zambia      | Africa      | 2007        | 508.608     | 11746035    | 1271.2116   |\n",
       "| Zimbabwe    | Africa      | 1952        | 581.412     |  3080907    |  406.8841   |\n",
       "| Zimbabwe    | Africa      | 1957        | 605.628     |  3646340    |  518.7643   |\n",
       "| Zimbabwe    | Africa      | 1962        | 628.296     |  4277736    |  527.2722   |\n",
       "| Zimbabwe    | Africa      | 1967        | 647.940     |  4995432    |  569.7951   |\n",
       "| Zimbabwe    | Africa      | 1972        | 667.620     |  5861135    |  799.3622   |\n",
       "| Zimbabwe    | Africa      | 1977        | 692.088     |  6642107    |  685.5877   |\n",
       "| Zimbabwe    | Africa      | 1982        | 724.356     |  7636524    |  788.8550   |\n",
       "| Zimbabwe    | Africa      | 1987        | 748.212     |  9216418    |  706.1573   |\n",
       "| Zimbabwe    | Africa      | 1992        | 724.524     | 10704340    |  693.4208   |\n",
       "| Zimbabwe    | Africa      | 1997        | 561.708     | 11404948    |  792.4500   |\n",
       "| Zimbabwe    | Africa      | 2002        | 479.868     | 11926563    |  672.0386   |\n",
       "| Zimbabwe    | Africa      | 2007        | 521.844     | 12311143    |  469.7093   |\n",
       "\n"
      ],
      "text/plain": [
       "     country     continent year lifeExp pop      gdpPercap\n",
       "1    Afghanistan Asia      1952 345.612  8425333  779.4453\n",
       "2    Afghanistan Asia      1957 363.984  9240934  820.8530\n",
       "3    Afghanistan Asia      1962 383.964 10267083  853.1007\n",
       "4    Afghanistan Asia      1967 408.240 11537966  836.1971\n",
       "5    Afghanistan Asia      1972 433.056 13079460  739.9811\n",
       "6    Afghanistan Asia      1977 461.256 14880372  786.1134\n",
       "7    Afghanistan Asia      1982 478.248 12881816  978.0114\n",
       "8    Afghanistan Asia      1987 489.864 13867957  852.3959\n",
       "9    Afghanistan Asia      1992 500.088 16317921  649.3414\n",
       "10   Afghanistan Asia      1997 501.156 22227415  635.3414\n",
       "11   Afghanistan Asia      2002 505.548 25268405  726.7341\n",
       "12   Afghanistan Asia      2007 525.936 31889923  974.5803\n",
       "13   Albania     Europe    1952 662.760  1282697 1601.0561\n",
       "14   Albania     Europe    1957 711.360  1476505 1942.2842\n",
       "15   Albania     Europe    1962 777.840  1728137 2312.8890\n",
       "16   Albania     Europe    1967 794.640  1984060 2760.1969\n",
       "17   Albania     Europe    1972 812.280  2263554 3313.4222\n",
       "18   Albania     Europe    1977 827.160  2509048 3533.0039\n",
       "19   Albania     Europe    1982 845.040  2780097 3630.8807\n",
       "20   Albania     Europe    1987 864.000  3075321 3738.9327\n",
       "21   Albania     Europe    1992 858.972  3326498 2497.4379\n",
       "22   Albania     Europe    1997 875.400  3428038 3193.0546\n",
       "23   Albania     Europe    2002 907.812  3508512 4604.2117\n",
       "24   Albania     Europe    2007 917.076  3600523 5937.0295\n",
       "25   Algeria     Africa    1952 516.924  9279525 2449.0082\n",
       "26   Algeria     Africa    1957 548.220 10270856 3013.9760\n",
       "27   Algeria     Africa    1962 579.636 11000948 2550.8169\n",
       "28   Algeria     Africa    1967 616.884 12760499 3246.9918\n",
       "29   Algeria     Africa    1972 654.216 14760787 4182.6638\n",
       "30   Algeria     Africa    1977 696.168 17152804 4910.4168\n",
       "...  ...         ...       ...  ...     ...      ...      \n",
       "1675 Yemen, Rep. Asia      1982 589.356  9657618 1977.5570\n",
       "1676 Yemen, Rep. Asia      1987 635.064 11219340 1971.7415\n",
       "1677 Yemen, Rep. Asia      1992 667.188 13367997 1879.4967\n",
       "1678 Yemen, Rep. Asia      1997 696.240 15826497 2117.4845\n",
       "1679 Yemen, Rep. Asia      2002 723.696 18701257 2234.8208\n",
       "1680 Yemen, Rep. Asia      2007 752.376 22211743 2280.7699\n",
       "1681 Zambia      Africa    1952 504.456  2672000 1147.3888\n",
       "1682 Zambia      Africa    1957 528.924  3016000 1311.9568\n",
       "1683 Zambia      Africa    1962 552.276  3421000 1452.7258\n",
       "1684 Zambia      Africa    1967 573.216  3900000 1777.0773\n",
       "1685 Zambia      Africa    1972 601.284  4506497 1773.4983\n",
       "1686 Zambia      Africa    1977 616.632  5216550 1588.6883\n",
       "1687 Zambia      Africa    1982 621.852  6100407 1408.6786\n",
       "1688 Zambia      Africa    1987 609.852  7272406 1213.3151\n",
       "1689 Zambia      Africa    1992 553.200  8381163 1210.8846\n",
       "1690 Zambia      Africa    1997 482.856  9417789 1071.3538\n",
       "1691 Zambia      Africa    2002 470.316 10595811 1071.6139\n",
       "1692 Zambia      Africa    2007 508.608 11746035 1271.2116\n",
       "1693 Zimbabwe    Africa    1952 581.412  3080907  406.8841\n",
       "1694 Zimbabwe    Africa    1957 605.628  3646340  518.7643\n",
       "1695 Zimbabwe    Africa    1962 628.296  4277736  527.2722\n",
       "1696 Zimbabwe    Africa    1967 647.940  4995432  569.7951\n",
       "1697 Zimbabwe    Africa    1972 667.620  5861135  799.3622\n",
       "1698 Zimbabwe    Africa    1977 692.088  6642107  685.5877\n",
       "1699 Zimbabwe    Africa    1982 724.356  7636524  788.8550\n",
       "1700 Zimbabwe    Africa    1987 748.212  9216418  706.1573\n",
       "1701 Zimbabwe    Africa    1992 724.524 10704340  693.4208\n",
       "1702 Zimbabwe    Africa    1997 561.708 11404948  792.4500\n",
       "1703 Zimbabwe    Africa    2002 479.868 11926563  672.0386\n",
       "1704 Zimbabwe    Africa    2007 521.844 12311143  469.7093"
      ]
     },
     "metadata": {},
     "output_type": "display_data"
    }
   ],
   "source": [
    "# Use mutate to change lifeExp to be in months\n",
    "gapminder %>%\n",
    "  mutate(lifeExp = 12*lifeExp)"
   ]
  },
  {
   "cell_type": "code",
   "execution_count": 156,
   "metadata": {},
   "outputs": [
    {
     "data": {
      "text/html": [
       "<table>\n",
       "<thead><tr><th scope=col>country</th><th scope=col>continent</th><th scope=col>year</th><th scope=col>lifeExp</th><th scope=col>pop</th><th scope=col>gdpPercap</th><th scope=col>lifeExpMonths</th></tr></thead>\n",
       "<tbody>\n",
       "\t<tr><td>Afghanistan</td><td>Asia       </td><td>1952       </td><td>28.801     </td><td> 8425333   </td><td> 779.4453  </td><td>345.612    </td></tr>\n",
       "\t<tr><td>Afghanistan</td><td>Asia       </td><td>1957       </td><td>30.332     </td><td> 9240934   </td><td> 820.8530  </td><td>363.984    </td></tr>\n",
       "\t<tr><td>Afghanistan</td><td>Asia       </td><td>1962       </td><td>31.997     </td><td>10267083   </td><td> 853.1007  </td><td>383.964    </td></tr>\n",
       "\t<tr><td>Afghanistan</td><td>Asia       </td><td>1967       </td><td>34.020     </td><td>11537966   </td><td> 836.1971  </td><td>408.240    </td></tr>\n",
       "\t<tr><td>Afghanistan</td><td>Asia       </td><td>1972       </td><td>36.088     </td><td>13079460   </td><td> 739.9811  </td><td>433.056    </td></tr>\n",
       "\t<tr><td>Afghanistan</td><td>Asia       </td><td>1977       </td><td>38.438     </td><td>14880372   </td><td> 786.1134  </td><td>461.256    </td></tr>\n",
       "\t<tr><td>Afghanistan</td><td>Asia       </td><td>1982       </td><td>39.854     </td><td>12881816   </td><td> 978.0114  </td><td>478.248    </td></tr>\n",
       "\t<tr><td>Afghanistan</td><td>Asia       </td><td>1987       </td><td>40.822     </td><td>13867957   </td><td> 852.3959  </td><td>489.864    </td></tr>\n",
       "\t<tr><td>Afghanistan</td><td>Asia       </td><td>1992       </td><td>41.674     </td><td>16317921   </td><td> 649.3414  </td><td>500.088    </td></tr>\n",
       "\t<tr><td>Afghanistan</td><td>Asia       </td><td>1997       </td><td>41.763     </td><td>22227415   </td><td> 635.3414  </td><td>501.156    </td></tr>\n",
       "\t<tr><td>Afghanistan</td><td>Asia       </td><td>2002       </td><td>42.129     </td><td>25268405   </td><td> 726.7341  </td><td>505.548    </td></tr>\n",
       "\t<tr><td>Afghanistan</td><td>Asia       </td><td>2007       </td><td>43.828     </td><td>31889923   </td><td> 974.5803  </td><td>525.936    </td></tr>\n",
       "\t<tr><td>Albania    </td><td>Europe     </td><td>1952       </td><td>55.230     </td><td> 1282697   </td><td>1601.0561  </td><td>662.760    </td></tr>\n",
       "\t<tr><td>Albania    </td><td>Europe     </td><td>1957       </td><td>59.280     </td><td> 1476505   </td><td>1942.2842  </td><td>711.360    </td></tr>\n",
       "\t<tr><td>Albania    </td><td>Europe     </td><td>1962       </td><td>64.820     </td><td> 1728137   </td><td>2312.8890  </td><td>777.840    </td></tr>\n",
       "\t<tr><td>Albania    </td><td>Europe     </td><td>1967       </td><td>66.220     </td><td> 1984060   </td><td>2760.1969  </td><td>794.640    </td></tr>\n",
       "\t<tr><td>Albania    </td><td>Europe     </td><td>1972       </td><td>67.690     </td><td> 2263554   </td><td>3313.4222  </td><td>812.280    </td></tr>\n",
       "\t<tr><td>Albania    </td><td>Europe     </td><td>1977       </td><td>68.930     </td><td> 2509048   </td><td>3533.0039  </td><td>827.160    </td></tr>\n",
       "\t<tr><td>Albania    </td><td>Europe     </td><td>1982       </td><td>70.420     </td><td> 2780097   </td><td>3630.8807  </td><td>845.040    </td></tr>\n",
       "\t<tr><td>Albania    </td><td>Europe     </td><td>1987       </td><td>72.000     </td><td> 3075321   </td><td>3738.9327  </td><td>864.000    </td></tr>\n",
       "\t<tr><td>Albania    </td><td>Europe     </td><td>1992       </td><td>71.581     </td><td> 3326498   </td><td>2497.4379  </td><td>858.972    </td></tr>\n",
       "\t<tr><td>Albania    </td><td>Europe     </td><td>1997       </td><td>72.950     </td><td> 3428038   </td><td>3193.0546  </td><td>875.400    </td></tr>\n",
       "\t<tr><td>Albania    </td><td>Europe     </td><td>2002       </td><td>75.651     </td><td> 3508512   </td><td>4604.2117  </td><td>907.812    </td></tr>\n",
       "\t<tr><td>Albania    </td><td>Europe     </td><td>2007       </td><td>76.423     </td><td> 3600523   </td><td>5937.0295  </td><td>917.076    </td></tr>\n",
       "\t<tr><td>Algeria    </td><td>Africa     </td><td>1952       </td><td>43.077     </td><td> 9279525   </td><td>2449.0082  </td><td>516.924    </td></tr>\n",
       "\t<tr><td>Algeria    </td><td>Africa     </td><td>1957       </td><td>45.685     </td><td>10270856   </td><td>3013.9760  </td><td>548.220    </td></tr>\n",
       "\t<tr><td>Algeria    </td><td>Africa     </td><td>1962       </td><td>48.303     </td><td>11000948   </td><td>2550.8169  </td><td>579.636    </td></tr>\n",
       "\t<tr><td>Algeria    </td><td>Africa     </td><td>1967       </td><td>51.407     </td><td>12760499   </td><td>3246.9918  </td><td>616.884    </td></tr>\n",
       "\t<tr><td>Algeria    </td><td>Africa     </td><td>1972       </td><td>54.518     </td><td>14760787   </td><td>4182.6638  </td><td>654.216    </td></tr>\n",
       "\t<tr><td>Algeria    </td><td>Africa     </td><td>1977       </td><td>58.014     </td><td>17152804   </td><td>4910.4168  </td><td>696.168    </td></tr>\n",
       "\t<tr><td>...</td><td>...</td><td>...</td><td>...</td><td>...</td><td>...</td><td>...</td></tr>\n",
       "\t<tr><td>Yemen, Rep.</td><td>Asia       </td><td>1982       </td><td>49.113     </td><td> 9657618   </td><td>1977.5570  </td><td>589.356    </td></tr>\n",
       "\t<tr><td>Yemen, Rep.</td><td>Asia       </td><td>1987       </td><td>52.922     </td><td>11219340   </td><td>1971.7415  </td><td>635.064    </td></tr>\n",
       "\t<tr><td>Yemen, Rep.</td><td>Asia       </td><td>1992       </td><td>55.599     </td><td>13367997   </td><td>1879.4967  </td><td>667.188    </td></tr>\n",
       "\t<tr><td>Yemen, Rep.</td><td>Asia       </td><td>1997       </td><td>58.020     </td><td>15826497   </td><td>2117.4845  </td><td>696.240    </td></tr>\n",
       "\t<tr><td>Yemen, Rep.</td><td>Asia       </td><td>2002       </td><td>60.308     </td><td>18701257   </td><td>2234.8208  </td><td>723.696    </td></tr>\n",
       "\t<tr><td>Yemen, Rep.</td><td>Asia       </td><td>2007       </td><td>62.698     </td><td>22211743   </td><td>2280.7699  </td><td>752.376    </td></tr>\n",
       "\t<tr><td>Zambia     </td><td>Africa     </td><td>1952       </td><td>42.038     </td><td> 2672000   </td><td>1147.3888  </td><td>504.456    </td></tr>\n",
       "\t<tr><td>Zambia     </td><td>Africa     </td><td>1957       </td><td>44.077     </td><td> 3016000   </td><td>1311.9568  </td><td>528.924    </td></tr>\n",
       "\t<tr><td>Zambia     </td><td>Africa     </td><td>1962       </td><td>46.023     </td><td> 3421000   </td><td>1452.7258  </td><td>552.276    </td></tr>\n",
       "\t<tr><td>Zambia     </td><td>Africa     </td><td>1967       </td><td>47.768     </td><td> 3900000   </td><td>1777.0773  </td><td>573.216    </td></tr>\n",
       "\t<tr><td>Zambia     </td><td>Africa     </td><td>1972       </td><td>50.107     </td><td> 4506497   </td><td>1773.4983  </td><td>601.284    </td></tr>\n",
       "\t<tr><td>Zambia     </td><td>Africa     </td><td>1977       </td><td>51.386     </td><td> 5216550   </td><td>1588.6883  </td><td>616.632    </td></tr>\n",
       "\t<tr><td>Zambia     </td><td>Africa     </td><td>1982       </td><td>51.821     </td><td> 6100407   </td><td>1408.6786  </td><td>621.852    </td></tr>\n",
       "\t<tr><td>Zambia     </td><td>Africa     </td><td>1987       </td><td>50.821     </td><td> 7272406   </td><td>1213.3151  </td><td>609.852    </td></tr>\n",
       "\t<tr><td>Zambia     </td><td>Africa     </td><td>1992       </td><td>46.100     </td><td> 8381163   </td><td>1210.8846  </td><td>553.200    </td></tr>\n",
       "\t<tr><td>Zambia     </td><td>Africa     </td><td>1997       </td><td>40.238     </td><td> 9417789   </td><td>1071.3538  </td><td>482.856    </td></tr>\n",
       "\t<tr><td>Zambia     </td><td>Africa     </td><td>2002       </td><td>39.193     </td><td>10595811   </td><td>1071.6139  </td><td>470.316    </td></tr>\n",
       "\t<tr><td>Zambia     </td><td>Africa     </td><td>2007       </td><td>42.384     </td><td>11746035   </td><td>1271.2116  </td><td>508.608    </td></tr>\n",
       "\t<tr><td>Zimbabwe   </td><td>Africa     </td><td>1952       </td><td>48.451     </td><td> 3080907   </td><td> 406.8841  </td><td>581.412    </td></tr>\n",
       "\t<tr><td>Zimbabwe   </td><td>Africa     </td><td>1957       </td><td>50.469     </td><td> 3646340   </td><td> 518.7643  </td><td>605.628    </td></tr>\n",
       "\t<tr><td>Zimbabwe   </td><td>Africa     </td><td>1962       </td><td>52.358     </td><td> 4277736   </td><td> 527.2722  </td><td>628.296    </td></tr>\n",
       "\t<tr><td>Zimbabwe   </td><td>Africa     </td><td>1967       </td><td>53.995     </td><td> 4995432   </td><td> 569.7951  </td><td>647.940    </td></tr>\n",
       "\t<tr><td>Zimbabwe   </td><td>Africa     </td><td>1972       </td><td>55.635     </td><td> 5861135   </td><td> 799.3622  </td><td>667.620    </td></tr>\n",
       "\t<tr><td>Zimbabwe   </td><td>Africa     </td><td>1977       </td><td>57.674     </td><td> 6642107   </td><td> 685.5877  </td><td>692.088    </td></tr>\n",
       "\t<tr><td>Zimbabwe   </td><td>Africa     </td><td>1982       </td><td>60.363     </td><td> 7636524   </td><td> 788.8550  </td><td>724.356    </td></tr>\n",
       "\t<tr><td>Zimbabwe   </td><td>Africa     </td><td>1987       </td><td>62.351     </td><td> 9216418   </td><td> 706.1573  </td><td>748.212    </td></tr>\n",
       "\t<tr><td>Zimbabwe   </td><td>Africa     </td><td>1992       </td><td>60.377     </td><td>10704340   </td><td> 693.4208  </td><td>724.524    </td></tr>\n",
       "\t<tr><td>Zimbabwe   </td><td>Africa     </td><td>1997       </td><td>46.809     </td><td>11404948   </td><td> 792.4500  </td><td>561.708    </td></tr>\n",
       "\t<tr><td>Zimbabwe   </td><td>Africa     </td><td>2002       </td><td>39.989     </td><td>11926563   </td><td> 672.0386  </td><td>479.868    </td></tr>\n",
       "\t<tr><td>Zimbabwe   </td><td>Africa     </td><td>2007       </td><td>43.487     </td><td>12311143   </td><td> 469.7093  </td><td>521.844    </td></tr>\n",
       "</tbody>\n",
       "</table>\n"
      ],
      "text/latex": [
       "\\begin{tabular}{r|lllllll}\n",
       " country & continent & year & lifeExp & pop & gdpPercap & lifeExpMonths\\\\\n",
       "\\hline\n",
       "\t Afghanistan & Asia        & 1952        & 28.801      &  8425333    &  779.4453   & 345.612    \\\\\n",
       "\t Afghanistan & Asia        & 1957        & 30.332      &  9240934    &  820.8530   & 363.984    \\\\\n",
       "\t Afghanistan & Asia        & 1962        & 31.997      & 10267083    &  853.1007   & 383.964    \\\\\n",
       "\t Afghanistan & Asia        & 1967        & 34.020      & 11537966    &  836.1971   & 408.240    \\\\\n",
       "\t Afghanistan & Asia        & 1972        & 36.088      & 13079460    &  739.9811   & 433.056    \\\\\n",
       "\t Afghanistan & Asia        & 1977        & 38.438      & 14880372    &  786.1134   & 461.256    \\\\\n",
       "\t Afghanistan & Asia        & 1982        & 39.854      & 12881816    &  978.0114   & 478.248    \\\\\n",
       "\t Afghanistan & Asia        & 1987        & 40.822      & 13867957    &  852.3959   & 489.864    \\\\\n",
       "\t Afghanistan & Asia        & 1992        & 41.674      & 16317921    &  649.3414   & 500.088    \\\\\n",
       "\t Afghanistan & Asia        & 1997        & 41.763      & 22227415    &  635.3414   & 501.156    \\\\\n",
       "\t Afghanistan & Asia        & 2002        & 42.129      & 25268405    &  726.7341   & 505.548    \\\\\n",
       "\t Afghanistan & Asia        & 2007        & 43.828      & 31889923    &  974.5803   & 525.936    \\\\\n",
       "\t Albania     & Europe      & 1952        & 55.230      &  1282697    & 1601.0561   & 662.760    \\\\\n",
       "\t Albania     & Europe      & 1957        & 59.280      &  1476505    & 1942.2842   & 711.360    \\\\\n",
       "\t Albania     & Europe      & 1962        & 64.820      &  1728137    & 2312.8890   & 777.840    \\\\\n",
       "\t Albania     & Europe      & 1967        & 66.220      &  1984060    & 2760.1969   & 794.640    \\\\\n",
       "\t Albania     & Europe      & 1972        & 67.690      &  2263554    & 3313.4222   & 812.280    \\\\\n",
       "\t Albania     & Europe      & 1977        & 68.930      &  2509048    & 3533.0039   & 827.160    \\\\\n",
       "\t Albania     & Europe      & 1982        & 70.420      &  2780097    & 3630.8807   & 845.040    \\\\\n",
       "\t Albania     & Europe      & 1987        & 72.000      &  3075321    & 3738.9327   & 864.000    \\\\\n",
       "\t Albania     & Europe      & 1992        & 71.581      &  3326498    & 2497.4379   & 858.972    \\\\\n",
       "\t Albania     & Europe      & 1997        & 72.950      &  3428038    & 3193.0546   & 875.400    \\\\\n",
       "\t Albania     & Europe      & 2002        & 75.651      &  3508512    & 4604.2117   & 907.812    \\\\\n",
       "\t Albania     & Europe      & 2007        & 76.423      &  3600523    & 5937.0295   & 917.076    \\\\\n",
       "\t Algeria     & Africa      & 1952        & 43.077      &  9279525    & 2449.0082   & 516.924    \\\\\n",
       "\t Algeria     & Africa      & 1957        & 45.685      & 10270856    & 3013.9760   & 548.220    \\\\\n",
       "\t Algeria     & Africa      & 1962        & 48.303      & 11000948    & 2550.8169   & 579.636    \\\\\n",
       "\t Algeria     & Africa      & 1967        & 51.407      & 12760499    & 3246.9918   & 616.884    \\\\\n",
       "\t Algeria     & Africa      & 1972        & 54.518      & 14760787    & 4182.6638   & 654.216    \\\\\n",
       "\t Algeria     & Africa      & 1977        & 58.014      & 17152804    & 4910.4168   & 696.168    \\\\\n",
       "\t ... & ... & ... & ... & ... & ... & ...\\\\\n",
       "\t Yemen, Rep. & Asia        & 1982        & 49.113      &  9657618    & 1977.5570   & 589.356    \\\\\n",
       "\t Yemen, Rep. & Asia        & 1987        & 52.922      & 11219340    & 1971.7415   & 635.064    \\\\\n",
       "\t Yemen, Rep. & Asia        & 1992        & 55.599      & 13367997    & 1879.4967   & 667.188    \\\\\n",
       "\t Yemen, Rep. & Asia        & 1997        & 58.020      & 15826497    & 2117.4845   & 696.240    \\\\\n",
       "\t Yemen, Rep. & Asia        & 2002        & 60.308      & 18701257    & 2234.8208   & 723.696    \\\\\n",
       "\t Yemen, Rep. & Asia        & 2007        & 62.698      & 22211743    & 2280.7699   & 752.376    \\\\\n",
       "\t Zambia      & Africa      & 1952        & 42.038      &  2672000    & 1147.3888   & 504.456    \\\\\n",
       "\t Zambia      & Africa      & 1957        & 44.077      &  3016000    & 1311.9568   & 528.924    \\\\\n",
       "\t Zambia      & Africa      & 1962        & 46.023      &  3421000    & 1452.7258   & 552.276    \\\\\n",
       "\t Zambia      & Africa      & 1967        & 47.768      &  3900000    & 1777.0773   & 573.216    \\\\\n",
       "\t Zambia      & Africa      & 1972        & 50.107      &  4506497    & 1773.4983   & 601.284    \\\\\n",
       "\t Zambia      & Africa      & 1977        & 51.386      &  5216550    & 1588.6883   & 616.632    \\\\\n",
       "\t Zambia      & Africa      & 1982        & 51.821      &  6100407    & 1408.6786   & 621.852    \\\\\n",
       "\t Zambia      & Africa      & 1987        & 50.821      &  7272406    & 1213.3151   & 609.852    \\\\\n",
       "\t Zambia      & Africa      & 1992        & 46.100      &  8381163    & 1210.8846   & 553.200    \\\\\n",
       "\t Zambia      & Africa      & 1997        & 40.238      &  9417789    & 1071.3538   & 482.856    \\\\\n",
       "\t Zambia      & Africa      & 2002        & 39.193      & 10595811    & 1071.6139   & 470.316    \\\\\n",
       "\t Zambia      & Africa      & 2007        & 42.384      & 11746035    & 1271.2116   & 508.608    \\\\\n",
       "\t Zimbabwe    & Africa      & 1952        & 48.451      &  3080907    &  406.8841   & 581.412    \\\\\n",
       "\t Zimbabwe    & Africa      & 1957        & 50.469      &  3646340    &  518.7643   & 605.628    \\\\\n",
       "\t Zimbabwe    & Africa      & 1962        & 52.358      &  4277736    &  527.2722   & 628.296    \\\\\n",
       "\t Zimbabwe    & Africa      & 1967        & 53.995      &  4995432    &  569.7951   & 647.940    \\\\\n",
       "\t Zimbabwe    & Africa      & 1972        & 55.635      &  5861135    &  799.3622   & 667.620    \\\\\n",
       "\t Zimbabwe    & Africa      & 1977        & 57.674      &  6642107    &  685.5877   & 692.088    \\\\\n",
       "\t Zimbabwe    & Africa      & 1982        & 60.363      &  7636524    &  788.8550   & 724.356    \\\\\n",
       "\t Zimbabwe    & Africa      & 1987        & 62.351      &  9216418    &  706.1573   & 748.212    \\\\\n",
       "\t Zimbabwe    & Africa      & 1992        & 60.377      & 10704340    &  693.4208   & 724.524    \\\\\n",
       "\t Zimbabwe    & Africa      & 1997        & 46.809      & 11404948    &  792.4500   & 561.708    \\\\\n",
       "\t Zimbabwe    & Africa      & 2002        & 39.989      & 11926563    &  672.0386   & 479.868    \\\\\n",
       "\t Zimbabwe    & Africa      & 2007        & 43.487      & 12311143    &  469.7093   & 521.844    \\\\\n",
       "\\end{tabular}\n"
      ],
      "text/markdown": [
       "\n",
       "| country | continent | year | lifeExp | pop | gdpPercap | lifeExpMonths |\n",
       "|---|---|---|---|---|---|---|\n",
       "| Afghanistan | Asia        | 1952        | 28.801      |  8425333    |  779.4453   | 345.612     |\n",
       "| Afghanistan | Asia        | 1957        | 30.332      |  9240934    |  820.8530   | 363.984     |\n",
       "| Afghanistan | Asia        | 1962        | 31.997      | 10267083    |  853.1007   | 383.964     |\n",
       "| Afghanistan | Asia        | 1967        | 34.020      | 11537966    |  836.1971   | 408.240     |\n",
       "| Afghanistan | Asia        | 1972        | 36.088      | 13079460    |  739.9811   | 433.056     |\n",
       "| Afghanistan | Asia        | 1977        | 38.438      | 14880372    |  786.1134   | 461.256     |\n",
       "| Afghanistan | Asia        | 1982        | 39.854      | 12881816    |  978.0114   | 478.248     |\n",
       "| Afghanistan | Asia        | 1987        | 40.822      | 13867957    |  852.3959   | 489.864     |\n",
       "| Afghanistan | Asia        | 1992        | 41.674      | 16317921    |  649.3414   | 500.088     |\n",
       "| Afghanistan | Asia        | 1997        | 41.763      | 22227415    |  635.3414   | 501.156     |\n",
       "| Afghanistan | Asia        | 2002        | 42.129      | 25268405    |  726.7341   | 505.548     |\n",
       "| Afghanistan | Asia        | 2007        | 43.828      | 31889923    |  974.5803   | 525.936     |\n",
       "| Albania     | Europe      | 1952        | 55.230      |  1282697    | 1601.0561   | 662.760     |\n",
       "| Albania     | Europe      | 1957        | 59.280      |  1476505    | 1942.2842   | 711.360     |\n",
       "| Albania     | Europe      | 1962        | 64.820      |  1728137    | 2312.8890   | 777.840     |\n",
       "| Albania     | Europe      | 1967        | 66.220      |  1984060    | 2760.1969   | 794.640     |\n",
       "| Albania     | Europe      | 1972        | 67.690      |  2263554    | 3313.4222   | 812.280     |\n",
       "| Albania     | Europe      | 1977        | 68.930      |  2509048    | 3533.0039   | 827.160     |\n",
       "| Albania     | Europe      | 1982        | 70.420      |  2780097    | 3630.8807   | 845.040     |\n",
       "| Albania     | Europe      | 1987        | 72.000      |  3075321    | 3738.9327   | 864.000     |\n",
       "| Albania     | Europe      | 1992        | 71.581      |  3326498    | 2497.4379   | 858.972     |\n",
       "| Albania     | Europe      | 1997        | 72.950      |  3428038    | 3193.0546   | 875.400     |\n",
       "| Albania     | Europe      | 2002        | 75.651      |  3508512    | 4604.2117   | 907.812     |\n",
       "| Albania     | Europe      | 2007        | 76.423      |  3600523    | 5937.0295   | 917.076     |\n",
       "| Algeria     | Africa      | 1952        | 43.077      |  9279525    | 2449.0082   | 516.924     |\n",
       "| Algeria     | Africa      | 1957        | 45.685      | 10270856    | 3013.9760   | 548.220     |\n",
       "| Algeria     | Africa      | 1962        | 48.303      | 11000948    | 2550.8169   | 579.636     |\n",
       "| Algeria     | Africa      | 1967        | 51.407      | 12760499    | 3246.9918   | 616.884     |\n",
       "| Algeria     | Africa      | 1972        | 54.518      | 14760787    | 4182.6638   | 654.216     |\n",
       "| Algeria     | Africa      | 1977        | 58.014      | 17152804    | 4910.4168   | 696.168     |\n",
       "| ... | ... | ... | ... | ... | ... | ... |\n",
       "| Yemen, Rep. | Asia        | 1982        | 49.113      |  9657618    | 1977.5570   | 589.356     |\n",
       "| Yemen, Rep. | Asia        | 1987        | 52.922      | 11219340    | 1971.7415   | 635.064     |\n",
       "| Yemen, Rep. | Asia        | 1992        | 55.599      | 13367997    | 1879.4967   | 667.188     |\n",
       "| Yemen, Rep. | Asia        | 1997        | 58.020      | 15826497    | 2117.4845   | 696.240     |\n",
       "| Yemen, Rep. | Asia        | 2002        | 60.308      | 18701257    | 2234.8208   | 723.696     |\n",
       "| Yemen, Rep. | Asia        | 2007        | 62.698      | 22211743    | 2280.7699   | 752.376     |\n",
       "| Zambia      | Africa      | 1952        | 42.038      |  2672000    | 1147.3888   | 504.456     |\n",
       "| Zambia      | Africa      | 1957        | 44.077      |  3016000    | 1311.9568   | 528.924     |\n",
       "| Zambia      | Africa      | 1962        | 46.023      |  3421000    | 1452.7258   | 552.276     |\n",
       "| Zambia      | Africa      | 1967        | 47.768      |  3900000    | 1777.0773   | 573.216     |\n",
       "| Zambia      | Africa      | 1972        | 50.107      |  4506497    | 1773.4983   | 601.284     |\n",
       "| Zambia      | Africa      | 1977        | 51.386      |  5216550    | 1588.6883   | 616.632     |\n",
       "| Zambia      | Africa      | 1982        | 51.821      |  6100407    | 1408.6786   | 621.852     |\n",
       "| Zambia      | Africa      | 1987        | 50.821      |  7272406    | 1213.3151   | 609.852     |\n",
       "| Zambia      | Africa      | 1992        | 46.100      |  8381163    | 1210.8846   | 553.200     |\n",
       "| Zambia      | Africa      | 1997        | 40.238      |  9417789    | 1071.3538   | 482.856     |\n",
       "| Zambia      | Africa      | 2002        | 39.193      | 10595811    | 1071.6139   | 470.316     |\n",
       "| Zambia      | Africa      | 2007        | 42.384      | 11746035    | 1271.2116   | 508.608     |\n",
       "| Zimbabwe    | Africa      | 1952        | 48.451      |  3080907    |  406.8841   | 581.412     |\n",
       "| Zimbabwe    | Africa      | 1957        | 50.469      |  3646340    |  518.7643   | 605.628     |\n",
       "| Zimbabwe    | Africa      | 1962        | 52.358      |  4277736    |  527.2722   | 628.296     |\n",
       "| Zimbabwe    | Africa      | 1967        | 53.995      |  4995432    |  569.7951   | 647.940     |\n",
       "| Zimbabwe    | Africa      | 1972        | 55.635      |  5861135    |  799.3622   | 667.620     |\n",
       "| Zimbabwe    | Africa      | 1977        | 57.674      |  6642107    |  685.5877   | 692.088     |\n",
       "| Zimbabwe    | Africa      | 1982        | 60.363      |  7636524    |  788.8550   | 724.356     |\n",
       "| Zimbabwe    | Africa      | 1987        | 62.351      |  9216418    |  706.1573   | 748.212     |\n",
       "| Zimbabwe    | Africa      | 1992        | 60.377      | 10704340    |  693.4208   | 724.524     |\n",
       "| Zimbabwe    | Africa      | 1997        | 46.809      | 11404948    |  792.4500   | 561.708     |\n",
       "| Zimbabwe    | Africa      | 2002        | 39.989      | 11926563    |  672.0386   | 479.868     |\n",
       "| Zimbabwe    | Africa      | 2007        | 43.487      | 12311143    |  469.7093   | 521.844     |\n",
       "\n"
      ],
      "text/plain": [
       "     country     continent year lifeExp pop      gdpPercap lifeExpMonths\n",
       "1    Afghanistan Asia      1952 28.801   8425333  779.4453 345.612      \n",
       "2    Afghanistan Asia      1957 30.332   9240934  820.8530 363.984      \n",
       "3    Afghanistan Asia      1962 31.997  10267083  853.1007 383.964      \n",
       "4    Afghanistan Asia      1967 34.020  11537966  836.1971 408.240      \n",
       "5    Afghanistan Asia      1972 36.088  13079460  739.9811 433.056      \n",
       "6    Afghanistan Asia      1977 38.438  14880372  786.1134 461.256      \n",
       "7    Afghanistan Asia      1982 39.854  12881816  978.0114 478.248      \n",
       "8    Afghanistan Asia      1987 40.822  13867957  852.3959 489.864      \n",
       "9    Afghanistan Asia      1992 41.674  16317921  649.3414 500.088      \n",
       "10   Afghanistan Asia      1997 41.763  22227415  635.3414 501.156      \n",
       "11   Afghanistan Asia      2002 42.129  25268405  726.7341 505.548      \n",
       "12   Afghanistan Asia      2007 43.828  31889923  974.5803 525.936      \n",
       "13   Albania     Europe    1952 55.230   1282697 1601.0561 662.760      \n",
       "14   Albania     Europe    1957 59.280   1476505 1942.2842 711.360      \n",
       "15   Albania     Europe    1962 64.820   1728137 2312.8890 777.840      \n",
       "16   Albania     Europe    1967 66.220   1984060 2760.1969 794.640      \n",
       "17   Albania     Europe    1972 67.690   2263554 3313.4222 812.280      \n",
       "18   Albania     Europe    1977 68.930   2509048 3533.0039 827.160      \n",
       "19   Albania     Europe    1982 70.420   2780097 3630.8807 845.040      \n",
       "20   Albania     Europe    1987 72.000   3075321 3738.9327 864.000      \n",
       "21   Albania     Europe    1992 71.581   3326498 2497.4379 858.972      \n",
       "22   Albania     Europe    1997 72.950   3428038 3193.0546 875.400      \n",
       "23   Albania     Europe    2002 75.651   3508512 4604.2117 907.812      \n",
       "24   Albania     Europe    2007 76.423   3600523 5937.0295 917.076      \n",
       "25   Algeria     Africa    1952 43.077   9279525 2449.0082 516.924      \n",
       "26   Algeria     Africa    1957 45.685  10270856 3013.9760 548.220      \n",
       "27   Algeria     Africa    1962 48.303  11000948 2550.8169 579.636      \n",
       "28   Algeria     Africa    1967 51.407  12760499 3246.9918 616.884      \n",
       "29   Algeria     Africa    1972 54.518  14760787 4182.6638 654.216      \n",
       "30   Algeria     Africa    1977 58.014  17152804 4910.4168 696.168      \n",
       "...  ...         ...       ...  ...     ...      ...       ...          \n",
       "1675 Yemen, Rep. Asia      1982 49.113   9657618 1977.5570 589.356      \n",
       "1676 Yemen, Rep. Asia      1987 52.922  11219340 1971.7415 635.064      \n",
       "1677 Yemen, Rep. Asia      1992 55.599  13367997 1879.4967 667.188      \n",
       "1678 Yemen, Rep. Asia      1997 58.020  15826497 2117.4845 696.240      \n",
       "1679 Yemen, Rep. Asia      2002 60.308  18701257 2234.8208 723.696      \n",
       "1680 Yemen, Rep. Asia      2007 62.698  22211743 2280.7699 752.376      \n",
       "1681 Zambia      Africa    1952 42.038   2672000 1147.3888 504.456      \n",
       "1682 Zambia      Africa    1957 44.077   3016000 1311.9568 528.924      \n",
       "1683 Zambia      Africa    1962 46.023   3421000 1452.7258 552.276      \n",
       "1684 Zambia      Africa    1967 47.768   3900000 1777.0773 573.216      \n",
       "1685 Zambia      Africa    1972 50.107   4506497 1773.4983 601.284      \n",
       "1686 Zambia      Africa    1977 51.386   5216550 1588.6883 616.632      \n",
       "1687 Zambia      Africa    1982 51.821   6100407 1408.6786 621.852      \n",
       "1688 Zambia      Africa    1987 50.821   7272406 1213.3151 609.852      \n",
       "1689 Zambia      Africa    1992 46.100   8381163 1210.8846 553.200      \n",
       "1690 Zambia      Africa    1997 40.238   9417789 1071.3538 482.856      \n",
       "1691 Zambia      Africa    2002 39.193  10595811 1071.6139 470.316      \n",
       "1692 Zambia      Africa    2007 42.384  11746035 1271.2116 508.608      \n",
       "1693 Zimbabwe    Africa    1952 48.451   3080907  406.8841 581.412      \n",
       "1694 Zimbabwe    Africa    1957 50.469   3646340  518.7643 605.628      \n",
       "1695 Zimbabwe    Africa    1962 52.358   4277736  527.2722 628.296      \n",
       "1696 Zimbabwe    Africa    1967 53.995   4995432  569.7951 647.940      \n",
       "1697 Zimbabwe    Africa    1972 55.635   5861135  799.3622 667.620      \n",
       "1698 Zimbabwe    Africa    1977 57.674   6642107  685.5877 692.088      \n",
       "1699 Zimbabwe    Africa    1982 60.363   7636524  788.8550 724.356      \n",
       "1700 Zimbabwe    Africa    1987 62.351   9216418  706.1573 748.212      \n",
       "1701 Zimbabwe    Africa    1992 60.377  10704340  693.4208 724.524      \n",
       "1702 Zimbabwe    Africa    1997 46.809  11404948  792.4500 561.708      \n",
       "1703 Zimbabwe    Africa    2002 39.989  11926563  672.0386 479.868      \n",
       "1704 Zimbabwe    Africa    2007 43.487  12311143  469.7093 521.844      "
      ]
     },
     "metadata": {},
     "output_type": "display_data"
    }
   ],
   "source": [
    "# Use mutate to create a new column called lifeExpMonths\n",
    "gapminder %>%\n",
    "  mutate(lifeExpMonths = 12 * lifeExp)"
   ]
  },
  {
   "cell_type": "code",
   "execution_count": 157,
   "metadata": {},
   "outputs": [
    {
     "data": {
      "text/html": [
       "<table>\n",
       "<thead><tr><th scope=col>country</th><th scope=col>continent</th><th scope=col>year</th><th scope=col>lifeExp</th><th scope=col>pop</th><th scope=col>gdpPercap</th><th scope=col>lifeExpMonths</th></tr></thead>\n",
       "<tbody>\n",
       "\t<tr><td>Japan           </td><td>Asia            </td><td>2007            </td><td>82.603          </td><td>127467972       </td><td>31656.068       </td><td>991.236         </td></tr>\n",
       "\t<tr><td>Hong Kong, China</td><td>Asia            </td><td>2007            </td><td>82.208          </td><td>  6980412       </td><td>39724.979       </td><td>986.496         </td></tr>\n",
       "\t<tr><td>Iceland         </td><td>Europe          </td><td>2007            </td><td>81.757          </td><td>   301931       </td><td>36180.789       </td><td>981.084         </td></tr>\n",
       "\t<tr><td>Switzerland     </td><td>Europe          </td><td>2007            </td><td>81.701          </td><td>  7554661       </td><td>37506.419       </td><td>980.412         </td></tr>\n",
       "\t<tr><td>Australia       </td><td>Oceania         </td><td>2007            </td><td>81.235          </td><td> 20434176       </td><td>34435.367       </td><td>974.820         </td></tr>\n",
       "\t<tr><td>Spain           </td><td>Europe          </td><td>2007            </td><td>80.941          </td><td> 40448191       </td><td>28821.064       </td><td>971.292         </td></tr>\n",
       "\t<tr><td>Sweden          </td><td>Europe          </td><td>2007            </td><td>80.884          </td><td>  9031088       </td><td>33859.748       </td><td>970.608         </td></tr>\n",
       "\t<tr><td>Israel          </td><td>Asia            </td><td>2007            </td><td>80.745          </td><td>  6426679       </td><td>25523.277       </td><td>968.940         </td></tr>\n",
       "\t<tr><td>France          </td><td>Europe          </td><td>2007            </td><td>80.657          </td><td> 61083916       </td><td>30470.017       </td><td>967.884         </td></tr>\n",
       "\t<tr><td>Canada          </td><td>Americas        </td><td>2007            </td><td>80.653          </td><td> 33390141       </td><td>36319.235       </td><td>967.836         </td></tr>\n",
       "\t<tr><td>Italy           </td><td>Europe          </td><td>2007            </td><td>80.546          </td><td> 58147733       </td><td>28569.720       </td><td>966.552         </td></tr>\n",
       "\t<tr><td>New Zealand     </td><td>Oceania         </td><td>2007            </td><td>80.204          </td><td>  4115771       </td><td>25185.009       </td><td>962.448         </td></tr>\n",
       "\t<tr><td>Norway          </td><td>Europe          </td><td>2007            </td><td>80.196          </td><td>  4627926       </td><td>49357.190       </td><td>962.352         </td></tr>\n",
       "\t<tr><td>Singapore       </td><td>Asia            </td><td>2007            </td><td>79.972          </td><td>  4553009       </td><td>47143.180       </td><td>959.664         </td></tr>\n",
       "\t<tr><td>Austria         </td><td>Europe          </td><td>2007            </td><td>79.829          </td><td>  8199783       </td><td>36126.493       </td><td>957.948         </td></tr>\n",
       "\t<tr><td>Netherlands     </td><td>Europe          </td><td>2007            </td><td>79.762          </td><td> 16570613       </td><td>36797.933       </td><td>957.144         </td></tr>\n",
       "\t<tr><td>Greece          </td><td>Europe          </td><td>2007            </td><td>79.483          </td><td> 10706290       </td><td>27538.412       </td><td>953.796         </td></tr>\n",
       "\t<tr><td>Belgium         </td><td>Europe          </td><td>2007            </td><td>79.441          </td><td> 10392226       </td><td>33692.605       </td><td>953.292         </td></tr>\n",
       "\t<tr><td>United Kingdom  </td><td>Europe          </td><td>2007            </td><td>79.425          </td><td> 60776238       </td><td>33203.261       </td><td>953.100         </td></tr>\n",
       "\t<tr><td>Germany         </td><td>Europe          </td><td>2007            </td><td>79.406          </td><td> 82400996       </td><td>32170.374       </td><td>952.872         </td></tr>\n",
       "\t<tr><td>Finland         </td><td>Europe          </td><td>2007            </td><td>79.313          </td><td>  5238460       </td><td>33207.084       </td><td>951.756         </td></tr>\n",
       "\t<tr><td>Ireland         </td><td>Europe          </td><td>2007            </td><td>78.885          </td><td>  4109086       </td><td>40675.996       </td><td>946.620         </td></tr>\n",
       "\t<tr><td>Costa Rica      </td><td>Americas        </td><td>2007            </td><td>78.782          </td><td>  4133884       </td><td> 9645.061       </td><td>945.384         </td></tr>\n",
       "\t<tr><td>Puerto Rico     </td><td>Americas        </td><td>2007            </td><td>78.746          </td><td>  3942491       </td><td>19328.709       </td><td>944.952         </td></tr>\n",
       "\t<tr><td>Korea, Rep.     </td><td>Asia            </td><td>2007            </td><td>78.623          </td><td> 49044790       </td><td>23348.140       </td><td>943.476         </td></tr>\n",
       "\t<tr><td>Chile           </td><td>Americas        </td><td>2007            </td><td>78.553          </td><td> 16284741       </td><td>13171.639       </td><td>942.636         </td></tr>\n",
       "\t<tr><td>Taiwan          </td><td>Asia            </td><td>2007            </td><td>78.400          </td><td> 23174294       </td><td>28718.277       </td><td>940.800         </td></tr>\n",
       "\t<tr><td>Denmark         </td><td>Europe          </td><td>2007            </td><td>78.332          </td><td>  5468120       </td><td>35278.419       </td><td>939.984         </td></tr>\n",
       "\t<tr><td>Cuba            </td><td>Americas        </td><td>2007            </td><td>78.273          </td><td> 11416987       </td><td> 8948.103       </td><td>939.276         </td></tr>\n",
       "\t<tr><td>United States   </td><td>Americas        </td><td>2007            </td><td>78.242          </td><td>301139947       </td><td>42951.653       </td><td>938.904         </td></tr>\n",
       "\t<tr><td>...</td><td>...</td><td>...</td><td>...</td><td>...</td><td>...</td><td>...</td></tr>\n",
       "\t<tr><td>Mali                    </td><td>Africa                  </td><td>2007                    </td><td>54.467                  </td><td> 12031795               </td><td> 1042.5816              </td><td>653.604                 </td></tr>\n",
       "\t<tr><td>Kenya                   </td><td>Africa                  </td><td>2007                    </td><td>54.110                  </td><td> 35610177               </td><td> 1463.2493              </td><td>649.320                 </td></tr>\n",
       "\t<tr><td>Ethiopia                </td><td>Africa                  </td><td>2007                    </td><td>52.947                  </td><td> 76511887               </td><td>  690.8056              </td><td>635.364                 </td></tr>\n",
       "\t<tr><td>Namibia                 </td><td>Africa                  </td><td>2007                    </td><td>52.906                  </td><td>  2055080               </td><td> 4811.0604              </td><td>634.872                 </td></tr>\n",
       "\t<tr><td>Tanzania                </td><td>Africa                  </td><td>2007                    </td><td>52.517                  </td><td> 38139640               </td><td> 1107.4822              </td><td>630.204                 </td></tr>\n",
       "\t<tr><td>Burkina Faso            </td><td>Africa                  </td><td>2007                    </td><td>52.295                  </td><td> 14326203               </td><td> 1217.0330              </td><td>627.540                 </td></tr>\n",
       "\t<tr><td>Equatorial Guinea       </td><td>Africa                  </td><td>2007                    </td><td>51.579                  </td><td>   551201               </td><td>12154.0897              </td><td>618.948                 </td></tr>\n",
       "\t<tr><td>Uganda                  </td><td>Africa                  </td><td>2007                    </td><td>51.542                  </td><td> 29170398               </td><td> 1056.3801              </td><td>618.504                 </td></tr>\n",
       "\t<tr><td>Botswana                </td><td>Africa                  </td><td>2007                    </td><td>50.728                  </td><td>  1639131               </td><td>12569.8518              </td><td>608.736                 </td></tr>\n",
       "\t<tr><td>Chad                    </td><td>Africa                  </td><td>2007                    </td><td>50.651                  </td><td> 10238807               </td><td> 1704.0637              </td><td>607.812                 </td></tr>\n",
       "\t<tr><td>Cameroon                </td><td>Africa                  </td><td>2007                    </td><td>50.430                  </td><td> 17696293               </td><td> 2042.0952              </td><td>605.160                 </td></tr>\n",
       "\t<tr><td>Burundi                 </td><td>Africa                  </td><td>2007                    </td><td>49.580                  </td><td>  8390505               </td><td>  430.0707              </td><td>594.960                 </td></tr>\n",
       "\t<tr><td>South Africa            </td><td>Africa                  </td><td>2007                    </td><td>49.339                  </td><td> 43997828               </td><td> 9269.6578              </td><td>592.068                 </td></tr>\n",
       "\t<tr><td>Cote d'Ivoire           </td><td>Africa                  </td><td>2007                    </td><td>48.328                  </td><td> 18013409               </td><td> 1544.7501              </td><td>579.936                 </td></tr>\n",
       "\t<tr><td>Malawi                  </td><td>Africa                  </td><td>2007                    </td><td>48.303                  </td><td> 13327079               </td><td>  759.3499              </td><td>579.636                 </td></tr>\n",
       "\t<tr><td>Somalia                 </td><td>Africa                  </td><td>2007                    </td><td>48.159                  </td><td>  9118773               </td><td>  926.1411              </td><td>577.908                 </td></tr>\n",
       "\t<tr><td>Nigeria                 </td><td>Africa                  </td><td>2007                    </td><td>46.859                  </td><td>135031164               </td><td> 2013.9773              </td><td>562.308                 </td></tr>\n",
       "\t<tr><td>Congo, Dem. Rep.        </td><td>Africa                  </td><td>2007                    </td><td>46.462                  </td><td> 64606759               </td><td>  277.5519              </td><td>557.544                 </td></tr>\n",
       "\t<tr><td>Guinea-Bissau           </td><td>Africa                  </td><td>2007                    </td><td>46.388                  </td><td>  1472041               </td><td>  579.2317              </td><td>556.656                 </td></tr>\n",
       "\t<tr><td>Rwanda                  </td><td>Africa                  </td><td>2007                    </td><td>46.242                  </td><td>  8860588               </td><td>  863.0885              </td><td>554.904                 </td></tr>\n",
       "\t<tr><td>Liberia                 </td><td>Africa                  </td><td>2007                    </td><td>45.678                  </td><td>  3193942               </td><td>  414.5073              </td><td>548.136                 </td></tr>\n",
       "\t<tr><td>Central African Republic</td><td>Africa                  </td><td>2007                    </td><td>44.741                  </td><td>  4369038               </td><td>  706.0165              </td><td>536.892                 </td></tr>\n",
       "\t<tr><td>Afghanistan             </td><td>Asia                    </td><td>2007                    </td><td>43.828                  </td><td> 31889923               </td><td>  974.5803              </td><td>525.936                 </td></tr>\n",
       "\t<tr><td>Zimbabwe                </td><td>Africa                  </td><td>2007                    </td><td>43.487                  </td><td> 12311143               </td><td>  469.7093              </td><td>521.844                 </td></tr>\n",
       "\t<tr><td>Angola                  </td><td>Africa                  </td><td>2007                    </td><td>42.731                  </td><td> 12420476               </td><td> 4797.2313              </td><td>512.772                 </td></tr>\n",
       "\t<tr><td>Lesotho                 </td><td>Africa                  </td><td>2007                    </td><td>42.592                  </td><td>  2012649               </td><td> 1569.3314              </td><td>511.104                 </td></tr>\n",
       "\t<tr><td>Sierra Leone            </td><td>Africa                  </td><td>2007                    </td><td>42.568                  </td><td>  6144562               </td><td>  862.5408              </td><td>510.816                 </td></tr>\n",
       "\t<tr><td>Zambia                  </td><td>Africa                  </td><td>2007                    </td><td>42.384                  </td><td> 11746035               </td><td> 1271.2116              </td><td>508.608                 </td></tr>\n",
       "\t<tr><td>Mozambique              </td><td>Africa                  </td><td>2007                    </td><td>42.082                  </td><td> 19951656               </td><td>  823.6856              </td><td>504.984                 </td></tr>\n",
       "\t<tr><td>Swaziland               </td><td>Africa                  </td><td>2007                    </td><td>39.613                  </td><td>  1133066               </td><td> 4513.4806              </td><td>475.356                 </td></tr>\n",
       "</tbody>\n",
       "</table>\n"
      ],
      "text/latex": [
       "\\begin{tabular}{r|lllllll}\n",
       " country & continent & year & lifeExp & pop & gdpPercap & lifeExpMonths\\\\\n",
       "\\hline\n",
       "\t Japan            & Asia             & 2007             & 82.603           & 127467972        & 31656.068        & 991.236         \\\\\n",
       "\t Hong Kong, China & Asia             & 2007             & 82.208           &   6980412        & 39724.979        & 986.496         \\\\\n",
       "\t Iceland          & Europe           & 2007             & 81.757           &    301931        & 36180.789        & 981.084         \\\\\n",
       "\t Switzerland      & Europe           & 2007             & 81.701           &   7554661        & 37506.419        & 980.412         \\\\\n",
       "\t Australia        & Oceania          & 2007             & 81.235           &  20434176        & 34435.367        & 974.820         \\\\\n",
       "\t Spain            & Europe           & 2007             & 80.941           &  40448191        & 28821.064        & 971.292         \\\\\n",
       "\t Sweden           & Europe           & 2007             & 80.884           &   9031088        & 33859.748        & 970.608         \\\\\n",
       "\t Israel           & Asia             & 2007             & 80.745           &   6426679        & 25523.277        & 968.940         \\\\\n",
       "\t France           & Europe           & 2007             & 80.657           &  61083916        & 30470.017        & 967.884         \\\\\n",
       "\t Canada           & Americas         & 2007             & 80.653           &  33390141        & 36319.235        & 967.836         \\\\\n",
       "\t Italy            & Europe           & 2007             & 80.546           &  58147733        & 28569.720        & 966.552         \\\\\n",
       "\t New Zealand      & Oceania          & 2007             & 80.204           &   4115771        & 25185.009        & 962.448         \\\\\n",
       "\t Norway           & Europe           & 2007             & 80.196           &   4627926        & 49357.190        & 962.352         \\\\\n",
       "\t Singapore        & Asia             & 2007             & 79.972           &   4553009        & 47143.180        & 959.664         \\\\\n",
       "\t Austria          & Europe           & 2007             & 79.829           &   8199783        & 36126.493        & 957.948         \\\\\n",
       "\t Netherlands      & Europe           & 2007             & 79.762           &  16570613        & 36797.933        & 957.144         \\\\\n",
       "\t Greece           & Europe           & 2007             & 79.483           &  10706290        & 27538.412        & 953.796         \\\\\n",
       "\t Belgium          & Europe           & 2007             & 79.441           &  10392226        & 33692.605        & 953.292         \\\\\n",
       "\t United Kingdom   & Europe           & 2007             & 79.425           &  60776238        & 33203.261        & 953.100         \\\\\n",
       "\t Germany          & Europe           & 2007             & 79.406           &  82400996        & 32170.374        & 952.872         \\\\\n",
       "\t Finland          & Europe           & 2007             & 79.313           &   5238460        & 33207.084        & 951.756         \\\\\n",
       "\t Ireland          & Europe           & 2007             & 78.885           &   4109086        & 40675.996        & 946.620         \\\\\n",
       "\t Costa Rica       & Americas         & 2007             & 78.782           &   4133884        &  9645.061        & 945.384         \\\\\n",
       "\t Puerto Rico      & Americas         & 2007             & 78.746           &   3942491        & 19328.709        & 944.952         \\\\\n",
       "\t Korea, Rep.      & Asia             & 2007             & 78.623           &  49044790        & 23348.140        & 943.476         \\\\\n",
       "\t Chile            & Americas         & 2007             & 78.553           &  16284741        & 13171.639        & 942.636         \\\\\n",
       "\t Taiwan           & Asia             & 2007             & 78.400           &  23174294        & 28718.277        & 940.800         \\\\\n",
       "\t Denmark          & Europe           & 2007             & 78.332           &   5468120        & 35278.419        & 939.984         \\\\\n",
       "\t Cuba             & Americas         & 2007             & 78.273           &  11416987        &  8948.103        & 939.276         \\\\\n",
       "\t United States    & Americas         & 2007             & 78.242           & 301139947        & 42951.653        & 938.904         \\\\\n",
       "\t ... & ... & ... & ... & ... & ... & ...\\\\\n",
       "\t Mali                     & Africa                   & 2007                     & 54.467                   &  12031795                &  1042.5816               & 653.604                 \\\\\n",
       "\t Kenya                    & Africa                   & 2007                     & 54.110                   &  35610177                &  1463.2493               & 649.320                 \\\\\n",
       "\t Ethiopia                 & Africa                   & 2007                     & 52.947                   &  76511887                &   690.8056               & 635.364                 \\\\\n",
       "\t Namibia                  & Africa                   & 2007                     & 52.906                   &   2055080                &  4811.0604               & 634.872                 \\\\\n",
       "\t Tanzania                 & Africa                   & 2007                     & 52.517                   &  38139640                &  1107.4822               & 630.204                 \\\\\n",
       "\t Burkina Faso             & Africa                   & 2007                     & 52.295                   &  14326203                &  1217.0330               & 627.540                 \\\\\n",
       "\t Equatorial Guinea        & Africa                   & 2007                     & 51.579                   &    551201                & 12154.0897               & 618.948                 \\\\\n",
       "\t Uganda                   & Africa                   & 2007                     & 51.542                   &  29170398                &  1056.3801               & 618.504                 \\\\\n",
       "\t Botswana                 & Africa                   & 2007                     & 50.728                   &   1639131                & 12569.8518               & 608.736                 \\\\\n",
       "\t Chad                     & Africa                   & 2007                     & 50.651                   &  10238807                &  1704.0637               & 607.812                 \\\\\n",
       "\t Cameroon                 & Africa                   & 2007                     & 50.430                   &  17696293                &  2042.0952               & 605.160                 \\\\\n",
       "\t Burundi                  & Africa                   & 2007                     & 49.580                   &   8390505                &   430.0707               & 594.960                 \\\\\n",
       "\t South Africa             & Africa                   & 2007                     & 49.339                   &  43997828                &  9269.6578               & 592.068                 \\\\\n",
       "\t Cote d'Ivoire            & Africa                   & 2007                     & 48.328                   &  18013409                &  1544.7501               & 579.936                 \\\\\n",
       "\t Malawi                   & Africa                   & 2007                     & 48.303                   &  13327079                &   759.3499               & 579.636                 \\\\\n",
       "\t Somalia                  & Africa                   & 2007                     & 48.159                   &   9118773                &   926.1411               & 577.908                 \\\\\n",
       "\t Nigeria                  & Africa                   & 2007                     & 46.859                   & 135031164                &  2013.9773               & 562.308                 \\\\\n",
       "\t Congo, Dem. Rep.         & Africa                   & 2007                     & 46.462                   &  64606759                &   277.5519               & 557.544                 \\\\\n",
       "\t Guinea-Bissau            & Africa                   & 2007                     & 46.388                   &   1472041                &   579.2317               & 556.656                 \\\\\n",
       "\t Rwanda                   & Africa                   & 2007                     & 46.242                   &   8860588                &   863.0885               & 554.904                 \\\\\n",
       "\t Liberia                  & Africa                   & 2007                     & 45.678                   &   3193942                &   414.5073               & 548.136                 \\\\\n",
       "\t Central African Republic & Africa                   & 2007                     & 44.741                   &   4369038                &   706.0165               & 536.892                 \\\\\n",
       "\t Afghanistan              & Asia                     & 2007                     & 43.828                   &  31889923                &   974.5803               & 525.936                 \\\\\n",
       "\t Zimbabwe                 & Africa                   & 2007                     & 43.487                   &  12311143                &   469.7093               & 521.844                 \\\\\n",
       "\t Angola                   & Africa                   & 2007                     & 42.731                   &  12420476                &  4797.2313               & 512.772                 \\\\\n",
       "\t Lesotho                  & Africa                   & 2007                     & 42.592                   &   2012649                &  1569.3314               & 511.104                 \\\\\n",
       "\t Sierra Leone             & Africa                   & 2007                     & 42.568                   &   6144562                &   862.5408               & 510.816                 \\\\\n",
       "\t Zambia                   & Africa                   & 2007                     & 42.384                   &  11746035                &  1271.2116               & 508.608                 \\\\\n",
       "\t Mozambique               & Africa                   & 2007                     & 42.082                   &  19951656                &   823.6856               & 504.984                 \\\\\n",
       "\t Swaziland                & Africa                   & 2007                     & 39.613                   &   1133066                &  4513.4806               & 475.356                 \\\\\n",
       "\\end{tabular}\n"
      ],
      "text/markdown": [
       "\n",
       "| country | continent | year | lifeExp | pop | gdpPercap | lifeExpMonths |\n",
       "|---|---|---|---|---|---|---|\n",
       "| Japan            | Asia             | 2007             | 82.603           | 127467972        | 31656.068        | 991.236          |\n",
       "| Hong Kong, China | Asia             | 2007             | 82.208           |   6980412        | 39724.979        | 986.496          |\n",
       "| Iceland          | Europe           | 2007             | 81.757           |    301931        | 36180.789        | 981.084          |\n",
       "| Switzerland      | Europe           | 2007             | 81.701           |   7554661        | 37506.419        | 980.412          |\n",
       "| Australia        | Oceania          | 2007             | 81.235           |  20434176        | 34435.367        | 974.820          |\n",
       "| Spain            | Europe           | 2007             | 80.941           |  40448191        | 28821.064        | 971.292          |\n",
       "| Sweden           | Europe           | 2007             | 80.884           |   9031088        | 33859.748        | 970.608          |\n",
       "| Israel           | Asia             | 2007             | 80.745           |   6426679        | 25523.277        | 968.940          |\n",
       "| France           | Europe           | 2007             | 80.657           |  61083916        | 30470.017        | 967.884          |\n",
       "| Canada           | Americas         | 2007             | 80.653           |  33390141        | 36319.235        | 967.836          |\n",
       "| Italy            | Europe           | 2007             | 80.546           |  58147733        | 28569.720        | 966.552          |\n",
       "| New Zealand      | Oceania          | 2007             | 80.204           |   4115771        | 25185.009        | 962.448          |\n",
       "| Norway           | Europe           | 2007             | 80.196           |   4627926        | 49357.190        | 962.352          |\n",
       "| Singapore        | Asia             | 2007             | 79.972           |   4553009        | 47143.180        | 959.664          |\n",
       "| Austria          | Europe           | 2007             | 79.829           |   8199783        | 36126.493        | 957.948          |\n",
       "| Netherlands      | Europe           | 2007             | 79.762           |  16570613        | 36797.933        | 957.144          |\n",
       "| Greece           | Europe           | 2007             | 79.483           |  10706290        | 27538.412        | 953.796          |\n",
       "| Belgium          | Europe           | 2007             | 79.441           |  10392226        | 33692.605        | 953.292          |\n",
       "| United Kingdom   | Europe           | 2007             | 79.425           |  60776238        | 33203.261        | 953.100          |\n",
       "| Germany          | Europe           | 2007             | 79.406           |  82400996        | 32170.374        | 952.872          |\n",
       "| Finland          | Europe           | 2007             | 79.313           |   5238460        | 33207.084        | 951.756          |\n",
       "| Ireland          | Europe           | 2007             | 78.885           |   4109086        | 40675.996        | 946.620          |\n",
       "| Costa Rica       | Americas         | 2007             | 78.782           |   4133884        |  9645.061        | 945.384          |\n",
       "| Puerto Rico      | Americas         | 2007             | 78.746           |   3942491        | 19328.709        | 944.952          |\n",
       "| Korea, Rep.      | Asia             | 2007             | 78.623           |  49044790        | 23348.140        | 943.476          |\n",
       "| Chile            | Americas         | 2007             | 78.553           |  16284741        | 13171.639        | 942.636          |\n",
       "| Taiwan           | Asia             | 2007             | 78.400           |  23174294        | 28718.277        | 940.800          |\n",
       "| Denmark          | Europe           | 2007             | 78.332           |   5468120        | 35278.419        | 939.984          |\n",
       "| Cuba             | Americas         | 2007             | 78.273           |  11416987        |  8948.103        | 939.276          |\n",
       "| United States    | Americas         | 2007             | 78.242           | 301139947        | 42951.653        | 938.904          |\n",
       "| ... | ... | ... | ... | ... | ... | ... |\n",
       "| Mali                     | Africa                   | 2007                     | 54.467                   |  12031795                |  1042.5816               | 653.604                  |\n",
       "| Kenya                    | Africa                   | 2007                     | 54.110                   |  35610177                |  1463.2493               | 649.320                  |\n",
       "| Ethiopia                 | Africa                   | 2007                     | 52.947                   |  76511887                |   690.8056               | 635.364                  |\n",
       "| Namibia                  | Africa                   | 2007                     | 52.906                   |   2055080                |  4811.0604               | 634.872                  |\n",
       "| Tanzania                 | Africa                   | 2007                     | 52.517                   |  38139640                |  1107.4822               | 630.204                  |\n",
       "| Burkina Faso             | Africa                   | 2007                     | 52.295                   |  14326203                |  1217.0330               | 627.540                  |\n",
       "| Equatorial Guinea        | Africa                   | 2007                     | 51.579                   |    551201                | 12154.0897               | 618.948                  |\n",
       "| Uganda                   | Africa                   | 2007                     | 51.542                   |  29170398                |  1056.3801               | 618.504                  |\n",
       "| Botswana                 | Africa                   | 2007                     | 50.728                   |   1639131                | 12569.8518               | 608.736                  |\n",
       "| Chad                     | Africa                   | 2007                     | 50.651                   |  10238807                |  1704.0637               | 607.812                  |\n",
       "| Cameroon                 | Africa                   | 2007                     | 50.430                   |  17696293                |  2042.0952               | 605.160                  |\n",
       "| Burundi                  | Africa                   | 2007                     | 49.580                   |   8390505                |   430.0707               | 594.960                  |\n",
       "| South Africa             | Africa                   | 2007                     | 49.339                   |  43997828                |  9269.6578               | 592.068                  |\n",
       "| Cote d'Ivoire            | Africa                   | 2007                     | 48.328                   |  18013409                |  1544.7501               | 579.936                  |\n",
       "| Malawi                   | Africa                   | 2007                     | 48.303                   |  13327079                |   759.3499               | 579.636                  |\n",
       "| Somalia                  | Africa                   | 2007                     | 48.159                   |   9118773                |   926.1411               | 577.908                  |\n",
       "| Nigeria                  | Africa                   | 2007                     | 46.859                   | 135031164                |  2013.9773               | 562.308                  |\n",
       "| Congo, Dem. Rep.         | Africa                   | 2007                     | 46.462                   |  64606759                |   277.5519               | 557.544                  |\n",
       "| Guinea-Bissau            | Africa                   | 2007                     | 46.388                   |   1472041                |   579.2317               | 556.656                  |\n",
       "| Rwanda                   | Africa                   | 2007                     | 46.242                   |   8860588                |   863.0885               | 554.904                  |\n",
       "| Liberia                  | Africa                   | 2007                     | 45.678                   |   3193942                |   414.5073               | 548.136                  |\n",
       "| Central African Republic | Africa                   | 2007                     | 44.741                   |   4369038                |   706.0165               | 536.892                  |\n",
       "| Afghanistan              | Asia                     | 2007                     | 43.828                   |  31889923                |   974.5803               | 525.936                  |\n",
       "| Zimbabwe                 | Africa                   | 2007                     | 43.487                   |  12311143                |   469.7093               | 521.844                  |\n",
       "| Angola                   | Africa                   | 2007                     | 42.731                   |  12420476                |  4797.2313               | 512.772                  |\n",
       "| Lesotho                  | Africa                   | 2007                     | 42.592                   |   2012649                |  1569.3314               | 511.104                  |\n",
       "| Sierra Leone             | Africa                   | 2007                     | 42.568                   |   6144562                |   862.5408               | 510.816                  |\n",
       "| Zambia                   | Africa                   | 2007                     | 42.384                   |  11746035                |  1271.2116               | 508.608                  |\n",
       "| Mozambique               | Africa                   | 2007                     | 42.082                   |  19951656                |   823.6856               | 504.984                  |\n",
       "| Swaziland                | Africa                   | 2007                     | 39.613                   |   1133066                |  4513.4806               | 475.356                  |\n",
       "\n"
      ],
      "text/plain": [
       "    country                  continent year lifeExp pop       gdpPercap \n",
       "1   Japan                    Asia      2007 82.603  127467972 31656.068 \n",
       "2   Hong Kong, China         Asia      2007 82.208    6980412 39724.979 \n",
       "3   Iceland                  Europe    2007 81.757     301931 36180.789 \n",
       "4   Switzerland              Europe    2007 81.701    7554661 37506.419 \n",
       "5   Australia                Oceania   2007 81.235   20434176 34435.367 \n",
       "6   Spain                    Europe    2007 80.941   40448191 28821.064 \n",
       "7   Sweden                   Europe    2007 80.884    9031088 33859.748 \n",
       "8   Israel                   Asia      2007 80.745    6426679 25523.277 \n",
       "9   France                   Europe    2007 80.657   61083916 30470.017 \n",
       "10  Canada                   Americas  2007 80.653   33390141 36319.235 \n",
       "11  Italy                    Europe    2007 80.546   58147733 28569.720 \n",
       "12  New Zealand              Oceania   2007 80.204    4115771 25185.009 \n",
       "13  Norway                   Europe    2007 80.196    4627926 49357.190 \n",
       "14  Singapore                Asia      2007 79.972    4553009 47143.180 \n",
       "15  Austria                  Europe    2007 79.829    8199783 36126.493 \n",
       "16  Netherlands              Europe    2007 79.762   16570613 36797.933 \n",
       "17  Greece                   Europe    2007 79.483   10706290 27538.412 \n",
       "18  Belgium                  Europe    2007 79.441   10392226 33692.605 \n",
       "19  United Kingdom           Europe    2007 79.425   60776238 33203.261 \n",
       "20  Germany                  Europe    2007 79.406   82400996 32170.374 \n",
       "21  Finland                  Europe    2007 79.313    5238460 33207.084 \n",
       "22  Ireland                  Europe    2007 78.885    4109086 40675.996 \n",
       "23  Costa Rica               Americas  2007 78.782    4133884  9645.061 \n",
       "24  Puerto Rico              Americas  2007 78.746    3942491 19328.709 \n",
       "25  Korea, Rep.              Asia      2007 78.623   49044790 23348.140 \n",
       "26  Chile                    Americas  2007 78.553   16284741 13171.639 \n",
       "27  Taiwan                   Asia      2007 78.400   23174294 28718.277 \n",
       "28  Denmark                  Europe    2007 78.332    5468120 35278.419 \n",
       "29  Cuba                     Americas  2007 78.273   11416987  8948.103 \n",
       "30  United States            Americas  2007 78.242  301139947 42951.653 \n",
       "... ...                      ...       ...  ...     ...       ...       \n",
       "113 Mali                     Africa    2007 54.467   12031795  1042.5816\n",
       "114 Kenya                    Africa    2007 54.110   35610177  1463.2493\n",
       "115 Ethiopia                 Africa    2007 52.947   76511887   690.8056\n",
       "116 Namibia                  Africa    2007 52.906    2055080  4811.0604\n",
       "117 Tanzania                 Africa    2007 52.517   38139640  1107.4822\n",
       "118 Burkina Faso             Africa    2007 52.295   14326203  1217.0330\n",
       "119 Equatorial Guinea        Africa    2007 51.579     551201 12154.0897\n",
       "120 Uganda                   Africa    2007 51.542   29170398  1056.3801\n",
       "121 Botswana                 Africa    2007 50.728    1639131 12569.8518\n",
       "122 Chad                     Africa    2007 50.651   10238807  1704.0637\n",
       "123 Cameroon                 Africa    2007 50.430   17696293  2042.0952\n",
       "124 Burundi                  Africa    2007 49.580    8390505   430.0707\n",
       "125 South Africa             Africa    2007 49.339   43997828  9269.6578\n",
       "126 Cote d'Ivoire            Africa    2007 48.328   18013409  1544.7501\n",
       "127 Malawi                   Africa    2007 48.303   13327079   759.3499\n",
       "128 Somalia                  Africa    2007 48.159    9118773   926.1411\n",
       "129 Nigeria                  Africa    2007 46.859  135031164  2013.9773\n",
       "130 Congo, Dem. Rep.         Africa    2007 46.462   64606759   277.5519\n",
       "131 Guinea-Bissau            Africa    2007 46.388    1472041   579.2317\n",
       "132 Rwanda                   Africa    2007 46.242    8860588   863.0885\n",
       "133 Liberia                  Africa    2007 45.678    3193942   414.5073\n",
       "134 Central African Republic Africa    2007 44.741    4369038   706.0165\n",
       "135 Afghanistan              Asia      2007 43.828   31889923   974.5803\n",
       "136 Zimbabwe                 Africa    2007 43.487   12311143   469.7093\n",
       "137 Angola                   Africa    2007 42.731   12420476  4797.2313\n",
       "138 Lesotho                  Africa    2007 42.592    2012649  1569.3314\n",
       "139 Sierra Leone             Africa    2007 42.568    6144562   862.5408\n",
       "140 Zambia                   Africa    2007 42.384   11746035  1271.2116\n",
       "141 Mozambique               Africa    2007 42.082   19951656   823.6856\n",
       "142 Swaziland                Africa    2007 39.613    1133066  4513.4806\n",
       "    lifeExpMonths\n",
       "1   991.236      \n",
       "2   986.496      \n",
       "3   981.084      \n",
       "4   980.412      \n",
       "5   974.820      \n",
       "6   971.292      \n",
       "7   970.608      \n",
       "8   968.940      \n",
       "9   967.884      \n",
       "10  967.836      \n",
       "11  966.552      \n",
       "12  962.448      \n",
       "13  962.352      \n",
       "14  959.664      \n",
       "15  957.948      \n",
       "16  957.144      \n",
       "17  953.796      \n",
       "18  953.292      \n",
       "19  953.100      \n",
       "20  952.872      \n",
       "21  951.756      \n",
       "22  946.620      \n",
       "23  945.384      \n",
       "24  944.952      \n",
       "25  943.476      \n",
       "26  942.636      \n",
       "27  940.800      \n",
       "28  939.984      \n",
       "29  939.276      \n",
       "30  938.904      \n",
       "... ...          \n",
       "113 653.604      \n",
       "114 649.320      \n",
       "115 635.364      \n",
       "116 634.872      \n",
       "117 630.204      \n",
       "118 627.540      \n",
       "119 618.948      \n",
       "120 618.504      \n",
       "121 608.736      \n",
       "122 607.812      \n",
       "123 605.160      \n",
       "124 594.960      \n",
       "125 592.068      \n",
       "126 579.936      \n",
       "127 579.636      \n",
       "128 577.908      \n",
       "129 562.308      \n",
       "130 557.544      \n",
       "131 556.656      \n",
       "132 554.904      \n",
       "133 548.136      \n",
       "134 536.892      \n",
       "135 525.936      \n",
       "136 521.844      \n",
       "137 512.772      \n",
       "138 511.104      \n",
       "139 510.816      \n",
       "140 508.608      \n",
       "141 504.984      \n",
       "142 475.356      "
      ]
     },
     "metadata": {},
     "output_type": "display_data"
    }
   ],
   "source": [
    "# Filter, mutate, and arrange the gapminder dataset\n",
    "gapminder %>%\n",
    "  filter(year==2007) %>%\n",
    "    mutate(lifeExpMonths = 12 * lifeExp) %>%\n",
    "      arrange(desc(lifeExpMonths))"
   ]
  },
  {
   "cell_type": "markdown",
   "metadata": {},
   "source": [
    "## Data visualization\n"
   ]
  },
  {
   "cell_type": "code",
   "execution_count": 158,
   "metadata": {},
   "outputs": [],
   "source": [
    "# Create gapminder_1952\n",
    "library(ggplot2)\n",
    "gapminder_1952 <- gapminder %>%\n",
    "  filter(year==1952)"
   ]
  },
  {
   "cell_type": "code",
   "execution_count": 159,
   "metadata": {},
   "outputs": [
    {
     "data": {
      "image/png": "[encoded data removed]",
      "text/plain": [
       "plot without title"
      ]
     },
     "metadata": {},
     "output_type": "display_data"
    }
   ],
   "source": [
    "ggplot(gapminder_1952, aes(x = gdpPercap, y = lifeExp)) +\n",
    "  geom_point()"
   ]
  },
  {
   "cell_type": "code",
   "execution_count": 160,
   "metadata": {},
   "outputs": [
    {
     "data": {
      "image/png": "[encoded data removed]",
      "text/plain": [
       "plot without title"
      ]
     },
     "metadata": {},
     "output_type": "display_data"
    }
   ],
   "source": [
    "# Change to put pop on the x-axis and gdpPercap on the y-axis\n",
    "ggplot(gapminder_1952, aes(x = pop, y = gdpPercap)) +\n",
    "  geom_point()"
   ]
  },
  {
   "cell_type": "markdown",
   "metadata": {},
   "source": [
    "Create a scatter plot of gapminder_1952 with population (pop) is on the x-axis and life expectancy (lifeExp) on the y-axis."
   ]
  },
  {
   "cell_type": "code",
   "execution_count": 161,
   "metadata": {},
   "outputs": [
    {
     "data": {
      "image/png": "[encoded data removed]",
      "text/plain": [
       "plot without title"
      ]
     },
     "metadata": {},
     "output_type": "display_data"
    }
   ],
   "source": [
    "gapminder_1952 <- gapminder %>%\n",
    "  filter(year == 1952)\n",
    "\n",
    "# Create a scatter plot with pop on the x-axis and lifeExp on the y-axis\n",
    "ggplot(gapminder_1952, aes(x=pop, y=lifeExp)) + geom_point()\n"
   ]
  },
  {
   "cell_type": "code",
   "execution_count": 162,
   "metadata": {},
   "outputs": [
    {
     "data": {
      "image/png": "[encoded data removed]",
      "text/plain": [
       "plot without title"
      ]
     },
     "metadata": {},
     "output_type": "display_data"
    }
   ],
   "source": [
    "# Change to put pop on the x-axis and gdpPercap on the y-axis\n",
    "ggplot(gapminder_1952, aes(x = pop, y = lifeExp)) +\n",
    "  geom_point() + scale_x_log10()"
   ]
  },
  {
   "cell_type": "code",
   "execution_count": 163,
   "metadata": {},
   "outputs": [
    {
     "data": {
      "image/png": "[encoded data removed]",
      "text/plain": [
       "plot without title"
      ]
     },
     "metadata": {},
     "output_type": "display_data"
    }
   ],
   "source": [
    "# Change to put pop on the x-axis and gdpPercap on the y-axis\n",
    "ggplot(gapminder_1952, aes(x = pop, y = gdpPercap)) +\n",
    "  geom_point() + scale_x_log10() + scale_y_log10()"
   ]
  },
  {
   "cell_type": "code",
   "execution_count": 164,
   "metadata": {},
   "outputs": [
    {
     "data": {
      "image/png": "[encoded data removed]",
      "text/plain": [
       "plot without title"
      ]
     },
     "metadata": {},
     "output_type": "display_data"
    }
   ],
   "source": [
    "ggplot(gapminder_1952, aes(x=pop, y= lifeExp, color=continent)) + scale_x_log10() + geom_point()"
   ]
  },
  {
   "cell_type": "code",
   "execution_count": 165,
   "metadata": {},
   "outputs": [
    {
     "data": {
      "image/png": "[encoded data removed]",
      "text/plain": [
       "plot without title"
      ]
     },
     "metadata": {},
     "output_type": "display_data"
    }
   ],
   "source": [
    "# Add the size aesthetic to represent a country's gdpPercap\n",
    "ggplot(gapminder_1952, aes(x = pop, y = lifeExp, color = continent, size=gdpPercap)) +\n",
    "  geom_point() + scale_x_log10()"
   ]
  },
  {
   "cell_type": "code",
   "execution_count": 166,
   "metadata": {},
   "outputs": [
    {
     "data": {
      "image/png": "[encoded data removed]",
      "text/plain": [
       "plot without title"
      ]
     },
     "metadata": {},
     "output_type": "display_data"
    }
   ],
   "source": [
    "# Scatter plot comparing pop and lifeExp, faceted by continent\n",
    "ggplot(gapminder_1952, aes(x=pop, y=lifeExp)) + geom_point() + scale_x_log10() + facet_wrap(~continent)"
   ]
  },
  {
   "cell_type": "code",
   "execution_count": 167,
   "metadata": {
    "scrolled": true
   },
   "outputs": [
    {
     "data": {
      "image/png": "[encoded data removed]",
      "text/plain": [
       "plot without title"
      ]
     },
     "metadata": {},
     "output_type": "display_data"
    }
   ],
   "source": [
    "# Scatter plot comparing gdpPercap and lifeExp, with color representing continent\n",
    "# and size representing population, faceted by year\n",
    "ggplot(gapminder, aes(x=gdpPercap, y=lifeExp, color = continent, size = pop)) + scale_x_log10() + geom_point() + facet_wrap(~year)"
   ]
  }
 ],
 "metadata": {
  "kernelspec": {
   "display_name": "R",
   "language": "R",
   "name": "ir"
  },
  "language_info": {
   "codemirror_mode": "r",
   "file_extension": ".r",
   "mimetype": "text/x-r-source",
   "name": "R",
   "pygments_lexer": "r",
   "version": "3.6.1"
  }
 },
 "nbformat": 4,
 "nbformat_minor": 4
}
